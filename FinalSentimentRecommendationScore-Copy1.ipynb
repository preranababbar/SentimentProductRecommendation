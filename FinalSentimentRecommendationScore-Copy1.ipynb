{
 "cells": [
  {
   "cell_type": "markdown",
   "metadata": {},
   "source": [
    "#### In this notebook we shall combine sentiment analysis score and product recommendation score , to predict the best suited products for users"
   ]
  },
  {
   "cell_type": "code",
   "execution_count": 1,
   "metadata": {
    "id": "tsxJ_hNGZgwD"
   },
   "outputs": [],
   "source": [
    "import pandas as pd"
   ]
  },
  {
   "cell_type": "markdown",
   "metadata": {},
   "source": [
    "- We saved the product recommendation results in user_final_rating, we shall use that"
   ]
  },
  {
   "cell_type": "code",
   "execution_count": 2,
   "metadata": {
    "id": "O5LFzUmXZiLj"
   },
   "outputs": [],
   "source": [
    "user_final_rating = pd.read_csv(\"user_final_rating.csv\",index_col='reviews_username')"
   ]
  },
  {
   "cell_type": "code",
   "execution_count": 3,
   "metadata": {
    "colab": {
     "base_uri": "https://localhost:8080/"
    },
    "id": "SsBZc2QpZmjA",
    "outputId": "9dd7c6a1-5b15-44fb-8333-f7ac4a167f03"
   },
   "outputs": [
    {
     "name": "stdout",
     "output_type": "stream",
     "text": [
      "Enter your user namejoshua\n",
      "joshua\n"
     ]
    }
   ],
   "source": [
    "user_input = input(\"Enter your user name\")\n",
    "print(user_input)"
   ]
  },
  {
   "cell_type": "markdown",
   "metadata": {},
   "source": [
    "- We saved the df after cleaning and contatenating reviews title and text in df_clean , hence we shall use that"
   ]
  },
  {
   "cell_type": "code",
   "execution_count": 4,
   "metadata": {
    "colab": {
     "base_uri": "https://localhost:8080/",
     "height": 424
    },
    "id": "SXVS--xPZvU3",
    "outputId": "221b87d7-264b-45ab-86ac-02a5e18e92b4"
   },
   "outputs": [
    {
     "data": {
      "text/html": [
       "<div>\n",
       "<style scoped>\n",
       "    .dataframe tbody tr th:only-of-type {\n",
       "        vertical-align: middle;\n",
       "    }\n",
       "\n",
       "    .dataframe tbody tr th {\n",
       "        vertical-align: top;\n",
       "    }\n",
       "\n",
       "    .dataframe thead th {\n",
       "        text-align: right;\n",
       "    }\n",
       "</style>\n",
       "<table border=\"1\" class=\"dataframe\">\n",
       "  <thead>\n",
       "    <tr style=\"text-align: right;\">\n",
       "      <th></th>\n",
       "      <th>reviews_title_text</th>\n",
       "      <th>name</th>\n",
       "    </tr>\n",
       "  </thead>\n",
       "  <tbody>\n",
       "    <tr>\n",
       "      <th>0</th>\n",
       "      <td>just awesomei love this album its very good mo...</td>\n",
       "      <td>Pink Friday: Roman Reloaded Re-Up (w/dvd)</td>\n",
       "    </tr>\n",
       "    <tr>\n",
       "      <th>1</th>\n",
       "      <td>goodgood flavor this review was collected as p...</td>\n",
       "      <td>Lundberg Organic Cinnamon Toast Rice Cakes</td>\n",
       "    </tr>\n",
       "    <tr>\n",
       "      <th>2</th>\n",
       "      <td>goodgood flavor</td>\n",
       "      <td>Lundberg Organic Cinnamon Toast Rice Cakes</td>\n",
       "    </tr>\n",
       "    <tr>\n",
       "      <th>3</th>\n",
       "      <td>disappointedi read through the reviews on here...</td>\n",
       "      <td>K-Y Love Sensuality Pleasure Gel</td>\n",
       "    </tr>\n",
       "    <tr>\n",
       "      <th>4</th>\n",
       "      <td>irritationmy husband bought this gel for us th...</td>\n",
       "      <td>K-Y Love Sensuality Pleasure Gel</td>\n",
       "    </tr>\n",
       "    <tr>\n",
       "      <th>...</th>\n",
       "      <td>...</td>\n",
       "      <td>...</td>\n",
       "    </tr>\n",
       "    <tr>\n",
       "      <th>29995</th>\n",
       "      <td>softnessi got this conditioner with influenste...</td>\n",
       "      <td>L'or233al Paris Elvive Extraordinary Clay Reba...</td>\n",
       "    </tr>\n",
       "    <tr>\n",
       "      <th>29996</th>\n",
       "      <td>i love iti love it  i received this for review...</td>\n",
       "      <td>L'or233al Paris Elvive Extraordinary Clay Reba...</td>\n",
       "    </tr>\n",
       "    <tr>\n",
       "      <th>29997</th>\n",
       "      <td>hair is so smooth after usefirst of all i love...</td>\n",
       "      <td>L'or233al Paris Elvive Extraordinary Clay Reba...</td>\n",
       "    </tr>\n",
       "    <tr>\n",
       "      <th>29998</th>\n",
       "      <td>perfect for my oily hairi received this throug...</td>\n",
       "      <td>L'or233al Paris Elvive Extraordinary Clay Reba...</td>\n",
       "    </tr>\n",
       "    <tr>\n",
       "      <th>29999</th>\n",
       "      <td>conditioned into healthyi received this produc...</td>\n",
       "      <td>L'or233al Paris Elvive Extraordinary Clay Reba...</td>\n",
       "    </tr>\n",
       "  </tbody>\n",
       "</table>\n",
       "<p>29747 rows × 2 columns</p>\n",
       "</div>"
      ],
      "text/plain": [
       "                                      reviews_title_text  \\\n",
       "0      just awesomei love this album its very good mo...   \n",
       "1      goodgood flavor this review was collected as p...   \n",
       "2                                        goodgood flavor   \n",
       "3      disappointedi read through the reviews on here...   \n",
       "4      irritationmy husband bought this gel for us th...   \n",
       "...                                                  ...   \n",
       "29995  softnessi got this conditioner with influenste...   \n",
       "29996  i love iti love it  i received this for review...   \n",
       "29997  hair is so smooth after usefirst of all i love...   \n",
       "29998  perfect for my oily hairi received this throug...   \n",
       "29999  conditioned into healthyi received this produc...   \n",
       "\n",
       "                                                    name  \n",
       "0              Pink Friday: Roman Reloaded Re-Up (w/dvd)  \n",
       "1             Lundberg Organic Cinnamon Toast Rice Cakes  \n",
       "2             Lundberg Organic Cinnamon Toast Rice Cakes  \n",
       "3                       K-Y Love Sensuality Pleasure Gel  \n",
       "4                       K-Y Love Sensuality Pleasure Gel  \n",
       "...                                                  ...  \n",
       "29995  L'or233al Paris Elvive Extraordinary Clay Reba...  \n",
       "29996  L'or233al Paris Elvive Extraordinary Clay Reba...  \n",
       "29997  L'or233al Paris Elvive Extraordinary Clay Reba...  \n",
       "29998  L'or233al Paris Elvive Extraordinary Clay Reba...  \n",
       "29999  L'or233al Paris Elvive Extraordinary Clay Reba...  \n",
       "\n",
       "[29747 rows x 2 columns]"
      ]
     },
     "execution_count": 4,
     "metadata": {},
     "output_type": "execute_result"
    }
   ],
   "source": [
    "df_clean = pd.read_csv(\"df_clean.csv\",index_col='Unnamed: 0')\n",
    "\n",
    "df_clean"
   ]
  },
  {
   "cell_type": "markdown",
   "metadata": {
    "id": "xOlfL8kEcBeD"
   },
   "source": [
    "Loading the log reg model and preparing X for prediction"
   ]
  },
  {
   "cell_type": "code",
   "execution_count": 5,
   "metadata": {
    "id": "MobHu32faSah"
   },
   "outputs": [],
   "source": [
    "#Loading the log reg model\n",
    "import pickle\n",
    "clf = pickle.load(open(\"XG_model_sm.pkl\",\"rb\"))\n",
    "#Creating X and predicting y\n",
    "X = df_clean['reviews_title_text'].values\n",
    "from sklearn.feature_extraction.text import TfidfVectorizer\n",
    "td = TfidfVectorizer(max_features = 4500)\n",
    "X = td.fit_transform(X).toarray()\n",
    "y =  clf.predict(X)\n",
    "#Creating a column for predicted sentiment ie y\n",
    "df_clean['predicted_sentiment'] = y"
   ]
  },
  {
   "cell_type": "code",
   "execution_count": 6,
   "metadata": {},
   "outputs": [
    {
     "data": {
      "text/plain": [
       "1    24951\n",
       "0     4796\n",
       "Name: predicted_sentiment, dtype: int64"
      ]
     },
     "execution_count": 6,
     "metadata": {},
     "output_type": "execute_result"
    }
   ],
   "source": [
    "df_clean['predicted_sentiment'].value_counts()"
   ]
  },
  {
   "cell_type": "markdown",
   "metadata": {},
   "source": [
    "- Since now we have the sentiment analysis results, we will store it in df_predicted and export it for easy use when we deploy our app"
   ]
  },
  {
   "cell_type": "code",
   "execution_count": 7,
   "metadata": {},
   "outputs": [],
   "source": [
    "df_predicted = df_clean\n",
    "df_predicted.to_csv(\"df_predicted_xg.csv\")"
   ]
  },
  {
   "cell_type": "markdown",
   "metadata": {
    "id": "hIR0Ma4Gb6vM"
   },
   "source": [
    "Creating a function to get top 5 recommended products"
   ]
  },
  {
   "cell_type": "code",
   "execution_count": 8,
   "metadata": {
    "id": "dD-Pjvq8ZoQa"
   },
   "outputs": [],
   "source": [
    "def get_top_5_sentiment_reommendation(user_input):\n",
    "  d = user_final_rating.loc[user_input].sort_values(ascending=False)[0:20]\n",
    "  dict_scores={}\n",
    "  for a in d.index:\n",
    "    #print(a,d[a])\n",
    "    #Normalized Score for sentiment positive\n",
    "    pos_score = df_clean[df_clean['name']==a].predicted_sentiment.value_counts(normalize=True)[1]\n",
    "    rec_score = d[a]\n",
    "    #Multiplying both\n",
    "    final_score = pos_score*rec_score\n",
    "   # print(a)\n",
    "    dict_scores[a]=final_score\n",
    "  b = sorted(dict_scores, key=dict_scores.get, reverse=True)[:5]\n",
    " # print(b)\n",
    "  return b"
   ]
  },
  {
   "cell_type": "code",
   "execution_count": 9,
   "metadata": {
    "colab": {
     "base_uri": "https://localhost:8080/"
    },
    "id": "BftbG7gGZsIQ",
    "outputId": "d1277357-791e-46b1-d6f4-7d82e7e4970c"
   },
   "outputs": [
    {
     "data": {
      "text/plain": [
       "['Godzilla 3d Includes Digital Copy Ultraviolet 3d/2d Blu-Ray/dvd',\n",
       " 'My Big Fat Greek Wedding 2 (blu-Ray + Dvd + Digital)',\n",
       " 'Planes: Fire Rescue (2 Discs) (includes Digital Copy) (blu-Ray/dvd)',\n",
       " 'Clorox Disinfecting Wipes Value Pack Scented 150 Ct Total',\n",
       " 'The Resident Evil Collection 5 Discs (blu-Ray)']"
      ]
     },
     "execution_count": 9,
     "metadata": {},
     "output_type": "execute_result"
    }
   ],
   "source": [
    "get_top_5_sentiment_reommendation('joshua')"
   ]
  },
  {
   "cell_type": "markdown",
   "metadata": {
    "id": "thmzn86PZt6i"
   },
   "source": [
    "- We will use above function and df_predicted for our deployed app"
   ]
  },
  {
   "cell_type": "code",
   "execution_count": null,
   "metadata": {},
   "outputs": [],
   "source": []
  }
 ],
 "metadata": {
  "colab": {
   "name": "FinalSentimentRecommendationScore.ipynb",
   "provenance": []
  },
  "kernelspec": {
   "display_name": "Python 3",
   "language": "python",
   "name": "python3"
  },
  "language_info": {
   "codemirror_mode": {
    "name": "ipython",
    "version": 3
   },
   "file_extension": ".py",
   "mimetype": "text/x-python",
   "name": "python",
   "nbconvert_exporter": "python",
   "pygments_lexer": "ipython3",
   "version": "3.8.3"
  }
 },
 "nbformat": 4,
 "nbformat_minor": 1
}
