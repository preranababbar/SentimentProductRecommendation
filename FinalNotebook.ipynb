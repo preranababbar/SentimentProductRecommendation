{
 "cells": [
  {
   "cell_type": "code",
   "execution_count": 1,
   "metadata": {},
   "outputs": [],
   "source": [
    "#Importing important packages"
   ]
  },
  {
   "cell_type": "code",
   "execution_count": 2,
   "metadata": {
    "id": "Zh9IYoSTF-O-"
   },
   "outputs": [],
   "source": [
    "import pandas as pd\n",
    "import re,string\n",
    "import numpy as np\n",
    "\n",
    "\n",
    "import seaborn as sns\n",
    "import matplotlib.pyplot as plt\n",
    "%matplotlib inline\n",
    "\n",
    "import warnings\n",
    "warnings.simplefilter(action='ignore', category=FutureWarning)\n",
    "\n",
    "from nltk.stem import WordNetLemmatizer\n",
    "from nltk.corpus import stopwords\n",
    "from nltk.tokenize import word_tokenize"
   ]
  },
  {
   "cell_type": "code",
   "execution_count": 3,
   "metadata": {
    "colab": {
     "base_uri": "https://localhost:8080/",
     "height": 337
    },
    "id": "N686F5ezGwvj",
    "outputId": "85afc44d-d624-4a8e-d1fc-87cfd7308cc7"
   },
   "outputs": [
    {
     "data": {
      "text/html": [
       "<div>\n",
       "<style scoped>\n",
       "    .dataframe tbody tr th:only-of-type {\n",
       "        vertical-align: middle;\n",
       "    }\n",
       "\n",
       "    .dataframe tbody tr th {\n",
       "        vertical-align: top;\n",
       "    }\n",
       "\n",
       "    .dataframe thead th {\n",
       "        text-align: right;\n",
       "    }\n",
       "</style>\n",
       "<table border=\"1\" class=\"dataframe\">\n",
       "  <thead>\n",
       "    <tr style=\"text-align: right;\">\n",
       "      <th></th>\n",
       "      <th>id</th>\n",
       "      <th>brand</th>\n",
       "      <th>categories</th>\n",
       "      <th>manufacturer</th>\n",
       "      <th>name</th>\n",
       "      <th>reviews_date</th>\n",
       "      <th>reviews_didPurchase</th>\n",
       "      <th>reviews_doRecommend</th>\n",
       "      <th>reviews_rating</th>\n",
       "      <th>reviews_text</th>\n",
       "      <th>reviews_title</th>\n",
       "      <th>reviews_userCity</th>\n",
       "      <th>reviews_userProvince</th>\n",
       "      <th>reviews_username</th>\n",
       "      <th>user_sentiment</th>\n",
       "    </tr>\n",
       "  </thead>\n",
       "  <tbody>\n",
       "    <tr>\n",
       "      <th>0</th>\n",
       "      <td>AV13O1A8GV-KLJ3akUyj</td>\n",
       "      <td>Universal Music</td>\n",
       "      <td>Movies, Music &amp; Books,Music,R&amp;b,Movies &amp; TV,Mo...</td>\n",
       "      <td>Universal Music Group / Cash Money</td>\n",
       "      <td>Pink Friday: Roman Reloaded Re-Up (w/dvd)</td>\n",
       "      <td>2012-11-30T06:21:45.000Z</td>\n",
       "      <td>NaN</td>\n",
       "      <td>NaN</td>\n",
       "      <td>5</td>\n",
       "      <td>i love this album. it's very good. more to the...</td>\n",
       "      <td>Just Awesome</td>\n",
       "      <td>Los Angeles</td>\n",
       "      <td>NaN</td>\n",
       "      <td>joshua</td>\n",
       "      <td>Positive</td>\n",
       "    </tr>\n",
       "    <tr>\n",
       "      <th>1</th>\n",
       "      <td>AV14LG0R-jtxr-f38QfS</td>\n",
       "      <td>Lundberg</td>\n",
       "      <td>Food,Packaged Foods,Snacks,Crackers,Snacks, Co...</td>\n",
       "      <td>Lundberg</td>\n",
       "      <td>Lundberg Organic Cinnamon Toast Rice Cakes</td>\n",
       "      <td>2017-07-09T00:00:00.000Z</td>\n",
       "      <td>True</td>\n",
       "      <td>NaN</td>\n",
       "      <td>5</td>\n",
       "      <td>Good flavor. This review was collected as part...</td>\n",
       "      <td>Good</td>\n",
       "      <td>NaN</td>\n",
       "      <td>NaN</td>\n",
       "      <td>dorothy w</td>\n",
       "      <td>Positive</td>\n",
       "    </tr>\n",
       "    <tr>\n",
       "      <th>2</th>\n",
       "      <td>AV14LG0R-jtxr-f38QfS</td>\n",
       "      <td>Lundberg</td>\n",
       "      <td>Food,Packaged Foods,Snacks,Crackers,Snacks, Co...</td>\n",
       "      <td>Lundberg</td>\n",
       "      <td>Lundberg Organic Cinnamon Toast Rice Cakes</td>\n",
       "      <td>2017-07-09T00:00:00.000Z</td>\n",
       "      <td>True</td>\n",
       "      <td>NaN</td>\n",
       "      <td>5</td>\n",
       "      <td>Good flavor.</td>\n",
       "      <td>Good</td>\n",
       "      <td>NaN</td>\n",
       "      <td>NaN</td>\n",
       "      <td>dorothy w</td>\n",
       "      <td>Positive</td>\n",
       "    </tr>\n",
       "    <tr>\n",
       "      <th>3</th>\n",
       "      <td>AV16khLE-jtxr-f38VFn</td>\n",
       "      <td>K-Y</td>\n",
       "      <td>Personal Care,Medicine Cabinet,Lubricant/Sperm...</td>\n",
       "      <td>K-Y</td>\n",
       "      <td>K-Y Love Sensuality Pleasure Gel</td>\n",
       "      <td>2016-01-06T00:00:00.000Z</td>\n",
       "      <td>False</td>\n",
       "      <td>False</td>\n",
       "      <td>1</td>\n",
       "      <td>I read through the reviews on here before look...</td>\n",
       "      <td>Disappointed</td>\n",
       "      <td>NaN</td>\n",
       "      <td>NaN</td>\n",
       "      <td>rebecca</td>\n",
       "      <td>Negative</td>\n",
       "    </tr>\n",
       "    <tr>\n",
       "      <th>4</th>\n",
       "      <td>AV16khLE-jtxr-f38VFn</td>\n",
       "      <td>K-Y</td>\n",
       "      <td>Personal Care,Medicine Cabinet,Lubricant/Sperm...</td>\n",
       "      <td>K-Y</td>\n",
       "      <td>K-Y Love Sensuality Pleasure Gel</td>\n",
       "      <td>2016-12-21T00:00:00.000Z</td>\n",
       "      <td>False</td>\n",
       "      <td>False</td>\n",
       "      <td>1</td>\n",
       "      <td>My husband bought this gel for us. The gel cau...</td>\n",
       "      <td>Irritation</td>\n",
       "      <td>NaN</td>\n",
       "      <td>NaN</td>\n",
       "      <td>walker557</td>\n",
       "      <td>Negative</td>\n",
       "    </tr>\n",
       "  </tbody>\n",
       "</table>\n",
       "</div>"
      ],
      "text/plain": [
       "                     id            brand  \\\n",
       "0  AV13O1A8GV-KLJ3akUyj  Universal Music   \n",
       "1  AV14LG0R-jtxr-f38QfS         Lundberg   \n",
       "2  AV14LG0R-jtxr-f38QfS         Lundberg   \n",
       "3  AV16khLE-jtxr-f38VFn              K-Y   \n",
       "4  AV16khLE-jtxr-f38VFn              K-Y   \n",
       "\n",
       "                                          categories  \\\n",
       "0  Movies, Music & Books,Music,R&b,Movies & TV,Mo...   \n",
       "1  Food,Packaged Foods,Snacks,Crackers,Snacks, Co...   \n",
       "2  Food,Packaged Foods,Snacks,Crackers,Snacks, Co...   \n",
       "3  Personal Care,Medicine Cabinet,Lubricant/Sperm...   \n",
       "4  Personal Care,Medicine Cabinet,Lubricant/Sperm...   \n",
       "\n",
       "                         manufacturer  \\\n",
       "0  Universal Music Group / Cash Money   \n",
       "1                            Lundberg   \n",
       "2                            Lundberg   \n",
       "3                                 K-Y   \n",
       "4                                 K-Y   \n",
       "\n",
       "                                         name              reviews_date  \\\n",
       "0   Pink Friday: Roman Reloaded Re-Up (w/dvd)  2012-11-30T06:21:45.000Z   \n",
       "1  Lundberg Organic Cinnamon Toast Rice Cakes  2017-07-09T00:00:00.000Z   \n",
       "2  Lundberg Organic Cinnamon Toast Rice Cakes  2017-07-09T00:00:00.000Z   \n",
       "3            K-Y Love Sensuality Pleasure Gel  2016-01-06T00:00:00.000Z   \n",
       "4            K-Y Love Sensuality Pleasure Gel  2016-12-21T00:00:00.000Z   \n",
       "\n",
       "  reviews_didPurchase reviews_doRecommend  reviews_rating  \\\n",
       "0                 NaN                 NaN               5   \n",
       "1                True                 NaN               5   \n",
       "2                True                 NaN               5   \n",
       "3               False               False               1   \n",
       "4               False               False               1   \n",
       "\n",
       "                                        reviews_text reviews_title  \\\n",
       "0  i love this album. it's very good. more to the...  Just Awesome   \n",
       "1  Good flavor. This review was collected as part...          Good   \n",
       "2                                       Good flavor.          Good   \n",
       "3  I read through the reviews on here before look...  Disappointed   \n",
       "4  My husband bought this gel for us. The gel cau...    Irritation   \n",
       "\n",
       "  reviews_userCity reviews_userProvince reviews_username user_sentiment  \n",
       "0      Los Angeles                  NaN           joshua       Positive  \n",
       "1              NaN                  NaN        dorothy w       Positive  \n",
       "2              NaN                  NaN        dorothy w       Positive  \n",
       "3              NaN                  NaN          rebecca       Negative  \n",
       "4              NaN                  NaN        walker557       Negative  "
      ]
     },
     "execution_count": 3,
     "metadata": {},
     "output_type": "execute_result"
    }
   ],
   "source": [
    "df = pd.read_csv(\"sample30.csv\")\n",
    "df.head()"
   ]
  },
  {
   "cell_type": "markdown",
   "metadata": {
    "id": "O6FdygCz-Xxn"
   },
   "source": [
    "# Data cleaning and analysis"
   ]
  },
  {
   "cell_type": "code",
   "execution_count": 4,
   "metadata": {
    "id": "Hy96qK1u1SIP"
   },
   "outputs": [],
   "source": [
    "#Dropping id, reviews_date since id is related to product name and we dont need reviews_date for analysis"
   ]
  },
  {
   "cell_type": "code",
   "execution_count": 5,
   "metadata": {
    "id": "lNdMdVgp1S8m"
   },
   "outputs": [],
   "source": [
    "df.drop(['id','reviews_date'],axis=1,inplace=True)"
   ]
  },
  {
   "cell_type": "markdown",
   "metadata": {
    "id": "VfWP75pw5qDs"
   },
   "source": [
    "Data Pre-Processing"
   ]
  },
  {
   "cell_type": "code",
   "execution_count": 6,
   "metadata": {
    "colab": {
     "base_uri": "https://localhost:8080/"
    },
    "id": "rFWF4AHD2HAN",
    "outputId": "9baa8839-03e9-4766-90b3-a8315ce31940"
   },
   "outputs": [
    {
     "data": {
      "text/plain": [
       "(30000, 13)"
      ]
     },
     "execution_count": 6,
     "metadata": {},
     "output_type": "execute_result"
    }
   ],
   "source": [
    "df.shape"
   ]
  },
  {
   "cell_type": "code",
   "execution_count": 7,
   "metadata": {
    "colab": {
     "base_uri": "https://localhost:8080/"
    },
    "id": "bSU_1LAu5upI",
    "outputId": "ee11c314-0986-44c9-a548-cf3522d7d246"
   },
   "outputs": [
    {
     "data": {
      "text/plain": [
       "brand                   object\n",
       "categories              object\n",
       "manufacturer            object\n",
       "name                    object\n",
       "reviews_didPurchase     object\n",
       "reviews_doRecommend     object\n",
       "reviews_rating           int64\n",
       "reviews_text            object\n",
       "reviews_title           object\n",
       "reviews_userCity        object\n",
       "reviews_userProvince    object\n",
       "reviews_username        object\n",
       "user_sentiment          object\n",
       "dtype: object"
      ]
     },
     "execution_count": 7,
     "metadata": {},
     "output_type": "execute_result"
    }
   ],
   "source": [
    "df.dtypes"
   ]
  },
  {
   "cell_type": "code",
   "execution_count": 8,
   "metadata": {
    "colab": {
     "base_uri": "https://localhost:8080/"
    },
    "id": "8RrIU3Qe5wfy",
    "outputId": "1e882492-c562-452f-fd9f-145d7ffeeb74"
   },
   "outputs": [
    {
     "data": {
      "text/plain": [
       "brand                       0\n",
       "categories                  0\n",
       "manufacturer              141\n",
       "name                        0\n",
       "reviews_didPurchase     14068\n",
       "reviews_doRecommend      2570\n",
       "reviews_rating              0\n",
       "reviews_text                0\n",
       "reviews_title             190\n",
       "reviews_userCity        28071\n",
       "reviews_userProvince    29830\n",
       "reviews_username           63\n",
       "user_sentiment              1\n",
       "dtype: int64"
      ]
     },
     "execution_count": 8,
     "metadata": {},
     "output_type": "execute_result"
    }
   ],
   "source": [
    "df.isnull().sum()"
   ]
  },
  {
   "cell_type": "code",
   "execution_count": null,
   "metadata": {
    "id": "Ke1tY8P55_cD"
   },
   "outputs": [],
   "source": []
  },
  {
   "cell_type": "markdown",
   "metadata": {
    "id": "rzBj7Wow6DL5"
   },
   "source": [
    "Since we shall be using user_sentiment for sentiment analysis , let's drop the rows having null value in it. Since we shall use reviews_username for recommendation system, let's remove the rows containing null values in it too."
   ]
  },
  {
   "cell_type": "code",
   "execution_count": 9,
   "metadata": {
    "colab": {
     "base_uri": "https://localhost:8080/"
    },
    "id": "A5dBefVV50GQ",
    "outputId": "ebcfcacd-9736-42fa-9b31-e265ac896bb5"
   },
   "outputs": [
    {
     "data": {
      "text/plain": [
       "(29937, 13)"
      ]
     },
     "execution_count": 9,
     "metadata": {},
     "output_type": "execute_result"
    }
   ],
   "source": [
    "df = df[df.reviews_username.isnull()!=True]\n",
    "df.shape"
   ]
  },
  {
   "cell_type": "code",
   "execution_count": 10,
   "metadata": {
    "colab": {
     "base_uri": "https://localhost:8080/"
    },
    "id": "2vfR0En36vkE",
    "outputId": "633a9f05-c238-44ca-c06d-e10e1b5932f6"
   },
   "outputs": [
    {
     "data": {
      "text/plain": [
       "(29936, 13)"
      ]
     },
     "execution_count": 10,
     "metadata": {},
     "output_type": "execute_result"
    }
   ],
   "source": [
    "df = df[df.user_sentiment.isnull()!=True]\n",
    "df.shape"
   ]
  },
  {
   "cell_type": "markdown",
   "metadata": {},
   "source": [
    "- For sentiment analysis we will require to concatenate reviews title and text to be able to pre-process it and provide sentiment"
   ]
  },
  {
   "cell_type": "code",
   "execution_count": 24,
   "metadata": {
    "colab": {
     "base_uri": "https://localhost:8080/"
    },
    "id": "CVC7hQ6u-raL",
    "outputId": "d6aa18a3-5620-4958-fd8a-3ca8bfcd93ad",
    "scrolled": false
   },
   "outputs": [
    {
     "data": {
      "text/plain": [
       "0        Just Awesomei love this album. it's very good....\n",
       "1        GoodGood flavor. This review was collected as ...\n",
       "2                                         GoodGood flavor.\n",
       "3        DisappointedI read through the reviews on here...\n",
       "4        IrritationMy husband bought this gel for us. T...\n",
       "                               ...                        \n",
       "29995    Softness!!I got this conditioner with Influens...\n",
       "29996    I love itI love it , I received this for revie...\n",
       "29997    Hair is so smooth after useFirst of all I love...\n",
       "29998    Perfect for my oily hair!I received this throu...\n",
       "29999    Conditioned into healthyI received this produc...\n",
       "Name: reviews_title_text, Length: 29936, dtype: object"
      ]
     },
     "execution_count": 24,
     "metadata": {},
     "output_type": "execute_result"
    }
   ],
   "source": [
    "df['reviews_title_text'] = df[\"reviews_title\"] + df[\"reviews_text\"]\n",
    "df.reviews_title_text"
   ]
  },
  {
   "cell_type": "code",
   "execution_count": 25,
   "metadata": {
    "colab": {
     "base_uri": "https://localhost:8080/"
    },
    "id": "zREr8m-r_b1r",
    "outputId": "88e5bcce-cf07-4b94-e093-646eaa14929c"
   },
   "outputs": [
    {
     "data": {
      "text/plain": [
       "dtype('O')"
      ]
     },
     "execution_count": 25,
     "metadata": {},
     "output_type": "execute_result"
    }
   ],
   "source": [
    "df.reviews_title_text.dtype"
   ]
  },
  {
   "cell_type": "markdown",
   "metadata": {},
   "source": [
    "- We see that there are 189 NAN values hence we shall remove those rows"
   ]
  },
  {
   "cell_type": "code",
   "execution_count": 26,
   "metadata": {
    "colab": {
     "base_uri": "https://localhost:8080/"
    },
    "id": "NYJf45seOtHP",
    "outputId": "028fd4d8-bedf-4ec1-be48-9265e3988194",
    "scrolled": true
   },
   "outputs": [
    {
     "data": {
      "text/plain": [
       "1239     NaN\n",
       "1441     NaN\n",
       "1442     NaN\n",
       "1443     NaN\n",
       "1444     NaN\n",
       "        ... \n",
       "28790    NaN\n",
       "28791    NaN\n",
       "28792    NaN\n",
       "28793    NaN\n",
       "28794    NaN\n",
       "Name: reviews_title_text, Length: 189, dtype: object"
      ]
     },
     "execution_count": 26,
     "metadata": {},
     "output_type": "execute_result"
    }
   ],
   "source": [
    "df.reviews_title_text[df.reviews_title_text.isna()]"
   ]
  },
  {
   "cell_type": "code",
   "execution_count": 27,
   "metadata": {
    "id": "0n4JlC_5Oy5D"
   },
   "outputs": [],
   "source": [
    "df = df[df.reviews_title_text.isna()!=True]"
   ]
  },
  {
   "cell_type": "code",
   "execution_count": 11,
   "metadata": {
    "colab": {
     "base_uri": "https://localhost:8080/"
    },
    "id": "RoyLDbME68r7",
    "outputId": "1d234010-879d-4e1b-d9dd-1b4f2b5aae89"
   },
   "outputs": [
    {
     "data": {
      "text/plain": [
       "array([5, 1, 3, 4, 2], dtype=int64)"
      ]
     },
     "execution_count": 11,
     "metadata": {},
     "output_type": "execute_result"
    }
   ],
   "source": [
    "df['reviews_rating'].unique()"
   ]
  },
  {
   "cell_type": "markdown",
   "metadata": {
    "id": "evBLVAFd7-F5"
   },
   "source": [
    "We see that there only five values for rating ie 1-5. "
   ]
  },
  {
   "cell_type": "code",
   "execution_count": 12,
   "metadata": {
    "colab": {
     "base_uri": "https://localhost:8080/"
    },
    "id": "UQOjpDSg76LA",
    "outputId": "c91034e9-d0d7-4dbd-a25d-0f2c13357e1e"
   },
   "outputs": [
    {
     "data": {
      "text/plain": [
       "array(['Just Awesome', 'Good', 'Disappointed', ...,\n",
       "       'Hair is so smooth after use', 'Perfect for my oily hair!',\n",
       "       'Conditioned into healthy'], dtype=object)"
      ]
     },
     "execution_count": 12,
     "metadata": {},
     "output_type": "execute_result"
    }
   ],
   "source": [
    "df['reviews_title'].unique()"
   ]
  },
  {
   "cell_type": "markdown",
   "metadata": {
    "id": "QjerzWxx79oT"
   },
   "source": [
    "We see there are multiple reviews title since this is on user."
   ]
  },
  {
   "cell_type": "code",
   "execution_count": 13,
   "metadata": {
    "colab": {
     "base_uri": "https://localhost:8080/"
    },
    "id": "XxSWC5yY8R3t",
    "outputId": "7f6db1ee-8569-4759-a548-93f1510a4978"
   },
   "outputs": [
    {
     "data": {
      "text/plain": [
       "5    20791\n",
       "4     6010\n",
       "1     1373\n",
       "3     1344\n",
       "2      418\n",
       "Name: reviews_rating, dtype: int64"
      ]
     },
     "execution_count": 13,
     "metadata": {},
     "output_type": "execute_result"
    }
   ],
   "source": [
    "df['reviews_rating'].value_counts().sort_values(ascending=False)"
   ]
  },
  {
   "cell_type": "markdown",
   "metadata": {
    "id": "rp_AHUwJ8lPC"
   },
   "source": [
    "We see that around 20k people have given a rating of 5."
   ]
  },
  {
   "cell_type": "code",
   "execution_count": 14,
   "metadata": {
    "colab": {
     "base_uri": "https://localhost:8080/",
     "height": 280
    },
    "id": "uydSE90O8TxQ",
    "outputId": "80ae5d95-a379-4777-9072-0d462a4e50ff"
   },
   "outputs": [
    {
     "data": {
      "image/png": "[encoded data removed]",
      "text/plain": [
       "<Figure size 432x288 with 1 Axes>"
      ]
     },
     "metadata": {
      "needs_background": "light"
     },
     "output_type": "display_data"
    }
   ],
   "source": [
    "sns.countplot(df['reviews_rating'])\n",
    "plt.show()"
   ]
  },
  {
   "cell_type": "code",
   "execution_count": 15,
   "metadata": {
    "colab": {
     "base_uri": "https://localhost:8080/"
    },
    "id": "mKpfYOs_8zdj",
    "outputId": "dd2c475a-4a43-430a-be03-fbec9d88aaad"
   },
   "outputs": [
    {
     "data": {
      "text/plain": [
       "False    14497\n",
       "True      1434\n",
       "Name: reviews_didPurchase, dtype: int64"
      ]
     },
     "execution_count": 15,
     "metadata": {},
     "output_type": "execute_result"
    }
   ],
   "source": [
    "df['reviews_didPurchase'].value_counts().sort_values(ascending=False)"
   ]
  },
  {
   "cell_type": "markdown",
   "metadata": {
    "id": "g3f6_axi9H83"
   },
   "source": [
    "We see that only 1434 people have actually purchased products present in our data."
   ]
  },
  {
   "cell_type": "code",
   "execution_count": 16,
   "metadata": {
    "colab": {
     "base_uri": "https://localhost:8080/"
    },
    "id": "PT1ZMqhb9FSI",
    "outputId": "2ba26d0a-6ff9-449a-8d63-034aa3500031"
   },
   "outputs": [
    {
     "data": {
      "text/plain": [
       "14005"
      ]
     },
     "execution_count": 16,
     "metadata": {},
     "output_type": "execute_result"
    }
   ],
   "source": [
    "df['reviews_didPurchase'].isnull().sum()"
   ]
  },
  {
   "cell_type": "code",
   "execution_count": 17,
   "metadata": {
    "colab": {
     "base_uri": "https://localhost:8080/"
    },
    "id": "XHh90jz-9V2h",
    "outputId": "07b82b12-81ff-4823-9d6c-99917383bdc8"
   },
   "outputs": [
    {
     "data": {
      "text/plain": [
       "214"
      ]
     },
     "execution_count": 17,
     "metadata": {},
     "output_type": "execute_result"
    }
   ],
   "source": [
    "\n",
    "\n",
    "len(df['brand'].unique())\n",
    "\n"
   ]
  },
  {
   "cell_type": "markdown",
   "metadata": {
    "id": "MlQMuGX19b_z"
   },
   "source": [
    "We have data of 214 brands"
   ]
  },
  {
   "cell_type": "code",
   "execution_count": 18,
   "metadata": {
    "colab": {
     "base_uri": "https://localhost:8080/"
    },
    "id": "aOuQ7ty89aHx",
    "outputId": "1f406dcf-d322-44a5-a837-c371e08a8467"
   },
   "outputs": [
    {
     "data": {
      "text/plain": [
       "Clorox                  10565\n",
       "Warner Home Video        3325\n",
       "Disney                   1199\n",
       "L'oreal Paris            1186\n",
       "FOX                       887\n",
       "Burt's Bees               881\n",
       "Sony Pictures             845\n",
       "Summit Entertainment      813\n",
       "Nexxus                    692\n",
       "Universal Home Video      668\n",
       "Name: brand, dtype: int64"
      ]
     },
     "execution_count": 18,
     "metadata": {},
     "output_type": "execute_result"
    }
   ],
   "source": [
    "\n",
    "\n",
    "df['brand'].value_counts().sort_values(ascending=False)[:10]\n",
    "\n"
   ]
  },
  {
   "cell_type": "code",
   "execution_count": 19,
   "metadata": {
    "colab": {
     "base_uri": "https://localhost:8080/",
     "height": 394
    },
    "id": "YrH12tAS9gD-",
    "outputId": "669de0ce-8411-4d8d-d72b-bfe9d8b1b26e"
   },
   "outputs": [
    {
     "data": {
      "text/html": [
       "<div>\n",
       "<style scoped>\n",
       "    .dataframe tbody tr th:only-of-type {\n",
       "        vertical-align: middle;\n",
       "    }\n",
       "\n",
       "    .dataframe tbody tr th {\n",
       "        vertical-align: top;\n",
       "    }\n",
       "\n",
       "    .dataframe thead th {\n",
       "        text-align: right;\n",
       "    }\n",
       "</style>\n",
       "<table border=\"1\" class=\"dataframe\">\n",
       "  <thead>\n",
       "    <tr style=\"text-align: right;\">\n",
       "      <th></th>\n",
       "      <th>mean</th>\n",
       "      <th>count</th>\n",
       "    </tr>\n",
       "    <tr>\n",
       "      <th>brand</th>\n",
       "      <th></th>\n",
       "      <th></th>\n",
       "    </tr>\n",
       "  </thead>\n",
       "  <tbody>\n",
       "    <tr>\n",
       "      <th>Clorox</th>\n",
       "      <td>4.824326</td>\n",
       "      <td>10565</td>\n",
       "    </tr>\n",
       "    <tr>\n",
       "      <th>Warner Home Video</th>\n",
       "      <td>4.350677</td>\n",
       "      <td>3325</td>\n",
       "    </tr>\n",
       "    <tr>\n",
       "      <th>Disney</th>\n",
       "      <td>4.687239</td>\n",
       "      <td>1199</td>\n",
       "    </tr>\n",
       "    <tr>\n",
       "      <th>L'oreal Paris</th>\n",
       "      <td>4.026981</td>\n",
       "      <td>1186</td>\n",
       "    </tr>\n",
       "    <tr>\n",
       "      <th>FOX</th>\n",
       "      <td>4.335964</td>\n",
       "      <td>887</td>\n",
       "    </tr>\n",
       "    <tr>\n",
       "      <th>Burt's Bees</th>\n",
       "      <td>4.650397</td>\n",
       "      <td>881</td>\n",
       "    </tr>\n",
       "    <tr>\n",
       "      <th>Sony Pictures</th>\n",
       "      <td>4.674556</td>\n",
       "      <td>845</td>\n",
       "    </tr>\n",
       "    <tr>\n",
       "      <th>Summit Entertainment</th>\n",
       "      <td>4.585486</td>\n",
       "      <td>813</td>\n",
       "    </tr>\n",
       "    <tr>\n",
       "      <th>Nexxus</th>\n",
       "      <td>1.354046</td>\n",
       "      <td>692</td>\n",
       "    </tr>\n",
       "    <tr>\n",
       "      <th>Universal Home Video</th>\n",
       "      <td>4.491018</td>\n",
       "      <td>668</td>\n",
       "    </tr>\n",
       "  </tbody>\n",
       "</table>\n",
       "</div>"
      ],
      "text/plain": [
       "                          mean  count\n",
       "brand                                \n",
       "Clorox                4.824326  10565\n",
       "Warner Home Video     4.350677   3325\n",
       "Disney                4.687239   1199\n",
       "L'oreal Paris         4.026981   1186\n",
       "FOX                   4.335964    887\n",
       "Burt's Bees           4.650397    881\n",
       "Sony Pictures         4.674556    845\n",
       "Summit Entertainment  4.585486    813\n",
       "Nexxus                1.354046    692\n",
       "Universal Home Video  4.491018    668"
      ]
     },
     "execution_count": 19,
     "metadata": {},
     "output_type": "execute_result"
    }
   ],
   "source": [
    "df.groupby('brand')['reviews_rating'].agg(['mean','count']).sort_values(by='count',ascending=False)[:10]"
   ]
  },
  {
   "cell_type": "markdown",
   "metadata": {
    "id": "ythZ4CSj9ovP"
   },
   "source": [
    "We see that Nexxus has lowest rating in the top 10 brands for which people have given most reviews"
   ]
  },
  {
   "cell_type": "code",
   "execution_count": 20,
   "metadata": {
    "colab": {
     "base_uri": "https://localhost:8080/"
    },
    "id": "trc3j1Xe9kZf",
    "outputId": "b3c97cde-115c-4320-fb8f-094e422b6348"
   },
   "outputs": [
    {
     "data": {
      "text/plain": [
       "270"
      ]
     },
     "execution_count": 20,
     "metadata": {},
     "output_type": "execute_result"
    }
   ],
   "source": [
    "len(df['categories'].unique())"
   ]
  },
  {
   "cell_type": "code",
   "execution_count": 21,
   "metadata": {
    "colab": {
     "base_uri": "https://localhost:8080/"
    },
    "id": "M0t4pUK29zjX",
    "outputId": "64cdd5dc-e9e8-406a-ca7d-07712e7e635e"
   },
   "outputs": [
    {
     "data": {
      "text/plain": [
       "Household Essentials,Cleaning Supplies,Kitchen Cleaners,Cleaning Wipes,All-Purpose Cleaners,Health & Household,Household Supplies,Household Cleaning,Ways To Shop,Classroom Essentials,Featured Brands,Home And Storage & Org,Clorox,Glass Cleaners,Surface Care & Protection,Business & Industrial,Cleaning & Janitorial Supplies,Cleaners & Disinfectants,Cleaning Wipes & Pads,Cleaning Solutions,Housewares,Target Restock,Food & Grocery,Paper Goods,Wipes,All Purpose Cleaners    8525\n",
       "Movies, Music & Books,Movies,Action & Adventure,Movies & Music,Movies & TV Shows,Frys                                                                                                                                                                                                                                                                                                                                                                                                   3325\n",
       "Household Chemicals,Household Cleaners,Bath & Shower Cleaner,Household Essentials,Cleaning Supplies,Bathroom Cleaners,Prime Pantry,Bathroom,Featured Brands,Home And Storage & Org,Clorox,All-purpose Cleaners,Health & Household,Household Supplies,Household Cleaning,Target Restock,Food & Grocery                                                                                                                                                                                   2039\n",
       "Beauty,Hair Care,Shampoo & Conditioner,Holiday Shop,Christmas,Featured Brands,Health & Beauty,L'oreal,Personal Care,Hair Treatments,Conditioner                                                                                                                                                                                                                                                                                                                                         1186\n",
       "Movies, Music & Books,Movies,Kids' & Family,Ways To Shop Entertainment,Movies & Tv On Blu-Ray,Movies & TV,Disney,Blu-ray,Children & Family,Movies & Music,Movies & TV Shows,Electronics, Tech Toys, Movies, Music,Blu-Rays,See ALL Blu-Ray,Frys                                                                                                                                                                                                                                         1142\n",
       "Name: categories, dtype: int64"
      ]
     },
     "execution_count": 21,
     "metadata": {},
     "output_type": "execute_result"
    }
   ],
   "source": [
    "df['categories'].value_counts().sort_values(ascending=False)[:5]"
   ]
  },
  {
   "cell_type": "code",
   "execution_count": null,
   "metadata": {
    "id": "aFLRSItw91SP"
   },
   "outputs": [],
   "source": []
  },
  {
   "cell_type": "markdown",
   "metadata": {
    "id": "s9Sk7tUb-Cnl"
   },
   "source": [
    "Now that we have performed basic analysis on data, let us do text processing for the columns that we shall use for sentiment analysis."
   ]
  },
  {
   "cell_type": "markdown",
   "metadata": {
    "id": "YCM3mYVp-R6v"
   },
   "source": [
    "# Text pre-procesing"
   ]
  },
  {
   "cell_type": "code",
   "execution_count": 22,
   "metadata": {
    "id": "HGZdukMa-RN2"
   },
   "outputs": [],
   "source": [
    "def clean_text(text):\n",
    "    text = text.lower()\n",
    "    text = re.sub(r'\\[.*?\\]', '', text)\n",
    "    #For removing punctuation\n",
    "    text = str(text).translate(str.maketrans('', '', string.punctuation))\n",
    "    #For removing number and special characters\n",
    "    pattern = r'[^a-zA-z.,!?/:;\\\"\\'\\s]'\n",
    "    text = re.sub(pattern, ' ', text)\n",
    "    return text"
   ]
  },
  {
   "cell_type": "code",
   "execution_count": 23,
   "metadata": {
    "id": "VM2NRGTz-oXu"
   },
   "outputs": [],
   "source": [
    "wordnet_lemmatizer = WordNetLemmatizer()\n",
    "def lemmatizer(text):\n",
    "    text = clean_text(text)\n",
    "    sent = [wordnet_lemmatizer.lemmatize(word) for word in word_tokenize(text) if not word in set(stopwords.words('english'))]\n",
    "    return \" \".join(sent)"
   ]
  },
  {
   "cell_type": "markdown",
   "metadata": {
    "id": "ERrlWwXp-2ZX"
   },
   "source": [
    "First we will combine reviews title and text, to perform sentiment analysis on it. Hence, concatenating both columns"
   ]
  },
  {
   "cell_type": "code",
   "execution_count": 28,
   "metadata": {},
   "outputs": [],
   "source": [
    "df.to_csv(\"df.csv\")"
   ]
  },
  {
   "cell_type": "code",
   "execution_count": 29,
   "metadata": {
    "colab": {
     "base_uri": "https://localhost:8080/"
    },
    "id": "tLf8GVkLP7i_",
    "outputId": "a353bf1a-a8c3-4821-f470-90c696bb0d6d"
   },
   "outputs": [
    {
     "data": {
      "text/plain": [
       "Series([], Name: reviews_title_text, dtype: object)"
      ]
     },
     "execution_count": 29,
     "metadata": {},
     "output_type": "execute_result"
    }
   ],
   "source": [
    "df.reviews_title_text[df.reviews_title_text.isna()]"
   ]
  },
  {
   "cell_type": "markdown",
   "metadata": {
    "id": "LEmO_tjj_uKV"
   },
   "source": [
    "Since the data type in title text is string, hence changing the same."
   ]
  },
  {
   "cell_type": "code",
   "execution_count": 30,
   "metadata": {
    "id": "hGOuu22M_ll4"
   },
   "outputs": [],
   "source": [
    "#df.reviews_title_text = df.reviews_title_text.astype(str)"
   ]
  },
  {
   "cell_type": "code",
   "execution_count": null,
   "metadata": {
    "id": "k-xFoTcKOrWL"
   },
   "outputs": [],
   "source": []
  },
  {
   "cell_type": "code",
   "execution_count": 31,
   "metadata": {
    "colab": {
     "base_uri": "https://localhost:8080/",
     "height": 952,
     "referenced_widgets": [
      "67db696f9a8d491a8e1ca7bfd9f5f8e7",
      "5e9b463b626944c6b073c9e62c6adef8",
      "5e85cb7b85aa4c1bb2f1bf62f81cf11a",
      "1c7115512f304d1d90ec344af8f33770",
      "162f41b5236e4f1ab7d06fbe738f87f0",
      "84943621cdbc460abff9956c82f6122f",
      "9d93a1aaf5da45bcadcf0c4d08419556",
      "d1e738256b384af5b190e1c9f7c3db5b",
      "27cd3859b4284bcab264409975bc15ed",
      "77f4fb6bc7c84d819b3bda41947d6355",
      "f421edd9d3af4de1a024fae9a15f6438"
     ]
    },
    "id": "pzHNYLyD-zK1",
    "outputId": "22861564-e686-46ad-f3a2-a81f7d8d1d9f"
   },
   "outputs": [
    {
     "name": "stderr",
     "output_type": "stream",
     "text": [
      "WARNING: You are using pip version 21.2.4; however, version 21.3.1 is available.\n",
      "You should consider upgrading via the 'c:\\users\\pbabbar\\anaconda3\\python.exe -m pip install --upgrade pip' command.\n"
     ]
    },
    {
     "name": "stdout",
     "output_type": "stream",
     "text": [
      "Requirement already satisfied: swifter in c:\\users\\pbabbar\\anaconda3\\lib\\site-packages (1.0.9)\n",
      "Requirement already satisfied: parso>0.4.0 in c:\\users\\pbabbar\\anaconda3\\lib\\site-packages (from swifter) (0.7.0)\n",
      "Requirement already satisfied: bleach>=3.1.1 in c:\\users\\pbabbar\\anaconda3\\lib\\site-packages (from swifter) (3.1.5)\n",
      "Requirement already satisfied: pandas>=1.0.0 in c:\\users\\pbabbar\\anaconda3\\lib\\site-packages (from swifter) (1.0.5)\n",
      "Requirement already satisfied: tqdm>=4.33.0 in c:\\users\\pbabbar\\anaconda3\\lib\\site-packages (from swifter) (4.58.0)\n",
      "Requirement already satisfied: psutil>=5.6.6 in c:\\users\\pbabbar\\anaconda3\\lib\\site-packages (from swifter) (5.7.0)\n",
      "Requirement already satisfied: ipywidgets>=7.0.0 in c:\\users\\pbabbar\\anaconda3\\lib\\site-packages (from swifter) (7.5.1)\n",
      "Requirement already satisfied: cloudpickle>=0.2.2 in c:\\users\\pbabbar\\anaconda3\\lib\\site-packages (from swifter) (1.5.0)\n",
      "Requirement already satisfied: dask[dataframe]>=2.10.0 in c:\\users\\pbabbar\\anaconda3\\lib\\site-packages (from swifter) (2.20.0)\n",
      "Requirement already satisfied: webencodings in c:\\users\\pbabbar\\anaconda3\\lib\\site-packages (from bleach>=3.1.1->swifter) (0.5.1)\n",
      "Requirement already satisfied: packaging in c:\\users\\pbabbar\\anaconda3\\lib\\site-packages (from bleach>=3.1.1->swifter) (20.4)\n",
      "Requirement already satisfied: six>=1.9.0 in c:\\users\\pbabbar\\anaconda3\\lib\\site-packages (from bleach>=3.1.1->swifter) (1.16.0)\n",
      "Requirement already satisfied: pyyaml in c:\\users\\pbabbar\\anaconda3\\lib\\site-packages (from dask[dataframe]>=2.10.0->swifter) (5.3.1)\n",
      "Requirement already satisfied: fsspec>=0.6.0 in c:\\users\\pbabbar\\anaconda3\\lib\\site-packages (from dask[dataframe]>=2.10.0->swifter) (0.7.4)\n",
      "Requirement already satisfied: partd>=0.3.10 in c:\\users\\pbabbar\\anaconda3\\lib\\site-packages (from dask[dataframe]>=2.10.0->swifter) (1.1.0)\n",
      "Requirement already satisfied: toolz>=0.8.2 in c:\\users\\pbabbar\\anaconda3\\lib\\site-packages (from dask[dataframe]>=2.10.0->swifter) (0.10.0)\n",
      "Requirement already satisfied: numpy>=1.13.0 in c:\\users\\pbabbar\\anaconda3\\lib\\site-packages (from dask[dataframe]>=2.10.0->swifter) (1.18.5)\n",
      "Requirement already satisfied: traitlets>=4.3.1 in c:\\users\\pbabbar\\anaconda3\\lib\\site-packages (from ipywidgets>=7.0.0->swifter) (4.3.3)\n",
      "Requirement already satisfied: ipython>=4.0.0 in c:\\users\\pbabbar\\anaconda3\\lib\\site-packages (from ipywidgets>=7.0.0->swifter) (7.16.1)\n",
      "Requirement already satisfied: widgetsnbextension~=3.5.0 in c:\\users\\pbabbar\\anaconda3\\lib\\site-packages (from ipywidgets>=7.0.0->swifter) (3.5.1)\n",
      "Requirement already satisfied: ipykernel>=4.5.1 in c:\\users\\pbabbar\\anaconda3\\lib\\site-packages (from ipywidgets>=7.0.0->swifter) (5.3.2)\n",
      "Requirement already satisfied: nbformat>=4.2.0 in c:\\users\\pbabbar\\anaconda3\\lib\\site-packages (from ipywidgets>=7.0.0->swifter) (5.0.7)\n",
      "Requirement already satisfied: tornado>=4.2 in c:\\users\\pbabbar\\anaconda3\\lib\\site-packages (from ipykernel>=4.5.1->ipywidgets>=7.0.0->swifter) (6.0.4)\n",
      "Requirement already satisfied: jupyter-client in c:\\users\\pbabbar\\anaconda3\\lib\\site-packages (from ipykernel>=4.5.1->ipywidgets>=7.0.0->swifter) (6.1.6)\n",
      "Requirement already satisfied: pickleshare in c:\\users\\pbabbar\\anaconda3\\lib\\site-packages (from ipython>=4.0.0->ipywidgets>=7.0.0->swifter) (0.7.5)\n",
      "Requirement already satisfied: decorator in c:\\users\\pbabbar\\anaconda3\\lib\\site-packages (from ipython>=4.0.0->ipywidgets>=7.0.0->swifter) (4.4.2)\n",
      "Requirement already satisfied: backcall in c:\\users\\pbabbar\\anaconda3\\lib\\site-packages (from ipython>=4.0.0->ipywidgets>=7.0.0->swifter) (0.2.0)\n",
      "Requirement already satisfied: setuptools>=18.5 in c:\\users\\pbabbar\\anaconda3\\lib\\site-packages (from ipython>=4.0.0->ipywidgets>=7.0.0->swifter) (49.2.0.post20200714)\n",
      "Requirement already satisfied: pygments in c:\\users\\pbabbar\\anaconda3\\lib\\site-packages (from ipython>=4.0.0->ipywidgets>=7.0.0->swifter) (2.6.1)\n",
      "Requirement already satisfied: prompt-toolkit!=3.0.0,!=3.0.1,<3.1.0,>=2.0.0 in c:\\users\\pbabbar\\anaconda3\\lib\\site-packages (from ipython>=4.0.0->ipywidgets>=7.0.0->swifter) (3.0.5)\n",
      "Requirement already satisfied: colorama in c:\\users\\pbabbar\\anaconda3\\lib\\site-packages (from ipython>=4.0.0->ipywidgets>=7.0.0->swifter) (0.4.3)\n",
      "Requirement already satisfied: jedi>=0.10 in c:\\users\\pbabbar\\anaconda3\\lib\\site-packages (from ipython>=4.0.0->ipywidgets>=7.0.0->swifter) (0.17.1)\n",
      "Requirement already satisfied: jsonschema!=2.5.0,>=2.4 in c:\\users\\pbabbar\\anaconda3\\lib\\site-packages (from nbformat>=4.2.0->ipywidgets>=7.0.0->swifter) (3.2.0)\n",
      "Requirement already satisfied: jupyter-core in c:\\users\\pbabbar\\anaconda3\\lib\\site-packages (from nbformat>=4.2.0->ipywidgets>=7.0.0->swifter) (4.6.3)\n",
      "Requirement already satisfied: ipython-genutils in c:\\users\\pbabbar\\anaconda3\\lib\\site-packages (from nbformat>=4.2.0->ipywidgets>=7.0.0->swifter) (0.2.0)\n",
      "Requirement already satisfied: pyrsistent>=0.14.0 in c:\\users\\pbabbar\\anaconda3\\lib\\site-packages (from jsonschema!=2.5.0,>=2.4->nbformat>=4.2.0->ipywidgets>=7.0.0->swifter) (0.16.0)\n",
      "Requirement already satisfied: attrs>=17.4.0 in c:\\users\\pbabbar\\anaconda3\\lib\\site-packages (from jsonschema!=2.5.0,>=2.4->nbformat>=4.2.0->ipywidgets>=7.0.0->swifter) (19.3.0)\n",
      "Requirement already satisfied: python-dateutil>=2.6.1 in c:\\users\\pbabbar\\anaconda3\\lib\\site-packages (from pandas>=1.0.0->swifter) (2.8.1)\n",
      "Requirement already satisfied: pytz>=2017.2 in c:\\users\\pbabbar\\anaconda3\\lib\\site-packages (from pandas>=1.0.0->swifter) (2020.1)\n",
      "Requirement already satisfied: locket in c:\\users\\pbabbar\\anaconda3\\lib\\site-packages (from partd>=0.3.10->dask[dataframe]>=2.10.0->swifter) (0.2.0)\n",
      "Requirement already satisfied: wcwidth in c:\\users\\pbabbar\\anaconda3\\lib\\site-packages (from prompt-toolkit!=3.0.0,!=3.0.1,<3.1.0,>=2.0.0->ipython>=4.0.0->ipywidgets>=7.0.0->swifter) (0.2.5)\n",
      "Requirement already satisfied: notebook>=4.4.1 in c:\\users\\pbabbar\\anaconda3\\lib\\site-packages (from widgetsnbextension~=3.5.0->ipywidgets>=7.0.0->swifter) (6.0.3)\n",
      "Requirement already satisfied: nbconvert in c:\\users\\pbabbar\\anaconda3\\lib\\site-packages (from notebook>=4.4.1->widgetsnbextension~=3.5.0->ipywidgets>=7.0.0->swifter) (5.6.1)\n",
      "Requirement already satisfied: terminado>=0.8.1 in c:\\users\\pbabbar\\anaconda3\\lib\\site-packages (from notebook>=4.4.1->widgetsnbextension~=3.5.0->ipywidgets>=7.0.0->swifter) (0.8.3)\n",
      "Requirement already satisfied: jinja2 in c:\\users\\pbabbar\\anaconda3\\lib\\site-packages (from notebook>=4.4.1->widgetsnbextension~=3.5.0->ipywidgets>=7.0.0->swifter) (2.11.2)\n",
      "Requirement already satisfied: prometheus-client in c:\\users\\pbabbar\\anaconda3\\lib\\site-packages (from notebook>=4.4.1->widgetsnbextension~=3.5.0->ipywidgets>=7.0.0->swifter) (0.8.0)\n",
      "Requirement already satisfied: pyzmq>=17 in c:\\users\\pbabbar\\anaconda3\\lib\\site-packages (from notebook>=4.4.1->widgetsnbextension~=3.5.0->ipywidgets>=7.0.0->swifter) (19.0.1)\n",
      "Requirement already satisfied: Send2Trash in c:\\users\\pbabbar\\anaconda3\\lib\\site-packages (from notebook>=4.4.1->widgetsnbextension~=3.5.0->ipywidgets>=7.0.0->swifter) (1.5.0)\n",
      "Requirement already satisfied: pywin32>=1.0 in c:\\users\\pbabbar\\anaconda3\\lib\\site-packages (from jupyter-core->nbformat>=4.2.0->ipywidgets>=7.0.0->swifter) (227)\n",
      "Requirement already satisfied: MarkupSafe>=0.23 in c:\\users\\pbabbar\\anaconda3\\lib\\site-packages (from jinja2->notebook>=4.4.1->widgetsnbextension~=3.5.0->ipywidgets>=7.0.0->swifter) (1.1.1)\n",
      "Requirement already satisfied: pandocfilters>=1.4.1 in c:\\users\\pbabbar\\anaconda3\\lib\\site-packages (from nbconvert->notebook>=4.4.1->widgetsnbextension~=3.5.0->ipywidgets>=7.0.0->swifter) (1.4.2)\n",
      "Requirement already satisfied: mistune<2,>=0.8.1 in c:\\users\\pbabbar\\anaconda3\\lib\\site-packages (from nbconvert->notebook>=4.4.1->widgetsnbextension~=3.5.0->ipywidgets>=7.0.0->swifter) (0.8.4)\n",
      "Requirement already satisfied: entrypoints>=0.2.2 in c:\\users\\pbabbar\\anaconda3\\lib\\site-packages (from nbconvert->notebook>=4.4.1->widgetsnbextension~=3.5.0->ipywidgets>=7.0.0->swifter) (0.3)\n",
      "Requirement already satisfied: defusedxml in c:\\users\\pbabbar\\anaconda3\\lib\\site-packages (from nbconvert->notebook>=4.4.1->widgetsnbextension~=3.5.0->ipywidgets>=7.0.0->swifter) (0.6.0)\n",
      "Requirement already satisfied: testpath in c:\\users\\pbabbar\\anaconda3\\lib\\site-packages (from nbconvert->notebook>=4.4.1->widgetsnbextension~=3.5.0->ipywidgets>=7.0.0->swifter) (0.4.4)\n",
      "Requirement already satisfied: pyparsing>=2.0.2 in c:\\users\\pbabbar\\anaconda3\\lib\\site-packages (from packaging->bleach>=3.1.1->swifter) (2.4.7)\n"
     ]
    },
    {
     "data": {
      "application/vnd.jupyter.widget-view+json": {
       "model_id": "1b184f24801a4c83ac67730dece767f5",
       "version_major": 2,
       "version_minor": 0
      },
      "text/plain": [
       "Pandas Apply:   0%|          | 0/29747 [00:00<?, ?it/s]"
      ]
     },
     "metadata": {},
     "output_type": "display_data"
    }
   ],
   "source": [
    "!pip install swifter\n",
    "import swifter\n",
    "\n",
    "df_clean = pd.DataFrame()\n",
    "df_clean['reviews_title_text'] = df.reviews_title_text.swifter.apply(clean_text)"
   ]
  },
  {
   "cell_type": "markdown",
   "metadata": {
    "id": "MnEaICNE_5u0"
   },
   "source": [
    "For performing sentiment analysis, we will convert the sentiment into 0 and 1. 1 for positive and 0 for negative."
   ]
  },
  {
   "cell_type": "code",
   "execution_count": 32,
   "metadata": {
    "colab": {
     "base_uri": "https://localhost:8080/"
    },
    "id": "twe-tRy5A9UE",
    "outputId": "12274629-ac07-4ebf-94eb-3942e8a254a1"
   },
   "outputs": [
    {
     "data": {
      "text/plain": [
       "0    1\n",
       "1    1\n",
       "2    1\n",
       "3    0\n",
       "4    0\n",
       "Name: sentiment_binary, dtype: int64"
      ]
     },
     "execution_count": 32,
     "metadata": {},
     "output_type": "execute_result"
    }
   ],
   "source": [
    "df['sentiment_binary'] = df.user_sentiment.replace({'Positive':1,'Negative':0})\n",
    "df['sentiment_binary'].head()"
   ]
  },
  {
   "cell_type": "markdown",
   "metadata": {},
   "source": [
    "### Feature Extraction"
   ]
  },
  {
   "cell_type": "code",
   "execution_count": 33,
   "metadata": {
    "id": "5pdqyGwO_U0W"
   },
   "outputs": [],
   "source": [
    "# Spliting into X & y\n",
    "X = df_clean['reviews_title_text'].values\n",
    "y = df.sentiment_binary\n",
    "\n",
    "# Building a TF IDF matrix out of the corpus of reviews\n",
    "from sklearn.feature_extraction.text import TfidfVectorizer\n",
    "td = TfidfVectorizer(max_features = 4500)\n",
    "X = td.fit_transform(X).toarray()"
   ]
  },
  {
   "cell_type": "code",
   "execution_count": 34,
   "metadata": {
    "colab": {
     "base_uri": "https://localhost:8080/"
    },
    "id": "K4TgWpPSONIT",
    "outputId": "fe970280-cb4c-4ca2-b717-2766eb396cdd"
   },
   "outputs": [
    {
     "data": {
      "text/plain": [
       "reviews_title_text    0\n",
       "dtype: int64"
      ]
     },
     "execution_count": 34,
     "metadata": {},
     "output_type": "execute_result"
    }
   ],
   "source": [
    "df_clean.isna().sum()"
   ]
  },
  {
   "cell_type": "code",
   "execution_count": 35,
   "metadata": {
    "colab": {
     "base_uri": "https://localhost:8080/",
     "height": 34
    },
    "id": "kpy4mig8AtxB",
    "outputId": "9ff7b3a9-7c30-4e1e-b3c5-c762e7075ce6"
   },
   "outputs": [
    {
     "data": {
      "text/plain": [
       "\"df['vectorized_reviews_title_text'] = X.tolist()\\ndf_clean['vectorized_reviews_title_text'] = df['vectorized_reviews_title_text']\""
      ]
     },
     "execution_count": 35,
     "metadata": {},
     "output_type": "execute_result"
    }
   ],
   "source": [
    "'''df['vectorized_reviews_title_text'] = X.tolist()\n",
    "df_clean['vectorized_reviews_title_text'] = df['vectorized_reviews_title_text']'''"
   ]
  },
  {
   "cell_type": "code",
   "execution_count": 36,
   "metadata": {
    "id": "J-Uy8POvZ5qZ"
   },
   "outputs": [],
   "source": [
    "df_clean['name']=df['name']"
   ]
  },
  {
   "cell_type": "markdown",
   "metadata": {},
   "source": [
    "We are saving this dataframe for uses in further notebooks"
   ]
  },
  {
   "cell_type": "code",
   "execution_count": 37,
   "metadata": {
    "id": "NFz1ssNFCj5O"
   },
   "outputs": [],
   "source": [
    "df_clean.to_csv(\"df_clean.csv\")"
   ]
  },
  {
   "cell_type": "code",
   "execution_count": 38,
   "metadata": {
    "id": "E_yDk6_vBRTW"
   },
   "outputs": [],
   "source": [
    "# Splitting into training & test subsets\n",
    "from sklearn.model_selection import train_test_split\n",
    "X_train, X_test, y_train, y_test = train_test_split(X, y, test_size = 0.3,\n",
    "                                                    random_state = 42)"
   ]
  },
  {
   "cell_type": "code",
   "execution_count": 39,
   "metadata": {},
   "outputs": [
    {
     "data": {
      "text/plain": [
       "1    0.887888\n",
       "0    0.112112\n",
       "Name: sentiment_binary, dtype: float64"
      ]
     },
     "execution_count": 39,
     "metadata": {},
     "output_type": "execute_result"
    }
   ],
   "source": [
    "df['sentiment_binary'].value_counts(normalize=True)"
   ]
  },
  {
   "cell_type": "markdown",
   "metadata": {},
   "source": [
    "### Text Classification - Model Buidling"
   ]
  },
  {
   "cell_type": "markdown",
   "metadata": {},
   "source": [
    "#### Handling positive and negative imblance"
   ]
  },
  {
   "cell_type": "code",
   "execution_count": 40,
   "metadata": {
    "colab": {
     "base_uri": "https://localhost:8080/"
    },
    "id": "b201s5YPCRVU",
    "outputId": "22cc3448-fe78-456d-fbd9-f47994302f5b"
   },
   "outputs": [
    {
     "name": "stdout",
     "output_type": "stream",
     "text": [
      "Before Counter({1: 18468, 0: 2354})\n",
      "After  Counter({1: 18468, 0: 18468})\n"
     ]
    }
   ],
   "source": [
    "#Since there is a data imbalance, we use technique called SMOTE to make data balanced.\n",
    "from imblearn.over_sampling import SMOTE\n",
    "from collections import Counter\n",
    "#We only apply this technique on train data\n",
    "\n",
    "counter = Counter(y_train)\n",
    "print('Before',counter)\n",
    "\n",
    "smt = SMOTE()\n",
    "\n",
    "X_train_sm,y_train_sm = smt.fit_resample(X_train,y_train)\n",
    "\n",
    "counter = Counter(y_train_sm)\n",
    "print('After ',counter)"
   ]
  },
  {
   "cell_type": "markdown",
   "metadata": {},
   "source": [
    "#### First applying Logistic regression on data with smote and data without smote"
   ]
  },
  {
   "cell_type": "code",
   "execution_count": 41,
   "metadata": {
    "id": "ZqsmbFbrCTbn"
   },
   "outputs": [],
   "source": [
    "# Logistic Regression\n",
    "import pickle\n",
    "from sklearn.linear_model import LogisticRegression\n",
    "from sklearn.model_selection import train_test_split\n",
    "\n",
    "clf = LogisticRegression(random_state=42).fit(X_train, y_train)\n",
    "y_pred_logreg = clf.predict(X_test)\n",
    "\n",
    "clf_sm = LogisticRegression(random_state=42,max_iter=1000).fit(X_train_sm, y_train_sm)\n",
    "y_pred_logreg_sm = clf_sm.predict(X_test)\n",
    "\n",
    "\n",
    "#SAVE MODEL\n",
    "pickle.dump(clf, open(\"logreg_model.pkl\", \"wb\"))\n",
    "pickle.dump(clf_sm, open(\"logreg_model_sm.pkl\", \"wb\"))"
   ]
  },
  {
   "cell_type": "markdown",
   "metadata": {
    "id": "tX21bMKXDrZt"
   },
   "source": [
    "Let us create a dataframe to hold model evaluation scores."
   ]
  },
  {
   "cell_type": "markdown",
   "metadata": {},
   "source": [
    "- Since we are classifying the data, for us the best scores will be preceision and recall , not accuracy to check our model performance. He we shall go with the same."
   ]
  },
  {
   "cell_type": "code",
   "execution_count": 42,
   "metadata": {
    "id": "ucGRkJHTC49B"
   },
   "outputs": [],
   "source": [
    "df_sentiment_scores = pd.DataFrame(columns=['Method','Precision_normal','Recall_Normal','Precision_SMOTE','Recall_SMOTE'])"
   ]
  },
  {
   "cell_type": "code",
   "execution_count": 43,
   "metadata": {
    "colab": {
     "base_uri": "https://localhost:8080/",
     "height": 81
    },
    "id": "HRzmVFeEDwe4",
    "outputId": "12384161-09e6-4e90-e7e3-cafe45226629"
   },
   "outputs": [
    {
     "data": {
      "text/html": [
       "<div>\n",
       "<style scoped>\n",
       "    .dataframe tbody tr th:only-of-type {\n",
       "        vertical-align: middle;\n",
       "    }\n",
       "\n",
       "    .dataframe tbody tr th {\n",
       "        vertical-align: top;\n",
       "    }\n",
       "\n",
       "    .dataframe thead th {\n",
       "        text-align: right;\n",
       "    }\n",
       "</style>\n",
       "<table border=\"1\" class=\"dataframe\">\n",
       "  <thead>\n",
       "    <tr style=\"text-align: right;\">\n",
       "      <th></th>\n",
       "      <th>Method</th>\n",
       "      <th>Precision_normal</th>\n",
       "      <th>Recall_Normal</th>\n",
       "      <th>Precision_SMOTE</th>\n",
       "      <th>Recall_SMOTE</th>\n",
       "    </tr>\n",
       "  </thead>\n",
       "  <tbody>\n",
       "    <tr>\n",
       "      <th>0</th>\n",
       "      <td>LogReg</td>\n",
       "      <td>0.909363</td>\n",
       "      <td>0.995217</td>\n",
       "      <td>0.958523</td>\n",
       "      <td>0.901813</td>\n",
       "    </tr>\n",
       "  </tbody>\n",
       "</table>\n",
       "</div>"
      ],
      "text/plain": [
       "   Method  Precision_normal  Recall_Normal  Precision_SMOTE  Recall_SMOTE\n",
       "0  LogReg          0.909363       0.995217         0.958523      0.901813"
      ]
     },
     "execution_count": 43,
     "metadata": {},
     "output_type": "execute_result"
    }
   ],
   "source": [
    "from sklearn.metrics import precision_score,recall_score,confusion_matrix\n",
    "dict_temp =  {'Method':'LogReg','Precision_normal':precision_score(y_test, y_pred_logreg),'Recall_Normal':recall_score(y_test, y_pred_logreg),'Precision_SMOTE':precision_score(y_test, y_pred_logreg_sm),'Recall_SMOTE':recall_score(y_test, y_pred_logreg_sm)}\n",
    "df_sentiment_scores = df_sentiment_scores.append(dict_temp,ignore_index=True)\n",
    "df_sentiment_scores\n",
    "  "
   ]
  },
  {
   "cell_type": "code",
   "execution_count": 44,
   "metadata": {
    "colab": {
     "base_uri": "https://localhost:8080/",
     "height": 34
    },
    "id": "8LEJNs5fD4WM",
    "outputId": "708f3145-36fc-46f6-a742-a8a6f056c24f"
   },
   "outputs": [
    {
     "data": {
      "text/plain": [
       "\"from sklearn.model_selection import GridSearchCV\\ngrid_values = {'penalty': ['l1','l2'], 'C': [0.001,0.01,0.1,1,10,100,1000]} \\nclf_sm_gs = GridSearchCV(clf_sm, param_grid=grid_values).fit(X_train_sm, y_train_sm)\""
      ]
     },
     "execution_count": 44,
     "metadata": {},
     "output_type": "execute_result"
    }
   ],
   "source": [
    "'''from sklearn.model_selection import GridSearchCV\n",
    "grid_values = {'penalty': ['l1','l2'], 'C': [0.001,0.01,0.1,1,10,100,1000]} \n",
    "clf_sm_gs = GridSearchCV(clf_sm, param_grid=grid_values).fit(X_train_sm, y_train_sm)'''"
   ]
  },
  {
   "cell_type": "markdown",
   "metadata": {},
   "source": [
    "#### Applying Random Forest with and without smote data"
   ]
  },
  {
   "cell_type": "code",
   "execution_count": 45,
   "metadata": {
    "id": "LTwZhKbhQ-3H"
   },
   "outputs": [],
   "source": [
    "from sklearn.ensemble import RandomForestClassifier\n",
    "clf_rm = RandomForestClassifier(max_depth=10, random_state=42)\n",
    "clf_rm.fit(X_train, y_train)\n",
    "clf_rm_sm = RandomForestClassifier(max_depth=10,random_state=42).fit(X_train_sm, y_train_sm)\n",
    "#SAVE MODEL\n",
    "pickle.dump(clf, open(\"RF_model.pkl\", \"wb\"))\n",
    "\n",
    "pickle.dump(clf_sm, open(\"RF_model_sm.pkl\", \"wb\"))"
   ]
  },
  {
   "cell_type": "code",
   "execution_count": 46,
   "metadata": {
    "colab": {
     "base_uri": "https://localhost:8080/",
     "height": 112
    },
    "id": "6P7wg1c_bR9c",
    "outputId": "5692a961-c996-4e24-d2df-031622af7b79"
   },
   "outputs": [
    {
     "data": {
      "text/html": [
       "<div>\n",
       "<style scoped>\n",
       "    .dataframe tbody tr th:only-of-type {\n",
       "        vertical-align: middle;\n",
       "    }\n",
       "\n",
       "    .dataframe tbody tr th {\n",
       "        vertical-align: top;\n",
       "    }\n",
       "\n",
       "    .dataframe thead th {\n",
       "        text-align: right;\n",
       "    }\n",
       "</style>\n",
       "<table border=\"1\" class=\"dataframe\">\n",
       "  <thead>\n",
       "    <tr style=\"text-align: right;\">\n",
       "      <th></th>\n",
       "      <th>Method</th>\n",
       "      <th>Precision_normal</th>\n",
       "      <th>Recall_Normal</th>\n",
       "      <th>Precision_SMOTE</th>\n",
       "      <th>Recall_SMOTE</th>\n",
       "    </tr>\n",
       "  </thead>\n",
       "  <tbody>\n",
       "    <tr>\n",
       "      <th>0</th>\n",
       "      <td>LogReg</td>\n",
       "      <td>0.909363</td>\n",
       "      <td>0.995217</td>\n",
       "      <td>0.958523</td>\n",
       "      <td>0.901813</td>\n",
       "    </tr>\n",
       "    <tr>\n",
       "      <th>1</th>\n",
       "      <td>RandomForest</td>\n",
       "      <td>0.890084</td>\n",
       "      <td>1.000000</td>\n",
       "      <td>0.923913</td>\n",
       "      <td>0.855992</td>\n",
       "    </tr>\n",
       "  </tbody>\n",
       "</table>\n",
       "</div>"
      ],
      "text/plain": [
       "         Method  Precision_normal  Recall_Normal  Precision_SMOTE  \\\n",
       "0        LogReg          0.909363       0.995217         0.958523   \n",
       "1  RandomForest          0.890084       1.000000         0.923913   \n",
       "\n",
       "   Recall_SMOTE  \n",
       "0      0.901813  \n",
       "1      0.855992  "
      ]
     },
     "execution_count": 46,
     "metadata": {},
     "output_type": "execute_result"
    }
   ],
   "source": [
    "y_pred_rm = clf_rm.predict(X_test)\n",
    "y_pred_rm_sm = clf_rm_sm.predict(X_test)\n",
    "dict_temp =  {'Method':'RandomForest','Precision_normal':precision_score(y_test, y_pred_rm),'Recall_Normal':recall_score(y_test, y_pred_rm),'Precision_SMOTE':precision_score(y_test, y_pred_rm_sm),'Recall_SMOTE':recall_score(y_test, y_pred_rm_sm)}\n",
    "df_sentiment_scores = df_sentiment_scores.append(dict_temp,ignore_index=True)\n",
    "df_sentiment_scores"
   ]
  },
  {
   "cell_type": "markdown",
   "metadata": {},
   "source": [
    "#### Applying XGBoost classifier with and without smote data"
   ]
  },
  {
   "cell_type": "code",
   "execution_count": 47,
   "metadata": {
    "id": "xVzGyr1ZbVGE"
   },
   "outputs": [
    {
     "name": "stderr",
     "output_type": "stream",
     "text": [
      "C:\\Users\\pbabbar\\Anaconda3\\lib\\site-packages\\xgboost\\sklearn.py:1146: UserWarning: The use of label encoder in XGBClassifier is deprecated and will be removed in a future release. To remove this warning, do the following: 1) Pass option use_label_encoder=False when constructing XGBClassifier object; and 2) Encode your labels (y) as integers starting with 0, i.e. 0, 1, 2, ..., [num_class - 1].\n",
      "  warnings.warn(label_encoder_deprecation_msg, UserWarning)\n"
     ]
    },
    {
     "name": "stdout",
     "output_type": "stream",
     "text": [
      "[20:23:53] WARNING: C:/Users/Administrator/workspace/xgboost-win64_release_1.4.0/src/learner.cc:1095: Starting in XGBoost 1.3.0, the default evaluation metric used with the objective 'binary:logistic' was changed from 'error' to 'logloss'. Explicitly set eval_metric if you'd like to restore the old behavior.\n",
      "[20:26:11] WARNING: C:/Users/Administrator/workspace/xgboost-win64_release_1.4.0/src/learner.cc:1095: Starting in XGBoost 1.3.0, the default evaluation metric used with the objective 'binary:logistic' was changed from 'error' to 'logloss'. Explicitly set eval_metric if you'd like to restore the old behavior.\n"
     ]
    }
   ],
   "source": [
    "from xgboost import XGBClassifier\n",
    "clf_xg = XGBClassifier(random_state=42).fit(X_train, y_train)\n",
    "clf_xg_sm = XGBClassifier(random_state=42).fit(X_train_sm, y_train_sm)\n",
    "y_pred_xg = clf_xg.predict(X_test)\n",
    "y_pred_xg_sm = clf_xg_sm.predict(X_test)\n",
    "pickle.dump(clf, open(\"XG_model.pkl\", \"wb\"))\n",
    "pickle.dump(clf_sm, open(\"XG_model_sm.pkl\", \"wb\"))"
   ]
  },
  {
   "cell_type": "code",
   "execution_count": 48,
   "metadata": {
    "colab": {
     "base_uri": "https://localhost:8080/",
     "height": 144
    },
    "id": "o8RX1z1obX5u",
    "outputId": "eda52c3d-ecf2-4864-c539-e27fd80de3c2"
   },
   "outputs": [
    {
     "data": {
      "text/html": [
       "<div>\n",
       "<style scoped>\n",
       "    .dataframe tbody tr th:only-of-type {\n",
       "        vertical-align: middle;\n",
       "    }\n",
       "\n",
       "    .dataframe tbody tr th {\n",
       "        vertical-align: top;\n",
       "    }\n",
       "\n",
       "    .dataframe thead th {\n",
       "        text-align: right;\n",
       "    }\n",
       "</style>\n",
       "<table border=\"1\" class=\"dataframe\">\n",
       "  <thead>\n",
       "    <tr style=\"text-align: right;\">\n",
       "      <th></th>\n",
       "      <th>Method</th>\n",
       "      <th>Precision_normal</th>\n",
       "      <th>Recall_Normal</th>\n",
       "      <th>Precision_SMOTE</th>\n",
       "      <th>Recall_SMOTE</th>\n",
       "    </tr>\n",
       "  </thead>\n",
       "  <tbody>\n",
       "    <tr>\n",
       "      <th>0</th>\n",
       "      <td>LogReg</td>\n",
       "      <td>0.909363</td>\n",
       "      <td>0.995217</td>\n",
       "      <td>0.958523</td>\n",
       "      <td>0.901813</td>\n",
       "    </tr>\n",
       "    <tr>\n",
       "      <th>1</th>\n",
       "      <td>RandomForest</td>\n",
       "      <td>0.890084</td>\n",
       "      <td>1.000000</td>\n",
       "      <td>0.923913</td>\n",
       "      <td>0.855992</td>\n",
       "    </tr>\n",
       "    <tr>\n",
       "      <th>2</th>\n",
       "      <td>XGBoost</td>\n",
       "      <td>0.918995</td>\n",
       "      <td>0.989678</td>\n",
       "      <td>0.948099</td>\n",
       "      <td>0.919814</td>\n",
       "    </tr>\n",
       "  </tbody>\n",
       "</table>\n",
       "</div>"
      ],
      "text/plain": [
       "         Method  Precision_normal  Recall_Normal  Precision_SMOTE  \\\n",
       "0        LogReg          0.909363       0.995217         0.958523   \n",
       "1  RandomForest          0.890084       1.000000         0.923913   \n",
       "2       XGBoost          0.918995       0.989678         0.948099   \n",
       "\n",
       "   Recall_SMOTE  \n",
       "0      0.901813  \n",
       "1      0.855992  \n",
       "2      0.919814  "
      ]
     },
     "execution_count": 48,
     "metadata": {},
     "output_type": "execute_result"
    }
   ],
   "source": [
    "dict_temp =  {'Method':'XGBoost','Precision_normal':precision_score(y_test, y_pred_xg),'Recall_Normal':recall_score(y_test, y_pred_xg),'Precision_SMOTE':precision_score(y_test, y_pred_xg_sm),'Recall_SMOTE':recall_score(y_test, y_pred_xg_sm)}\n",
    "df_sentiment_scores = df_sentiment_scores.append(dict_temp,ignore_index=True)\n",
    "df_sentiment_scores"
   ]
  },
  {
   "cell_type": "code",
   "execution_count": null,
   "metadata": {},
   "outputs": [],
   "source": []
  },
  {
   "cell_type": "markdown",
   "metadata": {},
   "source": [
    " - XG Boost without smote is performing the best, hence we shall use it in the final recommendation step.\n",
    " "
   ]
  },
  {
   "cell_type": "code",
   "execution_count": 49,
   "metadata": {
    "id": "-9R6zC-Gbatl"
   },
   "outputs": [],
   "source": [
    "df_sentiment_scores.to_csv(\"df_sentiment_scores.csv\")"
   ]
  },
  {
   "cell_type": "code",
   "execution_count": 50,
   "metadata": {
    "id": "EbYFSBafbiBV"
   },
   "outputs": [
    {
     "data": {
      "text/plain": [
       "1    26412\n",
       "0     3335\n",
       "Name: sentiment_binary, dtype: int64"
      ]
     },
     "execution_count": 50,
     "metadata": {},
     "output_type": "execute_result"
    }
   ],
   "source": [
    "df.sentiment_binary.value_counts()"
   ]
  },
  {
   "cell_type": "code",
   "execution_count": null,
   "metadata": {},
   "outputs": [],
   "source": []
  },
  {
   "cell_type": "markdown",
   "metadata": {},
   "source": [
    "#### Recommendation Model"
   ]
  },
  {
   "cell_type": "markdown",
   "metadata": {},
   "source": [
    "#### In this notebook we will run collaborative filtering methods, namely item item and user user, and determine the best among both and use that for final recommendation"
   ]
  },
  {
   "cell_type": "code",
   "execution_count": 51,
   "metadata": {
    "id": "YNKWprQFCDP6"
   },
   "outputs": [],
   "source": [
    "import pandas as pd\n",
    "import re,string\n",
    "import numpy as np"
   ]
  },
  {
   "cell_type": "markdown",
   "metadata": {},
   "source": [
    "- We had removed the null values of important columns and saved it as df.csv, hence we are importing the same"
   ]
  },
  {
   "cell_type": "code",
   "execution_count": 52,
   "metadata": {
    "colab": {
     "base_uri": "https://localhost:8080/",
     "height": 634
    },
    "id": "A-Sg-O-kCFEG",
    "outputId": "cce3f9bd-b3f3-4348-efcc-f7e8fe4d20ee"
   },
   "outputs": [
    {
     "data": {
      "text/html": [
       "<div>\n",
       "<style scoped>\n",
       "    .dataframe tbody tr th:only-of-type {\n",
       "        vertical-align: middle;\n",
       "    }\n",
       "\n",
       "    .dataframe tbody tr th {\n",
       "        vertical-align: top;\n",
       "    }\n",
       "\n",
       "    .dataframe thead th {\n",
       "        text-align: right;\n",
       "    }\n",
       "</style>\n",
       "<table border=\"1\" class=\"dataframe\">\n",
       "  <thead>\n",
       "    <tr style=\"text-align: right;\">\n",
       "      <th></th>\n",
       "      <th>Unnamed: 0</th>\n",
       "      <th>brand</th>\n",
       "      <th>categories</th>\n",
       "      <th>manufacturer</th>\n",
       "      <th>name</th>\n",
       "      <th>reviews_didPurchase</th>\n",
       "      <th>reviews_doRecommend</th>\n",
       "      <th>reviews_rating</th>\n",
       "      <th>reviews_text</th>\n",
       "      <th>reviews_title</th>\n",
       "      <th>reviews_userCity</th>\n",
       "      <th>reviews_userProvince</th>\n",
       "      <th>reviews_username</th>\n",
       "      <th>user_sentiment</th>\n",
       "      <th>reviews_title_text</th>\n",
       "    </tr>\n",
       "  </thead>\n",
       "  <tbody>\n",
       "    <tr>\n",
       "      <th>0</th>\n",
       "      <td>0</td>\n",
       "      <td>Universal Music</td>\n",
       "      <td>Movies, Music &amp; Books,Music,R&amp;b,Movies &amp; TV,Mo...</td>\n",
       "      <td>Universal Music Group / Cash Money</td>\n",
       "      <td>Pink Friday: Roman Reloaded Re-Up (w/dvd)</td>\n",
       "      <td>NaN</td>\n",
       "      <td>NaN</td>\n",
       "      <td>5</td>\n",
       "      <td>i love this album. it's very good. more to the...</td>\n",
       "      <td>Just Awesome</td>\n",
       "      <td>Los Angeles</td>\n",
       "      <td>NaN</td>\n",
       "      <td>joshua</td>\n",
       "      <td>Positive</td>\n",
       "      <td>Just Awesomei love this album. it's very good....</td>\n",
       "    </tr>\n",
       "    <tr>\n",
       "      <th>1</th>\n",
       "      <td>1</td>\n",
       "      <td>Lundberg</td>\n",
       "      <td>Food,Packaged Foods,Snacks,Crackers,Snacks, Co...</td>\n",
       "      <td>Lundberg</td>\n",
       "      <td>Lundberg Organic Cinnamon Toast Rice Cakes</td>\n",
       "      <td>True</td>\n",
       "      <td>NaN</td>\n",
       "      <td>5</td>\n",
       "      <td>Good flavor. This review was collected as part...</td>\n",
       "      <td>Good</td>\n",
       "      <td>NaN</td>\n",
       "      <td>NaN</td>\n",
       "      <td>dorothy w</td>\n",
       "      <td>Positive</td>\n",
       "      <td>GoodGood flavor. This review was collected as ...</td>\n",
       "    </tr>\n",
       "    <tr>\n",
       "      <th>2</th>\n",
       "      <td>2</td>\n",
       "      <td>Lundberg</td>\n",
       "      <td>Food,Packaged Foods,Snacks,Crackers,Snacks, Co...</td>\n",
       "      <td>Lundberg</td>\n",
       "      <td>Lundberg Organic Cinnamon Toast Rice Cakes</td>\n",
       "      <td>True</td>\n",
       "      <td>NaN</td>\n",
       "      <td>5</td>\n",
       "      <td>Good flavor.</td>\n",
       "      <td>Good</td>\n",
       "      <td>NaN</td>\n",
       "      <td>NaN</td>\n",
       "      <td>dorothy w</td>\n",
       "      <td>Positive</td>\n",
       "      <td>GoodGood flavor.</td>\n",
       "    </tr>\n",
       "    <tr>\n",
       "      <th>3</th>\n",
       "      <td>3</td>\n",
       "      <td>K-Y</td>\n",
       "      <td>Personal Care,Medicine Cabinet,Lubricant/Sperm...</td>\n",
       "      <td>K-Y</td>\n",
       "      <td>K-Y Love Sensuality Pleasure Gel</td>\n",
       "      <td>False</td>\n",
       "      <td>False</td>\n",
       "      <td>1</td>\n",
       "      <td>I read through the reviews on here before look...</td>\n",
       "      <td>Disappointed</td>\n",
       "      <td>NaN</td>\n",
       "      <td>NaN</td>\n",
       "      <td>rebecca</td>\n",
       "      <td>Negative</td>\n",
       "      <td>DisappointedI read through the reviews on here...</td>\n",
       "    </tr>\n",
       "    <tr>\n",
       "      <th>4</th>\n",
       "      <td>4</td>\n",
       "      <td>K-Y</td>\n",
       "      <td>Personal Care,Medicine Cabinet,Lubricant/Sperm...</td>\n",
       "      <td>K-Y</td>\n",
       "      <td>K-Y Love Sensuality Pleasure Gel</td>\n",
       "      <td>False</td>\n",
       "      <td>False</td>\n",
       "      <td>1</td>\n",
       "      <td>My husband bought this gel for us. The gel cau...</td>\n",
       "      <td>Irritation</td>\n",
       "      <td>NaN</td>\n",
       "      <td>NaN</td>\n",
       "      <td>walker557</td>\n",
       "      <td>Negative</td>\n",
       "      <td>IrritationMy husband bought this gel for us. T...</td>\n",
       "    </tr>\n",
       "  </tbody>\n",
       "</table>\n",
       "</div>"
      ],
      "text/plain": [
       "   Unnamed: 0            brand  \\\n",
       "0           0  Universal Music   \n",
       "1           1         Lundberg   \n",
       "2           2         Lundberg   \n",
       "3           3              K-Y   \n",
       "4           4              K-Y   \n",
       "\n",
       "                                          categories  \\\n",
       "0  Movies, Music & Books,Music,R&b,Movies & TV,Mo...   \n",
       "1  Food,Packaged Foods,Snacks,Crackers,Snacks, Co...   \n",
       "2  Food,Packaged Foods,Snacks,Crackers,Snacks, Co...   \n",
       "3  Personal Care,Medicine Cabinet,Lubricant/Sperm...   \n",
       "4  Personal Care,Medicine Cabinet,Lubricant/Sperm...   \n",
       "\n",
       "                         manufacturer  \\\n",
       "0  Universal Music Group / Cash Money   \n",
       "1                            Lundberg   \n",
       "2                            Lundberg   \n",
       "3                                 K-Y   \n",
       "4                                 K-Y   \n",
       "\n",
       "                                         name reviews_didPurchase  \\\n",
       "0   Pink Friday: Roman Reloaded Re-Up (w/dvd)                 NaN   \n",
       "1  Lundberg Organic Cinnamon Toast Rice Cakes                True   \n",
       "2  Lundberg Organic Cinnamon Toast Rice Cakes                True   \n",
       "3            K-Y Love Sensuality Pleasure Gel               False   \n",
       "4            K-Y Love Sensuality Pleasure Gel               False   \n",
       "\n",
       "  reviews_doRecommend  reviews_rating  \\\n",
       "0                 NaN               5   \n",
       "1                 NaN               5   \n",
       "2                 NaN               5   \n",
       "3               False               1   \n",
       "4               False               1   \n",
       "\n",
       "                                        reviews_text reviews_title  \\\n",
       "0  i love this album. it's very good. more to the...  Just Awesome   \n",
       "1  Good flavor. This review was collected as part...          Good   \n",
       "2                                       Good flavor.          Good   \n",
       "3  I read through the reviews on here before look...  Disappointed   \n",
       "4  My husband bought this gel for us. The gel cau...    Irritation   \n",
       "\n",
       "  reviews_userCity reviews_userProvince reviews_username user_sentiment  \\\n",
       "0      Los Angeles                  NaN           joshua       Positive   \n",
       "1              NaN                  NaN        dorothy w       Positive   \n",
       "2              NaN                  NaN        dorothy w       Positive   \n",
       "3              NaN                  NaN          rebecca       Negative   \n",
       "4              NaN                  NaN        walker557       Negative   \n",
       "\n",
       "                                  reviews_title_text  \n",
       "0  Just Awesomei love this album. it's very good....  \n",
       "1  GoodGood flavor. This review was collected as ...  \n",
       "2                                   GoodGood flavor.  \n",
       "3  DisappointedI read through the reviews on here...  \n",
       "4  IrritationMy husband bought this gel for us. T...  "
      ]
     },
     "execution_count": 52,
     "metadata": {},
     "output_type": "execute_result"
    }
   ],
   "source": [
    "df = pd.read_csv(\"df.csv\")\n",
    "df.head()"
   ]
  },
  {
   "cell_type": "markdown",
   "metadata": {},
   "source": [
    "- We see that there are no null username in this df"
   ]
  },
  {
   "cell_type": "code",
   "execution_count": 53,
   "metadata": {
    "colab": {
     "base_uri": "https://localhost:8080/",
     "height": 1000
    },
    "id": "5zFh6KRMB2c-",
    "outputId": "53768fc1-8d07-4553-831c-dd2a86e250b1"
   },
   "outputs": [
    {
     "data": {
      "text/html": [
       "<div>\n",
       "<style scoped>\n",
       "    .dataframe tbody tr th:only-of-type {\n",
       "        vertical-align: middle;\n",
       "    }\n",
       "\n",
       "    .dataframe tbody tr th {\n",
       "        vertical-align: top;\n",
       "    }\n",
       "\n",
       "    .dataframe thead th {\n",
       "        text-align: right;\n",
       "    }\n",
       "</style>\n",
       "<table border=\"1\" class=\"dataframe\">\n",
       "  <thead>\n",
       "    <tr style=\"text-align: right;\">\n",
       "      <th></th>\n",
       "      <th>Unnamed: 0</th>\n",
       "      <th>brand</th>\n",
       "      <th>categories</th>\n",
       "      <th>manufacturer</th>\n",
       "      <th>name</th>\n",
       "      <th>reviews_didPurchase</th>\n",
       "      <th>reviews_doRecommend</th>\n",
       "      <th>reviews_rating</th>\n",
       "      <th>reviews_text</th>\n",
       "      <th>reviews_title</th>\n",
       "      <th>reviews_userCity</th>\n",
       "      <th>reviews_userProvince</th>\n",
       "      <th>reviews_username</th>\n",
       "      <th>user_sentiment</th>\n",
       "      <th>reviews_title_text</th>\n",
       "    </tr>\n",
       "  </thead>\n",
       "  <tbody>\n",
       "  </tbody>\n",
       "</table>\n",
       "</div>"
      ],
      "text/plain": [
       "Empty DataFrame\n",
       "Columns: [Unnamed: 0, brand, categories, manufacturer, name, reviews_didPurchase, reviews_doRecommend, reviews_rating, reviews_text, reviews_title, reviews_userCity, reviews_userProvince, reviews_username, user_sentiment, reviews_title_text]\n",
       "Index: []"
      ]
     },
     "execution_count": 53,
     "metadata": {},
     "output_type": "execute_result"
    }
   ],
   "source": [
    "df[df.reviews_username.isna()]"
   ]
  },
  {
   "cell_type": "code",
   "execution_count": 54,
   "metadata": {
    "id": "cgslsPc5CAST"
   },
   "outputs": [],
   "source": [
    "df_for_recommendation = df\n"
   ]
  },
  {
   "cell_type": "markdown",
   "metadata": {},
   "source": [
    "- Since there are duplicates for 'reviews_username' and 'name', hence we shall remove it. I found there are duplictated because pivot table could not be created previously."
   ]
  },
  {
   "cell_type": "code",
   "execution_count": 55,
   "metadata": {
    "id": "rhlKoy_suyxz"
   },
   "outputs": [],
   "source": [
    "df_for_recommendation = df_for_recommendation.drop_duplicates(subset=['reviews_username','name'],keep='first')"
   ]
  },
  {
   "cell_type": "markdown",
   "metadata": {},
   "source": [
    "- Splitting data between train and test"
   ]
  },
  {
   "cell_type": "code",
   "execution_count": 56,
   "metadata": {
    "id": "FJCiy7q6D4UW"
   },
   "outputs": [],
   "source": [
    "from sklearn.model_selection import train_test_split\n",
    "train, test = train_test_split(df_for_recommendation, test_size=0.30, random_state=42)"
   ]
  },
  {
   "cell_type": "markdown",
   "metadata": {},
   "source": [
    "- Creating pivot to understand relation between reviews_username and product name"
   ]
  },
  {
   "cell_type": "code",
   "execution_count": 57,
   "metadata": {
    "colab": {
     "base_uri": "https://localhost:8080/",
     "height": 556
    },
    "id": "d9kwJv-1wWH5",
    "outputId": "d7cc69df-95d5-4d73-934d-55cc2556259e"
   },
   "outputs": [
    {
     "data": {
      "text/html": [
       "<div>\n",
       "<style scoped>\n",
       "    .dataframe tbody tr th:only-of-type {\n",
       "        vertical-align: middle;\n",
       "    }\n",
       "\n",
       "    .dataframe tbody tr th {\n",
       "        vertical-align: top;\n",
       "    }\n",
       "\n",
       "    .dataframe thead th {\n",
       "        text-align: right;\n",
       "    }\n",
       "</style>\n",
       "<table border=\"1\" class=\"dataframe\">\n",
       "  <thead>\n",
       "    <tr style=\"text-align: right;\">\n",
       "      <th>name</th>\n",
       "      <th>0.6 Cu. Ft. Letter A4 Size Waterproof 30 Min. Fire File Chest</th>\n",
       "      <th>100:Complete First Season (blu-Ray)</th>\n",
       "      <th>2017-2018 Brownline174 Duraflex 14-Month Planner 8 1/2 X 11 Black</th>\n",
       "      <th>2x Ultra Era with Oxi Booster, 50fl oz</th>\n",
       "      <th>42 Dual Drop Leaf Table with 2 Madrid Chairs\"</th>\n",
       "      <th>4C Grated Parmesan Cheese 100% Natural 8oz Shaker</th>\n",
       "      <th>Africa's Best No-Lye Dual Conditioning Relaxer System Super</th>\n",
       "      <th>Alberto VO5 Salon Series Smooth Plus Sleek Shampoo</th>\n",
       "      <th>Alex Cross (dvdvideo)</th>\n",
       "      <th>All,bran Complete Wheat Flakes, 18 Oz.</th>\n",
       "      <th>...</th>\n",
       "      <th>Voortman Sugar Free Fudge Chocolate Chip Cookies</th>\n",
       "      <th>Wagan Smartac 80watt Inverter With Usb</th>\n",
       "      <th>Walkers Stem Ginger Shortbread</th>\n",
       "      <th>Way Basics 3-Shelf Eco Narrow Bookcase Storage Shelf, Espresso - Formaldehyde Free - Lifetime Guarantee</th>\n",
       "      <th>Wedding Wishes Wedding Guest Book</th>\n",
       "      <th>Weleda Everon Lip Balm</th>\n",
       "      <th>Wilton Black Dots Standard Baking Cups</th>\n",
       "      <th>Windex Original Glass Cleaner Refill 67.6oz (2 Liter)</th>\n",
       "      <th>Yes To Carrots Nourishing Body Wash</th>\n",
       "      <th>Yes To Grapefruit Rejuvenating Body Wash</th>\n",
       "    </tr>\n",
       "    <tr>\n",
       "      <th>reviews_username</th>\n",
       "      <th></th>\n",
       "      <th></th>\n",
       "      <th></th>\n",
       "      <th></th>\n",
       "      <th></th>\n",
       "      <th></th>\n",
       "      <th></th>\n",
       "      <th></th>\n",
       "      <th></th>\n",
       "      <th></th>\n",
       "      <th></th>\n",
       "      <th></th>\n",
       "      <th></th>\n",
       "      <th></th>\n",
       "      <th></th>\n",
       "      <th></th>\n",
       "      <th></th>\n",
       "      <th></th>\n",
       "      <th></th>\n",
       "      <th></th>\n",
       "      <th></th>\n",
       "    </tr>\n",
       "  </thead>\n",
       "  <tbody>\n",
       "    <tr>\n",
       "      <th>00sab00</th>\n",
       "      <td>0.0</td>\n",
       "      <td>0.0</td>\n",
       "      <td>0.0</td>\n",
       "      <td>0.0</td>\n",
       "      <td>0.0</td>\n",
       "      <td>0.0</td>\n",
       "      <td>0.0</td>\n",
       "      <td>0.0</td>\n",
       "      <td>0.0</td>\n",
       "      <td>0.0</td>\n",
       "      <td>...</td>\n",
       "      <td>0.0</td>\n",
       "      <td>0.0</td>\n",
       "      <td>0.0</td>\n",
       "      <td>0.0</td>\n",
       "      <td>0.0</td>\n",
       "      <td>0.0</td>\n",
       "      <td>0.0</td>\n",
       "      <td>0.0</td>\n",
       "      <td>0.0</td>\n",
       "      <td>0.0</td>\n",
       "    </tr>\n",
       "    <tr>\n",
       "      <th>02dakota</th>\n",
       "      <td>0.0</td>\n",
       "      <td>0.0</td>\n",
       "      <td>0.0</td>\n",
       "      <td>0.0</td>\n",
       "      <td>0.0</td>\n",
       "      <td>0.0</td>\n",
       "      <td>0.0</td>\n",
       "      <td>0.0</td>\n",
       "      <td>0.0</td>\n",
       "      <td>0.0</td>\n",
       "      <td>...</td>\n",
       "      <td>0.0</td>\n",
       "      <td>0.0</td>\n",
       "      <td>0.0</td>\n",
       "      <td>0.0</td>\n",
       "      <td>0.0</td>\n",
       "      <td>0.0</td>\n",
       "      <td>0.0</td>\n",
       "      <td>0.0</td>\n",
       "      <td>0.0</td>\n",
       "      <td>0.0</td>\n",
       "    </tr>\n",
       "    <tr>\n",
       "      <th>02deuce</th>\n",
       "      <td>0.0</td>\n",
       "      <td>0.0</td>\n",
       "      <td>0.0</td>\n",
       "      <td>0.0</td>\n",
       "      <td>0.0</td>\n",
       "      <td>0.0</td>\n",
       "      <td>0.0</td>\n",
       "      <td>0.0</td>\n",
       "      <td>0.0</td>\n",
       "      <td>0.0</td>\n",
       "      <td>...</td>\n",
       "      <td>0.0</td>\n",
       "      <td>0.0</td>\n",
       "      <td>0.0</td>\n",
       "      <td>0.0</td>\n",
       "      <td>0.0</td>\n",
       "      <td>0.0</td>\n",
       "      <td>0.0</td>\n",
       "      <td>0.0</td>\n",
       "      <td>0.0</td>\n",
       "      <td>0.0</td>\n",
       "    </tr>\n",
       "    <tr>\n",
       "      <th>0325home</th>\n",
       "      <td>0.0</td>\n",
       "      <td>0.0</td>\n",
       "      <td>0.0</td>\n",
       "      <td>0.0</td>\n",
       "      <td>0.0</td>\n",
       "      <td>0.0</td>\n",
       "      <td>0.0</td>\n",
       "      <td>0.0</td>\n",
       "      <td>0.0</td>\n",
       "      <td>0.0</td>\n",
       "      <td>...</td>\n",
       "      <td>0.0</td>\n",
       "      <td>0.0</td>\n",
       "      <td>0.0</td>\n",
       "      <td>0.0</td>\n",
       "      <td>0.0</td>\n",
       "      <td>0.0</td>\n",
       "      <td>0.0</td>\n",
       "      <td>0.0</td>\n",
       "      <td>0.0</td>\n",
       "      <td>0.0</td>\n",
       "    </tr>\n",
       "    <tr>\n",
       "      <th>06stidriver</th>\n",
       "      <td>0.0</td>\n",
       "      <td>0.0</td>\n",
       "      <td>0.0</td>\n",
       "      <td>0.0</td>\n",
       "      <td>0.0</td>\n",
       "      <td>0.0</td>\n",
       "      <td>0.0</td>\n",
       "      <td>0.0</td>\n",
       "      <td>0.0</td>\n",
       "      <td>0.0</td>\n",
       "      <td>...</td>\n",
       "      <td>0.0</td>\n",
       "      <td>0.0</td>\n",
       "      <td>0.0</td>\n",
       "      <td>0.0</td>\n",
       "      <td>0.0</td>\n",
       "      <td>0.0</td>\n",
       "      <td>0.0</td>\n",
       "      <td>0.0</td>\n",
       "      <td>0.0</td>\n",
       "      <td>0.0</td>\n",
       "    </tr>\n",
       "  </tbody>\n",
       "</table>\n",
       "<p>5 rows × 237 columns</p>\n",
       "</div>"
      ],
      "text/plain": [
       "name              0.6 Cu. Ft. Letter A4 Size Waterproof 30 Min. Fire File Chest  \\\n",
       "reviews_username                                                                  \n",
       "00sab00                                                         0.0               \n",
       "02dakota                                                        0.0               \n",
       "02deuce                                                         0.0               \n",
       "0325home                                                        0.0               \n",
       "06stidriver                                                     0.0               \n",
       "\n",
       "name              100:Complete First Season (blu-Ray)  \\\n",
       "reviews_username                                        \n",
       "00sab00                                           0.0   \n",
       "02dakota                                          0.0   \n",
       "02deuce                                           0.0   \n",
       "0325home                                          0.0   \n",
       "06stidriver                                       0.0   \n",
       "\n",
       "name              2017-2018 Brownline174 Duraflex 14-Month Planner 8 1/2 X 11 Black  \\\n",
       "reviews_username                                                                      \n",
       "00sab00                                                         0.0                   \n",
       "02dakota                                                        0.0                   \n",
       "02deuce                                                         0.0                   \n",
       "0325home                                                        0.0                   \n",
       "06stidriver                                                     0.0                   \n",
       "\n",
       "name              2x Ultra Era with Oxi Booster, 50fl oz  \\\n",
       "reviews_username                                           \n",
       "00sab00                                              0.0   \n",
       "02dakota                                             0.0   \n",
       "02deuce                                              0.0   \n",
       "0325home                                             0.0   \n",
       "06stidriver                                          0.0   \n",
       "\n",
       "name              42 Dual Drop Leaf Table with 2 Madrid Chairs\"  \\\n",
       "reviews_username                                                  \n",
       "00sab00                                                     0.0   \n",
       "02dakota                                                    0.0   \n",
       "02deuce                                                     0.0   \n",
       "0325home                                                    0.0   \n",
       "06stidriver                                                 0.0   \n",
       "\n",
       "name              4C Grated Parmesan Cheese 100% Natural 8oz Shaker  \\\n",
       "reviews_username                                                      \n",
       "00sab00                                                         0.0   \n",
       "02dakota                                                        0.0   \n",
       "02deuce                                                         0.0   \n",
       "0325home                                                        0.0   \n",
       "06stidriver                                                     0.0   \n",
       "\n",
       "name              Africa's Best No-Lye Dual Conditioning Relaxer System Super  \\\n",
       "reviews_username                                                                \n",
       "00sab00                                                         0.0             \n",
       "02dakota                                                        0.0             \n",
       "02deuce                                                         0.0             \n",
       "0325home                                                        0.0             \n",
       "06stidriver                                                     0.0             \n",
       "\n",
       "name              Alberto VO5 Salon Series Smooth Plus Sleek Shampoo  \\\n",
       "reviews_username                                                       \n",
       "00sab00                                                         0.0    \n",
       "02dakota                                                        0.0    \n",
       "02deuce                                                         0.0    \n",
       "0325home                                                        0.0    \n",
       "06stidriver                                                     0.0    \n",
       "\n",
       "name              Alex Cross (dvdvideo)  \\\n",
       "reviews_username                          \n",
       "00sab00                             0.0   \n",
       "02dakota                            0.0   \n",
       "02deuce                             0.0   \n",
       "0325home                            0.0   \n",
       "06stidriver                         0.0   \n",
       "\n",
       "name              All,bran Complete Wheat Flakes, 18 Oz.  ...  \\\n",
       "reviews_username                                          ...   \n",
       "00sab00                                              0.0  ...   \n",
       "02dakota                                             0.0  ...   \n",
       "02deuce                                              0.0  ...   \n",
       "0325home                                             0.0  ...   \n",
       "06stidriver                                          0.0  ...   \n",
       "\n",
       "name              Voortman Sugar Free Fudge Chocolate Chip Cookies  \\\n",
       "reviews_username                                                     \n",
       "00sab00                                                        0.0   \n",
       "02dakota                                                       0.0   \n",
       "02deuce                                                        0.0   \n",
       "0325home                                                       0.0   \n",
       "06stidriver                                                    0.0   \n",
       "\n",
       "name              Wagan Smartac 80watt Inverter With Usb  \\\n",
       "reviews_username                                           \n",
       "00sab00                                              0.0   \n",
       "02dakota                                             0.0   \n",
       "02deuce                                              0.0   \n",
       "0325home                                             0.0   \n",
       "06stidriver                                          0.0   \n",
       "\n",
       "name              Walkers Stem Ginger Shortbread  \\\n",
       "reviews_username                                   \n",
       "00sab00                                      0.0   \n",
       "02dakota                                     0.0   \n",
       "02deuce                                      0.0   \n",
       "0325home                                     0.0   \n",
       "06stidriver                                  0.0   \n",
       "\n",
       "name              Way Basics 3-Shelf Eco Narrow Bookcase Storage Shelf, Espresso - Formaldehyde Free - Lifetime Guarantee  \\\n",
       "reviews_username                                                                                                            \n",
       "00sab00                                                         0.0                                                         \n",
       "02dakota                                                        0.0                                                         \n",
       "02deuce                                                         0.0                                                         \n",
       "0325home                                                        0.0                                                         \n",
       "06stidriver                                                     0.0                                                         \n",
       "\n",
       "name              Wedding Wishes Wedding Guest Book  Weleda Everon Lip Balm  \\\n",
       "reviews_username                                                              \n",
       "00sab00                                         0.0                     0.0   \n",
       "02dakota                                        0.0                     0.0   \n",
       "02deuce                                         0.0                     0.0   \n",
       "0325home                                        0.0                     0.0   \n",
       "06stidriver                                     0.0                     0.0   \n",
       "\n",
       "name              Wilton Black Dots Standard Baking Cups  \\\n",
       "reviews_username                                           \n",
       "00sab00                                              0.0   \n",
       "02dakota                                             0.0   \n",
       "02deuce                                              0.0   \n",
       "0325home                                             0.0   \n",
       "06stidriver                                          0.0   \n",
       "\n",
       "name              Windex Original Glass Cleaner Refill 67.6oz (2 Liter)  \\\n",
       "reviews_username                                                          \n",
       "00sab00                                                         0.0       \n",
       "02dakota                                                        0.0       \n",
       "02deuce                                                         0.0       \n",
       "0325home                                                        0.0       \n",
       "06stidriver                                                     0.0       \n",
       "\n",
       "name              Yes To Carrots Nourishing Body Wash  \\\n",
       "reviews_username                                        \n",
       "00sab00                                           0.0   \n",
       "02dakota                                          0.0   \n",
       "02deuce                                           0.0   \n",
       "0325home                                          0.0   \n",
       "06stidriver                                       0.0   \n",
       "\n",
       "name              Yes To Grapefruit Rejuvenating Body Wash  \n",
       "reviews_username                                            \n",
       "00sab00                                                0.0  \n",
       "02dakota                                               0.0  \n",
       "02deuce                                                0.0  \n",
       "0325home                                               0.0  \n",
       "06stidriver                                            0.0  \n",
       "\n",
       "[5 rows x 237 columns]"
      ]
     },
     "execution_count": 57,
     "metadata": {},
     "output_type": "execute_result"
    }
   ],
   "source": [
    "df_pivot = train.pivot(\n",
    "    index='reviews_username',\n",
    "    columns='name',\n",
    "    values='reviews_rating').fillna(0)\n",
    "df_pivot.head()"
   ]
  },
  {
   "cell_type": "markdown",
   "metadata": {},
   "source": [
    "### Creating dummy train & dummy test dataset\n"
   ]
  },
  {
   "cell_type": "code",
   "execution_count": 58,
   "metadata": {
    "id": "kBLQtWQjwkVL"
   },
   "outputs": [],
   "source": [
    "\n",
    "dummy_train = train.copy()\n",
    "dummy_train['reviews_rating'] = dummy_train['reviews_rating'].apply(lambda x: 0 if x>0 else 1)"
   ]
  },
  {
   "cell_type": "code",
   "execution_count": 59,
   "metadata": {
    "id": "zZOzN1poxhYm"
   },
   "outputs": [],
   "source": [
    "dummy_train = dummy_train.pivot(\n",
    "    index='reviews_username',\n",
    "    columns='name',\n",
    "    values='reviews_rating'\n",
    ").fillna(1)"
   ]
  },
  {
   "cell_type": "code",
   "execution_count": 60,
   "metadata": {
    "colab": {
     "base_uri": "https://localhost:8080/",
     "height": 556
    },
    "id": "xxxqBNYDx9Vw",
    "outputId": "7414bf30-80aa-4ddd-8495-4653bb4ca1cf"
   },
   "outputs": [
    {
     "data": {
      "text/html": [
       "<div>\n",
       "<style scoped>\n",
       "    .dataframe tbody tr th:only-of-type {\n",
       "        vertical-align: middle;\n",
       "    }\n",
       "\n",
       "    .dataframe tbody tr th {\n",
       "        vertical-align: top;\n",
       "    }\n",
       "\n",
       "    .dataframe thead th {\n",
       "        text-align: right;\n",
       "    }\n",
       "</style>\n",
       "<table border=\"1\" class=\"dataframe\">\n",
       "  <thead>\n",
       "    <tr style=\"text-align: right;\">\n",
       "      <th>name</th>\n",
       "      <th>0.6 Cu. Ft. Letter A4 Size Waterproof 30 Min. Fire File Chest</th>\n",
       "      <th>100:Complete First Season (blu-Ray)</th>\n",
       "      <th>2017-2018 Brownline174 Duraflex 14-Month Planner 8 1/2 X 11 Black</th>\n",
       "      <th>2x Ultra Era with Oxi Booster, 50fl oz</th>\n",
       "      <th>42 Dual Drop Leaf Table with 2 Madrid Chairs\"</th>\n",
       "      <th>4C Grated Parmesan Cheese 100% Natural 8oz Shaker</th>\n",
       "      <th>Africa's Best No-Lye Dual Conditioning Relaxer System Super</th>\n",
       "      <th>Alberto VO5 Salon Series Smooth Plus Sleek Shampoo</th>\n",
       "      <th>Alex Cross (dvdvideo)</th>\n",
       "      <th>All,bran Complete Wheat Flakes, 18 Oz.</th>\n",
       "      <th>...</th>\n",
       "      <th>Voortman Sugar Free Fudge Chocolate Chip Cookies</th>\n",
       "      <th>Wagan Smartac 80watt Inverter With Usb</th>\n",
       "      <th>Walkers Stem Ginger Shortbread</th>\n",
       "      <th>Way Basics 3-Shelf Eco Narrow Bookcase Storage Shelf, Espresso - Formaldehyde Free - Lifetime Guarantee</th>\n",
       "      <th>Wedding Wishes Wedding Guest Book</th>\n",
       "      <th>Weleda Everon Lip Balm</th>\n",
       "      <th>Wilton Black Dots Standard Baking Cups</th>\n",
       "      <th>Windex Original Glass Cleaner Refill 67.6oz (2 Liter)</th>\n",
       "      <th>Yes To Carrots Nourishing Body Wash</th>\n",
       "      <th>Yes To Grapefruit Rejuvenating Body Wash</th>\n",
       "    </tr>\n",
       "    <tr>\n",
       "      <th>reviews_username</th>\n",
       "      <th></th>\n",
       "      <th></th>\n",
       "      <th></th>\n",
       "      <th></th>\n",
       "      <th></th>\n",
       "      <th></th>\n",
       "      <th></th>\n",
       "      <th></th>\n",
       "      <th></th>\n",
       "      <th></th>\n",
       "      <th></th>\n",
       "      <th></th>\n",
       "      <th></th>\n",
       "      <th></th>\n",
       "      <th></th>\n",
       "      <th></th>\n",
       "      <th></th>\n",
       "      <th></th>\n",
       "      <th></th>\n",
       "      <th></th>\n",
       "      <th></th>\n",
       "    </tr>\n",
       "  </thead>\n",
       "  <tbody>\n",
       "    <tr>\n",
       "      <th>00sab00</th>\n",
       "      <td>1.0</td>\n",
       "      <td>1.0</td>\n",
       "      <td>1.0</td>\n",
       "      <td>1.0</td>\n",
       "      <td>1.0</td>\n",
       "      <td>1.0</td>\n",
       "      <td>1.0</td>\n",
       "      <td>1.0</td>\n",
       "      <td>1.0</td>\n",
       "      <td>1.0</td>\n",
       "      <td>...</td>\n",
       "      <td>1.0</td>\n",
       "      <td>1.0</td>\n",
       "      <td>1.0</td>\n",
       "      <td>1.0</td>\n",
       "      <td>1.0</td>\n",
       "      <td>1.0</td>\n",
       "      <td>1.0</td>\n",
       "      <td>1.0</td>\n",
       "      <td>1.0</td>\n",
       "      <td>1.0</td>\n",
       "    </tr>\n",
       "    <tr>\n",
       "      <th>02dakota</th>\n",
       "      <td>1.0</td>\n",
       "      <td>1.0</td>\n",
       "      <td>1.0</td>\n",
       "      <td>1.0</td>\n",
       "      <td>1.0</td>\n",
       "      <td>1.0</td>\n",
       "      <td>1.0</td>\n",
       "      <td>1.0</td>\n",
       "      <td>1.0</td>\n",
       "      <td>1.0</td>\n",
       "      <td>...</td>\n",
       "      <td>1.0</td>\n",
       "      <td>1.0</td>\n",
       "      <td>1.0</td>\n",
       "      <td>1.0</td>\n",
       "      <td>1.0</td>\n",
       "      <td>1.0</td>\n",
       "      <td>1.0</td>\n",
       "      <td>1.0</td>\n",
       "      <td>1.0</td>\n",
       "      <td>1.0</td>\n",
       "    </tr>\n",
       "    <tr>\n",
       "      <th>02deuce</th>\n",
       "      <td>1.0</td>\n",
       "      <td>1.0</td>\n",
       "      <td>1.0</td>\n",
       "      <td>1.0</td>\n",
       "      <td>1.0</td>\n",
       "      <td>1.0</td>\n",
       "      <td>1.0</td>\n",
       "      <td>1.0</td>\n",
       "      <td>1.0</td>\n",
       "      <td>1.0</td>\n",
       "      <td>...</td>\n",
       "      <td>1.0</td>\n",
       "      <td>1.0</td>\n",
       "      <td>1.0</td>\n",
       "      <td>1.0</td>\n",
       "      <td>1.0</td>\n",
       "      <td>1.0</td>\n",
       "      <td>1.0</td>\n",
       "      <td>1.0</td>\n",
       "      <td>1.0</td>\n",
       "      <td>1.0</td>\n",
       "    </tr>\n",
       "    <tr>\n",
       "      <th>0325home</th>\n",
       "      <td>1.0</td>\n",
       "      <td>1.0</td>\n",
       "      <td>1.0</td>\n",
       "      <td>1.0</td>\n",
       "      <td>1.0</td>\n",
       "      <td>1.0</td>\n",
       "      <td>1.0</td>\n",
       "      <td>1.0</td>\n",
       "      <td>1.0</td>\n",
       "      <td>1.0</td>\n",
       "      <td>...</td>\n",
       "      <td>1.0</td>\n",
       "      <td>1.0</td>\n",
       "      <td>1.0</td>\n",
       "      <td>1.0</td>\n",
       "      <td>1.0</td>\n",
       "      <td>1.0</td>\n",
       "      <td>1.0</td>\n",
       "      <td>1.0</td>\n",
       "      <td>1.0</td>\n",
       "      <td>1.0</td>\n",
       "    </tr>\n",
       "    <tr>\n",
       "      <th>06stidriver</th>\n",
       "      <td>1.0</td>\n",
       "      <td>1.0</td>\n",
       "      <td>1.0</td>\n",
       "      <td>1.0</td>\n",
       "      <td>1.0</td>\n",
       "      <td>1.0</td>\n",
       "      <td>1.0</td>\n",
       "      <td>1.0</td>\n",
       "      <td>1.0</td>\n",
       "      <td>1.0</td>\n",
       "      <td>...</td>\n",
       "      <td>1.0</td>\n",
       "      <td>1.0</td>\n",
       "      <td>1.0</td>\n",
       "      <td>1.0</td>\n",
       "      <td>1.0</td>\n",
       "      <td>1.0</td>\n",
       "      <td>1.0</td>\n",
       "      <td>1.0</td>\n",
       "      <td>1.0</td>\n",
       "      <td>1.0</td>\n",
       "    </tr>\n",
       "  </tbody>\n",
       "</table>\n",
       "<p>5 rows × 237 columns</p>\n",
       "</div>"
      ],
      "text/plain": [
       "name              0.6 Cu. Ft. Letter A4 Size Waterproof 30 Min. Fire File Chest  \\\n",
       "reviews_username                                                                  \n",
       "00sab00                                                         1.0               \n",
       "02dakota                                                        1.0               \n",
       "02deuce                                                         1.0               \n",
       "0325home                                                        1.0               \n",
       "06stidriver                                                     1.0               \n",
       "\n",
       "name              100:Complete First Season (blu-Ray)  \\\n",
       "reviews_username                                        \n",
       "00sab00                                           1.0   \n",
       "02dakota                                          1.0   \n",
       "02deuce                                           1.0   \n",
       "0325home                                          1.0   \n",
       "06stidriver                                       1.0   \n",
       "\n",
       "name              2017-2018 Brownline174 Duraflex 14-Month Planner 8 1/2 X 11 Black  \\\n",
       "reviews_username                                                                      \n",
       "00sab00                                                         1.0                   \n",
       "02dakota                                                        1.0                   \n",
       "02deuce                                                         1.0                   \n",
       "0325home                                                        1.0                   \n",
       "06stidriver                                                     1.0                   \n",
       "\n",
       "name              2x Ultra Era with Oxi Booster, 50fl oz  \\\n",
       "reviews_username                                           \n",
       "00sab00                                              1.0   \n",
       "02dakota                                             1.0   \n",
       "02deuce                                              1.0   \n",
       "0325home                                             1.0   \n",
       "06stidriver                                          1.0   \n",
       "\n",
       "name              42 Dual Drop Leaf Table with 2 Madrid Chairs\"  \\\n",
       "reviews_username                                                  \n",
       "00sab00                                                     1.0   \n",
       "02dakota                                                    1.0   \n",
       "02deuce                                                     1.0   \n",
       "0325home                                                    1.0   \n",
       "06stidriver                                                 1.0   \n",
       "\n",
       "name              4C Grated Parmesan Cheese 100% Natural 8oz Shaker  \\\n",
       "reviews_username                                                      \n",
       "00sab00                                                         1.0   \n",
       "02dakota                                                        1.0   \n",
       "02deuce                                                         1.0   \n",
       "0325home                                                        1.0   \n",
       "06stidriver                                                     1.0   \n",
       "\n",
       "name              Africa's Best No-Lye Dual Conditioning Relaxer System Super  \\\n",
       "reviews_username                                                                \n",
       "00sab00                                                         1.0             \n",
       "02dakota                                                        1.0             \n",
       "02deuce                                                         1.0             \n",
       "0325home                                                        1.0             \n",
       "06stidriver                                                     1.0             \n",
       "\n",
       "name              Alberto VO5 Salon Series Smooth Plus Sleek Shampoo  \\\n",
       "reviews_username                                                       \n",
       "00sab00                                                         1.0    \n",
       "02dakota                                                        1.0    \n",
       "02deuce                                                         1.0    \n",
       "0325home                                                        1.0    \n",
       "06stidriver                                                     1.0    \n",
       "\n",
       "name              Alex Cross (dvdvideo)  \\\n",
       "reviews_username                          \n",
       "00sab00                             1.0   \n",
       "02dakota                            1.0   \n",
       "02deuce                             1.0   \n",
       "0325home                            1.0   \n",
       "06stidriver                         1.0   \n",
       "\n",
       "name              All,bran Complete Wheat Flakes, 18 Oz.  ...  \\\n",
       "reviews_username                                          ...   \n",
       "00sab00                                              1.0  ...   \n",
       "02dakota                                             1.0  ...   \n",
       "02deuce                                              1.0  ...   \n",
       "0325home                                             1.0  ...   \n",
       "06stidriver                                          1.0  ...   \n",
       "\n",
       "name              Voortman Sugar Free Fudge Chocolate Chip Cookies  \\\n",
       "reviews_username                                                     \n",
       "00sab00                                                        1.0   \n",
       "02dakota                                                       1.0   \n",
       "02deuce                                                        1.0   \n",
       "0325home                                                       1.0   \n",
       "06stidriver                                                    1.0   \n",
       "\n",
       "name              Wagan Smartac 80watt Inverter With Usb  \\\n",
       "reviews_username                                           \n",
       "00sab00                                              1.0   \n",
       "02dakota                                             1.0   \n",
       "02deuce                                              1.0   \n",
       "0325home                                             1.0   \n",
       "06stidriver                                          1.0   \n",
       "\n",
       "name              Walkers Stem Ginger Shortbread  \\\n",
       "reviews_username                                   \n",
       "00sab00                                      1.0   \n",
       "02dakota                                     1.0   \n",
       "02deuce                                      1.0   \n",
       "0325home                                     1.0   \n",
       "06stidriver                                  1.0   \n",
       "\n",
       "name              Way Basics 3-Shelf Eco Narrow Bookcase Storage Shelf, Espresso - Formaldehyde Free - Lifetime Guarantee  \\\n",
       "reviews_username                                                                                                            \n",
       "00sab00                                                         1.0                                                         \n",
       "02dakota                                                        1.0                                                         \n",
       "02deuce                                                         1.0                                                         \n",
       "0325home                                                        1.0                                                         \n",
       "06stidriver                                                     1.0                                                         \n",
       "\n",
       "name              Wedding Wishes Wedding Guest Book  Weleda Everon Lip Balm  \\\n",
       "reviews_username                                                              \n",
       "00sab00                                         1.0                     1.0   \n",
       "02dakota                                        1.0                     1.0   \n",
       "02deuce                                         1.0                     1.0   \n",
       "0325home                                        1.0                     1.0   \n",
       "06stidriver                                     1.0                     1.0   \n",
       "\n",
       "name              Wilton Black Dots Standard Baking Cups  \\\n",
       "reviews_username                                           \n",
       "00sab00                                              1.0   \n",
       "02dakota                                             1.0   \n",
       "02deuce                                              1.0   \n",
       "0325home                                             1.0   \n",
       "06stidriver                                          1.0   \n",
       "\n",
       "name              Windex Original Glass Cleaner Refill 67.6oz (2 Liter)  \\\n",
       "reviews_username                                                          \n",
       "00sab00                                                         1.0       \n",
       "02dakota                                                        1.0       \n",
       "02deuce                                                         1.0       \n",
       "0325home                                                        1.0       \n",
       "06stidriver                                                     1.0       \n",
       "\n",
       "name              Yes To Carrots Nourishing Body Wash  \\\n",
       "reviews_username                                        \n",
       "00sab00                                           1.0   \n",
       "02dakota                                          1.0   \n",
       "02deuce                                           1.0   \n",
       "0325home                                          1.0   \n",
       "06stidriver                                       1.0   \n",
       "\n",
       "name              Yes To Grapefruit Rejuvenating Body Wash  \n",
       "reviews_username                                            \n",
       "00sab00                                                1.0  \n",
       "02dakota                                               1.0  \n",
       "02deuce                                                1.0  \n",
       "0325home                                               1.0  \n",
       "06stidriver                                            1.0  \n",
       "\n",
       "[5 rows x 237 columns]"
      ]
     },
     "execution_count": 60,
     "metadata": {},
     "output_type": "execute_result"
    }
   ],
   "source": [
    "dummy_train.head()"
   ]
  },
  {
   "cell_type": "code",
   "execution_count": 61,
   "metadata": {
    "colab": {
     "base_uri": "https://localhost:8080/",
     "height": 556
    },
    "id": "oIkvcKZLx_M0",
    "outputId": "fad60ce6-7e7d-42ec-ba66-2ac9b5e12eca"
   },
   "outputs": [
    {
     "data": {
      "text/html": [
       "<div>\n",
       "<style scoped>\n",
       "    .dataframe tbody tr th:only-of-type {\n",
       "        vertical-align: middle;\n",
       "    }\n",
       "\n",
       "    .dataframe tbody tr th {\n",
       "        vertical-align: top;\n",
       "    }\n",
       "\n",
       "    .dataframe thead th {\n",
       "        text-align: right;\n",
       "    }\n",
       "</style>\n",
       "<table border=\"1\" class=\"dataframe\">\n",
       "  <thead>\n",
       "    <tr style=\"text-align: right;\">\n",
       "      <th>name</th>\n",
       "      <th>0.6 Cu. Ft. Letter A4 Size Waterproof 30 Min. Fire File Chest</th>\n",
       "      <th>100:Complete First Season (blu-Ray)</th>\n",
       "      <th>2017-2018 Brownline174 Duraflex 14-Month Planner 8 1/2 X 11 Black</th>\n",
       "      <th>2x Ultra Era with Oxi Booster, 50fl oz</th>\n",
       "      <th>42 Dual Drop Leaf Table with 2 Madrid Chairs\"</th>\n",
       "      <th>4C Grated Parmesan Cheese 100% Natural 8oz Shaker</th>\n",
       "      <th>Africa's Best No-Lye Dual Conditioning Relaxer System Super</th>\n",
       "      <th>Alberto VO5 Salon Series Smooth Plus Sleek Shampoo</th>\n",
       "      <th>Alex Cross (dvdvideo)</th>\n",
       "      <th>All,bran Complete Wheat Flakes, 18 Oz.</th>\n",
       "      <th>...</th>\n",
       "      <th>Voortman Sugar Free Fudge Chocolate Chip Cookies</th>\n",
       "      <th>Wagan Smartac 80watt Inverter With Usb</th>\n",
       "      <th>Walkers Stem Ginger Shortbread</th>\n",
       "      <th>Way Basics 3-Shelf Eco Narrow Bookcase Storage Shelf, Espresso - Formaldehyde Free - Lifetime Guarantee</th>\n",
       "      <th>Wedding Wishes Wedding Guest Book</th>\n",
       "      <th>Weleda Everon Lip Balm</th>\n",
       "      <th>Wilton Black Dots Standard Baking Cups</th>\n",
       "      <th>Windex Original Glass Cleaner Refill 67.6oz (2 Liter)</th>\n",
       "      <th>Yes To Carrots Nourishing Body Wash</th>\n",
       "      <th>Yes To Grapefruit Rejuvenating Body Wash</th>\n",
       "    </tr>\n",
       "    <tr>\n",
       "      <th>reviews_username</th>\n",
       "      <th></th>\n",
       "      <th></th>\n",
       "      <th></th>\n",
       "      <th></th>\n",
       "      <th></th>\n",
       "      <th></th>\n",
       "      <th></th>\n",
       "      <th></th>\n",
       "      <th></th>\n",
       "      <th></th>\n",
       "      <th></th>\n",
       "      <th></th>\n",
       "      <th></th>\n",
       "      <th></th>\n",
       "      <th></th>\n",
       "      <th></th>\n",
       "      <th></th>\n",
       "      <th></th>\n",
       "      <th></th>\n",
       "      <th></th>\n",
       "      <th></th>\n",
       "    </tr>\n",
       "  </thead>\n",
       "  <tbody>\n",
       "    <tr>\n",
       "      <th>00sab00</th>\n",
       "      <td>NaN</td>\n",
       "      <td>NaN</td>\n",
       "      <td>NaN</td>\n",
       "      <td>NaN</td>\n",
       "      <td>NaN</td>\n",
       "      <td>NaN</td>\n",
       "      <td>NaN</td>\n",
       "      <td>NaN</td>\n",
       "      <td>NaN</td>\n",
       "      <td>NaN</td>\n",
       "      <td>...</td>\n",
       "      <td>NaN</td>\n",
       "      <td>NaN</td>\n",
       "      <td>NaN</td>\n",
       "      <td>NaN</td>\n",
       "      <td>NaN</td>\n",
       "      <td>NaN</td>\n",
       "      <td>NaN</td>\n",
       "      <td>NaN</td>\n",
       "      <td>NaN</td>\n",
       "      <td>NaN</td>\n",
       "    </tr>\n",
       "    <tr>\n",
       "      <th>02dakota</th>\n",
       "      <td>NaN</td>\n",
       "      <td>NaN</td>\n",
       "      <td>NaN</td>\n",
       "      <td>NaN</td>\n",
       "      <td>NaN</td>\n",
       "      <td>NaN</td>\n",
       "      <td>NaN</td>\n",
       "      <td>NaN</td>\n",
       "      <td>NaN</td>\n",
       "      <td>NaN</td>\n",
       "      <td>...</td>\n",
       "      <td>NaN</td>\n",
       "      <td>NaN</td>\n",
       "      <td>NaN</td>\n",
       "      <td>NaN</td>\n",
       "      <td>NaN</td>\n",
       "      <td>NaN</td>\n",
       "      <td>NaN</td>\n",
       "      <td>NaN</td>\n",
       "      <td>NaN</td>\n",
       "      <td>NaN</td>\n",
       "    </tr>\n",
       "    <tr>\n",
       "      <th>02deuce</th>\n",
       "      <td>NaN</td>\n",
       "      <td>NaN</td>\n",
       "      <td>NaN</td>\n",
       "      <td>NaN</td>\n",
       "      <td>NaN</td>\n",
       "      <td>NaN</td>\n",
       "      <td>NaN</td>\n",
       "      <td>NaN</td>\n",
       "      <td>NaN</td>\n",
       "      <td>NaN</td>\n",
       "      <td>...</td>\n",
       "      <td>NaN</td>\n",
       "      <td>NaN</td>\n",
       "      <td>NaN</td>\n",
       "      <td>NaN</td>\n",
       "      <td>NaN</td>\n",
       "      <td>NaN</td>\n",
       "      <td>NaN</td>\n",
       "      <td>NaN</td>\n",
       "      <td>NaN</td>\n",
       "      <td>NaN</td>\n",
       "    </tr>\n",
       "    <tr>\n",
       "      <th>0325home</th>\n",
       "      <td>NaN</td>\n",
       "      <td>NaN</td>\n",
       "      <td>NaN</td>\n",
       "      <td>NaN</td>\n",
       "      <td>NaN</td>\n",
       "      <td>NaN</td>\n",
       "      <td>NaN</td>\n",
       "      <td>NaN</td>\n",
       "      <td>NaN</td>\n",
       "      <td>NaN</td>\n",
       "      <td>...</td>\n",
       "      <td>NaN</td>\n",
       "      <td>NaN</td>\n",
       "      <td>NaN</td>\n",
       "      <td>NaN</td>\n",
       "      <td>NaN</td>\n",
       "      <td>NaN</td>\n",
       "      <td>NaN</td>\n",
       "      <td>NaN</td>\n",
       "      <td>NaN</td>\n",
       "      <td>NaN</td>\n",
       "    </tr>\n",
       "    <tr>\n",
       "      <th>06stidriver</th>\n",
       "      <td>NaN</td>\n",
       "      <td>NaN</td>\n",
       "      <td>NaN</td>\n",
       "      <td>NaN</td>\n",
       "      <td>NaN</td>\n",
       "      <td>NaN</td>\n",
       "      <td>NaN</td>\n",
       "      <td>NaN</td>\n",
       "      <td>NaN</td>\n",
       "      <td>NaN</td>\n",
       "      <td>...</td>\n",
       "      <td>NaN</td>\n",
       "      <td>NaN</td>\n",
       "      <td>NaN</td>\n",
       "      <td>NaN</td>\n",
       "      <td>NaN</td>\n",
       "      <td>NaN</td>\n",
       "      <td>NaN</td>\n",
       "      <td>NaN</td>\n",
       "      <td>NaN</td>\n",
       "      <td>NaN</td>\n",
       "    </tr>\n",
       "  </tbody>\n",
       "</table>\n",
       "<p>5 rows × 237 columns</p>\n",
       "</div>"
      ],
      "text/plain": [
       "name              0.6 Cu. Ft. Letter A4 Size Waterproof 30 Min. Fire File Chest  \\\n",
       "reviews_username                                                                  \n",
       "00sab00                                                         NaN               \n",
       "02dakota                                                        NaN               \n",
       "02deuce                                                         NaN               \n",
       "0325home                                                        NaN               \n",
       "06stidriver                                                     NaN               \n",
       "\n",
       "name              100:Complete First Season (blu-Ray)  \\\n",
       "reviews_username                                        \n",
       "00sab00                                           NaN   \n",
       "02dakota                                          NaN   \n",
       "02deuce                                           NaN   \n",
       "0325home                                          NaN   \n",
       "06stidriver                                       NaN   \n",
       "\n",
       "name              2017-2018 Brownline174 Duraflex 14-Month Planner 8 1/2 X 11 Black  \\\n",
       "reviews_username                                                                      \n",
       "00sab00                                                         NaN                   \n",
       "02dakota                                                        NaN                   \n",
       "02deuce                                                         NaN                   \n",
       "0325home                                                        NaN                   \n",
       "06stidriver                                                     NaN                   \n",
       "\n",
       "name              2x Ultra Era with Oxi Booster, 50fl oz  \\\n",
       "reviews_username                                           \n",
       "00sab00                                              NaN   \n",
       "02dakota                                             NaN   \n",
       "02deuce                                              NaN   \n",
       "0325home                                             NaN   \n",
       "06stidriver                                          NaN   \n",
       "\n",
       "name              42 Dual Drop Leaf Table with 2 Madrid Chairs\"  \\\n",
       "reviews_username                                                  \n",
       "00sab00                                                     NaN   \n",
       "02dakota                                                    NaN   \n",
       "02deuce                                                     NaN   \n",
       "0325home                                                    NaN   \n",
       "06stidriver                                                 NaN   \n",
       "\n",
       "name              4C Grated Parmesan Cheese 100% Natural 8oz Shaker  \\\n",
       "reviews_username                                                      \n",
       "00sab00                                                         NaN   \n",
       "02dakota                                                        NaN   \n",
       "02deuce                                                         NaN   \n",
       "0325home                                                        NaN   \n",
       "06stidriver                                                     NaN   \n",
       "\n",
       "name              Africa's Best No-Lye Dual Conditioning Relaxer System Super  \\\n",
       "reviews_username                                                                \n",
       "00sab00                                                         NaN             \n",
       "02dakota                                                        NaN             \n",
       "02deuce                                                         NaN             \n",
       "0325home                                                        NaN             \n",
       "06stidriver                                                     NaN             \n",
       "\n",
       "name              Alberto VO5 Salon Series Smooth Plus Sleek Shampoo  \\\n",
       "reviews_username                                                       \n",
       "00sab00                                                         NaN    \n",
       "02dakota                                                        NaN    \n",
       "02deuce                                                         NaN    \n",
       "0325home                                                        NaN    \n",
       "06stidriver                                                     NaN    \n",
       "\n",
       "name              Alex Cross (dvdvideo)  \\\n",
       "reviews_username                          \n",
       "00sab00                             NaN   \n",
       "02dakota                            NaN   \n",
       "02deuce                             NaN   \n",
       "0325home                            NaN   \n",
       "06stidriver                         NaN   \n",
       "\n",
       "name              All,bran Complete Wheat Flakes, 18 Oz.  ...  \\\n",
       "reviews_username                                          ...   \n",
       "00sab00                                              NaN  ...   \n",
       "02dakota                                             NaN  ...   \n",
       "02deuce                                              NaN  ...   \n",
       "0325home                                             NaN  ...   \n",
       "06stidriver                                          NaN  ...   \n",
       "\n",
       "name              Voortman Sugar Free Fudge Chocolate Chip Cookies  \\\n",
       "reviews_username                                                     \n",
       "00sab00                                                        NaN   \n",
       "02dakota                                                       NaN   \n",
       "02deuce                                                        NaN   \n",
       "0325home                                                       NaN   \n",
       "06stidriver                                                    NaN   \n",
       "\n",
       "name              Wagan Smartac 80watt Inverter With Usb  \\\n",
       "reviews_username                                           \n",
       "00sab00                                              NaN   \n",
       "02dakota                                             NaN   \n",
       "02deuce                                              NaN   \n",
       "0325home                                             NaN   \n",
       "06stidriver                                          NaN   \n",
       "\n",
       "name              Walkers Stem Ginger Shortbread  \\\n",
       "reviews_username                                   \n",
       "00sab00                                      NaN   \n",
       "02dakota                                     NaN   \n",
       "02deuce                                      NaN   \n",
       "0325home                                     NaN   \n",
       "06stidriver                                  NaN   \n",
       "\n",
       "name              Way Basics 3-Shelf Eco Narrow Bookcase Storage Shelf, Espresso - Formaldehyde Free - Lifetime Guarantee  \\\n",
       "reviews_username                                                                                                            \n",
       "00sab00                                                         NaN                                                         \n",
       "02dakota                                                        NaN                                                         \n",
       "02deuce                                                         NaN                                                         \n",
       "0325home                                                        NaN                                                         \n",
       "06stidriver                                                     NaN                                                         \n",
       "\n",
       "name              Wedding Wishes Wedding Guest Book  Weleda Everon Lip Balm  \\\n",
       "reviews_username                                                              \n",
       "00sab00                                         NaN                     NaN   \n",
       "02dakota                                        NaN                     NaN   \n",
       "02deuce                                         NaN                     NaN   \n",
       "0325home                                        NaN                     NaN   \n",
       "06stidriver                                     NaN                     NaN   \n",
       "\n",
       "name              Wilton Black Dots Standard Baking Cups  \\\n",
       "reviews_username                                           \n",
       "00sab00                                              NaN   \n",
       "02dakota                                             NaN   \n",
       "02deuce                                              NaN   \n",
       "0325home                                             NaN   \n",
       "06stidriver                                          NaN   \n",
       "\n",
       "name              Windex Original Glass Cleaner Refill 67.6oz (2 Liter)  \\\n",
       "reviews_username                                                          \n",
       "00sab00                                                         NaN       \n",
       "02dakota                                                        NaN       \n",
       "02deuce                                                         NaN       \n",
       "0325home                                                        NaN       \n",
       "06stidriver                                                     NaN       \n",
       "\n",
       "name              Yes To Carrots Nourishing Body Wash  \\\n",
       "reviews_username                                        \n",
       "00sab00                                           NaN   \n",
       "02dakota                                          NaN   \n",
       "02deuce                                           NaN   \n",
       "0325home                                          NaN   \n",
       "06stidriver                                       NaN   \n",
       "\n",
       "name              Yes To Grapefruit Rejuvenating Body Wash  \n",
       "reviews_username                                            \n",
       "00sab00                                                NaN  \n",
       "02dakota                                               NaN  \n",
       "02deuce                                                NaN  \n",
       "0325home                                               NaN  \n",
       "06stidriver                                            NaN  \n",
       "\n",
       "[5 rows x 237 columns]"
      ]
     },
     "execution_count": 61,
     "metadata": {},
     "output_type": "execute_result"
    }
   ],
   "source": [
    "df_pivot = train.pivot(\n",
    "    index='reviews_username',\n",
    "    columns='name',\n",
    "    values='reviews_rating'\n",
    ")\n",
    "df_pivot.head()"
   ]
  },
  {
   "cell_type": "markdown",
   "metadata": {},
   "source": [
    "- Using adjusted cosine similarity"
   ]
  },
  {
   "cell_type": "code",
   "execution_count": 62,
   "metadata": {
    "id": "kSzm7YbeykNO"
   },
   "outputs": [],
   "source": [
    "\n",
    "mean = np.nanmean(df_pivot, axis=1)\n",
    "df_subtracted = (df_pivot.T-mean).T"
   ]
  },
  {
   "cell_type": "code",
   "execution_count": 63,
   "metadata": {
    "colab": {
     "base_uri": "https://localhost:8080/",
     "height": 556
    },
    "id": "i4LgrFvEymkO",
    "outputId": "291ac359-329c-4505-f015-72b53b55ac4c"
   },
   "outputs": [
    {
     "data": {
      "text/html": [
       "<div>\n",
       "<style scoped>\n",
       "    .dataframe tbody tr th:only-of-type {\n",
       "        vertical-align: middle;\n",
       "    }\n",
       "\n",
       "    .dataframe tbody tr th {\n",
       "        vertical-align: top;\n",
       "    }\n",
       "\n",
       "    .dataframe thead th {\n",
       "        text-align: right;\n",
       "    }\n",
       "</style>\n",
       "<table border=\"1\" class=\"dataframe\">\n",
       "  <thead>\n",
       "    <tr style=\"text-align: right;\">\n",
       "      <th>name</th>\n",
       "      <th>0.6 Cu. Ft. Letter A4 Size Waterproof 30 Min. Fire File Chest</th>\n",
       "      <th>100:Complete First Season (blu-Ray)</th>\n",
       "      <th>2017-2018 Brownline174 Duraflex 14-Month Planner 8 1/2 X 11 Black</th>\n",
       "      <th>2x Ultra Era with Oxi Booster, 50fl oz</th>\n",
       "      <th>42 Dual Drop Leaf Table with 2 Madrid Chairs\"</th>\n",
       "      <th>4C Grated Parmesan Cheese 100% Natural 8oz Shaker</th>\n",
       "      <th>Africa's Best No-Lye Dual Conditioning Relaxer System Super</th>\n",
       "      <th>Alberto VO5 Salon Series Smooth Plus Sleek Shampoo</th>\n",
       "      <th>Alex Cross (dvdvideo)</th>\n",
       "      <th>All,bran Complete Wheat Flakes, 18 Oz.</th>\n",
       "      <th>...</th>\n",
       "      <th>Voortman Sugar Free Fudge Chocolate Chip Cookies</th>\n",
       "      <th>Wagan Smartac 80watt Inverter With Usb</th>\n",
       "      <th>Walkers Stem Ginger Shortbread</th>\n",
       "      <th>Way Basics 3-Shelf Eco Narrow Bookcase Storage Shelf, Espresso - Formaldehyde Free - Lifetime Guarantee</th>\n",
       "      <th>Wedding Wishes Wedding Guest Book</th>\n",
       "      <th>Weleda Everon Lip Balm</th>\n",
       "      <th>Wilton Black Dots Standard Baking Cups</th>\n",
       "      <th>Windex Original Glass Cleaner Refill 67.6oz (2 Liter)</th>\n",
       "      <th>Yes To Carrots Nourishing Body Wash</th>\n",
       "      <th>Yes To Grapefruit Rejuvenating Body Wash</th>\n",
       "    </tr>\n",
       "    <tr>\n",
       "      <th>reviews_username</th>\n",
       "      <th></th>\n",
       "      <th></th>\n",
       "      <th></th>\n",
       "      <th></th>\n",
       "      <th></th>\n",
       "      <th></th>\n",
       "      <th></th>\n",
       "      <th></th>\n",
       "      <th></th>\n",
       "      <th></th>\n",
       "      <th></th>\n",
       "      <th></th>\n",
       "      <th></th>\n",
       "      <th></th>\n",
       "      <th></th>\n",
       "      <th></th>\n",
       "      <th></th>\n",
       "      <th></th>\n",
       "      <th></th>\n",
       "      <th></th>\n",
       "      <th></th>\n",
       "    </tr>\n",
       "  </thead>\n",
       "  <tbody>\n",
       "    <tr>\n",
       "      <th>00sab00</th>\n",
       "      <td>NaN</td>\n",
       "      <td>NaN</td>\n",
       "      <td>NaN</td>\n",
       "      <td>NaN</td>\n",
       "      <td>NaN</td>\n",
       "      <td>NaN</td>\n",
       "      <td>NaN</td>\n",
       "      <td>NaN</td>\n",
       "      <td>NaN</td>\n",
       "      <td>NaN</td>\n",
       "      <td>...</td>\n",
       "      <td>NaN</td>\n",
       "      <td>NaN</td>\n",
       "      <td>NaN</td>\n",
       "      <td>NaN</td>\n",
       "      <td>NaN</td>\n",
       "      <td>NaN</td>\n",
       "      <td>NaN</td>\n",
       "      <td>NaN</td>\n",
       "      <td>NaN</td>\n",
       "      <td>NaN</td>\n",
       "    </tr>\n",
       "    <tr>\n",
       "      <th>02dakota</th>\n",
       "      <td>NaN</td>\n",
       "      <td>NaN</td>\n",
       "      <td>NaN</td>\n",
       "      <td>NaN</td>\n",
       "      <td>NaN</td>\n",
       "      <td>NaN</td>\n",
       "      <td>NaN</td>\n",
       "      <td>NaN</td>\n",
       "      <td>NaN</td>\n",
       "      <td>NaN</td>\n",
       "      <td>...</td>\n",
       "      <td>NaN</td>\n",
       "      <td>NaN</td>\n",
       "      <td>NaN</td>\n",
       "      <td>NaN</td>\n",
       "      <td>NaN</td>\n",
       "      <td>NaN</td>\n",
       "      <td>NaN</td>\n",
       "      <td>NaN</td>\n",
       "      <td>NaN</td>\n",
       "      <td>NaN</td>\n",
       "    </tr>\n",
       "    <tr>\n",
       "      <th>02deuce</th>\n",
       "      <td>NaN</td>\n",
       "      <td>NaN</td>\n",
       "      <td>NaN</td>\n",
       "      <td>NaN</td>\n",
       "      <td>NaN</td>\n",
       "      <td>NaN</td>\n",
       "      <td>NaN</td>\n",
       "      <td>NaN</td>\n",
       "      <td>NaN</td>\n",
       "      <td>NaN</td>\n",
       "      <td>...</td>\n",
       "      <td>NaN</td>\n",
       "      <td>NaN</td>\n",
       "      <td>NaN</td>\n",
       "      <td>NaN</td>\n",
       "      <td>NaN</td>\n",
       "      <td>NaN</td>\n",
       "      <td>NaN</td>\n",
       "      <td>NaN</td>\n",
       "      <td>NaN</td>\n",
       "      <td>NaN</td>\n",
       "    </tr>\n",
       "    <tr>\n",
       "      <th>0325home</th>\n",
       "      <td>NaN</td>\n",
       "      <td>NaN</td>\n",
       "      <td>NaN</td>\n",
       "      <td>NaN</td>\n",
       "      <td>NaN</td>\n",
       "      <td>NaN</td>\n",
       "      <td>NaN</td>\n",
       "      <td>NaN</td>\n",
       "      <td>NaN</td>\n",
       "      <td>NaN</td>\n",
       "      <td>...</td>\n",
       "      <td>NaN</td>\n",
       "      <td>NaN</td>\n",
       "      <td>NaN</td>\n",
       "      <td>NaN</td>\n",
       "      <td>NaN</td>\n",
       "      <td>NaN</td>\n",
       "      <td>NaN</td>\n",
       "      <td>NaN</td>\n",
       "      <td>NaN</td>\n",
       "      <td>NaN</td>\n",
       "    </tr>\n",
       "    <tr>\n",
       "      <th>06stidriver</th>\n",
       "      <td>NaN</td>\n",
       "      <td>NaN</td>\n",
       "      <td>NaN</td>\n",
       "      <td>NaN</td>\n",
       "      <td>NaN</td>\n",
       "      <td>NaN</td>\n",
       "      <td>NaN</td>\n",
       "      <td>NaN</td>\n",
       "      <td>NaN</td>\n",
       "      <td>NaN</td>\n",
       "      <td>...</td>\n",
       "      <td>NaN</td>\n",
       "      <td>NaN</td>\n",
       "      <td>NaN</td>\n",
       "      <td>NaN</td>\n",
       "      <td>NaN</td>\n",
       "      <td>NaN</td>\n",
       "      <td>NaN</td>\n",
       "      <td>NaN</td>\n",
       "      <td>NaN</td>\n",
       "      <td>NaN</td>\n",
       "    </tr>\n",
       "  </tbody>\n",
       "</table>\n",
       "<p>5 rows × 237 columns</p>\n",
       "</div>"
      ],
      "text/plain": [
       "name              0.6 Cu. Ft. Letter A4 Size Waterproof 30 Min. Fire File Chest  \\\n",
       "reviews_username                                                                  \n",
       "00sab00                                                         NaN               \n",
       "02dakota                                                        NaN               \n",
       "02deuce                                                         NaN               \n",
       "0325home                                                        NaN               \n",
       "06stidriver                                                     NaN               \n",
       "\n",
       "name              100:Complete First Season (blu-Ray)  \\\n",
       "reviews_username                                        \n",
       "00sab00                                           NaN   \n",
       "02dakota                                          NaN   \n",
       "02deuce                                           NaN   \n",
       "0325home                                          NaN   \n",
       "06stidriver                                       NaN   \n",
       "\n",
       "name              2017-2018 Brownline174 Duraflex 14-Month Planner 8 1/2 X 11 Black  \\\n",
       "reviews_username                                                                      \n",
       "00sab00                                                         NaN                   \n",
       "02dakota                                                        NaN                   \n",
       "02deuce                                                         NaN                   \n",
       "0325home                                                        NaN                   \n",
       "06stidriver                                                     NaN                   \n",
       "\n",
       "name              2x Ultra Era with Oxi Booster, 50fl oz  \\\n",
       "reviews_username                                           \n",
       "00sab00                                              NaN   \n",
       "02dakota                                             NaN   \n",
       "02deuce                                              NaN   \n",
       "0325home                                             NaN   \n",
       "06stidriver                                          NaN   \n",
       "\n",
       "name              42 Dual Drop Leaf Table with 2 Madrid Chairs\"  \\\n",
       "reviews_username                                                  \n",
       "00sab00                                                     NaN   \n",
       "02dakota                                                    NaN   \n",
       "02deuce                                                     NaN   \n",
       "0325home                                                    NaN   \n",
       "06stidriver                                                 NaN   \n",
       "\n",
       "name              4C Grated Parmesan Cheese 100% Natural 8oz Shaker  \\\n",
       "reviews_username                                                      \n",
       "00sab00                                                         NaN   \n",
       "02dakota                                                        NaN   \n",
       "02deuce                                                         NaN   \n",
       "0325home                                                        NaN   \n",
       "06stidriver                                                     NaN   \n",
       "\n",
       "name              Africa's Best No-Lye Dual Conditioning Relaxer System Super  \\\n",
       "reviews_username                                                                \n",
       "00sab00                                                         NaN             \n",
       "02dakota                                                        NaN             \n",
       "02deuce                                                         NaN             \n",
       "0325home                                                        NaN             \n",
       "06stidriver                                                     NaN             \n",
       "\n",
       "name              Alberto VO5 Salon Series Smooth Plus Sleek Shampoo  \\\n",
       "reviews_username                                                       \n",
       "00sab00                                                         NaN    \n",
       "02dakota                                                        NaN    \n",
       "02deuce                                                         NaN    \n",
       "0325home                                                        NaN    \n",
       "06stidriver                                                     NaN    \n",
       "\n",
       "name              Alex Cross (dvdvideo)  \\\n",
       "reviews_username                          \n",
       "00sab00                             NaN   \n",
       "02dakota                            NaN   \n",
       "02deuce                             NaN   \n",
       "0325home                            NaN   \n",
       "06stidriver                         NaN   \n",
       "\n",
       "name              All,bran Complete Wheat Flakes, 18 Oz.  ...  \\\n",
       "reviews_username                                          ...   \n",
       "00sab00                                              NaN  ...   \n",
       "02dakota                                             NaN  ...   \n",
       "02deuce                                              NaN  ...   \n",
       "0325home                                             NaN  ...   \n",
       "06stidriver                                          NaN  ...   \n",
       "\n",
       "name              Voortman Sugar Free Fudge Chocolate Chip Cookies  \\\n",
       "reviews_username                                                     \n",
       "00sab00                                                        NaN   \n",
       "02dakota                                                       NaN   \n",
       "02deuce                                                        NaN   \n",
       "0325home                                                       NaN   \n",
       "06stidriver                                                    NaN   \n",
       "\n",
       "name              Wagan Smartac 80watt Inverter With Usb  \\\n",
       "reviews_username                                           \n",
       "00sab00                                              NaN   \n",
       "02dakota                                             NaN   \n",
       "02deuce                                              NaN   \n",
       "0325home                                             NaN   \n",
       "06stidriver                                          NaN   \n",
       "\n",
       "name              Walkers Stem Ginger Shortbread  \\\n",
       "reviews_username                                   \n",
       "00sab00                                      NaN   \n",
       "02dakota                                     NaN   \n",
       "02deuce                                      NaN   \n",
       "0325home                                     NaN   \n",
       "06stidriver                                  NaN   \n",
       "\n",
       "name              Way Basics 3-Shelf Eco Narrow Bookcase Storage Shelf, Espresso - Formaldehyde Free - Lifetime Guarantee  \\\n",
       "reviews_username                                                                                                            \n",
       "00sab00                                                         NaN                                                         \n",
       "02dakota                                                        NaN                                                         \n",
       "02deuce                                                         NaN                                                         \n",
       "0325home                                                        NaN                                                         \n",
       "06stidriver                                                     NaN                                                         \n",
       "\n",
       "name              Wedding Wishes Wedding Guest Book  Weleda Everon Lip Balm  \\\n",
       "reviews_username                                                              \n",
       "00sab00                                         NaN                     NaN   \n",
       "02dakota                                        NaN                     NaN   \n",
       "02deuce                                         NaN                     NaN   \n",
       "0325home                                        NaN                     NaN   \n",
       "06stidriver                                     NaN                     NaN   \n",
       "\n",
       "name              Wilton Black Dots Standard Baking Cups  \\\n",
       "reviews_username                                           \n",
       "00sab00                                              NaN   \n",
       "02dakota                                             NaN   \n",
       "02deuce                                              NaN   \n",
       "0325home                                             NaN   \n",
       "06stidriver                                          NaN   \n",
       "\n",
       "name              Windex Original Glass Cleaner Refill 67.6oz (2 Liter)  \\\n",
       "reviews_username                                                          \n",
       "00sab00                                                         NaN       \n",
       "02dakota                                                        NaN       \n",
       "02deuce                                                         NaN       \n",
       "0325home                                                        NaN       \n",
       "06stidriver                                                     NaN       \n",
       "\n",
       "name              Yes To Carrots Nourishing Body Wash  \\\n",
       "reviews_username                                        \n",
       "00sab00                                           NaN   \n",
       "02dakota                                          NaN   \n",
       "02deuce                                           NaN   \n",
       "0325home                                          NaN   \n",
       "06stidriver                                       NaN   \n",
       "\n",
       "name              Yes To Grapefruit Rejuvenating Body Wash  \n",
       "reviews_username                                            \n",
       "00sab00                                                NaN  \n",
       "02dakota                                               NaN  \n",
       "02deuce                                                NaN  \n",
       "0325home                                               NaN  \n",
       "06stidriver                                            NaN  \n",
       "\n",
       "[5 rows x 237 columns]"
      ]
     },
     "execution_count": 63,
     "metadata": {},
     "output_type": "execute_result"
    }
   ],
   "source": [
    "df_subtracted.head()"
   ]
  },
  {
   "cell_type": "code",
   "execution_count": 64,
   "metadata": {
    "id": "xlW0DDE3yuhZ"
   },
   "outputs": [],
   "source": [
    "from sklearn.metrics.pairwise import pairwise_distances"
   ]
  },
  {
   "cell_type": "code",
   "execution_count": 65,
   "metadata": {
    "colab": {
     "base_uri": "https://localhost:8080/"
    },
    "id": "wEnESAD8yx1P",
    "outputId": "fa870c55-2739-4e25-8aa0-f7379940e28a"
   },
   "outputs": [
    {
     "name": "stdout",
     "output_type": "stream",
     "text": [
      "[[0. 0. 0. ... 0. 0. 0.]\n",
      " [0. 0. 0. ... 0. 0. 0.]\n",
      " [0. 0. 0. ... 0. 0. 0.]\n",
      " ...\n",
      " [0. 0. 0. ... 0. 0. 0.]\n",
      " [0. 0. 0. ... 0. 0. 0.]\n",
      " [0. 0. 0. ... 0. 0. 0.]]\n"
     ]
    }
   ],
   "source": [
    "# Creating the User Similarity Matrix using pairwise_distance function.\n",
    "user_correlation = 1 - pairwise_distances(df_subtracted.fillna(0), metric='cosine')\n",
    "user_correlation[np.isnan(user_correlation)] = 0\n",
    "print(user_correlation)"
   ]
  },
  {
   "cell_type": "markdown",
   "metadata": {},
   "source": [
    "#### Predicting user-user based similarity."
   ]
  },
  {
   "cell_type": "markdown",
   "metadata": {},
   "source": [
    "- Ignoring correlation <0 since it means users are not interested in it"
   ]
  },
  {
   "cell_type": "code",
   "execution_count": 66,
   "metadata": {
    "colab": {
     "base_uri": "https://localhost:8080/"
    },
    "id": "AetiIq73CvF2",
    "outputId": "d54c8bac-8921-41ef-b0a7-da752d602236"
   },
   "outputs": [
    {
     "data": {
      "text/plain": [
       "array([[0., 0., 0., ..., 0., 0., 0.],\n",
       "       [0., 0., 0., ..., 0., 0., 0.],\n",
       "       [0., 0., 0., ..., 0., 0., 0.],\n",
       "       ...,\n",
       "       [0., 0., 0., ..., 0., 0., 0.],\n",
       "       [0., 0., 0., ..., 0., 0., 0.],\n",
       "       [0., 0., 0., ..., 0., 0., 0.]])"
      ]
     },
     "execution_count": 66,
     "metadata": {},
     "output_type": "execute_result"
    }
   ],
   "source": [
    "user_correlation[user_correlation<0]=0\n",
    "user_correlation"
   ]
  },
  {
   "cell_type": "code",
   "execution_count": 67,
   "metadata": {
    "colab": {
     "base_uri": "https://localhost:8080/"
    },
    "id": "qnyGgxyTCvsO",
    "outputId": "1fb0df05-380e-49c8-b6c6-cde08e3307e8"
   },
   "outputs": [
    {
     "data": {
      "text/plain": [
       "array([[0., 0., 0., ..., 0., 0., 0.],\n",
       "       [0., 0., 0., ..., 0., 0., 0.],\n",
       "       [0., 0., 0., ..., 0., 0., 0.],\n",
       "       ...,\n",
       "       [0., 0., 0., ..., 0., 0., 0.],\n",
       "       [0., 0., 0., ..., 0., 0., 0.],\n",
       "       [0., 0., 0., ..., 0., 0., 0.]])"
      ]
     },
     "execution_count": 67,
     "metadata": {},
     "output_type": "execute_result"
    }
   ],
   "source": [
    "user_predicted_ratings = np.dot(user_correlation, df_pivot.fillna(0))\n",
    "user_predicted_ratings"
   ]
  },
  {
   "cell_type": "code",
   "execution_count": 68,
   "metadata": {
    "colab": {
     "base_uri": "https://localhost:8080/"
    },
    "id": "u2RJVRTrCxSr",
    "outputId": "8ac5d452-1fba-4e42-b6f0-0753b13f84c3"
   },
   "outputs": [
    {
     "data": {
      "text/plain": [
       "(17732, 237)"
      ]
     },
     "execution_count": 68,
     "metadata": {},
     "output_type": "execute_result"
    }
   ],
   "source": [
    "user_predicted_ratings.shape"
   ]
  },
  {
   "cell_type": "markdown",
   "metadata": {},
   "source": [
    "- Since we are interested only in the products not rated by the user, we will ignore the products rated by the user by making it zero."
   ]
  },
  {
   "cell_type": "code",
   "execution_count": 69,
   "metadata": {
    "colab": {
     "base_uri": "https://localhost:8080/",
     "height": 556
    },
    "id": "SwMFaT9xCy7Q",
    "outputId": "ff7747b2-66f3-46ac-9539-86edc78ad3ca"
   },
   "outputs": [
    {
     "data": {
      "text/html": [
       "<div>\n",
       "<style scoped>\n",
       "    .dataframe tbody tr th:only-of-type {\n",
       "        vertical-align: middle;\n",
       "    }\n",
       "\n",
       "    .dataframe tbody tr th {\n",
       "        vertical-align: top;\n",
       "    }\n",
       "\n",
       "    .dataframe thead th {\n",
       "        text-align: right;\n",
       "    }\n",
       "</style>\n",
       "<table border=\"1\" class=\"dataframe\">\n",
       "  <thead>\n",
       "    <tr style=\"text-align: right;\">\n",
       "      <th>name</th>\n",
       "      <th>0.6 Cu. Ft. Letter A4 Size Waterproof 30 Min. Fire File Chest</th>\n",
       "      <th>100:Complete First Season (blu-Ray)</th>\n",
       "      <th>2017-2018 Brownline174 Duraflex 14-Month Planner 8 1/2 X 11 Black</th>\n",
       "      <th>2x Ultra Era with Oxi Booster, 50fl oz</th>\n",
       "      <th>42 Dual Drop Leaf Table with 2 Madrid Chairs\"</th>\n",
       "      <th>4C Grated Parmesan Cheese 100% Natural 8oz Shaker</th>\n",
       "      <th>Africa's Best No-Lye Dual Conditioning Relaxer System Super</th>\n",
       "      <th>Alberto VO5 Salon Series Smooth Plus Sleek Shampoo</th>\n",
       "      <th>Alex Cross (dvdvideo)</th>\n",
       "      <th>All,bran Complete Wheat Flakes, 18 Oz.</th>\n",
       "      <th>...</th>\n",
       "      <th>Voortman Sugar Free Fudge Chocolate Chip Cookies</th>\n",
       "      <th>Wagan Smartac 80watt Inverter With Usb</th>\n",
       "      <th>Walkers Stem Ginger Shortbread</th>\n",
       "      <th>Way Basics 3-Shelf Eco Narrow Bookcase Storage Shelf, Espresso - Formaldehyde Free - Lifetime Guarantee</th>\n",
       "      <th>Wedding Wishes Wedding Guest Book</th>\n",
       "      <th>Weleda Everon Lip Balm</th>\n",
       "      <th>Wilton Black Dots Standard Baking Cups</th>\n",
       "      <th>Windex Original Glass Cleaner Refill 67.6oz (2 Liter)</th>\n",
       "      <th>Yes To Carrots Nourishing Body Wash</th>\n",
       "      <th>Yes To Grapefruit Rejuvenating Body Wash</th>\n",
       "    </tr>\n",
       "    <tr>\n",
       "      <th>reviews_username</th>\n",
       "      <th></th>\n",
       "      <th></th>\n",
       "      <th></th>\n",
       "      <th></th>\n",
       "      <th></th>\n",
       "      <th></th>\n",
       "      <th></th>\n",
       "      <th></th>\n",
       "      <th></th>\n",
       "      <th></th>\n",
       "      <th></th>\n",
       "      <th></th>\n",
       "      <th></th>\n",
       "      <th></th>\n",
       "      <th></th>\n",
       "      <th></th>\n",
       "      <th></th>\n",
       "      <th></th>\n",
       "      <th></th>\n",
       "      <th></th>\n",
       "      <th></th>\n",
       "    </tr>\n",
       "  </thead>\n",
       "  <tbody>\n",
       "    <tr>\n",
       "      <th>00sab00</th>\n",
       "      <td>0.0</td>\n",
       "      <td>0.0</td>\n",
       "      <td>0.0</td>\n",
       "      <td>0.0</td>\n",
       "      <td>0.0</td>\n",
       "      <td>0.0</td>\n",
       "      <td>0.0</td>\n",
       "      <td>0.0</td>\n",
       "      <td>0.0</td>\n",
       "      <td>0.0</td>\n",
       "      <td>...</td>\n",
       "      <td>0.0</td>\n",
       "      <td>0.0</td>\n",
       "      <td>0.0</td>\n",
       "      <td>0.0</td>\n",
       "      <td>0.0</td>\n",
       "      <td>0.0</td>\n",
       "      <td>0.0</td>\n",
       "      <td>0.0</td>\n",
       "      <td>0.0</td>\n",
       "      <td>0.0</td>\n",
       "    </tr>\n",
       "    <tr>\n",
       "      <th>02dakota</th>\n",
       "      <td>0.0</td>\n",
       "      <td>0.0</td>\n",
       "      <td>0.0</td>\n",
       "      <td>0.0</td>\n",
       "      <td>0.0</td>\n",
       "      <td>0.0</td>\n",
       "      <td>0.0</td>\n",
       "      <td>0.0</td>\n",
       "      <td>0.0</td>\n",
       "      <td>0.0</td>\n",
       "      <td>...</td>\n",
       "      <td>0.0</td>\n",
       "      <td>0.0</td>\n",
       "      <td>0.0</td>\n",
       "      <td>0.0</td>\n",
       "      <td>0.0</td>\n",
       "      <td>0.0</td>\n",
       "      <td>0.0</td>\n",
       "      <td>0.0</td>\n",
       "      <td>0.0</td>\n",
       "      <td>0.0</td>\n",
       "    </tr>\n",
       "    <tr>\n",
       "      <th>02deuce</th>\n",
       "      <td>0.0</td>\n",
       "      <td>0.0</td>\n",
       "      <td>0.0</td>\n",
       "      <td>0.0</td>\n",
       "      <td>0.0</td>\n",
       "      <td>0.0</td>\n",
       "      <td>0.0</td>\n",
       "      <td>0.0</td>\n",
       "      <td>0.0</td>\n",
       "      <td>0.0</td>\n",
       "      <td>...</td>\n",
       "      <td>0.0</td>\n",
       "      <td>0.0</td>\n",
       "      <td>0.0</td>\n",
       "      <td>0.0</td>\n",
       "      <td>0.0</td>\n",
       "      <td>0.0</td>\n",
       "      <td>0.0</td>\n",
       "      <td>0.0</td>\n",
       "      <td>0.0</td>\n",
       "      <td>0.0</td>\n",
       "    </tr>\n",
       "    <tr>\n",
       "      <th>0325home</th>\n",
       "      <td>0.0</td>\n",
       "      <td>0.0</td>\n",
       "      <td>0.0</td>\n",
       "      <td>0.0</td>\n",
       "      <td>0.0</td>\n",
       "      <td>0.0</td>\n",
       "      <td>0.0</td>\n",
       "      <td>0.0</td>\n",
       "      <td>0.0</td>\n",
       "      <td>0.0</td>\n",
       "      <td>...</td>\n",
       "      <td>0.0</td>\n",
       "      <td>0.0</td>\n",
       "      <td>0.0</td>\n",
       "      <td>0.0</td>\n",
       "      <td>0.0</td>\n",
       "      <td>0.0</td>\n",
       "      <td>0.0</td>\n",
       "      <td>0.0</td>\n",
       "      <td>0.0</td>\n",
       "      <td>0.0</td>\n",
       "    </tr>\n",
       "    <tr>\n",
       "      <th>06stidriver</th>\n",
       "      <td>0.0</td>\n",
       "      <td>0.0</td>\n",
       "      <td>0.0</td>\n",
       "      <td>0.0</td>\n",
       "      <td>0.0</td>\n",
       "      <td>0.0</td>\n",
       "      <td>0.0</td>\n",
       "      <td>0.0</td>\n",
       "      <td>0.0</td>\n",
       "      <td>0.0</td>\n",
       "      <td>...</td>\n",
       "      <td>0.0</td>\n",
       "      <td>0.0</td>\n",
       "      <td>0.0</td>\n",
       "      <td>0.0</td>\n",
       "      <td>0.0</td>\n",
       "      <td>0.0</td>\n",
       "      <td>0.0</td>\n",
       "      <td>0.0</td>\n",
       "      <td>0.0</td>\n",
       "      <td>0.0</td>\n",
       "    </tr>\n",
       "  </tbody>\n",
       "</table>\n",
       "<p>5 rows × 237 columns</p>\n",
       "</div>"
      ],
      "text/plain": [
       "name              0.6 Cu. Ft. Letter A4 Size Waterproof 30 Min. Fire File Chest  \\\n",
       "reviews_username                                                                  \n",
       "00sab00                                                         0.0               \n",
       "02dakota                                                        0.0               \n",
       "02deuce                                                         0.0               \n",
       "0325home                                                        0.0               \n",
       "06stidriver                                                     0.0               \n",
       "\n",
       "name              100:Complete First Season (blu-Ray)  \\\n",
       "reviews_username                                        \n",
       "00sab00                                           0.0   \n",
       "02dakota                                          0.0   \n",
       "02deuce                                           0.0   \n",
       "0325home                                          0.0   \n",
       "06stidriver                                       0.0   \n",
       "\n",
       "name              2017-2018 Brownline174 Duraflex 14-Month Planner 8 1/2 X 11 Black  \\\n",
       "reviews_username                                                                      \n",
       "00sab00                                                         0.0                   \n",
       "02dakota                                                        0.0                   \n",
       "02deuce                                                         0.0                   \n",
       "0325home                                                        0.0                   \n",
       "06stidriver                                                     0.0                   \n",
       "\n",
       "name              2x Ultra Era with Oxi Booster, 50fl oz  \\\n",
       "reviews_username                                           \n",
       "00sab00                                              0.0   \n",
       "02dakota                                             0.0   \n",
       "02deuce                                              0.0   \n",
       "0325home                                             0.0   \n",
       "06stidriver                                          0.0   \n",
       "\n",
       "name              42 Dual Drop Leaf Table with 2 Madrid Chairs\"  \\\n",
       "reviews_username                                                  \n",
       "00sab00                                                     0.0   \n",
       "02dakota                                                    0.0   \n",
       "02deuce                                                     0.0   \n",
       "0325home                                                    0.0   \n",
       "06stidriver                                                 0.0   \n",
       "\n",
       "name              4C Grated Parmesan Cheese 100% Natural 8oz Shaker  \\\n",
       "reviews_username                                                      \n",
       "00sab00                                                         0.0   \n",
       "02dakota                                                        0.0   \n",
       "02deuce                                                         0.0   \n",
       "0325home                                                        0.0   \n",
       "06stidriver                                                     0.0   \n",
       "\n",
       "name              Africa's Best No-Lye Dual Conditioning Relaxer System Super  \\\n",
       "reviews_username                                                                \n",
       "00sab00                                                         0.0             \n",
       "02dakota                                                        0.0             \n",
       "02deuce                                                         0.0             \n",
       "0325home                                                        0.0             \n",
       "06stidriver                                                     0.0             \n",
       "\n",
       "name              Alberto VO5 Salon Series Smooth Plus Sleek Shampoo  \\\n",
       "reviews_username                                                       \n",
       "00sab00                                                         0.0    \n",
       "02dakota                                                        0.0    \n",
       "02deuce                                                         0.0    \n",
       "0325home                                                        0.0    \n",
       "06stidriver                                                     0.0    \n",
       "\n",
       "name              Alex Cross (dvdvideo)  \\\n",
       "reviews_username                          \n",
       "00sab00                             0.0   \n",
       "02dakota                            0.0   \n",
       "02deuce                             0.0   \n",
       "0325home                            0.0   \n",
       "06stidriver                         0.0   \n",
       "\n",
       "name              All,bran Complete Wheat Flakes, 18 Oz.  ...  \\\n",
       "reviews_username                                          ...   \n",
       "00sab00                                              0.0  ...   \n",
       "02dakota                                             0.0  ...   \n",
       "02deuce                                              0.0  ...   \n",
       "0325home                                             0.0  ...   \n",
       "06stidriver                                          0.0  ...   \n",
       "\n",
       "name              Voortman Sugar Free Fudge Chocolate Chip Cookies  \\\n",
       "reviews_username                                                     \n",
       "00sab00                                                        0.0   \n",
       "02dakota                                                       0.0   \n",
       "02deuce                                                        0.0   \n",
       "0325home                                                       0.0   \n",
       "06stidriver                                                    0.0   \n",
       "\n",
       "name              Wagan Smartac 80watt Inverter With Usb  \\\n",
       "reviews_username                                           \n",
       "00sab00                                              0.0   \n",
       "02dakota                                             0.0   \n",
       "02deuce                                              0.0   \n",
       "0325home                                             0.0   \n",
       "06stidriver                                          0.0   \n",
       "\n",
       "name              Walkers Stem Ginger Shortbread  \\\n",
       "reviews_username                                   \n",
       "00sab00                                      0.0   \n",
       "02dakota                                     0.0   \n",
       "02deuce                                      0.0   \n",
       "0325home                                     0.0   \n",
       "06stidriver                                  0.0   \n",
       "\n",
       "name              Way Basics 3-Shelf Eco Narrow Bookcase Storage Shelf, Espresso - Formaldehyde Free - Lifetime Guarantee  \\\n",
       "reviews_username                                                                                                            \n",
       "00sab00                                                         0.0                                                         \n",
       "02dakota                                                        0.0                                                         \n",
       "02deuce                                                         0.0                                                         \n",
       "0325home                                                        0.0                                                         \n",
       "06stidriver                                                     0.0                                                         \n",
       "\n",
       "name              Wedding Wishes Wedding Guest Book  Weleda Everon Lip Balm  \\\n",
       "reviews_username                                                              \n",
       "00sab00                                         0.0                     0.0   \n",
       "02dakota                                        0.0                     0.0   \n",
       "02deuce                                         0.0                     0.0   \n",
       "0325home                                        0.0                     0.0   \n",
       "06stidriver                                     0.0                     0.0   \n",
       "\n",
       "name              Wilton Black Dots Standard Baking Cups  \\\n",
       "reviews_username                                           \n",
       "00sab00                                              0.0   \n",
       "02dakota                                             0.0   \n",
       "02deuce                                              0.0   \n",
       "0325home                                             0.0   \n",
       "06stidriver                                          0.0   \n",
       "\n",
       "name              Windex Original Glass Cleaner Refill 67.6oz (2 Liter)  \\\n",
       "reviews_username                                                          \n",
       "00sab00                                                         0.0       \n",
       "02dakota                                                        0.0       \n",
       "02deuce                                                         0.0       \n",
       "0325home                                                        0.0       \n",
       "06stidriver                                                     0.0       \n",
       "\n",
       "name              Yes To Carrots Nourishing Body Wash  \\\n",
       "reviews_username                                        \n",
       "00sab00                                           0.0   \n",
       "02dakota                                          0.0   \n",
       "02deuce                                           0.0   \n",
       "0325home                                          0.0   \n",
       "06stidriver                                       0.0   \n",
       "\n",
       "name              Yes To Grapefruit Rejuvenating Body Wash  \n",
       "reviews_username                                            \n",
       "00sab00                                                0.0  \n",
       "02dakota                                               0.0  \n",
       "02deuce                                                0.0  \n",
       "0325home                                               0.0  \n",
       "06stidriver                                            0.0  \n",
       "\n",
       "[5 rows x 237 columns]"
      ]
     },
     "execution_count": 69,
     "metadata": {},
     "output_type": "execute_result"
    }
   ],
   "source": [
    "user_final_rating = np.multiply(user_predicted_ratings,dummy_train)\n",
    "user_final_rating.head()"
   ]
  },
  {
   "cell_type": "markdown",
   "metadata": {},
   "source": [
    "#### Finding top 20 products"
   ]
  },
  {
   "cell_type": "code",
   "execution_count": 70,
   "metadata": {
    "colab": {
     "base_uri": "https://localhost:8080/"
    },
    "id": "adJ0U7wQC0gT",
    "outputId": "8c326445-4df6-48a3-da4f-b2714c90e614"
   },
   "outputs": [
    {
     "name": "stdout",
     "output_type": "stream",
     "text": [
      "Enter your user namejoshua\n",
      "joshua\n"
     ]
    }
   ],
   "source": [
    "user_input = input(\"Enter your user name\")\n",
    "print(user_input)"
   ]
  },
  {
   "cell_type": "code",
   "execution_count": 71,
   "metadata": {
    "id": "x_vOjYXhC4Fd"
   },
   "outputs": [],
   "source": [
    "d = user_final_rating.loc[user_input].sort_values(ascending=False)[0:19]"
   ]
  },
  {
   "cell_type": "code",
   "execution_count": 72,
   "metadata": {
    "colab": {
     "base_uri": "https://localhost:8080/"
    },
    "id": "N7w_HBHpDOaM",
    "outputId": "8e2162c6-35b1-4308-f430-deb42892d85f"
   },
   "outputs": [
    {
     "data": {
      "text/plain": [
       "name\n",
       "Planes: Fire Rescue (2 Discs) (includes Digital Copy) (blu-Ray/dvd)                3.933900\n",
       "Clorox Disinfecting Wipes Value Pack Scented 150 Ct Total                          2.665009\n",
       "Bounce Dryer Sheets, Fresh Linen, 160 sheets                                       2.665009\n",
       "Godzilla 3d Includes Digital Copy Ultraviolet 3d/2d Blu-Ray/dvd                    2.139524\n",
       "The Resident Evil Collection 5 Discs (blu-Ray)                                     1.688657\n",
       "Mike Dave Need Wedding Dates (dvd + Digital)                                       1.506424\n",
       "Windex Original Glass Cleaner Refill 67.6oz (2 Liter)                              1.458207\n",
       "Alex Cross (dvdvideo)                                                              1.028319\n",
       "Storkcraft Tuscany Glider and Ottoman, Beige Cushions, Espresso Finish             0.842750\n",
       "Hormel Chili, No Beans                                                             0.842750\n",
       "Jason Aldean - They Don't Know                                                     0.838107\n",
       "Pendaflex174 Divide It Up File Folder, Multi Section, Letter, Assorted, 12/pack    0.838107\n",
       "Meguiar's Ultimate Quik Detailer 22-Oz.                                            0.652791\n",
       "Stargate (ws) (ultimate Edition) (director's Cut) (dvdvideo)                       0.533002\n",
       "Pleasant Hearth Diamond Fireplace Screen - Espresso                                0.533002\n",
       "Nexxus Exxtra Gel Style Creation Sculptor                                          0.430785\n",
       "Bisquick Original Pancake And Baking Mix - 40oz                                    0.430785\n",
       "Diet Canada Dry Ginger Ale - 12pk/12 Fl Oz Cans                                    0.430785\n",
       "Tostitos Bite Size Tortilla Chips                                                  0.430785\n",
       "Name: joshua, dtype: float64"
      ]
     },
     "execution_count": 72,
     "metadata": {},
     "output_type": "execute_result"
    }
   ],
   "source": [
    "d"
   ]
  },
  {
   "cell_type": "markdown",
   "metadata": {},
   "source": [
    "#### Evaltuation for User-User based similarity"
   ]
  },
  {
   "cell_type": "code",
   "execution_count": 73,
   "metadata": {
    "colab": {
     "base_uri": "https://localhost:8080/"
    },
    "id": "HvWOEphrDPSM",
    "outputId": "6bb208f2-a0bc-4747-fcbd-400b8cffbd37"
   },
   "outputs": [
    {
     "data": {
      "text/plain": [
       "(1040, 15)"
      ]
     },
     "execution_count": 73,
     "metadata": {},
     "output_type": "execute_result"
    }
   ],
   "source": [
    "\n",
    "common = test[test.reviews_username.isin(train.reviews_username)]\n",
    "common.shape"
   ]
  },
  {
   "cell_type": "code",
   "execution_count": 74,
   "metadata": {
    "colab": {
     "base_uri": "https://localhost:8080/",
     "height": 600
    },
    "id": "EypdqySqDmh2",
    "outputId": "fd05f35c-6c27-44bd-c103-aca6dbfdbed9"
   },
   "outputs": [
    {
     "data": {
      "text/html": [
       "<div>\n",
       "<style scoped>\n",
       "    .dataframe tbody tr th:only-of-type {\n",
       "        vertical-align: middle;\n",
       "    }\n",
       "\n",
       "    .dataframe tbody tr th {\n",
       "        vertical-align: top;\n",
       "    }\n",
       "\n",
       "    .dataframe thead th {\n",
       "        text-align: right;\n",
       "    }\n",
       "</style>\n",
       "<table border=\"1\" class=\"dataframe\">\n",
       "  <thead>\n",
       "    <tr style=\"text-align: right;\">\n",
       "      <th></th>\n",
       "      <th>Unnamed: 0</th>\n",
       "      <th>brand</th>\n",
       "      <th>categories</th>\n",
       "      <th>manufacturer</th>\n",
       "      <th>name</th>\n",
       "      <th>reviews_didPurchase</th>\n",
       "      <th>reviews_doRecommend</th>\n",
       "      <th>reviews_rating</th>\n",
       "      <th>reviews_text</th>\n",
       "      <th>reviews_title</th>\n",
       "      <th>reviews_userCity</th>\n",
       "      <th>reviews_userProvince</th>\n",
       "      <th>reviews_username</th>\n",
       "      <th>user_sentiment</th>\n",
       "      <th>reviews_title_text</th>\n",
       "    </tr>\n",
       "  </thead>\n",
       "  <tbody>\n",
       "    <tr>\n",
       "      <th>20800</th>\n",
       "      <td>20984</td>\n",
       "      <td>Tostitos</td>\n",
       "      <td>Food,Packaged Foods,Snacks,Chips &amp; Pretzels,Fo...</td>\n",
       "      <td>Tostitos</td>\n",
       "      <td>Tostitos Bite Size Tortilla Chips</td>\n",
       "      <td>False</td>\n",
       "      <td>True</td>\n",
       "      <td>5</td>\n",
       "      <td>Awesome</td>\n",
       "      <td>Yum</td>\n",
       "      <td>NaN</td>\n",
       "      <td>NaN</td>\n",
       "      <td>momof3</td>\n",
       "      <td>Positive</td>\n",
       "      <td>YumAwesome</td>\n",
       "    </tr>\n",
       "    <tr>\n",
       "      <th>2594</th>\n",
       "      <td>2619</td>\n",
       "      <td>Universal Home Video</td>\n",
       "      <td>Movies, Music &amp; Books,Movies,Comedy,Movies &amp; T...</td>\n",
       "      <td>Universal</td>\n",
       "      <td>My Big Fat Greek Wedding 2 (blu-Ray + Dvd + Di...</td>\n",
       "      <td>NaN</td>\n",
       "      <td>False</td>\n",
       "      <td>3</td>\n",
       "      <td>The first was definitely better than this sequ...</td>\n",
       "      <td>Definitely Second to the First</td>\n",
       "      <td>NaN</td>\n",
       "      <td>NaN</td>\n",
       "      <td>jbasa</td>\n",
       "      <td>Positive</td>\n",
       "      <td>Definitely Second to the FirstThe first was de...</td>\n",
       "    </tr>\n",
       "    <tr>\n",
       "      <th>11442</th>\n",
       "      <td>11540</td>\n",
       "      <td>Clorox</td>\n",
       "      <td>Household Essentials,Cleaning Supplies,Kitchen...</td>\n",
       "      <td>Clorox</td>\n",
       "      <td>Clorox Disinfecting Wipes Value Pack Scented 1...</td>\n",
       "      <td>False</td>\n",
       "      <td>True</td>\n",
       "      <td>5</td>\n",
       "      <td>Love the smell of this one and Clorox is strea...</td>\n",
       "      <td>streak free shine!!</td>\n",
       "      <td>NaN</td>\n",
       "      <td>NaN</td>\n",
       "      <td>mshoe</td>\n",
       "      <td>Positive</td>\n",
       "      <td>streak free shine!!Love the smell of this one ...</td>\n",
       "    </tr>\n",
       "    <tr>\n",
       "      <th>9025</th>\n",
       "      <td>9119</td>\n",
       "      <td>Clorox</td>\n",
       "      <td>Household Essentials,Cleaning Supplies,Kitchen...</td>\n",
       "      <td>Clorox</td>\n",
       "      <td>Clorox Disinfecting Wipes Value Pack Scented 1...</td>\n",
       "      <td>NaN</td>\n",
       "      <td>True</td>\n",
       "      <td>5</td>\n",
       "      <td>We donated these to our daughters classroom an...</td>\n",
       "      <td>Works Great At Killing Germs</td>\n",
       "      <td>Murrieta</td>\n",
       "      <td>NaN</td>\n",
       "      <td>gtguru497</td>\n",
       "      <td>Positive</td>\n",
       "      <td>Works Great At Killing GermsWe donated these t...</td>\n",
       "    </tr>\n",
       "    <tr>\n",
       "      <th>4363</th>\n",
       "      <td>4412</td>\n",
       "      <td>Hoover</td>\n",
       "      <td>Home,Home Appliances,Vacuums &amp; Floor Care,Upri...</td>\n",
       "      <td>Hoover</td>\n",
       "      <td>Hoover174 Platinum Collection153 Lightweight B...</td>\n",
       "      <td>NaN</td>\n",
       "      <td>NaN</td>\n",
       "      <td>5</td>\n",
       "      <td>Suction is superb. Brings the nap up in the ca...</td>\n",
       "      <td>Best vacuum I have ever owned</td>\n",
       "      <td>NaN</td>\n",
       "      <td>NaN</td>\n",
       "      <td>donnap</td>\n",
       "      <td>Positive</td>\n",
       "      <td>Best vacuum I have ever ownedSuction is superb...</td>\n",
       "    </tr>\n",
       "  </tbody>\n",
       "</table>\n",
       "</div>"
      ],
      "text/plain": [
       "       Unnamed: 0                 brand  \\\n",
       "20800       20984              Tostitos   \n",
       "2594         2619  Universal Home Video   \n",
       "11442       11540                Clorox   \n",
       "9025         9119                Clorox   \n",
       "4363         4412                Hoover   \n",
       "\n",
       "                                              categories manufacturer  \\\n",
       "20800  Food,Packaged Foods,Snacks,Chips & Pretzels,Fo...     Tostitos   \n",
       "2594   Movies, Music & Books,Movies,Comedy,Movies & T...    Universal   \n",
       "11442  Household Essentials,Cleaning Supplies,Kitchen...       Clorox   \n",
       "9025   Household Essentials,Cleaning Supplies,Kitchen...       Clorox   \n",
       "4363   Home,Home Appliances,Vacuums & Floor Care,Upri...       Hoover   \n",
       "\n",
       "                                                    name reviews_didPurchase  \\\n",
       "20800                  Tostitos Bite Size Tortilla Chips               False   \n",
       "2594   My Big Fat Greek Wedding 2 (blu-Ray + Dvd + Di...                 NaN   \n",
       "11442  Clorox Disinfecting Wipes Value Pack Scented 1...               False   \n",
       "9025   Clorox Disinfecting Wipes Value Pack Scented 1...                 NaN   \n",
       "4363   Hoover174 Platinum Collection153 Lightweight B...                 NaN   \n",
       "\n",
       "      reviews_doRecommend  reviews_rating  \\\n",
       "20800                True               5   \n",
       "2594                False               3   \n",
       "11442                True               5   \n",
       "9025                 True               5   \n",
       "4363                  NaN               5   \n",
       "\n",
       "                                            reviews_text  \\\n",
       "20800                                            Awesome   \n",
       "2594   The first was definitely better than this sequ...   \n",
       "11442  Love the smell of this one and Clorox is strea...   \n",
       "9025   We donated these to our daughters classroom an...   \n",
       "4363   Suction is superb. Brings the nap up in the ca...   \n",
       "\n",
       "                        reviews_title reviews_userCity reviews_userProvince  \\\n",
       "20800                             Yum              NaN                  NaN   \n",
       "2594   Definitely Second to the First              NaN                  NaN   \n",
       "11442             streak free shine!!              NaN                  NaN   \n",
       "9025     Works Great At Killing Germs         Murrieta                  NaN   \n",
       "4363    Best vacuum I have ever owned              NaN                  NaN   \n",
       "\n",
       "      reviews_username user_sentiment  \\\n",
       "20800           momof3       Positive   \n",
       "2594             jbasa       Positive   \n",
       "11442            mshoe       Positive   \n",
       "9025         gtguru497       Positive   \n",
       "4363            donnap       Positive   \n",
       "\n",
       "                                      reviews_title_text  \n",
       "20800                                         YumAwesome  \n",
       "2594   Definitely Second to the FirstThe first was de...  \n",
       "11442  streak free shine!!Love the smell of this one ...  \n",
       "9025   Works Great At Killing GermsWe donated these t...  \n",
       "4363   Best vacuum I have ever ownedSuction is superb...  "
      ]
     },
     "execution_count": 74,
     "metadata": {},
     "output_type": "execute_result"
    }
   ],
   "source": [
    "common.head()"
   ]
  },
  {
   "cell_type": "code",
   "execution_count": 75,
   "metadata": {
    "id": "SRYkgxbq231E"
   },
   "outputs": [],
   "source": [
    "common_user_based_matrix = common.pivot_table(index='reviews_username', columns='name', values='reviews_rating')"
   ]
  },
  {
   "cell_type": "code",
   "execution_count": 76,
   "metadata": {
    "id": "7XWilGi13HbH"
   },
   "outputs": [],
   "source": [
    "user_correlation_df = pd.DataFrame(user_correlation)"
   ]
  },
  {
   "cell_type": "code",
   "execution_count": 77,
   "metadata": {
    "colab": {
     "base_uri": "https://localhost:8080/",
     "height": 431
    },
    "id": "kpIaOGK-3QtA",
    "outputId": "8c2fd85d-1c4b-4bf8-d9c7-6b31617dce51"
   },
   "outputs": [
    {
     "data": {
      "text/html": [
       "<div>\n",
       "<style scoped>\n",
       "    .dataframe tbody tr th:only-of-type {\n",
       "        vertical-align: middle;\n",
       "    }\n",
       "\n",
       "    .dataframe tbody tr th {\n",
       "        vertical-align: top;\n",
       "    }\n",
       "\n",
       "    .dataframe thead th {\n",
       "        text-align: right;\n",
       "    }\n",
       "</style>\n",
       "<table border=\"1\" class=\"dataframe\">\n",
       "  <thead>\n",
       "    <tr style=\"text-align: right;\">\n",
       "      <th>name</th>\n",
       "      <th>0.6 Cu. Ft. Letter A4 Size Waterproof 30 Min. Fire File Chest</th>\n",
       "      <th>100:Complete First Season (blu-Ray)</th>\n",
       "      <th>2017-2018 Brownline174 Duraflex 14-Month Planner 8 1/2 X 11 Black</th>\n",
       "      <th>2x Ultra Era with Oxi Booster, 50fl oz</th>\n",
       "      <th>42 Dual Drop Leaf Table with 2 Madrid Chairs\"</th>\n",
       "      <th>4C Grated Parmesan Cheese 100% Natural 8oz Shaker</th>\n",
       "      <th>Africa's Best No-Lye Dual Conditioning Relaxer System Super</th>\n",
       "      <th>Alberto VO5 Salon Series Smooth Plus Sleek Shampoo</th>\n",
       "      <th>Alex Cross (dvdvideo)</th>\n",
       "      <th>All,bran Complete Wheat Flakes, 18 Oz.</th>\n",
       "      <th>...</th>\n",
       "      <th>Voortman Sugar Free Fudge Chocolate Chip Cookies</th>\n",
       "      <th>Wagan Smartac 80watt Inverter With Usb</th>\n",
       "      <th>Walkers Stem Ginger Shortbread</th>\n",
       "      <th>Way Basics 3-Shelf Eco Narrow Bookcase Storage Shelf, Espresso - Formaldehyde Free - Lifetime Guarantee</th>\n",
       "      <th>Wedding Wishes Wedding Guest Book</th>\n",
       "      <th>Weleda Everon Lip Balm</th>\n",
       "      <th>Wilton Black Dots Standard Baking Cups</th>\n",
       "      <th>Windex Original Glass Cleaner Refill 67.6oz (2 Liter)</th>\n",
       "      <th>Yes To Carrots Nourishing Body Wash</th>\n",
       "      <th>Yes To Grapefruit Rejuvenating Body Wash</th>\n",
       "    </tr>\n",
       "    <tr>\n",
       "      <th>reviews_username</th>\n",
       "      <th></th>\n",
       "      <th></th>\n",
       "      <th></th>\n",
       "      <th></th>\n",
       "      <th></th>\n",
       "      <th></th>\n",
       "      <th></th>\n",
       "      <th></th>\n",
       "      <th></th>\n",
       "      <th></th>\n",
       "      <th></th>\n",
       "      <th></th>\n",
       "      <th></th>\n",
       "      <th></th>\n",
       "      <th></th>\n",
       "      <th></th>\n",
       "      <th></th>\n",
       "      <th></th>\n",
       "      <th></th>\n",
       "      <th></th>\n",
       "      <th></th>\n",
       "    </tr>\n",
       "  </thead>\n",
       "  <tbody>\n",
       "    <tr>\n",
       "      <th>00sab00</th>\n",
       "      <td>NaN</td>\n",
       "      <td>NaN</td>\n",
       "      <td>NaN</td>\n",
       "      <td>NaN</td>\n",
       "      <td>NaN</td>\n",
       "      <td>NaN</td>\n",
       "      <td>NaN</td>\n",
       "      <td>NaN</td>\n",
       "      <td>NaN</td>\n",
       "      <td>NaN</td>\n",
       "      <td>...</td>\n",
       "      <td>NaN</td>\n",
       "      <td>NaN</td>\n",
       "      <td>NaN</td>\n",
       "      <td>NaN</td>\n",
       "      <td>NaN</td>\n",
       "      <td>NaN</td>\n",
       "      <td>NaN</td>\n",
       "      <td>NaN</td>\n",
       "      <td>NaN</td>\n",
       "      <td>NaN</td>\n",
       "    </tr>\n",
       "  </tbody>\n",
       "</table>\n",
       "<p>1 rows × 237 columns</p>\n",
       "</div>"
      ],
      "text/plain": [
       "name              0.6 Cu. Ft. Letter A4 Size Waterproof 30 Min. Fire File Chest  \\\n",
       "reviews_username                                                                  \n",
       "00sab00                                                         NaN               \n",
       "\n",
       "name              100:Complete First Season (blu-Ray)  \\\n",
       "reviews_username                                        \n",
       "00sab00                                           NaN   \n",
       "\n",
       "name              2017-2018 Brownline174 Duraflex 14-Month Planner 8 1/2 X 11 Black  \\\n",
       "reviews_username                                                                      \n",
       "00sab00                                                         NaN                   \n",
       "\n",
       "name              2x Ultra Era with Oxi Booster, 50fl oz  \\\n",
       "reviews_username                                           \n",
       "00sab00                                              NaN   \n",
       "\n",
       "name              42 Dual Drop Leaf Table with 2 Madrid Chairs\"  \\\n",
       "reviews_username                                                  \n",
       "00sab00                                                     NaN   \n",
       "\n",
       "name              4C Grated Parmesan Cheese 100% Natural 8oz Shaker  \\\n",
       "reviews_username                                                      \n",
       "00sab00                                                         NaN   \n",
       "\n",
       "name              Africa's Best No-Lye Dual Conditioning Relaxer System Super  \\\n",
       "reviews_username                                                                \n",
       "00sab00                                                         NaN             \n",
       "\n",
       "name              Alberto VO5 Salon Series Smooth Plus Sleek Shampoo  \\\n",
       "reviews_username                                                       \n",
       "00sab00                                                         NaN    \n",
       "\n",
       "name              Alex Cross (dvdvideo)  \\\n",
       "reviews_username                          \n",
       "00sab00                             NaN   \n",
       "\n",
       "name              All,bran Complete Wheat Flakes, 18 Oz.  ...  \\\n",
       "reviews_username                                          ...   \n",
       "00sab00                                              NaN  ...   \n",
       "\n",
       "name              Voortman Sugar Free Fudge Chocolate Chip Cookies  \\\n",
       "reviews_username                                                     \n",
       "00sab00                                                        NaN   \n",
       "\n",
       "name              Wagan Smartac 80watt Inverter With Usb  \\\n",
       "reviews_username                                           \n",
       "00sab00                                              NaN   \n",
       "\n",
       "name              Walkers Stem Ginger Shortbread  \\\n",
       "reviews_username                                   \n",
       "00sab00                                      NaN   \n",
       "\n",
       "name              Way Basics 3-Shelf Eco Narrow Bookcase Storage Shelf, Espresso - Formaldehyde Free - Lifetime Guarantee  \\\n",
       "reviews_username                                                                                                            \n",
       "00sab00                                                         NaN                                                         \n",
       "\n",
       "name              Wedding Wishes Wedding Guest Book  Weleda Everon Lip Balm  \\\n",
       "reviews_username                                                              \n",
       "00sab00                                         NaN                     NaN   \n",
       "\n",
       "name              Wilton Black Dots Standard Baking Cups  \\\n",
       "reviews_username                                           \n",
       "00sab00                                              NaN   \n",
       "\n",
       "name              Windex Original Glass Cleaner Refill 67.6oz (2 Liter)  \\\n",
       "reviews_username                                                          \n",
       "00sab00                                                         NaN       \n",
       "\n",
       "name              Yes To Carrots Nourishing Body Wash  \\\n",
       "reviews_username                                        \n",
       "00sab00                                           NaN   \n",
       "\n",
       "name              Yes To Grapefruit Rejuvenating Body Wash  \n",
       "reviews_username                                            \n",
       "00sab00                                                NaN  \n",
       "\n",
       "[1 rows x 237 columns]"
      ]
     },
     "execution_count": 77,
     "metadata": {},
     "output_type": "execute_result"
    }
   ],
   "source": [
    "df_subtracted.head(1)"
   ]
  },
  {
   "cell_type": "code",
   "execution_count": 78,
   "metadata": {
    "colab": {
     "base_uri": "https://localhost:8080/",
     "height": 331
    },
    "id": "1QvA8vYk3TAR",
    "outputId": "8710f8fe-cc42-4119-87c3-a647ab588de5"
   },
   "outputs": [
    {
     "data": {
      "text/html": [
       "<div>\n",
       "<style scoped>\n",
       "    .dataframe tbody tr th:only-of-type {\n",
       "        vertical-align: middle;\n",
       "    }\n",
       "\n",
       "    .dataframe tbody tr th {\n",
       "        vertical-align: top;\n",
       "    }\n",
       "\n",
       "    .dataframe thead th {\n",
       "        text-align: right;\n",
       "    }\n",
       "</style>\n",
       "<table border=\"1\" class=\"dataframe\">\n",
       "  <thead>\n",
       "    <tr style=\"text-align: right;\">\n",
       "      <th></th>\n",
       "      <th>0</th>\n",
       "      <th>1</th>\n",
       "      <th>2</th>\n",
       "      <th>3</th>\n",
       "      <th>4</th>\n",
       "      <th>5</th>\n",
       "      <th>6</th>\n",
       "      <th>7</th>\n",
       "      <th>8</th>\n",
       "      <th>9</th>\n",
       "      <th>...</th>\n",
       "      <th>17722</th>\n",
       "      <th>17723</th>\n",
       "      <th>17724</th>\n",
       "      <th>17725</th>\n",
       "      <th>17726</th>\n",
       "      <th>17727</th>\n",
       "      <th>17728</th>\n",
       "      <th>17729</th>\n",
       "      <th>17730</th>\n",
       "      <th>17731</th>\n",
       "    </tr>\n",
       "    <tr>\n",
       "      <th>reviews_username</th>\n",
       "      <th></th>\n",
       "      <th></th>\n",
       "      <th></th>\n",
       "      <th></th>\n",
       "      <th></th>\n",
       "      <th></th>\n",
       "      <th></th>\n",
       "      <th></th>\n",
       "      <th></th>\n",
       "      <th></th>\n",
       "      <th></th>\n",
       "      <th></th>\n",
       "      <th></th>\n",
       "      <th></th>\n",
       "      <th></th>\n",
       "      <th></th>\n",
       "      <th></th>\n",
       "      <th></th>\n",
       "      <th></th>\n",
       "      <th></th>\n",
       "      <th></th>\n",
       "    </tr>\n",
       "  </thead>\n",
       "  <tbody>\n",
       "    <tr>\n",
       "      <th>00sab00</th>\n",
       "      <td>0.0</td>\n",
       "      <td>0.0</td>\n",
       "      <td>0.0</td>\n",
       "      <td>0.0</td>\n",
       "      <td>0.0</td>\n",
       "      <td>0.0</td>\n",
       "      <td>0.0</td>\n",
       "      <td>0.0</td>\n",
       "      <td>0.0</td>\n",
       "      <td>0.0</td>\n",
       "      <td>...</td>\n",
       "      <td>0.0</td>\n",
       "      <td>0.0</td>\n",
       "      <td>0.0</td>\n",
       "      <td>0.0</td>\n",
       "      <td>0.0</td>\n",
       "      <td>0.0</td>\n",
       "      <td>0.0</td>\n",
       "      <td>0.0</td>\n",
       "      <td>0.0</td>\n",
       "      <td>0.0</td>\n",
       "    </tr>\n",
       "    <tr>\n",
       "      <th>02dakota</th>\n",
       "      <td>0.0</td>\n",
       "      <td>0.0</td>\n",
       "      <td>0.0</td>\n",
       "      <td>0.0</td>\n",
       "      <td>0.0</td>\n",
       "      <td>0.0</td>\n",
       "      <td>0.0</td>\n",
       "      <td>0.0</td>\n",
       "      <td>0.0</td>\n",
       "      <td>0.0</td>\n",
       "      <td>...</td>\n",
       "      <td>0.0</td>\n",
       "      <td>0.0</td>\n",
       "      <td>0.0</td>\n",
       "      <td>0.0</td>\n",
       "      <td>0.0</td>\n",
       "      <td>0.0</td>\n",
       "      <td>0.0</td>\n",
       "      <td>0.0</td>\n",
       "      <td>0.0</td>\n",
       "      <td>0.0</td>\n",
       "    </tr>\n",
       "    <tr>\n",
       "      <th>02deuce</th>\n",
       "      <td>0.0</td>\n",
       "      <td>0.0</td>\n",
       "      <td>0.0</td>\n",
       "      <td>0.0</td>\n",
       "      <td>0.0</td>\n",
       "      <td>0.0</td>\n",
       "      <td>0.0</td>\n",
       "      <td>0.0</td>\n",
       "      <td>0.0</td>\n",
       "      <td>0.0</td>\n",
       "      <td>...</td>\n",
       "      <td>0.0</td>\n",
       "      <td>0.0</td>\n",
       "      <td>0.0</td>\n",
       "      <td>0.0</td>\n",
       "      <td>0.0</td>\n",
       "      <td>0.0</td>\n",
       "      <td>0.0</td>\n",
       "      <td>0.0</td>\n",
       "      <td>0.0</td>\n",
       "      <td>0.0</td>\n",
       "    </tr>\n",
       "    <tr>\n",
       "      <th>0325home</th>\n",
       "      <td>0.0</td>\n",
       "      <td>0.0</td>\n",
       "      <td>0.0</td>\n",
       "      <td>0.0</td>\n",
       "      <td>0.0</td>\n",
       "      <td>0.0</td>\n",
       "      <td>0.0</td>\n",
       "      <td>0.0</td>\n",
       "      <td>0.0</td>\n",
       "      <td>0.0</td>\n",
       "      <td>...</td>\n",
       "      <td>0.0</td>\n",
       "      <td>0.0</td>\n",
       "      <td>0.0</td>\n",
       "      <td>0.0</td>\n",
       "      <td>0.0</td>\n",
       "      <td>0.0</td>\n",
       "      <td>0.0</td>\n",
       "      <td>0.0</td>\n",
       "      <td>0.0</td>\n",
       "      <td>0.0</td>\n",
       "    </tr>\n",
       "    <tr>\n",
       "      <th>06stidriver</th>\n",
       "      <td>0.0</td>\n",
       "      <td>0.0</td>\n",
       "      <td>0.0</td>\n",
       "      <td>0.0</td>\n",
       "      <td>0.0</td>\n",
       "      <td>0.0</td>\n",
       "      <td>0.0</td>\n",
       "      <td>0.0</td>\n",
       "      <td>0.0</td>\n",
       "      <td>0.0</td>\n",
       "      <td>...</td>\n",
       "      <td>0.0</td>\n",
       "      <td>0.0</td>\n",
       "      <td>0.0</td>\n",
       "      <td>0.0</td>\n",
       "      <td>0.0</td>\n",
       "      <td>0.0</td>\n",
       "      <td>0.0</td>\n",
       "      <td>0.0</td>\n",
       "      <td>0.0</td>\n",
       "      <td>0.0</td>\n",
       "    </tr>\n",
       "  </tbody>\n",
       "</table>\n",
       "<p>5 rows × 17732 columns</p>\n",
       "</div>"
      ],
      "text/plain": [
       "                  0      1      2      3      4      5      6      7      \\\n",
       "reviews_username                                                           \n",
       "00sab00             0.0    0.0    0.0    0.0    0.0    0.0    0.0    0.0   \n",
       "02dakota            0.0    0.0    0.0    0.0    0.0    0.0    0.0    0.0   \n",
       "02deuce             0.0    0.0    0.0    0.0    0.0    0.0    0.0    0.0   \n",
       "0325home            0.0    0.0    0.0    0.0    0.0    0.0    0.0    0.0   \n",
       "06stidriver         0.0    0.0    0.0    0.0    0.0    0.0    0.0    0.0   \n",
       "\n",
       "                  8      9      ...  17722  17723  17724  17725  17726  17727  \\\n",
       "reviews_username                ...                                             \n",
       "00sab00             0.0    0.0  ...    0.0    0.0    0.0    0.0    0.0    0.0   \n",
       "02dakota            0.0    0.0  ...    0.0    0.0    0.0    0.0    0.0    0.0   \n",
       "02deuce             0.0    0.0  ...    0.0    0.0    0.0    0.0    0.0    0.0   \n",
       "0325home            0.0    0.0  ...    0.0    0.0    0.0    0.0    0.0    0.0   \n",
       "06stidriver         0.0    0.0  ...    0.0    0.0    0.0    0.0    0.0    0.0   \n",
       "\n",
       "                  17728  17729  17730  17731  \n",
       "reviews_username                              \n",
       "00sab00             0.0    0.0    0.0    0.0  \n",
       "02dakota            0.0    0.0    0.0    0.0  \n",
       "02deuce             0.0    0.0    0.0    0.0  \n",
       "0325home            0.0    0.0    0.0    0.0  \n",
       "06stidriver         0.0    0.0    0.0    0.0  \n",
       "\n",
       "[5 rows x 17732 columns]"
      ]
     },
     "execution_count": 78,
     "metadata": {},
     "output_type": "execute_result"
    }
   ],
   "source": [
    "user_correlation_df['reviews_username'] = df_subtracted.index\n",
    "user_correlation_df.set_index('reviews_username',inplace=True)\n",
    "user_correlation_df.head()"
   ]
  },
  {
   "cell_type": "code",
   "execution_count": 79,
   "metadata": {
    "id": "LcJIJUx13YkB"
   },
   "outputs": [],
   "source": [
    "list_name = common.reviews_username.tolist()\n",
    "\n",
    "user_correlation_df.columns = df_subtracted.index.tolist()\n",
    "\n",
    "\n",
    "user_correlation_df_1 =  user_correlation_df[user_correlation_df.index.isin(list_name)]"
   ]
  },
  {
   "cell_type": "code",
   "execution_count": 80,
   "metadata": {
    "colab": {
     "base_uri": "https://localhost:8080/"
    },
    "id": "Qk-8_ueO3dF1",
    "outputId": "f66b10b5-467f-4268-d8cc-0570bc82ba19"
   },
   "outputs": [
    {
     "data": {
      "text/plain": [
       "(859, 17732)"
      ]
     },
     "execution_count": 80,
     "metadata": {},
     "output_type": "execute_result"
    }
   ],
   "source": [
    "user_correlation_df_1.shape\n",
    "\n",
    "\n"
   ]
  },
  {
   "cell_type": "code",
   "execution_count": 81,
   "metadata": {
    "colab": {
     "base_uri": "https://localhost:8080/",
     "height": 331
    },
    "id": "RVQFe8sCTGQn",
    "outputId": "539f6937-4b0c-4801-81e0-6f4d204321c1"
   },
   "outputs": [
    {
     "data": {
      "text/html": [
       "<div>\n",
       "<style scoped>\n",
       "    .dataframe tbody tr th:only-of-type {\n",
       "        vertical-align: middle;\n",
       "    }\n",
       "\n",
       "    .dataframe tbody tr th {\n",
       "        vertical-align: top;\n",
       "    }\n",
       "\n",
       "    .dataframe thead th {\n",
       "        text-align: right;\n",
       "    }\n",
       "</style>\n",
       "<table border=\"1\" class=\"dataframe\">\n",
       "  <thead>\n",
       "    <tr style=\"text-align: right;\">\n",
       "      <th></th>\n",
       "      <th>00sab00</th>\n",
       "      <th>1234</th>\n",
       "      <th>1witch</th>\n",
       "      <th>37f5p</th>\n",
       "      <th>abby</th>\n",
       "      <th>acjuarez08</th>\n",
       "      <th>actionaction</th>\n",
       "      <th>adam</th>\n",
       "      <th>adelynsmom</th>\n",
       "      <th>aimee</th>\n",
       "      <th>...</th>\n",
       "      <th>wolverine</th>\n",
       "      <th>woottos</th>\n",
       "      <th>wvshopaholic</th>\n",
       "      <th>xavier</th>\n",
       "      <th>xmom</th>\n",
       "      <th>yeyo</th>\n",
       "      <th>yohnie1</th>\n",
       "      <th>yummy</th>\n",
       "      <th>zach</th>\n",
       "      <th>zmom</th>\n",
       "    </tr>\n",
       "    <tr>\n",
       "      <th>reviews_username</th>\n",
       "      <th></th>\n",
       "      <th></th>\n",
       "      <th></th>\n",
       "      <th></th>\n",
       "      <th></th>\n",
       "      <th></th>\n",
       "      <th></th>\n",
       "      <th></th>\n",
       "      <th></th>\n",
       "      <th></th>\n",
       "      <th></th>\n",
       "      <th></th>\n",
       "      <th></th>\n",
       "      <th></th>\n",
       "      <th></th>\n",
       "      <th></th>\n",
       "      <th></th>\n",
       "      <th></th>\n",
       "      <th></th>\n",
       "      <th></th>\n",
       "      <th></th>\n",
       "    </tr>\n",
       "  </thead>\n",
       "  <tbody>\n",
       "    <tr>\n",
       "      <th>00sab00</th>\n",
       "      <td>0.0</td>\n",
       "      <td>0.0</td>\n",
       "      <td>0.0</td>\n",
       "      <td>0.0</td>\n",
       "      <td>0.0</td>\n",
       "      <td>0.0</td>\n",
       "      <td>0.0</td>\n",
       "      <td>0.0</td>\n",
       "      <td>0.0</td>\n",
       "      <td>0.0</td>\n",
       "      <td>...</td>\n",
       "      <td>0.0</td>\n",
       "      <td>0.0</td>\n",
       "      <td>0.0</td>\n",
       "      <td>0.0</td>\n",
       "      <td>0.0</td>\n",
       "      <td>0.0</td>\n",
       "      <td>0.0</td>\n",
       "      <td>0.0</td>\n",
       "      <td>0.0</td>\n",
       "      <td>0.0</td>\n",
       "    </tr>\n",
       "    <tr>\n",
       "      <th>1234</th>\n",
       "      <td>0.0</td>\n",
       "      <td>0.0</td>\n",
       "      <td>0.0</td>\n",
       "      <td>0.0</td>\n",
       "      <td>0.0</td>\n",
       "      <td>0.0</td>\n",
       "      <td>0.0</td>\n",
       "      <td>0.0</td>\n",
       "      <td>0.0</td>\n",
       "      <td>0.0</td>\n",
       "      <td>...</td>\n",
       "      <td>0.0</td>\n",
       "      <td>0.0</td>\n",
       "      <td>0.0</td>\n",
       "      <td>0.0</td>\n",
       "      <td>0.0</td>\n",
       "      <td>0.0</td>\n",
       "      <td>0.0</td>\n",
       "      <td>0.0</td>\n",
       "      <td>0.0</td>\n",
       "      <td>0.0</td>\n",
       "    </tr>\n",
       "    <tr>\n",
       "      <th>1witch</th>\n",
       "      <td>0.0</td>\n",
       "      <td>0.0</td>\n",
       "      <td>0.0</td>\n",
       "      <td>0.0</td>\n",
       "      <td>0.0</td>\n",
       "      <td>0.0</td>\n",
       "      <td>0.0</td>\n",
       "      <td>0.0</td>\n",
       "      <td>0.0</td>\n",
       "      <td>0.0</td>\n",
       "      <td>...</td>\n",
       "      <td>0.0</td>\n",
       "      <td>0.0</td>\n",
       "      <td>0.0</td>\n",
       "      <td>0.0</td>\n",
       "      <td>0.0</td>\n",
       "      <td>0.0</td>\n",
       "      <td>0.0</td>\n",
       "      <td>0.0</td>\n",
       "      <td>0.0</td>\n",
       "      <td>0.0</td>\n",
       "    </tr>\n",
       "    <tr>\n",
       "      <th>37f5p</th>\n",
       "      <td>0.0</td>\n",
       "      <td>0.0</td>\n",
       "      <td>0.0</td>\n",
       "      <td>0.0</td>\n",
       "      <td>0.0</td>\n",
       "      <td>0.0</td>\n",
       "      <td>0.0</td>\n",
       "      <td>0.0</td>\n",
       "      <td>0.0</td>\n",
       "      <td>0.0</td>\n",
       "      <td>...</td>\n",
       "      <td>0.0</td>\n",
       "      <td>0.0</td>\n",
       "      <td>0.0</td>\n",
       "      <td>0.0</td>\n",
       "      <td>0.0</td>\n",
       "      <td>0.0</td>\n",
       "      <td>0.0</td>\n",
       "      <td>0.0</td>\n",
       "      <td>0.0</td>\n",
       "      <td>0.0</td>\n",
       "    </tr>\n",
       "    <tr>\n",
       "      <th>abby</th>\n",
       "      <td>0.0</td>\n",
       "      <td>0.0</td>\n",
       "      <td>0.0</td>\n",
       "      <td>0.0</td>\n",
       "      <td>0.0</td>\n",
       "      <td>0.0</td>\n",
       "      <td>0.0</td>\n",
       "      <td>0.0</td>\n",
       "      <td>0.0</td>\n",
       "      <td>0.0</td>\n",
       "      <td>...</td>\n",
       "      <td>0.0</td>\n",
       "      <td>0.0</td>\n",
       "      <td>0.0</td>\n",
       "      <td>0.0</td>\n",
       "      <td>0.0</td>\n",
       "      <td>0.0</td>\n",
       "      <td>0.0</td>\n",
       "      <td>0.0</td>\n",
       "      <td>0.0</td>\n",
       "      <td>0.0</td>\n",
       "    </tr>\n",
       "  </tbody>\n",
       "</table>\n",
       "<p>5 rows × 859 columns</p>\n",
       "</div>"
      ],
      "text/plain": [
       "                  00sab00  1234  1witch  37f5p  abby  acjuarez08  \\\n",
       "reviews_username                                                   \n",
       "00sab00               0.0   0.0     0.0    0.0   0.0         0.0   \n",
       "1234                  0.0   0.0     0.0    0.0   0.0         0.0   \n",
       "1witch                0.0   0.0     0.0    0.0   0.0         0.0   \n",
       "37f5p                 0.0   0.0     0.0    0.0   0.0         0.0   \n",
       "abby                  0.0   0.0     0.0    0.0   0.0         0.0   \n",
       "\n",
       "                  actionaction  adam  adelynsmom  aimee  ...  wolverine  \\\n",
       "reviews_username                                         ...              \n",
       "00sab00                    0.0   0.0         0.0    0.0  ...        0.0   \n",
       "1234                       0.0   0.0         0.0    0.0  ...        0.0   \n",
       "1witch                     0.0   0.0         0.0    0.0  ...        0.0   \n",
       "37f5p                      0.0   0.0         0.0    0.0  ...        0.0   \n",
       "abby                       0.0   0.0         0.0    0.0  ...        0.0   \n",
       "\n",
       "                  woottos  wvshopaholic  xavier  xmom  yeyo  yohnie1  yummy  \\\n",
       "reviews_username                                                              \n",
       "00sab00               0.0           0.0     0.0   0.0   0.0      0.0    0.0   \n",
       "1234                  0.0           0.0     0.0   0.0   0.0      0.0    0.0   \n",
       "1witch                0.0           0.0     0.0   0.0   0.0      0.0    0.0   \n",
       "37f5p                 0.0           0.0     0.0   0.0   0.0      0.0    0.0   \n",
       "abby                  0.0           0.0     0.0   0.0   0.0      0.0    0.0   \n",
       "\n",
       "                  zach  zmom  \n",
       "reviews_username              \n",
       "00sab00            0.0   0.0  \n",
       "1234               0.0   0.0  \n",
       "1witch             0.0   0.0  \n",
       "37f5p              0.0   0.0  \n",
       "abby               0.0   0.0  \n",
       "\n",
       "[5 rows x 859 columns]"
      ]
     },
     "execution_count": 81,
     "metadata": {},
     "output_type": "execute_result"
    }
   ],
   "source": [
    "user_correlation_df_2 = user_correlation_df_1.T[user_correlation_df_1.T.index.isin(list_name)]\n",
    "\n",
    "user_correlation_df_3 = user_correlation_df_2.T\n",
    "\n",
    "user_correlation_df_3.head()\n",
    "\n"
   ]
  },
  {
   "cell_type": "code",
   "execution_count": 82,
   "metadata": {
    "id": "nLFQc6_bTIJz"
   },
   "outputs": [],
   "source": [
    "user_correlation_df_3.shape\n",
    "\n",
    "user_correlation_df_3[user_correlation_df_3<0]=0\n",
    "\n"
   ]
  },
  {
   "cell_type": "code",
   "execution_count": 83,
   "metadata": {
    "colab": {
     "base_uri": "https://localhost:8080/",
     "height": 710
    },
    "id": "hR3b6Rd4TYJ9",
    "outputId": "b5aa4955-a435-4a91-8777-f1df099b3cf3"
   },
   "outputs": [
    {
     "data": {
      "text/html": [
       "<div>\n",
       "<style scoped>\n",
       "    .dataframe tbody tr th:only-of-type {\n",
       "        vertical-align: middle;\n",
       "    }\n",
       "\n",
       "    .dataframe tbody tr th {\n",
       "        vertical-align: top;\n",
       "    }\n",
       "\n",
       "    .dataframe thead th {\n",
       "        text-align: right;\n",
       "    }\n",
       "</style>\n",
       "<table border=\"1\" class=\"dataframe\">\n",
       "  <thead>\n",
       "    <tr style=\"text-align: right;\">\n",
       "      <th>name</th>\n",
       "      <th>100:Complete First Season (blu-Ray)</th>\n",
       "      <th>Alex Cross (dvdvideo)</th>\n",
       "      <th>All,bran Complete Wheat Flakes, 18 Oz.</th>\n",
       "      <th>Ambi Complexion Cleansing Bar</th>\n",
       "      <th>Arrid Extra Dry Anti-Perspirant Deodorant Spray Regular</th>\n",
       "      <th>Aussie Aussome Volume Shampoo, 13.5 Oz</th>\n",
       "      <th>Aveeno Baby Continuous Protection Lotion Sunscreen with Broad Spectrum SPF 55, 4oz</th>\n",
       "      <th>Avery174 Ready Index Contemporary Table Of Contents Divider, 1-8, Multi, Letter</th>\n",
       "      <th>Banana Boat Sunless Summer Color Self Tanning Lotion, Light To Medium</th>\n",
       "      <th>Bisquick Original Pancake And Baking Mix - 40oz</th>\n",
       "      <th>...</th>\n",
       "      <th>Various Artists - Choo Choo Soul (cd)</th>\n",
       "      <th>Vaseline Intensive Care Healthy Hands Stronger Nails</th>\n",
       "      <th>Vaseline Intensive Care Lip Therapy Cocoa Butter</th>\n",
       "      <th>Vicks Vaporub, Regular, 3.53oz</th>\n",
       "      <th>Voortman Sugar Free Fudge Chocolate Chip Cookies</th>\n",
       "      <th>Wagan Smartac 80watt Inverter With Usb</th>\n",
       "      <th>Way Basics 3-Shelf Eco Narrow Bookcase Storage Shelf, Espresso - Formaldehyde Free - Lifetime Guarantee</th>\n",
       "      <th>Windex Original Glass Cleaner Refill 67.6oz (2 Liter)</th>\n",
       "      <th>Yes To Carrots Nourishing Body Wash</th>\n",
       "      <th>Yes To Grapefruit Rejuvenating Body Wash</th>\n",
       "    </tr>\n",
       "    <tr>\n",
       "      <th>reviews_username</th>\n",
       "      <th></th>\n",
       "      <th></th>\n",
       "      <th></th>\n",
       "      <th></th>\n",
       "      <th></th>\n",
       "      <th></th>\n",
       "      <th></th>\n",
       "      <th></th>\n",
       "      <th></th>\n",
       "      <th></th>\n",
       "      <th></th>\n",
       "      <th></th>\n",
       "      <th></th>\n",
       "      <th></th>\n",
       "      <th></th>\n",
       "      <th></th>\n",
       "      <th></th>\n",
       "      <th></th>\n",
       "      <th></th>\n",
       "      <th></th>\n",
       "      <th></th>\n",
       "    </tr>\n",
       "  </thead>\n",
       "  <tbody>\n",
       "    <tr>\n",
       "      <th>00sab00</th>\n",
       "      <td>NaN</td>\n",
       "      <td>NaN</td>\n",
       "      <td>NaN</td>\n",
       "      <td>NaN</td>\n",
       "      <td>NaN</td>\n",
       "      <td>NaN</td>\n",
       "      <td>NaN</td>\n",
       "      <td>NaN</td>\n",
       "      <td>NaN</td>\n",
       "      <td>NaN</td>\n",
       "      <td>...</td>\n",
       "      <td>NaN</td>\n",
       "      <td>NaN</td>\n",
       "      <td>NaN</td>\n",
       "      <td>NaN</td>\n",
       "      <td>NaN</td>\n",
       "      <td>NaN</td>\n",
       "      <td>NaN</td>\n",
       "      <td>NaN</td>\n",
       "      <td>NaN</td>\n",
       "      <td>NaN</td>\n",
       "    </tr>\n",
       "    <tr>\n",
       "      <th>1234</th>\n",
       "      <td>NaN</td>\n",
       "      <td>NaN</td>\n",
       "      <td>NaN</td>\n",
       "      <td>NaN</td>\n",
       "      <td>NaN</td>\n",
       "      <td>NaN</td>\n",
       "      <td>NaN</td>\n",
       "      <td>NaN</td>\n",
       "      <td>NaN</td>\n",
       "      <td>NaN</td>\n",
       "      <td>...</td>\n",
       "      <td>NaN</td>\n",
       "      <td>NaN</td>\n",
       "      <td>NaN</td>\n",
       "      <td>NaN</td>\n",
       "      <td>NaN</td>\n",
       "      <td>NaN</td>\n",
       "      <td>NaN</td>\n",
       "      <td>NaN</td>\n",
       "      <td>NaN</td>\n",
       "      <td>NaN</td>\n",
       "    </tr>\n",
       "    <tr>\n",
       "      <th>1witch</th>\n",
       "      <td>NaN</td>\n",
       "      <td>NaN</td>\n",
       "      <td>NaN</td>\n",
       "      <td>NaN</td>\n",
       "      <td>NaN</td>\n",
       "      <td>NaN</td>\n",
       "      <td>NaN</td>\n",
       "      <td>NaN</td>\n",
       "      <td>NaN</td>\n",
       "      <td>NaN</td>\n",
       "      <td>...</td>\n",
       "      <td>NaN</td>\n",
       "      <td>NaN</td>\n",
       "      <td>NaN</td>\n",
       "      <td>NaN</td>\n",
       "      <td>NaN</td>\n",
       "      <td>NaN</td>\n",
       "      <td>NaN</td>\n",
       "      <td>NaN</td>\n",
       "      <td>NaN</td>\n",
       "      <td>NaN</td>\n",
       "    </tr>\n",
       "    <tr>\n",
       "      <th>37f5p</th>\n",
       "      <td>5.0</td>\n",
       "      <td>NaN</td>\n",
       "      <td>NaN</td>\n",
       "      <td>NaN</td>\n",
       "      <td>NaN</td>\n",
       "      <td>NaN</td>\n",
       "      <td>NaN</td>\n",
       "      <td>NaN</td>\n",
       "      <td>NaN</td>\n",
       "      <td>NaN</td>\n",
       "      <td>...</td>\n",
       "      <td>NaN</td>\n",
       "      <td>NaN</td>\n",
       "      <td>NaN</td>\n",
       "      <td>NaN</td>\n",
       "      <td>NaN</td>\n",
       "      <td>NaN</td>\n",
       "      <td>NaN</td>\n",
       "      <td>NaN</td>\n",
       "      <td>NaN</td>\n",
       "      <td>NaN</td>\n",
       "    </tr>\n",
       "    <tr>\n",
       "      <th>abby</th>\n",
       "      <td>NaN</td>\n",
       "      <td>NaN</td>\n",
       "      <td>NaN</td>\n",
       "      <td>NaN</td>\n",
       "      <td>NaN</td>\n",
       "      <td>NaN</td>\n",
       "      <td>NaN</td>\n",
       "      <td>NaN</td>\n",
       "      <td>NaN</td>\n",
       "      <td>NaN</td>\n",
       "      <td>...</td>\n",
       "      <td>NaN</td>\n",
       "      <td>NaN</td>\n",
       "      <td>NaN</td>\n",
       "      <td>NaN</td>\n",
       "      <td>NaN</td>\n",
       "      <td>NaN</td>\n",
       "      <td>NaN</td>\n",
       "      <td>NaN</td>\n",
       "      <td>NaN</td>\n",
       "      <td>NaN</td>\n",
       "    </tr>\n",
       "    <tr>\n",
       "      <th>...</th>\n",
       "      <td>...</td>\n",
       "      <td>...</td>\n",
       "      <td>...</td>\n",
       "      <td>...</td>\n",
       "      <td>...</td>\n",
       "      <td>...</td>\n",
       "      <td>...</td>\n",
       "      <td>...</td>\n",
       "      <td>...</td>\n",
       "      <td>...</td>\n",
       "      <td>...</td>\n",
       "      <td>...</td>\n",
       "      <td>...</td>\n",
       "      <td>...</td>\n",
       "      <td>...</td>\n",
       "      <td>...</td>\n",
       "      <td>...</td>\n",
       "      <td>...</td>\n",
       "      <td>...</td>\n",
       "      <td>...</td>\n",
       "      <td>...</td>\n",
       "    </tr>\n",
       "    <tr>\n",
       "      <th>yeyo</th>\n",
       "      <td>NaN</td>\n",
       "      <td>NaN</td>\n",
       "      <td>NaN</td>\n",
       "      <td>NaN</td>\n",
       "      <td>NaN</td>\n",
       "      <td>NaN</td>\n",
       "      <td>NaN</td>\n",
       "      <td>NaN</td>\n",
       "      <td>NaN</td>\n",
       "      <td>NaN</td>\n",
       "      <td>...</td>\n",
       "      <td>NaN</td>\n",
       "      <td>NaN</td>\n",
       "      <td>NaN</td>\n",
       "      <td>NaN</td>\n",
       "      <td>NaN</td>\n",
       "      <td>NaN</td>\n",
       "      <td>NaN</td>\n",
       "      <td>NaN</td>\n",
       "      <td>NaN</td>\n",
       "      <td>NaN</td>\n",
       "    </tr>\n",
       "    <tr>\n",
       "      <th>yohnie1</th>\n",
       "      <td>NaN</td>\n",
       "      <td>NaN</td>\n",
       "      <td>NaN</td>\n",
       "      <td>NaN</td>\n",
       "      <td>NaN</td>\n",
       "      <td>NaN</td>\n",
       "      <td>NaN</td>\n",
       "      <td>NaN</td>\n",
       "      <td>NaN</td>\n",
       "      <td>NaN</td>\n",
       "      <td>...</td>\n",
       "      <td>NaN</td>\n",
       "      <td>NaN</td>\n",
       "      <td>NaN</td>\n",
       "      <td>NaN</td>\n",
       "      <td>NaN</td>\n",
       "      <td>NaN</td>\n",
       "      <td>NaN</td>\n",
       "      <td>NaN</td>\n",
       "      <td>NaN</td>\n",
       "      <td>NaN</td>\n",
       "    </tr>\n",
       "    <tr>\n",
       "      <th>yummy</th>\n",
       "      <td>NaN</td>\n",
       "      <td>NaN</td>\n",
       "      <td>NaN</td>\n",
       "      <td>NaN</td>\n",
       "      <td>NaN</td>\n",
       "      <td>NaN</td>\n",
       "      <td>NaN</td>\n",
       "      <td>NaN</td>\n",
       "      <td>NaN</td>\n",
       "      <td>NaN</td>\n",
       "      <td>...</td>\n",
       "      <td>NaN</td>\n",
       "      <td>NaN</td>\n",
       "      <td>NaN</td>\n",
       "      <td>NaN</td>\n",
       "      <td>NaN</td>\n",
       "      <td>NaN</td>\n",
       "      <td>NaN</td>\n",
       "      <td>NaN</td>\n",
       "      <td>NaN</td>\n",
       "      <td>NaN</td>\n",
       "    </tr>\n",
       "    <tr>\n",
       "      <th>zach</th>\n",
       "      <td>NaN</td>\n",
       "      <td>NaN</td>\n",
       "      <td>NaN</td>\n",
       "      <td>NaN</td>\n",
       "      <td>NaN</td>\n",
       "      <td>NaN</td>\n",
       "      <td>NaN</td>\n",
       "      <td>NaN</td>\n",
       "      <td>NaN</td>\n",
       "      <td>NaN</td>\n",
       "      <td>...</td>\n",
       "      <td>NaN</td>\n",
       "      <td>NaN</td>\n",
       "      <td>NaN</td>\n",
       "      <td>NaN</td>\n",
       "      <td>NaN</td>\n",
       "      <td>NaN</td>\n",
       "      <td>NaN</td>\n",
       "      <td>NaN</td>\n",
       "      <td>NaN</td>\n",
       "      <td>NaN</td>\n",
       "    </tr>\n",
       "    <tr>\n",
       "      <th>zmom</th>\n",
       "      <td>NaN</td>\n",
       "      <td>NaN</td>\n",
       "      <td>NaN</td>\n",
       "      <td>NaN</td>\n",
       "      <td>NaN</td>\n",
       "      <td>NaN</td>\n",
       "      <td>NaN</td>\n",
       "      <td>NaN</td>\n",
       "      <td>NaN</td>\n",
       "      <td>NaN</td>\n",
       "      <td>...</td>\n",
       "      <td>NaN</td>\n",
       "      <td>NaN</td>\n",
       "      <td>NaN</td>\n",
       "      <td>NaN</td>\n",
       "      <td>NaN</td>\n",
       "      <td>NaN</td>\n",
       "      <td>NaN</td>\n",
       "      <td>NaN</td>\n",
       "      <td>NaN</td>\n",
       "      <td>NaN</td>\n",
       "    </tr>\n",
       "  </tbody>\n",
       "</table>\n",
       "<p>859 rows × 112 columns</p>\n",
       "</div>"
      ],
      "text/plain": [
       "name              100:Complete First Season (blu-Ray)  Alex Cross (dvdvideo)  \\\n",
       "reviews_username                                                               \n",
       "00sab00                                           NaN                    NaN   \n",
       "1234                                              NaN                    NaN   \n",
       "1witch                                            NaN                    NaN   \n",
       "37f5p                                             5.0                    NaN   \n",
       "abby                                              NaN                    NaN   \n",
       "...                                               ...                    ...   \n",
       "yeyo                                              NaN                    NaN   \n",
       "yohnie1                                           NaN                    NaN   \n",
       "yummy                                             NaN                    NaN   \n",
       "zach                                              NaN                    NaN   \n",
       "zmom                                              NaN                    NaN   \n",
       "\n",
       "name              All,bran Complete Wheat Flakes, 18 Oz.  \\\n",
       "reviews_username                                           \n",
       "00sab00                                              NaN   \n",
       "1234                                                 NaN   \n",
       "1witch                                               NaN   \n",
       "37f5p                                                NaN   \n",
       "abby                                                 NaN   \n",
       "...                                                  ...   \n",
       "yeyo                                                 NaN   \n",
       "yohnie1                                              NaN   \n",
       "yummy                                                NaN   \n",
       "zach                                                 NaN   \n",
       "zmom                                                 NaN   \n",
       "\n",
       "name              Ambi Complexion Cleansing Bar  \\\n",
       "reviews_username                                  \n",
       "00sab00                                     NaN   \n",
       "1234                                        NaN   \n",
       "1witch                                      NaN   \n",
       "37f5p                                       NaN   \n",
       "abby                                        NaN   \n",
       "...                                         ...   \n",
       "yeyo                                        NaN   \n",
       "yohnie1                                     NaN   \n",
       "yummy                                       NaN   \n",
       "zach                                        NaN   \n",
       "zmom                                        NaN   \n",
       "\n",
       "name              Arrid Extra Dry Anti-Perspirant Deodorant Spray Regular  \\\n",
       "reviews_username                                                            \n",
       "00sab00                                                         NaN         \n",
       "1234                                                            NaN         \n",
       "1witch                                                          NaN         \n",
       "37f5p                                                           NaN         \n",
       "abby                                                            NaN         \n",
       "...                                                             ...         \n",
       "yeyo                                                            NaN         \n",
       "yohnie1                                                         NaN         \n",
       "yummy                                                           NaN         \n",
       "zach                                                            NaN         \n",
       "zmom                                                            NaN         \n",
       "\n",
       "name              Aussie Aussome Volume Shampoo, 13.5 Oz  \\\n",
       "reviews_username                                           \n",
       "00sab00                                              NaN   \n",
       "1234                                                 NaN   \n",
       "1witch                                               NaN   \n",
       "37f5p                                                NaN   \n",
       "abby                                                 NaN   \n",
       "...                                                  ...   \n",
       "yeyo                                                 NaN   \n",
       "yohnie1                                              NaN   \n",
       "yummy                                                NaN   \n",
       "zach                                                 NaN   \n",
       "zmom                                                 NaN   \n",
       "\n",
       "name              Aveeno Baby Continuous Protection Lotion Sunscreen with Broad Spectrum SPF 55, 4oz  \\\n",
       "reviews_username                                                                                       \n",
       "00sab00                                                         NaN                                    \n",
       "1234                                                            NaN                                    \n",
       "1witch                                                          NaN                                    \n",
       "37f5p                                                           NaN                                    \n",
       "abby                                                            NaN                                    \n",
       "...                                                             ...                                    \n",
       "yeyo                                                            NaN                                    \n",
       "yohnie1                                                         NaN                                    \n",
       "yummy                                                           NaN                                    \n",
       "zach                                                            NaN                                    \n",
       "zmom                                                            NaN                                    \n",
       "\n",
       "name              Avery174 Ready Index Contemporary Table Of Contents Divider, 1-8, Multi, Letter  \\\n",
       "reviews_username                                                                                    \n",
       "00sab00                                                         NaN                                 \n",
       "1234                                                            NaN                                 \n",
       "1witch                                                          NaN                                 \n",
       "37f5p                                                           NaN                                 \n",
       "abby                                                            NaN                                 \n",
       "...                                                             ...                                 \n",
       "yeyo                                                            NaN                                 \n",
       "yohnie1                                                         NaN                                 \n",
       "yummy                                                           NaN                                 \n",
       "zach                                                            NaN                                 \n",
       "zmom                                                            NaN                                 \n",
       "\n",
       "name              Banana Boat Sunless Summer Color Self Tanning Lotion, Light To Medium  \\\n",
       "reviews_username                                                                          \n",
       "00sab00                                                         NaN                       \n",
       "1234                                                            NaN                       \n",
       "1witch                                                          NaN                       \n",
       "37f5p                                                           NaN                       \n",
       "abby                                                            NaN                       \n",
       "...                                                             ...                       \n",
       "yeyo                                                            NaN                       \n",
       "yohnie1                                                         NaN                       \n",
       "yummy                                                           NaN                       \n",
       "zach                                                            NaN                       \n",
       "zmom                                                            NaN                       \n",
       "\n",
       "name              Bisquick Original Pancake And Baking Mix - 40oz  ...  \\\n",
       "reviews_username                                                   ...   \n",
       "00sab00                                                       NaN  ...   \n",
       "1234                                                          NaN  ...   \n",
       "1witch                                                        NaN  ...   \n",
       "37f5p                                                         NaN  ...   \n",
       "abby                                                          NaN  ...   \n",
       "...                                                           ...  ...   \n",
       "yeyo                                                          NaN  ...   \n",
       "yohnie1                                                       NaN  ...   \n",
       "yummy                                                         NaN  ...   \n",
       "zach                                                          NaN  ...   \n",
       "zmom                                                          NaN  ...   \n",
       "\n",
       "name              Various Artists - Choo Choo Soul (cd)  \\\n",
       "reviews_username                                          \n",
       "00sab00                                             NaN   \n",
       "1234                                                NaN   \n",
       "1witch                                              NaN   \n",
       "37f5p                                               NaN   \n",
       "abby                                                NaN   \n",
       "...                                                 ...   \n",
       "yeyo                                                NaN   \n",
       "yohnie1                                             NaN   \n",
       "yummy                                               NaN   \n",
       "zach                                                NaN   \n",
       "zmom                                                NaN   \n",
       "\n",
       "name              Vaseline Intensive Care Healthy Hands Stronger Nails  \\\n",
       "reviews_username                                                         \n",
       "00sab00                                                         NaN      \n",
       "1234                                                            NaN      \n",
       "1witch                                                          NaN      \n",
       "37f5p                                                           NaN      \n",
       "abby                                                            NaN      \n",
       "...                                                             ...      \n",
       "yeyo                                                            NaN      \n",
       "yohnie1                                                         NaN      \n",
       "yummy                                                           NaN      \n",
       "zach                                                            NaN      \n",
       "zmom                                                            NaN      \n",
       "\n",
       "name              Vaseline Intensive Care Lip Therapy Cocoa Butter  \\\n",
       "reviews_username                                                     \n",
       "00sab00                                                        NaN   \n",
       "1234                                                           NaN   \n",
       "1witch                                                         NaN   \n",
       "37f5p                                                          NaN   \n",
       "abby                                                           NaN   \n",
       "...                                                            ...   \n",
       "yeyo                                                           NaN   \n",
       "yohnie1                                                        NaN   \n",
       "yummy                                                          NaN   \n",
       "zach                                                           NaN   \n",
       "zmom                                                           NaN   \n",
       "\n",
       "name              Vicks Vaporub, Regular, 3.53oz  \\\n",
       "reviews_username                                   \n",
       "00sab00                                      NaN   \n",
       "1234                                         NaN   \n",
       "1witch                                       NaN   \n",
       "37f5p                                        NaN   \n",
       "abby                                         NaN   \n",
       "...                                          ...   \n",
       "yeyo                                         NaN   \n",
       "yohnie1                                      NaN   \n",
       "yummy                                        NaN   \n",
       "zach                                         NaN   \n",
       "zmom                                         NaN   \n",
       "\n",
       "name              Voortman Sugar Free Fudge Chocolate Chip Cookies  \\\n",
       "reviews_username                                                     \n",
       "00sab00                                                        NaN   \n",
       "1234                                                           NaN   \n",
       "1witch                                                         NaN   \n",
       "37f5p                                                          NaN   \n",
       "abby                                                           NaN   \n",
       "...                                                            ...   \n",
       "yeyo                                                           NaN   \n",
       "yohnie1                                                        NaN   \n",
       "yummy                                                          NaN   \n",
       "zach                                                           NaN   \n",
       "zmom                                                           NaN   \n",
       "\n",
       "name              Wagan Smartac 80watt Inverter With Usb  \\\n",
       "reviews_username                                           \n",
       "00sab00                                              NaN   \n",
       "1234                                                 NaN   \n",
       "1witch                                               NaN   \n",
       "37f5p                                                NaN   \n",
       "abby                                                 NaN   \n",
       "...                                                  ...   \n",
       "yeyo                                                 NaN   \n",
       "yohnie1                                              NaN   \n",
       "yummy                                                NaN   \n",
       "zach                                                 NaN   \n",
       "zmom                                                 NaN   \n",
       "\n",
       "name              Way Basics 3-Shelf Eco Narrow Bookcase Storage Shelf, Espresso - Formaldehyde Free - Lifetime Guarantee  \\\n",
       "reviews_username                                                                                                            \n",
       "00sab00                                                         NaN                                                         \n",
       "1234                                                            NaN                                                         \n",
       "1witch                                                          NaN                                                         \n",
       "37f5p                                                           NaN                                                         \n",
       "abby                                                            NaN                                                         \n",
       "...                                                             ...                                                         \n",
       "yeyo                                                            NaN                                                         \n",
       "yohnie1                                                         NaN                                                         \n",
       "yummy                                                           NaN                                                         \n",
       "zach                                                            NaN                                                         \n",
       "zmom                                                            NaN                                                         \n",
       "\n",
       "name              Windex Original Glass Cleaner Refill 67.6oz (2 Liter)  \\\n",
       "reviews_username                                                          \n",
       "00sab00                                                         NaN       \n",
       "1234                                                            NaN       \n",
       "1witch                                                          NaN       \n",
       "37f5p                                                           NaN       \n",
       "abby                                                            NaN       \n",
       "...                                                             ...       \n",
       "yeyo                                                            NaN       \n",
       "yohnie1                                                         NaN       \n",
       "yummy                                                           NaN       \n",
       "zach                                                            NaN       \n",
       "zmom                                                            NaN       \n",
       "\n",
       "name              Yes To Carrots Nourishing Body Wash  \\\n",
       "reviews_username                                        \n",
       "00sab00                                           NaN   \n",
       "1234                                              NaN   \n",
       "1witch                                            NaN   \n",
       "37f5p                                             NaN   \n",
       "abby                                              NaN   \n",
       "...                                               ...   \n",
       "yeyo                                              NaN   \n",
       "yohnie1                                           NaN   \n",
       "yummy                                             NaN   \n",
       "zach                                              NaN   \n",
       "zmom                                              NaN   \n",
       "\n",
       "name              Yes To Grapefruit Rejuvenating Body Wash  \n",
       "reviews_username                                            \n",
       "00sab00                                                NaN  \n",
       "1234                                                   NaN  \n",
       "1witch                                                 NaN  \n",
       "37f5p                                                  NaN  \n",
       "abby                                                   NaN  \n",
       "...                                                    ...  \n",
       "yeyo                                                   NaN  \n",
       "yohnie1                                                NaN  \n",
       "yummy                                                  NaN  \n",
       "zach                                                   NaN  \n",
       "zmom                                                   NaN  \n",
       "\n",
       "[859 rows x 112 columns]"
      ]
     },
     "execution_count": 83,
     "metadata": {},
     "output_type": "execute_result"
    }
   ],
   "source": [
    "common_user_based_matrix"
   ]
  },
  {
   "cell_type": "code",
   "execution_count": 84,
   "metadata": {
    "colab": {
     "base_uri": "https://localhost:8080/"
    },
    "id": "HVrWDToATK-W",
    "outputId": "9073a65d-3bc7-4ccf-e387-5531b63d248d"
   },
   "outputs": [
    {
     "data": {
      "text/plain": [
       "array([[0., 0., 0., ..., 0., 0., 0.],\n",
       "       [0., 0., 0., ..., 0., 0., 0.],\n",
       "       [0., 0., 0., ..., 0., 0., 0.],\n",
       "       ...,\n",
       "       [0., 0., 0., ..., 0., 0., 0.],\n",
       "       [0., 0., 0., ..., 0., 0., 0.],\n",
       "       [0., 0., 0., ..., 0., 0., 0.]])"
      ]
     },
     "execution_count": 84,
     "metadata": {},
     "output_type": "execute_result"
    }
   ],
   "source": [
    "common_user_predicted_ratings = np.dot(user_correlation_df_3, common_user_based_matrix.fillna(0))\n",
    "common_user_predicted_ratings\n",
    "\n",
    "\n"
   ]
  },
  {
   "cell_type": "code",
   "execution_count": 85,
   "metadata": {
    "id": "Rv8pONm33uId"
   },
   "outputs": [
    {
     "name": "stdout",
     "output_type": "stream",
     "text": [
      "(859, 112)\n"
     ]
    }
   ],
   "source": [
    "dummy_test = common.copy()\n",
    "dummy_test['reviews_rating'] = dummy_test['reviews_rating'].apply(lambda x: 1 if x>0 else 0)\n",
    "\n",
    "dummy_test = dummy_test.pivot_table( index='reviews_username',\n",
    "    columns='name',\n",
    "    values='reviews_rating').fillna(0)\n",
    "\n",
    "print(dummy_test.shape)\n",
    "\n",
    "common_user_predicted_ratings = np.multiply(common_user_predicted_ratings,dummy_test)"
   ]
  },
  {
   "cell_type": "code",
   "execution_count": 86,
   "metadata": {
    "colab": {
     "base_uri": "https://localhost:8080/",
     "height": 428
    },
    "id": "UiN6rEoeCeD8",
    "outputId": "3b145046-e983-4572-edbd-31b1230d8e94"
   },
   "outputs": [
    {
     "data": {
      "text/html": [
       "<div>\n",
       "<style scoped>\n",
       "    .dataframe tbody tr th:only-of-type {\n",
       "        vertical-align: middle;\n",
       "    }\n",
       "\n",
       "    .dataframe tbody tr th {\n",
       "        vertical-align: top;\n",
       "    }\n",
       "\n",
       "    .dataframe thead th {\n",
       "        text-align: right;\n",
       "    }\n",
       "</style>\n",
       "<table border=\"1\" class=\"dataframe\">\n",
       "  <thead>\n",
       "    <tr style=\"text-align: right;\">\n",
       "      <th>name</th>\n",
       "      <th>100:Complete First Season (blu-Ray)</th>\n",
       "      <th>Alex Cross (dvdvideo)</th>\n",
       "      <th>All,bran Complete Wheat Flakes, 18 Oz.</th>\n",
       "      <th>Ambi Complexion Cleansing Bar</th>\n",
       "      <th>Arrid Extra Dry Anti-Perspirant Deodorant Spray Regular</th>\n",
       "      <th>Aussie Aussome Volume Shampoo, 13.5 Oz</th>\n",
       "      <th>Aveeno Baby Continuous Protection Lotion Sunscreen with Broad Spectrum SPF 55, 4oz</th>\n",
       "      <th>Avery174 Ready Index Contemporary Table Of Contents Divider, 1-8, Multi, Letter</th>\n",
       "      <th>Banana Boat Sunless Summer Color Self Tanning Lotion, Light To Medium</th>\n",
       "      <th>Bisquick Original Pancake And Baking Mix - 40oz</th>\n",
       "      <th>...</th>\n",
       "      <th>Various Artists - Choo Choo Soul (cd)</th>\n",
       "      <th>Vaseline Intensive Care Healthy Hands Stronger Nails</th>\n",
       "      <th>Vaseline Intensive Care Lip Therapy Cocoa Butter</th>\n",
       "      <th>Vicks Vaporub, Regular, 3.53oz</th>\n",
       "      <th>Voortman Sugar Free Fudge Chocolate Chip Cookies</th>\n",
       "      <th>Wagan Smartac 80watt Inverter With Usb</th>\n",
       "      <th>Way Basics 3-Shelf Eco Narrow Bookcase Storage Shelf, Espresso - Formaldehyde Free - Lifetime Guarantee</th>\n",
       "      <th>Windex Original Glass Cleaner Refill 67.6oz (2 Liter)</th>\n",
       "      <th>Yes To Carrots Nourishing Body Wash</th>\n",
       "      <th>Yes To Grapefruit Rejuvenating Body Wash</th>\n",
       "    </tr>\n",
       "    <tr>\n",
       "      <th>reviews_username</th>\n",
       "      <th></th>\n",
       "      <th></th>\n",
       "      <th></th>\n",
       "      <th></th>\n",
       "      <th></th>\n",
       "      <th></th>\n",
       "      <th></th>\n",
       "      <th></th>\n",
       "      <th></th>\n",
       "      <th></th>\n",
       "      <th></th>\n",
       "      <th></th>\n",
       "      <th></th>\n",
       "      <th></th>\n",
       "      <th></th>\n",
       "      <th></th>\n",
       "      <th></th>\n",
       "      <th></th>\n",
       "      <th></th>\n",
       "      <th></th>\n",
       "      <th></th>\n",
       "    </tr>\n",
       "  </thead>\n",
       "  <tbody>\n",
       "    <tr>\n",
       "      <th>00sab00</th>\n",
       "      <td>0.0</td>\n",
       "      <td>0.0</td>\n",
       "      <td>0.0</td>\n",
       "      <td>0.0</td>\n",
       "      <td>0.0</td>\n",
       "      <td>0.0</td>\n",
       "      <td>0.0</td>\n",
       "      <td>0.0</td>\n",
       "      <td>0.0</td>\n",
       "      <td>0.0</td>\n",
       "      <td>...</td>\n",
       "      <td>0.0</td>\n",
       "      <td>0.0</td>\n",
       "      <td>0.0</td>\n",
       "      <td>0.0</td>\n",
       "      <td>0.0</td>\n",
       "      <td>0.0</td>\n",
       "      <td>0.0</td>\n",
       "      <td>0.0</td>\n",
       "      <td>0.0</td>\n",
       "      <td>0.0</td>\n",
       "    </tr>\n",
       "    <tr>\n",
       "      <th>1234</th>\n",
       "      <td>0.0</td>\n",
       "      <td>0.0</td>\n",
       "      <td>0.0</td>\n",
       "      <td>0.0</td>\n",
       "      <td>0.0</td>\n",
       "      <td>0.0</td>\n",
       "      <td>0.0</td>\n",
       "      <td>0.0</td>\n",
       "      <td>0.0</td>\n",
       "      <td>0.0</td>\n",
       "      <td>...</td>\n",
       "      <td>0.0</td>\n",
       "      <td>0.0</td>\n",
       "      <td>0.0</td>\n",
       "      <td>0.0</td>\n",
       "      <td>0.0</td>\n",
       "      <td>0.0</td>\n",
       "      <td>0.0</td>\n",
       "      <td>0.0</td>\n",
       "      <td>0.0</td>\n",
       "      <td>0.0</td>\n",
       "    </tr>\n",
       "  </tbody>\n",
       "</table>\n",
       "<p>2 rows × 112 columns</p>\n",
       "</div>"
      ],
      "text/plain": [
       "name              100:Complete First Season (blu-Ray)  Alex Cross (dvdvideo)  \\\n",
       "reviews_username                                                               \n",
       "00sab00                                           0.0                    0.0   \n",
       "1234                                              0.0                    0.0   \n",
       "\n",
       "name              All,bran Complete Wheat Flakes, 18 Oz.  \\\n",
       "reviews_username                                           \n",
       "00sab00                                              0.0   \n",
       "1234                                                 0.0   \n",
       "\n",
       "name              Ambi Complexion Cleansing Bar  \\\n",
       "reviews_username                                  \n",
       "00sab00                                     0.0   \n",
       "1234                                        0.0   \n",
       "\n",
       "name              Arrid Extra Dry Anti-Perspirant Deodorant Spray Regular  \\\n",
       "reviews_username                                                            \n",
       "00sab00                                                         0.0         \n",
       "1234                                                            0.0         \n",
       "\n",
       "name              Aussie Aussome Volume Shampoo, 13.5 Oz  \\\n",
       "reviews_username                                           \n",
       "00sab00                                              0.0   \n",
       "1234                                                 0.0   \n",
       "\n",
       "name              Aveeno Baby Continuous Protection Lotion Sunscreen with Broad Spectrum SPF 55, 4oz  \\\n",
       "reviews_username                                                                                       \n",
       "00sab00                                                         0.0                                    \n",
       "1234                                                            0.0                                    \n",
       "\n",
       "name              Avery174 Ready Index Contemporary Table Of Contents Divider, 1-8, Multi, Letter  \\\n",
       "reviews_username                                                                                    \n",
       "00sab00                                                         0.0                                 \n",
       "1234                                                            0.0                                 \n",
       "\n",
       "name              Banana Boat Sunless Summer Color Self Tanning Lotion, Light To Medium  \\\n",
       "reviews_username                                                                          \n",
       "00sab00                                                         0.0                       \n",
       "1234                                                            0.0                       \n",
       "\n",
       "name              Bisquick Original Pancake And Baking Mix - 40oz  ...  \\\n",
       "reviews_username                                                   ...   \n",
       "00sab00                                                       0.0  ...   \n",
       "1234                                                          0.0  ...   \n",
       "\n",
       "name              Various Artists - Choo Choo Soul (cd)  \\\n",
       "reviews_username                                          \n",
       "00sab00                                             0.0   \n",
       "1234                                                0.0   \n",
       "\n",
       "name              Vaseline Intensive Care Healthy Hands Stronger Nails  \\\n",
       "reviews_username                                                         \n",
       "00sab00                                                         0.0      \n",
       "1234                                                            0.0      \n",
       "\n",
       "name              Vaseline Intensive Care Lip Therapy Cocoa Butter  \\\n",
       "reviews_username                                                     \n",
       "00sab00                                                        0.0   \n",
       "1234                                                           0.0   \n",
       "\n",
       "name              Vicks Vaporub, Regular, 3.53oz  \\\n",
       "reviews_username                                   \n",
       "00sab00                                      0.0   \n",
       "1234                                         0.0   \n",
       "\n",
       "name              Voortman Sugar Free Fudge Chocolate Chip Cookies  \\\n",
       "reviews_username                                                     \n",
       "00sab00                                                        0.0   \n",
       "1234                                                           0.0   \n",
       "\n",
       "name              Wagan Smartac 80watt Inverter With Usb  \\\n",
       "reviews_username                                           \n",
       "00sab00                                              0.0   \n",
       "1234                                                 0.0   \n",
       "\n",
       "name              Way Basics 3-Shelf Eco Narrow Bookcase Storage Shelf, Espresso - Formaldehyde Free - Lifetime Guarantee  \\\n",
       "reviews_username                                                                                                            \n",
       "00sab00                                                         0.0                                                         \n",
       "1234                                                            0.0                                                         \n",
       "\n",
       "name              Windex Original Glass Cleaner Refill 67.6oz (2 Liter)  \\\n",
       "reviews_username                                                          \n",
       "00sab00                                                         0.0       \n",
       "1234                                                            0.0       \n",
       "\n",
       "name              Yes To Carrots Nourishing Body Wash  \\\n",
       "reviews_username                                        \n",
       "00sab00                                           0.0   \n",
       "1234                                              0.0   \n",
       "\n",
       "name              Yes To Grapefruit Rejuvenating Body Wash  \n",
       "reviews_username                                            \n",
       "00sab00                                                0.0  \n",
       "1234                                                   0.0  \n",
       "\n",
       "[2 rows x 112 columns]"
      ]
     },
     "execution_count": 86,
     "metadata": {},
     "output_type": "execute_result"
    }
   ],
   "source": [
    "common_user_predicted_ratings.head(2)"
   ]
  },
  {
   "cell_type": "markdown",
   "metadata": {},
   "source": [
    "#### Calculating the RMSE for only the Products rated by user."
   ]
  },
  {
   "cell_type": "code",
   "execution_count": 87,
   "metadata": {
    "colab": {
     "base_uri": "https://localhost:8080/"
    },
    "id": "mZXSwpimPAon",
    "outputId": "d53d7189-67ac-4067-cdc9-3c9c3137d50b"
   },
   "outputs": [
    {
     "name": "stdout",
     "output_type": "stream",
     "text": [
      "MinMaxScaler(feature_range=(1, 5))\n",
      "[[nan nan nan ... nan nan nan]\n",
      " [nan nan nan ... nan nan nan]\n",
      " [nan nan nan ... nan nan nan]\n",
      " ...\n",
      " [nan nan nan ... nan nan nan]\n",
      " [nan nan nan ... nan nan nan]\n",
      " [nan nan nan ... nan nan nan]]\n"
     ]
    },
    {
     "name": "stderr",
     "output_type": "stream",
     "text": [
      "C:\\Users\\pbabbar\\Anaconda3\\lib\\site-packages\\sklearn\\preprocessing\\_data.py:373: RuntimeWarning: All-NaN slice encountered\n",
      "  data_min = np.nanmin(X, axis=0)\n",
      "C:\\Users\\pbabbar\\Anaconda3\\lib\\site-packages\\sklearn\\preprocessing\\_data.py:374: RuntimeWarning: All-NaN slice encountered\n",
      "  data_max = np.nanmax(X, axis=0)\n"
     ]
    }
   ],
   "source": [
    "from sklearn.preprocessing import MinMaxScaler\n",
    "from numpy import *\n",
    "\n",
    "X  = common_user_predicted_ratings.copy() \n",
    "X = X[X>0]\n",
    "\n",
    "scaler = MinMaxScaler(feature_range=(1, 5))\n",
    "print(scaler.fit(X))\n",
    "y = (scaler.transform(X))\n",
    "\n",
    "print(y)"
   ]
  },
  {
   "cell_type": "code",
   "execution_count": 88,
   "metadata": {
    "id": "YAOvlTbjPC3U"
   },
   "outputs": [],
   "source": [
    "common_ = common.pivot_table( index='reviews_username',\n",
    "    columns='name',\n",
    "    values='reviews_rating')"
   ]
  },
  {
   "cell_type": "code",
   "execution_count": 89,
   "metadata": {
    "id": "gBbyiNthPFTy"
   },
   "outputs": [],
   "source": [
    "total_non_nan = np.count_nonzero(~np.isnan(y))"
   ]
  },
  {
   "cell_type": "code",
   "execution_count": 90,
   "metadata": {
    "colab": {
     "base_uri": "https://localhost:8080/"
    },
    "id": "HkfNG6fCPNAM",
    "outputId": "e13f8a32-16d3-4f51-e8e7-954560979abb"
   },
   "outputs": [
    {
     "name": "stdout",
     "output_type": "stream",
     "text": [
      "2.52\n"
     ]
    }
   ],
   "source": [
    "rmse = (sum(sum((common_ - y )**2))/total_non_nan)**0.5\n",
    "print(round(rmse,2))"
   ]
  },
  {
   "cell_type": "markdown",
   "metadata": {},
   "source": [
    "RMSE for user user is 2.52"
   ]
  },
  {
   "cell_type": "code",
   "execution_count": null,
   "metadata": {},
   "outputs": [],
   "source": []
  },
  {
   "cell_type": "markdown",
   "metadata": {
    "id": "WErAothrPOfg"
   },
   "source": [
    "### Item based similarity"
   ]
  },
  {
   "cell_type": "code",
   "execution_count": 91,
   "metadata": {
    "colab": {
     "base_uri": "https://localhost:8080/"
    },
    "id": "IQqqboWlPU0Z",
    "outputId": "39eb3fcd-c3c6-45ca-a694-2a0dd379a2d1"
   },
   "outputs": [
    {
     "data": {
      "text/html": [
       "<div>\n",
       "<style scoped>\n",
       "    .dataframe tbody tr th:only-of-type {\n",
       "        vertical-align: middle;\n",
       "    }\n",
       "\n",
       "    .dataframe tbody tr th {\n",
       "        vertical-align: top;\n",
       "    }\n",
       "\n",
       "    .dataframe thead th {\n",
       "        text-align: right;\n",
       "    }\n",
       "</style>\n",
       "<table border=\"1\" class=\"dataframe\">\n",
       "  <thead>\n",
       "    <tr style=\"text-align: right;\">\n",
       "      <th>reviews_username</th>\n",
       "      <th>00sab00</th>\n",
       "      <th>02dakota</th>\n",
       "      <th>02deuce</th>\n",
       "      <th>0325home</th>\n",
       "      <th>06stidriver</th>\n",
       "      <th>10ten</th>\n",
       "      <th>11111111aaaaaaaaaaaaaaaaa</th>\n",
       "      <th>11677j</th>\n",
       "      <th>1234</th>\n",
       "      <th>1234561</th>\n",
       "      <th>...</th>\n",
       "      <th>zowie</th>\n",
       "      <th>zozo0o</th>\n",
       "      <th>zt313</th>\n",
       "      <th>zubb</th>\n",
       "      <th>zulaa118</th>\n",
       "      <th>zwithanx</th>\n",
       "      <th>zxcsdfd</th>\n",
       "      <th>zxjki</th>\n",
       "      <th>zzdiane</th>\n",
       "      <th>zzz1127</th>\n",
       "    </tr>\n",
       "    <tr>\n",
       "      <th>name</th>\n",
       "      <th></th>\n",
       "      <th></th>\n",
       "      <th></th>\n",
       "      <th></th>\n",
       "      <th></th>\n",
       "      <th></th>\n",
       "      <th></th>\n",
       "      <th></th>\n",
       "      <th></th>\n",
       "      <th></th>\n",
       "      <th></th>\n",
       "      <th></th>\n",
       "      <th></th>\n",
       "      <th></th>\n",
       "      <th></th>\n",
       "      <th></th>\n",
       "      <th></th>\n",
       "      <th></th>\n",
       "      <th></th>\n",
       "      <th></th>\n",
       "      <th></th>\n",
       "    </tr>\n",
       "  </thead>\n",
       "  <tbody>\n",
       "    <tr>\n",
       "      <th>0.6 Cu. Ft. Letter A4 Size Waterproof 30 Min. Fire File Chest</th>\n",
       "      <td>NaN</td>\n",
       "      <td>NaN</td>\n",
       "      <td>NaN</td>\n",
       "      <td>NaN</td>\n",
       "      <td>NaN</td>\n",
       "      <td>NaN</td>\n",
       "      <td>NaN</td>\n",
       "      <td>NaN</td>\n",
       "      <td>NaN</td>\n",
       "      <td>NaN</td>\n",
       "      <td>...</td>\n",
       "      <td>NaN</td>\n",
       "      <td>NaN</td>\n",
       "      <td>NaN</td>\n",
       "      <td>NaN</td>\n",
       "      <td>NaN</td>\n",
       "      <td>NaN</td>\n",
       "      <td>NaN</td>\n",
       "      <td>NaN</td>\n",
       "      <td>NaN</td>\n",
       "      <td>NaN</td>\n",
       "    </tr>\n",
       "    <tr>\n",
       "      <th>100:Complete First Season (blu-Ray)</th>\n",
       "      <td>NaN</td>\n",
       "      <td>NaN</td>\n",
       "      <td>NaN</td>\n",
       "      <td>NaN</td>\n",
       "      <td>NaN</td>\n",
       "      <td>NaN</td>\n",
       "      <td>NaN</td>\n",
       "      <td>NaN</td>\n",
       "      <td>NaN</td>\n",
       "      <td>NaN</td>\n",
       "      <td>...</td>\n",
       "      <td>NaN</td>\n",
       "      <td>NaN</td>\n",
       "      <td>NaN</td>\n",
       "      <td>NaN</td>\n",
       "      <td>NaN</td>\n",
       "      <td>NaN</td>\n",
       "      <td>NaN</td>\n",
       "      <td>NaN</td>\n",
       "      <td>NaN</td>\n",
       "      <td>NaN</td>\n",
       "    </tr>\n",
       "    <tr>\n",
       "      <th>2017-2018 Brownline174 Duraflex 14-Month Planner 8 1/2 X 11 Black</th>\n",
       "      <td>NaN</td>\n",
       "      <td>NaN</td>\n",
       "      <td>NaN</td>\n",
       "      <td>NaN</td>\n",
       "      <td>NaN</td>\n",
       "      <td>NaN</td>\n",
       "      <td>NaN</td>\n",
       "      <td>NaN</td>\n",
       "      <td>NaN</td>\n",
       "      <td>NaN</td>\n",
       "      <td>...</td>\n",
       "      <td>NaN</td>\n",
       "      <td>NaN</td>\n",
       "      <td>NaN</td>\n",
       "      <td>NaN</td>\n",
       "      <td>NaN</td>\n",
       "      <td>NaN</td>\n",
       "      <td>NaN</td>\n",
       "      <td>NaN</td>\n",
       "      <td>NaN</td>\n",
       "      <td>NaN</td>\n",
       "    </tr>\n",
       "    <tr>\n",
       "      <th>2x Ultra Era with Oxi Booster, 50fl oz</th>\n",
       "      <td>NaN</td>\n",
       "      <td>NaN</td>\n",
       "      <td>NaN</td>\n",
       "      <td>NaN</td>\n",
       "      <td>NaN</td>\n",
       "      <td>NaN</td>\n",
       "      <td>NaN</td>\n",
       "      <td>NaN</td>\n",
       "      <td>NaN</td>\n",
       "      <td>NaN</td>\n",
       "      <td>...</td>\n",
       "      <td>NaN</td>\n",
       "      <td>NaN</td>\n",
       "      <td>NaN</td>\n",
       "      <td>NaN</td>\n",
       "      <td>NaN</td>\n",
       "      <td>NaN</td>\n",
       "      <td>NaN</td>\n",
       "      <td>NaN</td>\n",
       "      <td>NaN</td>\n",
       "      <td>NaN</td>\n",
       "    </tr>\n",
       "    <tr>\n",
       "      <th>42 Dual Drop Leaf Table with 2 Madrid Chairs\"</th>\n",
       "      <td>NaN</td>\n",
       "      <td>NaN</td>\n",
       "      <td>NaN</td>\n",
       "      <td>NaN</td>\n",
       "      <td>NaN</td>\n",
       "      <td>NaN</td>\n",
       "      <td>NaN</td>\n",
       "      <td>NaN</td>\n",
       "      <td>NaN</td>\n",
       "      <td>NaN</td>\n",
       "      <td>...</td>\n",
       "      <td>NaN</td>\n",
       "      <td>NaN</td>\n",
       "      <td>NaN</td>\n",
       "      <td>NaN</td>\n",
       "      <td>NaN</td>\n",
       "      <td>NaN</td>\n",
       "      <td>NaN</td>\n",
       "      <td>NaN</td>\n",
       "      <td>NaN</td>\n",
       "      <td>NaN</td>\n",
       "    </tr>\n",
       "  </tbody>\n",
       "</table>\n",
       "<p>5 rows × 17732 columns</p>\n",
       "</div>"
      ],
      "text/plain": [
       "reviews_username                                    00sab00  02dakota  \\\n",
       "name                                                                    \n",
       "0.6 Cu. Ft. Letter A4 Size Waterproof 30 Min. F...      NaN       NaN   \n",
       "100:Complete First Season (blu-Ray)                     NaN       NaN   \n",
       "2017-2018 Brownline174 Duraflex 14-Month Planne...      NaN       NaN   \n",
       "2x Ultra Era with Oxi Booster, 50fl oz                  NaN       NaN   \n",
       "42 Dual Drop Leaf Table with 2 Madrid Chairs\"           NaN       NaN   \n",
       "\n",
       "reviews_username                                    02deuce  0325home  \\\n",
       "name                                                                    \n",
       "0.6 Cu. Ft. Letter A4 Size Waterproof 30 Min. F...      NaN       NaN   \n",
       "100:Complete First Season (blu-Ray)                     NaN       NaN   \n",
       "2017-2018 Brownline174 Duraflex 14-Month Planne...      NaN       NaN   \n",
       "2x Ultra Era with Oxi Booster, 50fl oz                  NaN       NaN   \n",
       "42 Dual Drop Leaf Table with 2 Madrid Chairs\"           NaN       NaN   \n",
       "\n",
       "reviews_username                                    06stidriver  10ten  \\\n",
       "name                                                                     \n",
       "0.6 Cu. Ft. Letter A4 Size Waterproof 30 Min. F...          NaN    NaN   \n",
       "100:Complete First Season (blu-Ray)                         NaN    NaN   \n",
       "2017-2018 Brownline174 Duraflex 14-Month Planne...          NaN    NaN   \n",
       "2x Ultra Era with Oxi Booster, 50fl oz                      NaN    NaN   \n",
       "42 Dual Drop Leaf Table with 2 Madrid Chairs\"               NaN    NaN   \n",
       "\n",
       "reviews_username                                    11111111aaaaaaaaaaaaaaaaa  \\\n",
       "name                                                                            \n",
       "0.6 Cu. Ft. Letter A4 Size Waterproof 30 Min. F...                        NaN   \n",
       "100:Complete First Season (blu-Ray)                                       NaN   \n",
       "2017-2018 Brownline174 Duraflex 14-Month Planne...                        NaN   \n",
       "2x Ultra Era with Oxi Booster, 50fl oz                                    NaN   \n",
       "42 Dual Drop Leaf Table with 2 Madrid Chairs\"                             NaN   \n",
       "\n",
       "reviews_username                                    11677j  1234  1234561  \\\n",
       "name                                                                        \n",
       "0.6 Cu. Ft. Letter A4 Size Waterproof 30 Min. F...     NaN   NaN      NaN   \n",
       "100:Complete First Season (blu-Ray)                    NaN   NaN      NaN   \n",
       "2017-2018 Brownline174 Duraflex 14-Month Planne...     NaN   NaN      NaN   \n",
       "2x Ultra Era with Oxi Booster, 50fl oz                 NaN   NaN      NaN   \n",
       "42 Dual Drop Leaf Table with 2 Madrid Chairs\"          NaN   NaN      NaN   \n",
       "\n",
       "reviews_username                                    ...  zowie  zozo0o  zt313  \\\n",
       "name                                                ...                         \n",
       "0.6 Cu. Ft. Letter A4 Size Waterproof 30 Min. F...  ...    NaN     NaN    NaN   \n",
       "100:Complete First Season (blu-Ray)                 ...    NaN     NaN    NaN   \n",
       "2017-2018 Brownline174 Duraflex 14-Month Planne...  ...    NaN     NaN    NaN   \n",
       "2x Ultra Era with Oxi Booster, 50fl oz              ...    NaN     NaN    NaN   \n",
       "42 Dual Drop Leaf Table with 2 Madrid Chairs\"       ...    NaN     NaN    NaN   \n",
       "\n",
       "reviews_username                                    zubb  zulaa118  zwithanx  \\\n",
       "name                                                                           \n",
       "0.6 Cu. Ft. Letter A4 Size Waterproof 30 Min. F...   NaN       NaN       NaN   \n",
       "100:Complete First Season (blu-Ray)                  NaN       NaN       NaN   \n",
       "2017-2018 Brownline174 Duraflex 14-Month Planne...   NaN       NaN       NaN   \n",
       "2x Ultra Era with Oxi Booster, 50fl oz               NaN       NaN       NaN   \n",
       "42 Dual Drop Leaf Table with 2 Madrid Chairs\"        NaN       NaN       NaN   \n",
       "\n",
       "reviews_username                                    zxcsdfd  zxjki  zzdiane  \\\n",
       "name                                                                          \n",
       "0.6 Cu. Ft. Letter A4 Size Waterproof 30 Min. F...      NaN    NaN      NaN   \n",
       "100:Complete First Season (blu-Ray)                     NaN    NaN      NaN   \n",
       "2017-2018 Brownline174 Duraflex 14-Month Planne...      NaN    NaN      NaN   \n",
       "2x Ultra Era with Oxi Booster, 50fl oz                  NaN    NaN      NaN   \n",
       "42 Dual Drop Leaf Table with 2 Madrid Chairs\"           NaN    NaN      NaN   \n",
       "\n",
       "reviews_username                                    zzz1127  \n",
       "name                                                         \n",
       "0.6 Cu. Ft. Letter A4 Size Waterproof 30 Min. F...      NaN  \n",
       "100:Complete First Season (blu-Ray)                     NaN  \n",
       "2017-2018 Brownline174 Duraflex 14-Month Planne...      NaN  \n",
       "2x Ultra Era with Oxi Booster, 50fl oz                  NaN  \n",
       "42 Dual Drop Leaf Table with 2 Madrid Chairs\"           NaN  \n",
       "\n",
       "[5 rows x 17732 columns]"
      ]
     },
     "execution_count": 91,
     "metadata": {},
     "output_type": "execute_result"
    }
   ],
   "source": [
    "df_pivot = train.pivot(\n",
    "   index='name',\n",
    "    columns='reviews_username',\n",
    "    values='reviews_rating'\n",
    ")\n",
    "\n",
    "df_pivot.head()"
   ]
  },
  {
   "cell_type": "code",
   "execution_count": 92,
   "metadata": {},
   "outputs": [
    {
     "data": {
      "text/html": [
       "<div>\n",
       "<style scoped>\n",
       "    .dataframe tbody tr th:only-of-type {\n",
       "        vertical-align: middle;\n",
       "    }\n",
       "\n",
       "    .dataframe tbody tr th {\n",
       "        vertical-align: top;\n",
       "    }\n",
       "\n",
       "    .dataframe thead th {\n",
       "        text-align: right;\n",
       "    }\n",
       "</style>\n",
       "<table border=\"1\" class=\"dataframe\">\n",
       "  <thead>\n",
       "    <tr style=\"text-align: right;\">\n",
       "      <th>reviews_username</th>\n",
       "      <th>00sab00</th>\n",
       "      <th>02dakota</th>\n",
       "      <th>02deuce</th>\n",
       "      <th>0325home</th>\n",
       "      <th>06stidriver</th>\n",
       "      <th>10ten</th>\n",
       "      <th>11111111aaaaaaaaaaaaaaaaa</th>\n",
       "      <th>11677j</th>\n",
       "      <th>1234</th>\n",
       "      <th>1234561</th>\n",
       "      <th>...</th>\n",
       "      <th>zowie</th>\n",
       "      <th>zozo0o</th>\n",
       "      <th>zt313</th>\n",
       "      <th>zubb</th>\n",
       "      <th>zulaa118</th>\n",
       "      <th>zwithanx</th>\n",
       "      <th>zxcsdfd</th>\n",
       "      <th>zxjki</th>\n",
       "      <th>zzdiane</th>\n",
       "      <th>zzz1127</th>\n",
       "    </tr>\n",
       "    <tr>\n",
       "      <th>name</th>\n",
       "      <th></th>\n",
       "      <th></th>\n",
       "      <th></th>\n",
       "      <th></th>\n",
       "      <th></th>\n",
       "      <th></th>\n",
       "      <th></th>\n",
       "      <th></th>\n",
       "      <th></th>\n",
       "      <th></th>\n",
       "      <th></th>\n",
       "      <th></th>\n",
       "      <th></th>\n",
       "      <th></th>\n",
       "      <th></th>\n",
       "      <th></th>\n",
       "      <th></th>\n",
       "      <th></th>\n",
       "      <th></th>\n",
       "      <th></th>\n",
       "      <th></th>\n",
       "    </tr>\n",
       "  </thead>\n",
       "  <tbody>\n",
       "    <tr>\n",
       "      <th>0.6 Cu. Ft. Letter A4 Size Waterproof 30 Min. Fire File Chest</th>\n",
       "      <td>NaN</td>\n",
       "      <td>NaN</td>\n",
       "      <td>NaN</td>\n",
       "      <td>NaN</td>\n",
       "      <td>NaN</td>\n",
       "      <td>NaN</td>\n",
       "      <td>NaN</td>\n",
       "      <td>NaN</td>\n",
       "      <td>NaN</td>\n",
       "      <td>NaN</td>\n",
       "      <td>...</td>\n",
       "      <td>NaN</td>\n",
       "      <td>NaN</td>\n",
       "      <td>NaN</td>\n",
       "      <td>NaN</td>\n",
       "      <td>NaN</td>\n",
       "      <td>NaN</td>\n",
       "      <td>NaN</td>\n",
       "      <td>NaN</td>\n",
       "      <td>NaN</td>\n",
       "      <td>NaN</td>\n",
       "    </tr>\n",
       "    <tr>\n",
       "      <th>100:Complete First Season (blu-Ray)</th>\n",
       "      <td>NaN</td>\n",
       "      <td>NaN</td>\n",
       "      <td>NaN</td>\n",
       "      <td>NaN</td>\n",
       "      <td>NaN</td>\n",
       "      <td>NaN</td>\n",
       "      <td>NaN</td>\n",
       "      <td>NaN</td>\n",
       "      <td>NaN</td>\n",
       "      <td>NaN</td>\n",
       "      <td>...</td>\n",
       "      <td>NaN</td>\n",
       "      <td>NaN</td>\n",
       "      <td>NaN</td>\n",
       "      <td>NaN</td>\n",
       "      <td>NaN</td>\n",
       "      <td>NaN</td>\n",
       "      <td>NaN</td>\n",
       "      <td>NaN</td>\n",
       "      <td>NaN</td>\n",
       "      <td>NaN</td>\n",
       "    </tr>\n",
       "    <tr>\n",
       "      <th>2017-2018 Brownline174 Duraflex 14-Month Planner 8 1/2 X 11 Black</th>\n",
       "      <td>NaN</td>\n",
       "      <td>NaN</td>\n",
       "      <td>NaN</td>\n",
       "      <td>NaN</td>\n",
       "      <td>NaN</td>\n",
       "      <td>NaN</td>\n",
       "      <td>NaN</td>\n",
       "      <td>NaN</td>\n",
       "      <td>NaN</td>\n",
       "      <td>NaN</td>\n",
       "      <td>...</td>\n",
       "      <td>NaN</td>\n",
       "      <td>NaN</td>\n",
       "      <td>NaN</td>\n",
       "      <td>NaN</td>\n",
       "      <td>NaN</td>\n",
       "      <td>NaN</td>\n",
       "      <td>NaN</td>\n",
       "      <td>NaN</td>\n",
       "      <td>NaN</td>\n",
       "      <td>NaN</td>\n",
       "    </tr>\n",
       "    <tr>\n",
       "      <th>2x Ultra Era with Oxi Booster, 50fl oz</th>\n",
       "      <td>NaN</td>\n",
       "      <td>NaN</td>\n",
       "      <td>NaN</td>\n",
       "      <td>NaN</td>\n",
       "      <td>NaN</td>\n",
       "      <td>NaN</td>\n",
       "      <td>NaN</td>\n",
       "      <td>NaN</td>\n",
       "      <td>NaN</td>\n",
       "      <td>NaN</td>\n",
       "      <td>...</td>\n",
       "      <td>NaN</td>\n",
       "      <td>NaN</td>\n",
       "      <td>NaN</td>\n",
       "      <td>NaN</td>\n",
       "      <td>NaN</td>\n",
       "      <td>NaN</td>\n",
       "      <td>NaN</td>\n",
       "      <td>NaN</td>\n",
       "      <td>NaN</td>\n",
       "      <td>NaN</td>\n",
       "    </tr>\n",
       "    <tr>\n",
       "      <th>42 Dual Drop Leaf Table with 2 Madrid Chairs\"</th>\n",
       "      <td>NaN</td>\n",
       "      <td>NaN</td>\n",
       "      <td>NaN</td>\n",
       "      <td>NaN</td>\n",
       "      <td>NaN</td>\n",
       "      <td>NaN</td>\n",
       "      <td>NaN</td>\n",
       "      <td>NaN</td>\n",
       "      <td>NaN</td>\n",
       "      <td>NaN</td>\n",
       "      <td>...</td>\n",
       "      <td>NaN</td>\n",
       "      <td>NaN</td>\n",
       "      <td>NaN</td>\n",
       "      <td>NaN</td>\n",
       "      <td>NaN</td>\n",
       "      <td>NaN</td>\n",
       "      <td>NaN</td>\n",
       "      <td>NaN</td>\n",
       "      <td>NaN</td>\n",
       "      <td>NaN</td>\n",
       "    </tr>\n",
       "  </tbody>\n",
       "</table>\n",
       "<p>5 rows × 17732 columns</p>\n",
       "</div>"
      ],
      "text/plain": [
       "reviews_username                                    00sab00  02dakota  \\\n",
       "name                                                                    \n",
       "0.6 Cu. Ft. Letter A4 Size Waterproof 30 Min. F...      NaN       NaN   \n",
       "100:Complete First Season (blu-Ray)                     NaN       NaN   \n",
       "2017-2018 Brownline174 Duraflex 14-Month Planne...      NaN       NaN   \n",
       "2x Ultra Era with Oxi Booster, 50fl oz                  NaN       NaN   \n",
       "42 Dual Drop Leaf Table with 2 Madrid Chairs\"           NaN       NaN   \n",
       "\n",
       "reviews_username                                    02deuce  0325home  \\\n",
       "name                                                                    \n",
       "0.6 Cu. Ft. Letter A4 Size Waterproof 30 Min. F...      NaN       NaN   \n",
       "100:Complete First Season (blu-Ray)                     NaN       NaN   \n",
       "2017-2018 Brownline174 Duraflex 14-Month Planne...      NaN       NaN   \n",
       "2x Ultra Era with Oxi Booster, 50fl oz                  NaN       NaN   \n",
       "42 Dual Drop Leaf Table with 2 Madrid Chairs\"           NaN       NaN   \n",
       "\n",
       "reviews_username                                    06stidriver  10ten  \\\n",
       "name                                                                     \n",
       "0.6 Cu. Ft. Letter A4 Size Waterproof 30 Min. F...          NaN    NaN   \n",
       "100:Complete First Season (blu-Ray)                         NaN    NaN   \n",
       "2017-2018 Brownline174 Duraflex 14-Month Planne...          NaN    NaN   \n",
       "2x Ultra Era with Oxi Booster, 50fl oz                      NaN    NaN   \n",
       "42 Dual Drop Leaf Table with 2 Madrid Chairs\"               NaN    NaN   \n",
       "\n",
       "reviews_username                                    11111111aaaaaaaaaaaaaaaaa  \\\n",
       "name                                                                            \n",
       "0.6 Cu. Ft. Letter A4 Size Waterproof 30 Min. F...                        NaN   \n",
       "100:Complete First Season (blu-Ray)                                       NaN   \n",
       "2017-2018 Brownline174 Duraflex 14-Month Planne...                        NaN   \n",
       "2x Ultra Era with Oxi Booster, 50fl oz                                    NaN   \n",
       "42 Dual Drop Leaf Table with 2 Madrid Chairs\"                             NaN   \n",
       "\n",
       "reviews_username                                    11677j  1234  1234561  \\\n",
       "name                                                                        \n",
       "0.6 Cu. Ft. Letter A4 Size Waterproof 30 Min. F...     NaN   NaN      NaN   \n",
       "100:Complete First Season (blu-Ray)                    NaN   NaN      NaN   \n",
       "2017-2018 Brownline174 Duraflex 14-Month Planne...     NaN   NaN      NaN   \n",
       "2x Ultra Era with Oxi Booster, 50fl oz                 NaN   NaN      NaN   \n",
       "42 Dual Drop Leaf Table with 2 Madrid Chairs\"          NaN   NaN      NaN   \n",
       "\n",
       "reviews_username                                    ...  zowie  zozo0o  zt313  \\\n",
       "name                                                ...                         \n",
       "0.6 Cu. Ft. Letter A4 Size Waterproof 30 Min. F...  ...    NaN     NaN    NaN   \n",
       "100:Complete First Season (blu-Ray)                 ...    NaN     NaN    NaN   \n",
       "2017-2018 Brownline174 Duraflex 14-Month Planne...  ...    NaN     NaN    NaN   \n",
       "2x Ultra Era with Oxi Booster, 50fl oz              ...    NaN     NaN    NaN   \n",
       "42 Dual Drop Leaf Table with 2 Madrid Chairs\"       ...    NaN     NaN    NaN   \n",
       "\n",
       "reviews_username                                    zubb  zulaa118  zwithanx  \\\n",
       "name                                                                           \n",
       "0.6 Cu. Ft. Letter A4 Size Waterproof 30 Min. F...   NaN       NaN       NaN   \n",
       "100:Complete First Season (blu-Ray)                  NaN       NaN       NaN   \n",
       "2017-2018 Brownline174 Duraflex 14-Month Planne...   NaN       NaN       NaN   \n",
       "2x Ultra Era with Oxi Booster, 50fl oz               NaN       NaN       NaN   \n",
       "42 Dual Drop Leaf Table with 2 Madrid Chairs\"        NaN       NaN       NaN   \n",
       "\n",
       "reviews_username                                    zxcsdfd  zxjki  zzdiane  \\\n",
       "name                                                                          \n",
       "0.6 Cu. Ft. Letter A4 Size Waterproof 30 Min. F...      NaN    NaN      NaN   \n",
       "100:Complete First Season (blu-Ray)                     NaN    NaN      NaN   \n",
       "2017-2018 Brownline174 Duraflex 14-Month Planne...      NaN    NaN      NaN   \n",
       "2x Ultra Era with Oxi Booster, 50fl oz                  NaN    NaN      NaN   \n",
       "42 Dual Drop Leaf Table with 2 Madrid Chairs\"           NaN    NaN      NaN   \n",
       "\n",
       "reviews_username                                    zzz1127  \n",
       "name                                                         \n",
       "0.6 Cu. Ft. Letter A4 Size Waterproof 30 Min. F...      NaN  \n",
       "100:Complete First Season (blu-Ray)                     NaN  \n",
       "2017-2018 Brownline174 Duraflex 14-Month Planne...      NaN  \n",
       "2x Ultra Era with Oxi Booster, 50fl oz                  NaN  \n",
       "42 Dual Drop Leaf Table with 2 Madrid Chairs\"           NaN  \n",
       "\n",
       "[5 rows x 17732 columns]"
      ]
     },
     "execution_count": 92,
     "metadata": {},
     "output_type": "execute_result"
    }
   ],
   "source": [
    "mean = np.nanmean(df_pivot, axis=1)\n",
    "df_subtracted = (df_pivot.T-mean).T\n",
    "\n",
    "df_subtracted.head()"
   ]
  },
  {
   "cell_type": "code",
   "execution_count": 93,
   "metadata": {},
   "outputs": [
    {
     "name": "stdout",
     "output_type": "stream",
     "text": [
      "[[1. 0. 0. ... 0. 0. 0.]\n",
      " [0. 1. 0. ... 0. 0. 0.]\n",
      " [0. 0. 0. ... 0. 0. 0.]\n",
      " ...\n",
      " [0. 0. 0. ... 1. 0. 0.]\n",
      " [0. 0. 0. ... 0. 1. 0.]\n",
      " [0. 0. 0. ... 0. 0. 1.]]\n"
     ]
    }
   ],
   "source": [
    "from sklearn.metrics.pairwise import pairwise_distances\n",
    "\n",
    "# Item Similarity Matrix\n",
    "item_correlation = 1 - pairwise_distances(df_subtracted.fillna(0), metric='cosine')\n",
    "item_correlation[np.isnan(item_correlation)] = 0\n",
    "print(item_correlation)"
   ]
  },
  {
   "cell_type": "code",
   "execution_count": 94,
   "metadata": {
    "colab": {
     "base_uri": "https://localhost:8080/"
    },
    "id": "vGLVO9XUPcvs",
    "outputId": "d97343d5-35b4-45b1-a855-b8b94213210e"
   },
   "outputs": [
    {
     "data": {
      "text/plain": [
       "array([[1., 0., 0., ..., 0., 0., 0.],\n",
       "       [0., 1., 0., ..., 0., 0., 0.],\n",
       "       [0., 0., 0., ..., 0., 0., 0.],\n",
       "       ...,\n",
       "       [0., 0., 0., ..., 1., 0., 0.],\n",
       "       [0., 0., 0., ..., 0., 1., 0.],\n",
       "       [0., 0., 0., ..., 0., 0., 1.]])"
      ]
     },
     "execution_count": 94,
     "metadata": {},
     "output_type": "execute_result"
    }
   ],
   "source": [
    "item_correlation[item_correlation<0]=0\n",
    "item_correlation"
   ]
  },
  {
   "cell_type": "code",
   "execution_count": 95,
   "metadata": {},
   "outputs": [],
   "source": [
    "#### Predition Item Item"
   ]
  },
  {
   "cell_type": "code",
   "execution_count": 96,
   "metadata": {
    "colab": {
     "base_uri": "https://localhost:8080/"
    },
    "id": "lcqIgxVPPnyV",
    "outputId": "5765d086-6c77-4779-dcf0-41e6f2c74018"
   },
   "outputs": [
    {
     "data": {
      "text/plain": [
       "(17732, 237)"
      ]
     },
     "execution_count": 96,
     "metadata": {},
     "output_type": "execute_result"
    }
   ],
   "source": [
    "\n",
    "item_predicted_ratings = np.dot((df_pivot.fillna(0).T),item_correlation)\n",
    "item_predicted_ratings\n",
    "item_predicted_ratings.shape\n",
    "dummy_train.shape\n",
    "\n"
   ]
  },
  {
   "cell_type": "markdown",
   "metadata": {},
   "source": [
    "#### Filetering products not rated by user"
   ]
  },
  {
   "cell_type": "code",
   "execution_count": 97,
   "metadata": {
    "colab": {
     "base_uri": "https://localhost:8080/",
     "height": 556
    },
    "id": "IY9k0HLoPtIe",
    "outputId": "b7d4c60c-acc8-49e1-9d49-fca9d0af3208"
   },
   "outputs": [
    {
     "data": {
      "text/html": [
       "<div>\n",
       "<style scoped>\n",
       "    .dataframe tbody tr th:only-of-type {\n",
       "        vertical-align: middle;\n",
       "    }\n",
       "\n",
       "    .dataframe tbody tr th {\n",
       "        vertical-align: top;\n",
       "    }\n",
       "\n",
       "    .dataframe thead th {\n",
       "        text-align: right;\n",
       "    }\n",
       "</style>\n",
       "<table border=\"1\" class=\"dataframe\">\n",
       "  <thead>\n",
       "    <tr style=\"text-align: right;\">\n",
       "      <th>name</th>\n",
       "      <th>0.6 Cu. Ft. Letter A4 Size Waterproof 30 Min. Fire File Chest</th>\n",
       "      <th>100:Complete First Season (blu-Ray)</th>\n",
       "      <th>2017-2018 Brownline174 Duraflex 14-Month Planner 8 1/2 X 11 Black</th>\n",
       "      <th>2x Ultra Era with Oxi Booster, 50fl oz</th>\n",
       "      <th>42 Dual Drop Leaf Table with 2 Madrid Chairs\"</th>\n",
       "      <th>4C Grated Parmesan Cheese 100% Natural 8oz Shaker</th>\n",
       "      <th>Africa's Best No-Lye Dual Conditioning Relaxer System Super</th>\n",
       "      <th>Alberto VO5 Salon Series Smooth Plus Sleek Shampoo</th>\n",
       "      <th>Alex Cross (dvdvideo)</th>\n",
       "      <th>All,bran Complete Wheat Flakes, 18 Oz.</th>\n",
       "      <th>...</th>\n",
       "      <th>Voortman Sugar Free Fudge Chocolate Chip Cookies</th>\n",
       "      <th>Wagan Smartac 80watt Inverter With Usb</th>\n",
       "      <th>Walkers Stem Ginger Shortbread</th>\n",
       "      <th>Way Basics 3-Shelf Eco Narrow Bookcase Storage Shelf, Espresso - Formaldehyde Free - Lifetime Guarantee</th>\n",
       "      <th>Wedding Wishes Wedding Guest Book</th>\n",
       "      <th>Weleda Everon Lip Balm</th>\n",
       "      <th>Wilton Black Dots Standard Baking Cups</th>\n",
       "      <th>Windex Original Glass Cleaner Refill 67.6oz (2 Liter)</th>\n",
       "      <th>Yes To Carrots Nourishing Body Wash</th>\n",
       "      <th>Yes To Grapefruit Rejuvenating Body Wash</th>\n",
       "    </tr>\n",
       "    <tr>\n",
       "      <th>reviews_username</th>\n",
       "      <th></th>\n",
       "      <th></th>\n",
       "      <th></th>\n",
       "      <th></th>\n",
       "      <th></th>\n",
       "      <th></th>\n",
       "      <th></th>\n",
       "      <th></th>\n",
       "      <th></th>\n",
       "      <th></th>\n",
       "      <th></th>\n",
       "      <th></th>\n",
       "      <th></th>\n",
       "      <th></th>\n",
       "      <th></th>\n",
       "      <th></th>\n",
       "      <th></th>\n",
       "      <th></th>\n",
       "      <th></th>\n",
       "      <th></th>\n",
       "      <th></th>\n",
       "    </tr>\n",
       "  </thead>\n",
       "  <tbody>\n",
       "    <tr>\n",
       "      <th>00sab00</th>\n",
       "      <td>0.0</td>\n",
       "      <td>0.029419</td>\n",
       "      <td>0.0</td>\n",
       "      <td>0.0</td>\n",
       "      <td>0.0</td>\n",
       "      <td>0.0</td>\n",
       "      <td>0.0</td>\n",
       "      <td>0.0</td>\n",
       "      <td>0.013051</td>\n",
       "      <td>0.0</td>\n",
       "      <td>...</td>\n",
       "      <td>0.0</td>\n",
       "      <td>0.0</td>\n",
       "      <td>0.0</td>\n",
       "      <td>0.0</td>\n",
       "      <td>0.0</td>\n",
       "      <td>0.0</td>\n",
       "      <td>0.0</td>\n",
       "      <td>0.006823</td>\n",
       "      <td>0.017098</td>\n",
       "      <td>0.0</td>\n",
       "    </tr>\n",
       "    <tr>\n",
       "      <th>02dakota</th>\n",
       "      <td>0.0</td>\n",
       "      <td>0.007697</td>\n",
       "      <td>0.0</td>\n",
       "      <td>0.0</td>\n",
       "      <td>0.0</td>\n",
       "      <td>0.0</td>\n",
       "      <td>0.0</td>\n",
       "      <td>0.0</td>\n",
       "      <td>0.000000</td>\n",
       "      <td>0.0</td>\n",
       "      <td>...</td>\n",
       "      <td>0.0</td>\n",
       "      <td>0.0</td>\n",
       "      <td>0.0</td>\n",
       "      <td>0.0</td>\n",
       "      <td>0.0</td>\n",
       "      <td>0.0</td>\n",
       "      <td>0.0</td>\n",
       "      <td>0.018516</td>\n",
       "      <td>0.006355</td>\n",
       "      <td>0.0</td>\n",
       "    </tr>\n",
       "    <tr>\n",
       "      <th>02deuce</th>\n",
       "      <td>0.0</td>\n",
       "      <td>0.006158</td>\n",
       "      <td>0.0</td>\n",
       "      <td>0.0</td>\n",
       "      <td>0.0</td>\n",
       "      <td>0.0</td>\n",
       "      <td>0.0</td>\n",
       "      <td>0.0</td>\n",
       "      <td>0.000000</td>\n",
       "      <td>0.0</td>\n",
       "      <td>...</td>\n",
       "      <td>0.0</td>\n",
       "      <td>0.0</td>\n",
       "      <td>0.0</td>\n",
       "      <td>0.0</td>\n",
       "      <td>0.0</td>\n",
       "      <td>0.0</td>\n",
       "      <td>0.0</td>\n",
       "      <td>0.014813</td>\n",
       "      <td>0.005084</td>\n",
       "      <td>0.0</td>\n",
       "    </tr>\n",
       "    <tr>\n",
       "      <th>0325home</th>\n",
       "      <td>0.0</td>\n",
       "      <td>0.000000</td>\n",
       "      <td>0.0</td>\n",
       "      <td>0.0</td>\n",
       "      <td>0.0</td>\n",
       "      <td>0.0</td>\n",
       "      <td>0.0</td>\n",
       "      <td>0.0</td>\n",
       "      <td>0.000000</td>\n",
       "      <td>0.0</td>\n",
       "      <td>...</td>\n",
       "      <td>0.0</td>\n",
       "      <td>0.0</td>\n",
       "      <td>0.0</td>\n",
       "      <td>0.0</td>\n",
       "      <td>0.0</td>\n",
       "      <td>0.0</td>\n",
       "      <td>0.0</td>\n",
       "      <td>0.000000</td>\n",
       "      <td>0.000000</td>\n",
       "      <td>0.0</td>\n",
       "    </tr>\n",
       "    <tr>\n",
       "      <th>06stidriver</th>\n",
       "      <td>0.0</td>\n",
       "      <td>0.000000</td>\n",
       "      <td>0.0</td>\n",
       "      <td>0.0</td>\n",
       "      <td>0.0</td>\n",
       "      <td>0.0</td>\n",
       "      <td>0.0</td>\n",
       "      <td>0.0</td>\n",
       "      <td>0.000000</td>\n",
       "      <td>0.0</td>\n",
       "      <td>...</td>\n",
       "      <td>0.0</td>\n",
       "      <td>0.0</td>\n",
       "      <td>0.0</td>\n",
       "      <td>0.0</td>\n",
       "      <td>0.0</td>\n",
       "      <td>0.0</td>\n",
       "      <td>0.0</td>\n",
       "      <td>0.000000</td>\n",
       "      <td>0.000000</td>\n",
       "      <td>0.0</td>\n",
       "    </tr>\n",
       "  </tbody>\n",
       "</table>\n",
       "<p>5 rows × 237 columns</p>\n",
       "</div>"
      ],
      "text/plain": [
       "name              0.6 Cu. Ft. Letter A4 Size Waterproof 30 Min. Fire File Chest  \\\n",
       "reviews_username                                                                  \n",
       "00sab00                                                         0.0               \n",
       "02dakota                                                        0.0               \n",
       "02deuce                                                         0.0               \n",
       "0325home                                                        0.0               \n",
       "06stidriver                                                     0.0               \n",
       "\n",
       "name              100:Complete First Season (blu-Ray)  \\\n",
       "reviews_username                                        \n",
       "00sab00                                      0.029419   \n",
       "02dakota                                     0.007697   \n",
       "02deuce                                      0.006158   \n",
       "0325home                                     0.000000   \n",
       "06stidriver                                  0.000000   \n",
       "\n",
       "name              2017-2018 Brownline174 Duraflex 14-Month Planner 8 1/2 X 11 Black  \\\n",
       "reviews_username                                                                      \n",
       "00sab00                                                         0.0                   \n",
       "02dakota                                                        0.0                   \n",
       "02deuce                                                         0.0                   \n",
       "0325home                                                        0.0                   \n",
       "06stidriver                                                     0.0                   \n",
       "\n",
       "name              2x Ultra Era with Oxi Booster, 50fl oz  \\\n",
       "reviews_username                                           \n",
       "00sab00                                              0.0   \n",
       "02dakota                                             0.0   \n",
       "02deuce                                              0.0   \n",
       "0325home                                             0.0   \n",
       "06stidriver                                          0.0   \n",
       "\n",
       "name              42 Dual Drop Leaf Table with 2 Madrid Chairs\"  \\\n",
       "reviews_username                                                  \n",
       "00sab00                                                     0.0   \n",
       "02dakota                                                    0.0   \n",
       "02deuce                                                     0.0   \n",
       "0325home                                                    0.0   \n",
       "06stidriver                                                 0.0   \n",
       "\n",
       "name              4C Grated Parmesan Cheese 100% Natural 8oz Shaker  \\\n",
       "reviews_username                                                      \n",
       "00sab00                                                         0.0   \n",
       "02dakota                                                        0.0   \n",
       "02deuce                                                         0.0   \n",
       "0325home                                                        0.0   \n",
       "06stidriver                                                     0.0   \n",
       "\n",
       "name              Africa's Best No-Lye Dual Conditioning Relaxer System Super  \\\n",
       "reviews_username                                                                \n",
       "00sab00                                                         0.0             \n",
       "02dakota                                                        0.0             \n",
       "02deuce                                                         0.0             \n",
       "0325home                                                        0.0             \n",
       "06stidriver                                                     0.0             \n",
       "\n",
       "name              Alberto VO5 Salon Series Smooth Plus Sleek Shampoo  \\\n",
       "reviews_username                                                       \n",
       "00sab00                                                         0.0    \n",
       "02dakota                                                        0.0    \n",
       "02deuce                                                         0.0    \n",
       "0325home                                                        0.0    \n",
       "06stidriver                                                     0.0    \n",
       "\n",
       "name              Alex Cross (dvdvideo)  \\\n",
       "reviews_username                          \n",
       "00sab00                        0.013051   \n",
       "02dakota                       0.000000   \n",
       "02deuce                        0.000000   \n",
       "0325home                       0.000000   \n",
       "06stidriver                    0.000000   \n",
       "\n",
       "name              All,bran Complete Wheat Flakes, 18 Oz.  ...  \\\n",
       "reviews_username                                          ...   \n",
       "00sab00                                              0.0  ...   \n",
       "02dakota                                             0.0  ...   \n",
       "02deuce                                              0.0  ...   \n",
       "0325home                                             0.0  ...   \n",
       "06stidriver                                          0.0  ...   \n",
       "\n",
       "name              Voortman Sugar Free Fudge Chocolate Chip Cookies  \\\n",
       "reviews_username                                                     \n",
       "00sab00                                                        0.0   \n",
       "02dakota                                                       0.0   \n",
       "02deuce                                                        0.0   \n",
       "0325home                                                       0.0   \n",
       "06stidriver                                                    0.0   \n",
       "\n",
       "name              Wagan Smartac 80watt Inverter With Usb  \\\n",
       "reviews_username                                           \n",
       "00sab00                                              0.0   \n",
       "02dakota                                             0.0   \n",
       "02deuce                                              0.0   \n",
       "0325home                                             0.0   \n",
       "06stidriver                                          0.0   \n",
       "\n",
       "name              Walkers Stem Ginger Shortbread  \\\n",
       "reviews_username                                   \n",
       "00sab00                                      0.0   \n",
       "02dakota                                     0.0   \n",
       "02deuce                                      0.0   \n",
       "0325home                                     0.0   \n",
       "06stidriver                                  0.0   \n",
       "\n",
       "name              Way Basics 3-Shelf Eco Narrow Bookcase Storage Shelf, Espresso - Formaldehyde Free - Lifetime Guarantee  \\\n",
       "reviews_username                                                                                                            \n",
       "00sab00                                                         0.0                                                         \n",
       "02dakota                                                        0.0                                                         \n",
       "02deuce                                                         0.0                                                         \n",
       "0325home                                                        0.0                                                         \n",
       "06stidriver                                                     0.0                                                         \n",
       "\n",
       "name              Wedding Wishes Wedding Guest Book  Weleda Everon Lip Balm  \\\n",
       "reviews_username                                                              \n",
       "00sab00                                         0.0                     0.0   \n",
       "02dakota                                        0.0                     0.0   \n",
       "02deuce                                         0.0                     0.0   \n",
       "0325home                                        0.0                     0.0   \n",
       "06stidriver                                     0.0                     0.0   \n",
       "\n",
       "name              Wilton Black Dots Standard Baking Cups  \\\n",
       "reviews_username                                           \n",
       "00sab00                                              0.0   \n",
       "02dakota                                             0.0   \n",
       "02deuce                                              0.0   \n",
       "0325home                                             0.0   \n",
       "06stidriver                                          0.0   \n",
       "\n",
       "name              Windex Original Glass Cleaner Refill 67.6oz (2 Liter)  \\\n",
       "reviews_username                                                          \n",
       "00sab00                                                    0.006823       \n",
       "02dakota                                                   0.018516       \n",
       "02deuce                                                    0.014813       \n",
       "0325home                                                   0.000000       \n",
       "06stidriver                                                0.000000       \n",
       "\n",
       "name              Yes To Carrots Nourishing Body Wash  \\\n",
       "reviews_username                                        \n",
       "00sab00                                      0.017098   \n",
       "02dakota                                     0.006355   \n",
       "02deuce                                      0.005084   \n",
       "0325home                                     0.000000   \n",
       "06stidriver                                  0.000000   \n",
       "\n",
       "name              Yes To Grapefruit Rejuvenating Body Wash  \n",
       "reviews_username                                            \n",
       "00sab00                                                0.0  \n",
       "02dakota                                               0.0  \n",
       "02deuce                                                0.0  \n",
       "0325home                                               0.0  \n",
       "06stidriver                                            0.0  \n",
       "\n",
       "[5 rows x 237 columns]"
      ]
     },
     "execution_count": 97,
     "metadata": {},
     "output_type": "execute_result"
    }
   ],
   "source": [
    "item_final_rating = np.multiply(item_predicted_ratings,dummy_train)\n",
    "item_final_rating.head()"
   ]
  },
  {
   "cell_type": "markdown",
   "metadata": {},
   "source": [
    "#### Finding top 20 recommendations"
   ]
  },
  {
   "cell_type": "code",
   "execution_count": 98,
   "metadata": {
    "colab": {
     "base_uri": "https://localhost:8080/"
    },
    "id": "jppZTQ_EPwGq",
    "outputId": "13a919aa-09a7-4c9d-9363-a14ad9ace873"
   },
   "outputs": [
    {
     "name": "stdout",
     "output_type": "stream",
     "text": [
      "Enter your user namejoshua\n",
      "joshua\n"
     ]
    }
   ],
   "source": [
    "user_input = input(\"Enter your user name\")\n",
    "print(user_input)"
   ]
  },
  {
   "cell_type": "code",
   "execution_count": 99,
   "metadata": {
    "colab": {
     "base_uri": "https://localhost:8080/"
    },
    "id": "FATsMhd1P4wU",
    "outputId": "4584d7e0-a93b-43e5-9501-d652ef256c68"
   },
   "outputs": [
    {
     "data": {
      "text/plain": [
       "name\n",
       "Chester's Cheese Flavored Puffcorn Snacks                                                                  0.166022\n",
       "Nexxus Exxtra Gel Style Creation Sculptor                                                                  0.060284\n",
       "Tostitos Bite Size Tortilla Chips                                                                          0.056611\n",
       "Cococare 100% Natural Castor Oil                                                                           0.045543\n",
       "Diet Canada Dry Ginger Ale - 12pk/12 Fl Oz Cans                                                            0.043133\n",
       "Meguiar's Deep Crystal Car Wash 64-Oz.                                                                     0.042322\n",
       "Chobani174 Strawberry On The Bottom Non-Fat Greek Yogurt - 5.3oz                                           0.041015\n",
       "Chips Ahoy! Original Chocolate Chip - Cookies - Family Size 18.2oz                                         0.039541\n",
       "My Big Fat Greek Wedding 2 (blu-Ray + Dvd + Digital)                                                       0.034060\n",
       "Mike Dave Need Wedding Dates (dvd + Digital)                                                               0.032920\n",
       "Way Basics 3-Shelf Eco Narrow Bookcase Storage Shelf, Espresso - Formaldehyde Free - Lifetime Guarantee    0.022772\n",
       "Meguiar's Ultimate Quik Detailer 22-Oz.                                                                    0.020507\n",
       "100:Complete First Season (blu-Ray)                                                                        0.020200\n",
       "Tresemme Kertatin Smooth Infusing Conditioning                                                             0.018501\n",
       "Ragu Roasted Garlic Parmesan Pasta Sauce                                                                   0.016687\n",
       "Bisquick Original Pancake And Baking Mix - 40oz                                                            0.016627\n",
       "Planes: Fire Rescue (2 Discs) (includes Digital Copy) (blu-Ray/dvd)                                        0.015113\n",
       "The Resident Evil Collection 5 Discs (blu-Ray)                                                             0.013193\n",
       "Vicks Vaporub, Regular, 3.53oz                                                                             0.009866\n",
       "Name: joshua, dtype: float64"
      ]
     },
     "execution_count": 99,
     "metadata": {},
     "output_type": "execute_result"
    }
   ],
   "source": [
    "d = item_final_rating.loc[user_input].sort_values(ascending=False)[0:19]\n",
    "d"
   ]
  },
  {
   "cell_type": "markdown",
   "metadata": {},
   "source": [
    "#### Evaluation - Item Item based recommendation"
   ]
  },
  {
   "cell_type": "code",
   "execution_count": 100,
   "metadata": {
    "colab": {
     "base_uri": "https://localhost:8080/",
     "height": 643
    },
    "id": "P_LmnkvTP_gV",
    "outputId": "dac78d0d-5466-4ae6-fb3e-39db22f9505f"
   },
   "outputs": [
    {
     "data": {
      "text/html": [
       "<div>\n",
       "<style scoped>\n",
       "    .dataframe tbody tr th:only-of-type {\n",
       "        vertical-align: middle;\n",
       "    }\n",
       "\n",
       "    .dataframe tbody tr th {\n",
       "        vertical-align: top;\n",
       "    }\n",
       "\n",
       "    .dataframe thead th {\n",
       "        text-align: right;\n",
       "    }\n",
       "</style>\n",
       "<table border=\"1\" class=\"dataframe\">\n",
       "  <thead>\n",
       "    <tr style=\"text-align: right;\">\n",
       "      <th></th>\n",
       "      <th>0</th>\n",
       "      <th>1</th>\n",
       "      <th>2</th>\n",
       "      <th>3</th>\n",
       "      <th>4</th>\n",
       "      <th>5</th>\n",
       "      <th>6</th>\n",
       "      <th>7</th>\n",
       "      <th>8</th>\n",
       "      <th>9</th>\n",
       "      <th>...</th>\n",
       "      <th>227</th>\n",
       "      <th>228</th>\n",
       "      <th>229</th>\n",
       "      <th>230</th>\n",
       "      <th>231</th>\n",
       "      <th>232</th>\n",
       "      <th>233</th>\n",
       "      <th>234</th>\n",
       "      <th>235</th>\n",
       "      <th>236</th>\n",
       "    </tr>\n",
       "    <tr>\n",
       "      <th>name</th>\n",
       "      <th></th>\n",
       "      <th></th>\n",
       "      <th></th>\n",
       "      <th></th>\n",
       "      <th></th>\n",
       "      <th></th>\n",
       "      <th></th>\n",
       "      <th></th>\n",
       "      <th></th>\n",
       "      <th></th>\n",
       "      <th></th>\n",
       "      <th></th>\n",
       "      <th></th>\n",
       "      <th></th>\n",
       "      <th></th>\n",
       "      <th></th>\n",
       "      <th></th>\n",
       "      <th></th>\n",
       "      <th></th>\n",
       "      <th></th>\n",
       "      <th></th>\n",
       "    </tr>\n",
       "  </thead>\n",
       "  <tbody>\n",
       "    <tr>\n",
       "      <th>0.6 Cu. Ft. Letter A4 Size Waterproof 30 Min. Fire File Chest</th>\n",
       "      <td>1.0</td>\n",
       "      <td>0.0</td>\n",
       "      <td>0.0</td>\n",
       "      <td>0.0</td>\n",
       "      <td>0.0</td>\n",
       "      <td>0.0</td>\n",
       "      <td>0.0</td>\n",
       "      <td>0.0</td>\n",
       "      <td>0.0</td>\n",
       "      <td>0.0</td>\n",
       "      <td>...</td>\n",
       "      <td>0.0</td>\n",
       "      <td>0.0</td>\n",
       "      <td>0.0</td>\n",
       "      <td>0.0</td>\n",
       "      <td>0.0</td>\n",
       "      <td>0.0</td>\n",
       "      <td>0.0</td>\n",
       "      <td>0.0</td>\n",
       "      <td>0.0</td>\n",
       "      <td>0.0</td>\n",
       "    </tr>\n",
       "    <tr>\n",
       "      <th>100:Complete First Season (blu-Ray)</th>\n",
       "      <td>0.0</td>\n",
       "      <td>1.0</td>\n",
       "      <td>0.0</td>\n",
       "      <td>0.0</td>\n",
       "      <td>0.0</td>\n",
       "      <td>0.0</td>\n",
       "      <td>0.0</td>\n",
       "      <td>0.0</td>\n",
       "      <td>0.0</td>\n",
       "      <td>0.0</td>\n",
       "      <td>...</td>\n",
       "      <td>0.0</td>\n",
       "      <td>0.0</td>\n",
       "      <td>0.0</td>\n",
       "      <td>0.0</td>\n",
       "      <td>0.0</td>\n",
       "      <td>0.0</td>\n",
       "      <td>0.0</td>\n",
       "      <td>0.0</td>\n",
       "      <td>0.0</td>\n",
       "      <td>0.0</td>\n",
       "    </tr>\n",
       "    <tr>\n",
       "      <th>2017-2018 Brownline174 Duraflex 14-Month Planner 8 1/2 X 11 Black</th>\n",
       "      <td>0.0</td>\n",
       "      <td>0.0</td>\n",
       "      <td>0.0</td>\n",
       "      <td>0.0</td>\n",
       "      <td>0.0</td>\n",
       "      <td>0.0</td>\n",
       "      <td>0.0</td>\n",
       "      <td>0.0</td>\n",
       "      <td>0.0</td>\n",
       "      <td>0.0</td>\n",
       "      <td>...</td>\n",
       "      <td>0.0</td>\n",
       "      <td>0.0</td>\n",
       "      <td>0.0</td>\n",
       "      <td>0.0</td>\n",
       "      <td>0.0</td>\n",
       "      <td>0.0</td>\n",
       "      <td>0.0</td>\n",
       "      <td>0.0</td>\n",
       "      <td>0.0</td>\n",
       "      <td>0.0</td>\n",
       "    </tr>\n",
       "    <tr>\n",
       "      <th>2x Ultra Era with Oxi Booster, 50fl oz</th>\n",
       "      <td>0.0</td>\n",
       "      <td>0.0</td>\n",
       "      <td>0.0</td>\n",
       "      <td>1.0</td>\n",
       "      <td>0.0</td>\n",
       "      <td>0.0</td>\n",
       "      <td>0.0</td>\n",
       "      <td>0.0</td>\n",
       "      <td>0.0</td>\n",
       "      <td>0.0</td>\n",
       "      <td>...</td>\n",
       "      <td>0.0</td>\n",
       "      <td>0.0</td>\n",
       "      <td>0.0</td>\n",
       "      <td>0.0</td>\n",
       "      <td>0.0</td>\n",
       "      <td>0.0</td>\n",
       "      <td>0.0</td>\n",
       "      <td>0.0</td>\n",
       "      <td>0.0</td>\n",
       "      <td>0.0</td>\n",
       "    </tr>\n",
       "    <tr>\n",
       "      <th>42 Dual Drop Leaf Table with 2 Madrid Chairs\"</th>\n",
       "      <td>0.0</td>\n",
       "      <td>0.0</td>\n",
       "      <td>0.0</td>\n",
       "      <td>0.0</td>\n",
       "      <td>0.0</td>\n",
       "      <td>0.0</td>\n",
       "      <td>0.0</td>\n",
       "      <td>0.0</td>\n",
       "      <td>0.0</td>\n",
       "      <td>0.0</td>\n",
       "      <td>...</td>\n",
       "      <td>0.0</td>\n",
       "      <td>0.0</td>\n",
       "      <td>0.0</td>\n",
       "      <td>0.0</td>\n",
       "      <td>0.0</td>\n",
       "      <td>0.0</td>\n",
       "      <td>0.0</td>\n",
       "      <td>0.0</td>\n",
       "      <td>0.0</td>\n",
       "      <td>0.0</td>\n",
       "    </tr>\n",
       "  </tbody>\n",
       "</table>\n",
       "<p>5 rows × 237 columns</p>\n",
       "</div>"
      ],
      "text/plain": [
       "                                                    0    1    2    3    4    \\\n",
       "name                                                                          \n",
       "0.6 Cu. Ft. Letter A4 Size Waterproof 30 Min. F...  1.0  0.0  0.0  0.0  0.0   \n",
       "100:Complete First Season (blu-Ray)                 0.0  1.0  0.0  0.0  0.0   \n",
       "2017-2018 Brownline174 Duraflex 14-Month Planne...  0.0  0.0  0.0  0.0  0.0   \n",
       "2x Ultra Era with Oxi Booster, 50fl oz              0.0  0.0  0.0  1.0  0.0   \n",
       "42 Dual Drop Leaf Table with 2 Madrid Chairs\"       0.0  0.0  0.0  0.0  0.0   \n",
       "\n",
       "                                                    5    6    7    8    9    \\\n",
       "name                                                                          \n",
       "0.6 Cu. Ft. Letter A4 Size Waterproof 30 Min. F...  0.0  0.0  0.0  0.0  0.0   \n",
       "100:Complete First Season (blu-Ray)                 0.0  0.0  0.0  0.0  0.0   \n",
       "2017-2018 Brownline174 Duraflex 14-Month Planne...  0.0  0.0  0.0  0.0  0.0   \n",
       "2x Ultra Era with Oxi Booster, 50fl oz              0.0  0.0  0.0  0.0  0.0   \n",
       "42 Dual Drop Leaf Table with 2 Madrid Chairs\"       0.0  0.0  0.0  0.0  0.0   \n",
       "\n",
       "                                                    ...  227  228  229  230  \\\n",
       "name                                                ...                       \n",
       "0.6 Cu. Ft. Letter A4 Size Waterproof 30 Min. F...  ...  0.0  0.0  0.0  0.0   \n",
       "100:Complete First Season (blu-Ray)                 ...  0.0  0.0  0.0  0.0   \n",
       "2017-2018 Brownline174 Duraflex 14-Month Planne...  ...  0.0  0.0  0.0  0.0   \n",
       "2x Ultra Era with Oxi Booster, 50fl oz              ...  0.0  0.0  0.0  0.0   \n",
       "42 Dual Drop Leaf Table with 2 Madrid Chairs\"       ...  0.0  0.0  0.0  0.0   \n",
       "\n",
       "                                                    231  232  233  234  235  \\\n",
       "name                                                                          \n",
       "0.6 Cu. Ft. Letter A4 Size Waterproof 30 Min. F...  0.0  0.0  0.0  0.0  0.0   \n",
       "100:Complete First Season (blu-Ray)                 0.0  0.0  0.0  0.0  0.0   \n",
       "2017-2018 Brownline174 Duraflex 14-Month Planne...  0.0  0.0  0.0  0.0  0.0   \n",
       "2x Ultra Era with Oxi Booster, 50fl oz              0.0  0.0  0.0  0.0  0.0   \n",
       "42 Dual Drop Leaf Table with 2 Madrid Chairs\"       0.0  0.0  0.0  0.0  0.0   \n",
       "\n",
       "                                                    236  \n",
       "name                                                     \n",
       "0.6 Cu. Ft. Letter A4 Size Waterproof 30 Min. F...  0.0  \n",
       "100:Complete First Season (blu-Ray)                 0.0  \n",
       "2017-2018 Brownline174 Duraflex 14-Month Planne...  0.0  \n",
       "2x Ultra Era with Oxi Booster, 50fl oz              0.0  \n",
       "42 Dual Drop Leaf Table with 2 Madrid Chairs\"       0.0  \n",
       "\n",
       "[5 rows x 237 columns]"
      ]
     },
     "execution_count": 100,
     "metadata": {},
     "output_type": "execute_result"
    }
   ],
   "source": [
    "test.columns\n",
    "\n",
    "common =  test[test.name.isin(train.name)]\n",
    "common.shape\n",
    "\n",
    "common.head(4)\n",
    "\n",
    "common_item_based_matrix = common.pivot_table(index='name', columns='reviews_username', values='reviews_rating')\n",
    "\n",
    "common_item_based_matrix.shape\n",
    "\n",
    "item_correlation_df = pd.DataFrame(item_correlation)\n",
    "\n",
    "item_correlation_df.head(1)\n",
    "\n",
    "item_correlation_df['name'] = df_subtracted.index\n",
    "item_correlation_df.set_index('name',inplace=True)\n",
    "item_correlation_df.head()"
   ]
  },
  {
   "cell_type": "code",
   "execution_count": 101,
   "metadata": {
    "id": "qVYdHiydHXgJ"
   },
   "outputs": [],
   "source": [
    "\n",
    "list_name = common.name.tolist()\n",
    "item_correlation_df.columns = df_subtracted.index.tolist()\n",
    "item_correlation_df_1 =  item_correlation_df[item_correlation_df.index.isin(list_name)]\n",
    "item_correlation_df_2 = item_correlation_df_1.T[item_correlation_df_1.T.index.isin(list_name)]"
   ]
  },
  {
   "cell_type": "code",
   "execution_count": 102,
   "metadata": {
    "id": "0rXTq0q9Hlcq"
   },
   "outputs": [],
   "source": [
    "item_correlation_df_3 = item_correlation_df_2.T\n",
    "\n"
   ]
  },
  {
   "cell_type": "code",
   "execution_count": 103,
   "metadata": {
    "id": "WGTo-v5IIWNm"
   },
   "outputs": [],
   "source": [
    "item_correlation_df_3.head()\n",
    "\n",
    "item_correlation_df_3[item_correlation_df_3<0]=0\n",
    "\n"
   ]
  },
  {
   "cell_type": "code",
   "execution_count": 104,
   "metadata": {
    "colab": {
     "base_uri": "https://localhost:8080/"
    },
    "id": "80EBhcldIZqV",
    "outputId": "ba535bbf-55d5-41f0-d598-3cd54aae501e"
   },
   "outputs": [
    {
     "data": {
      "text/plain": [
       "array([[0.        , 0.00749298, 0.00461828, ..., 0.        , 0.01367573,\n",
       "        0.        ],\n",
       "       [0.        , 0.        , 0.        , ..., 0.        , 0.        ,\n",
       "        0.        ],\n",
       "       [0.        , 0.        , 0.        , ..., 0.        , 0.        ,\n",
       "        0.        ],\n",
       "       ...,\n",
       "       [0.01661788, 0.00073382, 0.01110969, ..., 0.0030172 , 0.        ,\n",
       "        0.        ],\n",
       "       [0.        , 0.        , 0.00381293, ..., 0.        , 0.        ,\n",
       "        0.        ],\n",
       "       [0.        , 0.        , 0.        , ..., 0.        , 0.        ,\n",
       "        0.        ]])"
      ]
     },
     "execution_count": 104,
     "metadata": {},
     "output_type": "execute_result"
    }
   ],
   "source": [
    "common_item_predicted_ratings = np.dot(item_correlation_df_3, common_item_based_matrix.fillna(0))\n",
    "common_item_predicted_ratings\n"
   ]
  },
  {
   "cell_type": "code",
   "execution_count": 105,
   "metadata": {
    "id": "BDPxV096aFEP"
   },
   "outputs": [],
   "source": [
    "dummy_test = common.copy()\n",
    "\n",
    "dummy_test['reviews_rating'] = dummy_test['reviews_rating'].apply(lambda x: 1 if x>0 else 0)\n",
    "\n",
    "dummy_test = dummy_test.pivot_table(index='name', columns='reviews_username', values='reviews_rating').fillna(0)\n",
    "\n",
    "common_item_predicted_ratings = np.multiply(common_item_predicted_ratings,dummy_test)"
   ]
  },
  {
   "cell_type": "code",
   "execution_count": 106,
   "metadata": {
    "id": "B4bb6NJUlAvu"
   },
   "outputs": [],
   "source": [
    "common_ = common.pivot_table(index='name', columns='reviews_username', values='reviews_rating')"
   ]
  },
  {
   "cell_type": "code",
   "execution_count": 107,
   "metadata": {
    "colab": {
     "base_uri": "https://localhost:8080/"
    },
    "id": "-5LSLYS7lYoy",
    "outputId": "82ba4f95-e49d-4be1-db21-381ccd252914"
   },
   "outputs": [
    {
     "name": "stdout",
     "output_type": "stream",
     "text": [
      "MinMaxScaler(feature_range=(1, 5))\n",
      "[[nan nan nan ... nan nan nan]\n",
      " [nan nan nan ... nan nan nan]\n",
      " [nan nan nan ... nan nan nan]\n",
      " ...\n",
      " [nan nan nan ... nan nan nan]\n",
      " [nan nan nan ... nan nan nan]\n",
      " [nan nan nan ... nan nan nan]]\n"
     ]
    },
    {
     "name": "stderr",
     "output_type": "stream",
     "text": [
      "C:\\Users\\pbabbar\\Anaconda3\\lib\\site-packages\\sklearn\\preprocessing\\_data.py:373: RuntimeWarning: All-NaN slice encountered\n",
      "  data_min = np.nanmin(X, axis=0)\n",
      "C:\\Users\\pbabbar\\Anaconda3\\lib\\site-packages\\sklearn\\preprocessing\\_data.py:374: RuntimeWarning: All-NaN slice encountered\n",
      "  data_max = np.nanmax(X, axis=0)\n"
     ]
    }
   ],
   "source": [
    "from sklearn.preprocessing import MinMaxScaler\n",
    "from numpy import *\n",
    "\n",
    "X  = common_item_predicted_ratings.copy() \n",
    "X = X[X>0]\n",
    "\n",
    "scaler = MinMaxScaler(feature_range=(1, 5))\n",
    "print(scaler.fit(X))\n",
    "y = (scaler.transform(X))\n",
    "\n",
    "print(y)"
   ]
  },
  {
   "cell_type": "code",
   "execution_count": 108,
   "metadata": {
    "id": "sYnfudO2lcpv"
   },
   "outputs": [],
   "source": [
    "total_non_nan = np.count_nonzero(~np.isnan(y))"
   ]
  },
  {
   "cell_type": "code",
   "execution_count": 109,
   "metadata": {
    "colab": {
     "base_uri": "https://localhost:8080/"
    },
    "id": "OP6YIxRoloir",
    "outputId": "dd258e6c-4334-4962-d6b0-c56f9e1cdbe6"
   },
   "outputs": [
    {
     "name": "stdout",
     "output_type": "stream",
     "text": [
      "3.5740059611894166\n"
     ]
    }
   ],
   "source": [
    "rmse = (sum(sum((common_ - y )**2))/total_non_nan)**0.5\n",
    "print(rmse)"
   ]
  },
  {
   "cell_type": "markdown",
   "metadata": {
    "id": "X1CQEJPulqkx"
   },
   "source": [
    "- RMSE is used to evaluate which model is better. If RMSE is less, that means the model is performing better.\n",
    "- Since rmse of user user based model is less, hence we will go with the same.\n",
    "- Therefore we will save the result in a csv file for it."
   ]
  },
  {
   "cell_type": "code",
   "execution_count": 110,
   "metadata": {
    "id": "Hr1lZQGVmqHh"
   },
   "outputs": [],
   "source": [
    "user_final_rating.to_csv(\"user_final_rating.csv\")"
   ]
  },
  {
   "cell_type": "code",
   "execution_count": null,
   "metadata": {
    "id": "jJ6ApDtvm18s"
   },
   "outputs": [],
   "source": []
  },
  {
   "cell_type": "markdown",
   "metadata": {},
   "source": [
    "#### Fine-Tuning Model"
   ]
  },
  {
   "cell_type": "code",
   "execution_count": 111,
   "metadata": {
    "id": "tsxJ_hNGZgwD"
   },
   "outputs": [],
   "source": [
    "import pandas as pd"
   ]
  },
  {
   "cell_type": "markdown",
   "metadata": {},
   "source": [
    "- We saved the product recommendation results in user_final_rating, we shall use that"
   ]
  },
  {
   "cell_type": "code",
   "execution_count": 112,
   "metadata": {
    "id": "O5LFzUmXZiLj"
   },
   "outputs": [],
   "source": [
    "user_final_rating = pd.read_csv(\"user_final_rating.csv\",index_col='reviews_username')"
   ]
  },
  {
   "cell_type": "code",
   "execution_count": 113,
   "metadata": {
    "colab": {
     "base_uri": "https://localhost:8080/"
    },
    "id": "SsBZc2QpZmjA",
    "outputId": "9dd7c6a1-5b15-44fb-8333-f7ac4a167f03"
   },
   "outputs": [
    {
     "name": "stdout",
     "output_type": "stream",
     "text": [
      "Enter your user namejoshua\n",
      "joshua\n"
     ]
    }
   ],
   "source": [
    "user_input = input(\"Enter your user name\")\n",
    "print(user_input)"
   ]
  },
  {
   "cell_type": "markdown",
   "metadata": {},
   "source": [
    "- We saved the df after cleaning and contatenating reviews title and text in df_clean , hence we shall use that"
   ]
  },
  {
   "cell_type": "code",
   "execution_count": 114,
   "metadata": {
    "colab": {
     "base_uri": "https://localhost:8080/",
     "height": 424
    },
    "id": "SXVS--xPZvU3",
    "outputId": "221b87d7-264b-45ab-86ac-02a5e18e92b4"
   },
   "outputs": [
    {
     "data": {
      "text/html": [
       "<div>\n",
       "<style scoped>\n",
       "    .dataframe tbody tr th:only-of-type {\n",
       "        vertical-align: middle;\n",
       "    }\n",
       "\n",
       "    .dataframe tbody tr th {\n",
       "        vertical-align: top;\n",
       "    }\n",
       "\n",
       "    .dataframe thead th {\n",
       "        text-align: right;\n",
       "    }\n",
       "</style>\n",
       "<table border=\"1\" class=\"dataframe\">\n",
       "  <thead>\n",
       "    <tr style=\"text-align: right;\">\n",
       "      <th></th>\n",
       "      <th>reviews_title_text</th>\n",
       "      <th>name</th>\n",
       "    </tr>\n",
       "  </thead>\n",
       "  <tbody>\n",
       "    <tr>\n",
       "      <th>0</th>\n",
       "      <td>just awesomei love this album its very good mo...</td>\n",
       "      <td>Pink Friday: Roman Reloaded Re-Up (w/dvd)</td>\n",
       "    </tr>\n",
       "    <tr>\n",
       "      <th>1</th>\n",
       "      <td>goodgood flavor this review was collected as p...</td>\n",
       "      <td>Lundberg Organic Cinnamon Toast Rice Cakes</td>\n",
       "    </tr>\n",
       "    <tr>\n",
       "      <th>2</th>\n",
       "      <td>goodgood flavor</td>\n",
       "      <td>Lundberg Organic Cinnamon Toast Rice Cakes</td>\n",
       "    </tr>\n",
       "    <tr>\n",
       "      <th>3</th>\n",
       "      <td>disappointedi read through the reviews on here...</td>\n",
       "      <td>K-Y Love Sensuality Pleasure Gel</td>\n",
       "    </tr>\n",
       "    <tr>\n",
       "      <th>4</th>\n",
       "      <td>irritationmy husband bought this gel for us th...</td>\n",
       "      <td>K-Y Love Sensuality Pleasure Gel</td>\n",
       "    </tr>\n",
       "    <tr>\n",
       "      <th>...</th>\n",
       "      <td>...</td>\n",
       "      <td>...</td>\n",
       "    </tr>\n",
       "    <tr>\n",
       "      <th>29995</th>\n",
       "      <td>softnessi got this conditioner with influenste...</td>\n",
       "      <td>L'or233al Paris Elvive Extraordinary Clay Reba...</td>\n",
       "    </tr>\n",
       "    <tr>\n",
       "      <th>29996</th>\n",
       "      <td>i love iti love it  i received this for review...</td>\n",
       "      <td>L'or233al Paris Elvive Extraordinary Clay Reba...</td>\n",
       "    </tr>\n",
       "    <tr>\n",
       "      <th>29997</th>\n",
       "      <td>hair is so smooth after usefirst of all i love...</td>\n",
       "      <td>L'or233al Paris Elvive Extraordinary Clay Reba...</td>\n",
       "    </tr>\n",
       "    <tr>\n",
       "      <th>29998</th>\n",
       "      <td>perfect for my oily hairi received this throug...</td>\n",
       "      <td>L'or233al Paris Elvive Extraordinary Clay Reba...</td>\n",
       "    </tr>\n",
       "    <tr>\n",
       "      <th>29999</th>\n",
       "      <td>conditioned into healthyi received this produc...</td>\n",
       "      <td>L'or233al Paris Elvive Extraordinary Clay Reba...</td>\n",
       "    </tr>\n",
       "  </tbody>\n",
       "</table>\n",
       "<p>29747 rows × 2 columns</p>\n",
       "</div>"
      ],
      "text/plain": [
       "                                      reviews_title_text  \\\n",
       "0      just awesomei love this album its very good mo...   \n",
       "1      goodgood flavor this review was collected as p...   \n",
       "2                                        goodgood flavor   \n",
       "3      disappointedi read through the reviews on here...   \n",
       "4      irritationmy husband bought this gel for us th...   \n",
       "...                                                  ...   \n",
       "29995  softnessi got this conditioner with influenste...   \n",
       "29996  i love iti love it  i received this for review...   \n",
       "29997  hair is so smooth after usefirst of all i love...   \n",
       "29998  perfect for my oily hairi received this throug...   \n",
       "29999  conditioned into healthyi received this produc...   \n",
       "\n",
       "                                                    name  \n",
       "0              Pink Friday: Roman Reloaded Re-Up (w/dvd)  \n",
       "1             Lundberg Organic Cinnamon Toast Rice Cakes  \n",
       "2             Lundberg Organic Cinnamon Toast Rice Cakes  \n",
       "3                       K-Y Love Sensuality Pleasure Gel  \n",
       "4                       K-Y Love Sensuality Pleasure Gel  \n",
       "...                                                  ...  \n",
       "29995  L'or233al Paris Elvive Extraordinary Clay Reba...  \n",
       "29996  L'or233al Paris Elvive Extraordinary Clay Reba...  \n",
       "29997  L'or233al Paris Elvive Extraordinary Clay Reba...  \n",
       "29998  L'or233al Paris Elvive Extraordinary Clay Reba...  \n",
       "29999  L'or233al Paris Elvive Extraordinary Clay Reba...  \n",
       "\n",
       "[29747 rows x 2 columns]"
      ]
     },
     "execution_count": 114,
     "metadata": {},
     "output_type": "execute_result"
    }
   ],
   "source": [
    "df_clean = pd.read_csv(\"df_clean.csv\",index_col='Unnamed: 0')\n",
    "\n",
    "df_clean"
   ]
  },
  {
   "cell_type": "markdown",
   "metadata": {
    "id": "xOlfL8kEcBeD"
   },
   "source": [
    "Loading the log reg model and preparing X for prediction"
   ]
  },
  {
   "cell_type": "code",
   "execution_count": 115,
   "metadata": {
    "id": "MobHu32faSah"
   },
   "outputs": [],
   "source": [
    "#Loading the XG boost model\n",
    "import pickle\n",
    "clf = pickle.load(open(\"XG_model_sm.pkl\",\"rb\"))\n",
    "#Creating X and predicting y\n",
    "X = df_clean['reviews_title_text'].values\n",
    "from sklearn.feature_extraction.text import TfidfVectorizer\n",
    "td = TfidfVectorizer(max_features = 4500)\n",
    "X = td.fit_transform(X).toarray()\n",
    "y =  clf.predict(X)\n",
    "#Creating a column for predicted sentiment ie y\n",
    "df_clean['predicted_sentiment'] = y"
   ]
  },
  {
   "cell_type": "code",
   "execution_count": 116,
   "metadata": {},
   "outputs": [
    {
     "data": {
      "text/plain": [
       "1    24999\n",
       "0     4748\n",
       "Name: predicted_sentiment, dtype: int64"
      ]
     },
     "execution_count": 116,
     "metadata": {},
     "output_type": "execute_result"
    }
   ],
   "source": [
    "df_clean['predicted_sentiment'].value_counts()"
   ]
  },
  {
   "cell_type": "markdown",
   "metadata": {},
   "source": [
    "- Since now we have the sentiment analysis results, we will store it in df_predicted and export it for easy use when we deploy our app"
   ]
  },
  {
   "cell_type": "code",
   "execution_count": 117,
   "metadata": {},
   "outputs": [],
   "source": [
    "df_predicted = df_clean\n",
    "df_predicted.to_csv(\"df_predicted_xg.csv\")"
   ]
  },
  {
   "cell_type": "markdown",
   "metadata": {
    "id": "hIR0Ma4Gb6vM"
   },
   "source": [
    "Creating a function to get top 5 recommended products"
   ]
  },
  {
   "cell_type": "code",
   "execution_count": 118,
   "metadata": {
    "id": "dD-Pjvq8ZoQa"
   },
   "outputs": [],
   "source": [
    "def get_top_5_sentiment_reommendation(user_input):\n",
    "  d = user_final_rating.loc[user_input].sort_values(ascending=False)[0:20]\n",
    "  dict_scores={}\n",
    "  for a in d.index:\n",
    "    #print(a,d[a])\n",
    "    #Normalized Score for sentiment positive\n",
    "    pos_score = df_clean[df_clean['name']==a].predicted_sentiment.value_counts(normalize=True)[1]\n",
    "    rec_score = d[a]\n",
    "    #Multiplying both\n",
    "    final_score = pos_score*rec_score\n",
    "   # print(a)\n",
    "    dict_scores[a]=final_score\n",
    "  b = sorted(dict_scores, key=dict_scores.get, reverse=True)[:5]\n",
    " # print(b)\n",
    "  return b"
   ]
  },
  {
   "cell_type": "code",
   "execution_count": 119,
   "metadata": {
    "colab": {
     "base_uri": "https://localhost:8080/"
    },
    "id": "BftbG7gGZsIQ",
    "outputId": "d1277357-791e-46b1-d6f4-7d82e7e4970c"
   },
   "outputs": [
    {
     "data": {
      "text/plain": [
       "['Planes: Fire Rescue (2 Discs) (includes Digital Copy) (blu-Ray/dvd)',\n",
       " 'Clorox Disinfecting Wipes Value Pack Scented 150 Ct Total',\n",
       " 'Bounce Dryer Sheets, Fresh Linen, 160 sheets',\n",
       " 'Godzilla 3d Includes Digital Copy Ultraviolet 3d/2d Blu-Ray/dvd',\n",
       " 'The Resident Evil Collection 5 Discs (blu-Ray)']"
      ]
     },
     "execution_count": 119,
     "metadata": {},
     "output_type": "execute_result"
    }
   ],
   "source": [
    "get_top_5_sentiment_reommendation('joshua')"
   ]
  },
  {
   "cell_type": "markdown",
   "metadata": {
    "id": "thmzn86PZt6i"
   },
   "source": [
    "- We will use above function and df_predicted for our deployed app"
   ]
  },
  {
   "cell_type": "code",
   "execution_count": null,
   "metadata": {},
   "outputs": [],
   "source": []
  },
  {
   "cell_type": "code",
   "execution_count": null,
   "metadata": {},
   "outputs": [],
   "source": []
  }
 ],
 "metadata": {
  "kernelspec": {
   "display_name": "Python 3",
   "language": "python",
   "name": "python3"
  },
  "language_info": {
   "codemirror_mode": {
    "name": "ipython",
    "version": 3
   },
   "file_extension": ".py",
   "mimetype": "text/x-python",
   "name": "python",
   "nbconvert_exporter": "python",
   "pygments_lexer": "ipython3",
   "version": "3.8.3"
  }
 },
 "nbformat": 4,
 "nbformat_minor": 4
}
