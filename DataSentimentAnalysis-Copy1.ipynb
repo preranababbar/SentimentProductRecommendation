{
 "cells": [
  {
   "cell_type": "markdown",
   "metadata": {
    "id": "GvCGQmF403s2"
   },
   "source": [
    "In this notebook we will analyse the data and also do sentiment classification and find out which model performs best"
   ]
  },
  {
   "cell_type": "code",
   "execution_count": 1,
   "metadata": {},
   "outputs": [],
   "source": [
    "#Importing important packages"
   ]
  },
  {
   "cell_type": "code",
   "execution_count": 2,
   "metadata": {
    "id": "Zh9IYoSTF-O-"
   },
   "outputs": [],
   "source": [
    "import pandas as pd\n",
    "import re,string\n",
    "import numpy as np\n",
    "\n",
    "\n",
    "import seaborn as sns\n",
    "import matplotlib.pyplot as plt\n",
    "%matplotlib inline\n",
    "\n",
    "import warnings\n",
    "warnings.simplefilter(action='ignore', category=FutureWarning)\n",
    "\n",
    "from nltk.stem import WordNetLemmatizer\n",
    "from nltk.corpus import stopwords\n",
    "from nltk.tokenize import word_tokenize"
   ]
  },
  {
   "cell_type": "code",
   "execution_count": 3,
   "metadata": {
    "colab": {
     "base_uri": "https://localhost:8080/",
     "height": 337
    },
    "id": "N686F5ezGwvj",
    "outputId": "85afc44d-d624-4a8e-d1fc-87cfd7308cc7"
   },
   "outputs": [
    {
     "data": {
      "text/html": [
       "<div>\n",
       "<style scoped>\n",
       "    .dataframe tbody tr th:only-of-type {\n",
       "        vertical-align: middle;\n",
       "    }\n",
       "\n",
       "    .dataframe tbody tr th {\n",
       "        vertical-align: top;\n",
       "    }\n",
       "\n",
       "    .dataframe thead th {\n",
       "        text-align: right;\n",
       "    }\n",
       "</style>\n",
       "<table border=\"1\" class=\"dataframe\">\n",
       "  <thead>\n",
       "    <tr style=\"text-align: right;\">\n",
       "      <th></th>\n",
       "      <th>id</th>\n",
       "      <th>brand</th>\n",
       "      <th>categories</th>\n",
       "      <th>manufacturer</th>\n",
       "      <th>name</th>\n",
       "      <th>reviews_date</th>\n",
       "      <th>reviews_didPurchase</th>\n",
       "      <th>reviews_doRecommend</th>\n",
       "      <th>reviews_rating</th>\n",
       "      <th>reviews_text</th>\n",
       "      <th>reviews_title</th>\n",
       "      <th>reviews_userCity</th>\n",
       "      <th>reviews_userProvince</th>\n",
       "      <th>reviews_username</th>\n",
       "      <th>user_sentiment</th>\n",
       "    </tr>\n",
       "  </thead>\n",
       "  <tbody>\n",
       "    <tr>\n",
       "      <th>0</th>\n",
       "      <td>AV13O1A8GV-KLJ3akUyj</td>\n",
       "      <td>Universal Music</td>\n",
       "      <td>Movies, Music &amp; Books,Music,R&amp;b,Movies &amp; TV,Mo...</td>\n",
       "      <td>Universal Music Group / Cash Money</td>\n",
       "      <td>Pink Friday: Roman Reloaded Re-Up (w/dvd)</td>\n",
       "      <td>2012-11-30T06:21:45.000Z</td>\n",
       "      <td>NaN</td>\n",
       "      <td>NaN</td>\n",
       "      <td>5</td>\n",
       "      <td>i love this album. it's very good. more to the...</td>\n",
       "      <td>Just Awesome</td>\n",
       "      <td>Los Angeles</td>\n",
       "      <td>NaN</td>\n",
       "      <td>joshua</td>\n",
       "      <td>Positive</td>\n",
       "    </tr>\n",
       "    <tr>\n",
       "      <th>1</th>\n",
       "      <td>AV14LG0R-jtxr-f38QfS</td>\n",
       "      <td>Lundberg</td>\n",
       "      <td>Food,Packaged Foods,Snacks,Crackers,Snacks, Co...</td>\n",
       "      <td>Lundberg</td>\n",
       "      <td>Lundberg Organic Cinnamon Toast Rice Cakes</td>\n",
       "      <td>2017-07-09T00:00:00.000Z</td>\n",
       "      <td>True</td>\n",
       "      <td>NaN</td>\n",
       "      <td>5</td>\n",
       "      <td>Good flavor. This review was collected as part...</td>\n",
       "      <td>Good</td>\n",
       "      <td>NaN</td>\n",
       "      <td>NaN</td>\n",
       "      <td>dorothy w</td>\n",
       "      <td>Positive</td>\n",
       "    </tr>\n",
       "    <tr>\n",
       "      <th>2</th>\n",
       "      <td>AV14LG0R-jtxr-f38QfS</td>\n",
       "      <td>Lundberg</td>\n",
       "      <td>Food,Packaged Foods,Snacks,Crackers,Snacks, Co...</td>\n",
       "      <td>Lundberg</td>\n",
       "      <td>Lundberg Organic Cinnamon Toast Rice Cakes</td>\n",
       "      <td>2017-07-09T00:00:00.000Z</td>\n",
       "      <td>True</td>\n",
       "      <td>NaN</td>\n",
       "      <td>5</td>\n",
       "      <td>Good flavor.</td>\n",
       "      <td>Good</td>\n",
       "      <td>NaN</td>\n",
       "      <td>NaN</td>\n",
       "      <td>dorothy w</td>\n",
       "      <td>Positive</td>\n",
       "    </tr>\n",
       "    <tr>\n",
       "      <th>3</th>\n",
       "      <td>AV16khLE-jtxr-f38VFn</td>\n",
       "      <td>K-Y</td>\n",
       "      <td>Personal Care,Medicine Cabinet,Lubricant/Sperm...</td>\n",
       "      <td>K-Y</td>\n",
       "      <td>K-Y Love Sensuality Pleasure Gel</td>\n",
       "      <td>2016-01-06T00:00:00.000Z</td>\n",
       "      <td>False</td>\n",
       "      <td>False</td>\n",
       "      <td>1</td>\n",
       "      <td>I read through the reviews on here before look...</td>\n",
       "      <td>Disappointed</td>\n",
       "      <td>NaN</td>\n",
       "      <td>NaN</td>\n",
       "      <td>rebecca</td>\n",
       "      <td>Negative</td>\n",
       "    </tr>\n",
       "    <tr>\n",
       "      <th>4</th>\n",
       "      <td>AV16khLE-jtxr-f38VFn</td>\n",
       "      <td>K-Y</td>\n",
       "      <td>Personal Care,Medicine Cabinet,Lubricant/Sperm...</td>\n",
       "      <td>K-Y</td>\n",
       "      <td>K-Y Love Sensuality Pleasure Gel</td>\n",
       "      <td>2016-12-21T00:00:00.000Z</td>\n",
       "      <td>False</td>\n",
       "      <td>False</td>\n",
       "      <td>1</td>\n",
       "      <td>My husband bought this gel for us. The gel cau...</td>\n",
       "      <td>Irritation</td>\n",
       "      <td>NaN</td>\n",
       "      <td>NaN</td>\n",
       "      <td>walker557</td>\n",
       "      <td>Negative</td>\n",
       "    </tr>\n",
       "  </tbody>\n",
       "</table>\n",
       "</div>"
      ],
      "text/plain": [
       "                     id            brand  \\\n",
       "0  AV13O1A8GV-KLJ3akUyj  Universal Music   \n",
       "1  AV14LG0R-jtxr-f38QfS         Lundberg   \n",
       "2  AV14LG0R-jtxr-f38QfS         Lundberg   \n",
       "3  AV16khLE-jtxr-f38VFn              K-Y   \n",
       "4  AV16khLE-jtxr-f38VFn              K-Y   \n",
       "\n",
       "                                          categories  \\\n",
       "0  Movies, Music & Books,Music,R&b,Movies & TV,Mo...   \n",
       "1  Food,Packaged Foods,Snacks,Crackers,Snacks, Co...   \n",
       "2  Food,Packaged Foods,Snacks,Crackers,Snacks, Co...   \n",
       "3  Personal Care,Medicine Cabinet,Lubricant/Sperm...   \n",
       "4  Personal Care,Medicine Cabinet,Lubricant/Sperm...   \n",
       "\n",
       "                         manufacturer  \\\n",
       "0  Universal Music Group / Cash Money   \n",
       "1                            Lundberg   \n",
       "2                            Lundberg   \n",
       "3                                 K-Y   \n",
       "4                                 K-Y   \n",
       "\n",
       "                                         name              reviews_date  \\\n",
       "0   Pink Friday: Roman Reloaded Re-Up (w/dvd)  2012-11-30T06:21:45.000Z   \n",
       "1  Lundberg Organic Cinnamon Toast Rice Cakes  2017-07-09T00:00:00.000Z   \n",
       "2  Lundberg Organic Cinnamon Toast Rice Cakes  2017-07-09T00:00:00.000Z   \n",
       "3            K-Y Love Sensuality Pleasure Gel  2016-01-06T00:00:00.000Z   \n",
       "4            K-Y Love Sensuality Pleasure Gel  2016-12-21T00:00:00.000Z   \n",
       "\n",
       "  reviews_didPurchase reviews_doRecommend  reviews_rating  \\\n",
       "0                 NaN                 NaN               5   \n",
       "1                True                 NaN               5   \n",
       "2                True                 NaN               5   \n",
       "3               False               False               1   \n",
       "4               False               False               1   \n",
       "\n",
       "                                        reviews_text reviews_title  \\\n",
       "0  i love this album. it's very good. more to the...  Just Awesome   \n",
       "1  Good flavor. This review was collected as part...          Good   \n",
       "2                                       Good flavor.          Good   \n",
       "3  I read through the reviews on here before look...  Disappointed   \n",
       "4  My husband bought this gel for us. The gel cau...    Irritation   \n",
       "\n",
       "  reviews_userCity reviews_userProvince reviews_username user_sentiment  \n",
       "0      Los Angeles                  NaN           joshua       Positive  \n",
       "1              NaN                  NaN        dorothy w       Positive  \n",
       "2              NaN                  NaN        dorothy w       Positive  \n",
       "3              NaN                  NaN          rebecca       Negative  \n",
       "4              NaN                  NaN        walker557       Negative  "
      ]
     },
     "execution_count": 3,
     "metadata": {},
     "output_type": "execute_result"
    }
   ],
   "source": [
    "df = pd.read_csv(\"sample30.csv\")\n",
    "df.head()"
   ]
  },
  {
   "cell_type": "markdown",
   "metadata": {
    "id": "O6FdygCz-Xxn"
   },
   "source": [
    "# Data cleaning and analysis"
   ]
  },
  {
   "cell_type": "code",
   "execution_count": 4,
   "metadata": {
    "id": "Hy96qK1u1SIP"
   },
   "outputs": [],
   "source": [
    "#Dropping id, reviews_date since id is related to product name and we dont need reviews_date for analysis"
   ]
  },
  {
   "cell_type": "code",
   "execution_count": 5,
   "metadata": {
    "id": "lNdMdVgp1S8m"
   },
   "outputs": [],
   "source": [
    "df.drop(['id','reviews_date'],axis=1,inplace=True)"
   ]
  },
  {
   "cell_type": "markdown",
   "metadata": {
    "id": "VfWP75pw5qDs"
   },
   "source": [
    "Data Pre-Processing"
   ]
  },
  {
   "cell_type": "code",
   "execution_count": 6,
   "metadata": {
    "colab": {
     "base_uri": "https://localhost:8080/"
    },
    "id": "rFWF4AHD2HAN",
    "outputId": "9baa8839-03e9-4766-90b3-a8315ce31940"
   },
   "outputs": [
    {
     "data": {
      "text/plain": [
       "(30000, 13)"
      ]
     },
     "execution_count": 6,
     "metadata": {},
     "output_type": "execute_result"
    }
   ],
   "source": [
    "df.shape"
   ]
  },
  {
   "cell_type": "code",
   "execution_count": 7,
   "metadata": {
    "colab": {
     "base_uri": "https://localhost:8080/"
    },
    "id": "bSU_1LAu5upI",
    "outputId": "ee11c314-0986-44c9-a548-cf3522d7d246"
   },
   "outputs": [
    {
     "data": {
      "text/plain": [
       "brand                   object\n",
       "categories              object\n",
       "manufacturer            object\n",
       "name                    object\n",
       "reviews_didPurchase     object\n",
       "reviews_doRecommend     object\n",
       "reviews_rating           int64\n",
       "reviews_text            object\n",
       "reviews_title           object\n",
       "reviews_userCity        object\n",
       "reviews_userProvince    object\n",
       "reviews_username        object\n",
       "user_sentiment          object\n",
       "dtype: object"
      ]
     },
     "execution_count": 7,
     "metadata": {},
     "output_type": "execute_result"
    }
   ],
   "source": [
    "df.dtypes"
   ]
  },
  {
   "cell_type": "code",
   "execution_count": 8,
   "metadata": {
    "colab": {
     "base_uri": "https://localhost:8080/"
    },
    "id": "8RrIU3Qe5wfy",
    "outputId": "1e882492-c562-452f-fd9f-145d7ffeeb74"
   },
   "outputs": [
    {
     "data": {
      "text/plain": [
       "brand                       0\n",
       "categories                  0\n",
       "manufacturer              141\n",
       "name                        0\n",
       "reviews_didPurchase     14068\n",
       "reviews_doRecommend      2570\n",
       "reviews_rating              0\n",
       "reviews_text                0\n",
       "reviews_title             190\n",
       "reviews_userCity        28071\n",
       "reviews_userProvince    29830\n",
       "reviews_username           63\n",
       "user_sentiment              1\n",
       "dtype: int64"
      ]
     },
     "execution_count": 8,
     "metadata": {},
     "output_type": "execute_result"
    }
   ],
   "source": [
    "df.isnull().sum()"
   ]
  },
  {
   "cell_type": "code",
   "execution_count": null,
   "metadata": {
    "id": "Ke1tY8P55_cD"
   },
   "outputs": [],
   "source": []
  },
  {
   "cell_type": "markdown",
   "metadata": {
    "id": "rzBj7Wow6DL5"
   },
   "source": [
    "Since we shall be using user_sentiment for sentiment analysis , let's drop the rows having null value in it. Since we shall use reviews_username for recommendation system, let's remove the rows containing null values in it too."
   ]
  },
  {
   "cell_type": "code",
   "execution_count": 9,
   "metadata": {
    "colab": {
     "base_uri": "https://localhost:8080/"
    },
    "id": "A5dBefVV50GQ",
    "outputId": "ebcfcacd-9736-42fa-9b31-e265ac896bb5"
   },
   "outputs": [
    {
     "data": {
      "text/plain": [
       "(29937, 13)"
      ]
     },
     "execution_count": 9,
     "metadata": {},
     "output_type": "execute_result"
    }
   ],
   "source": [
    "df = df[df.reviews_username.isnull()!=True]\n",
    "df.shape"
   ]
  },
  {
   "cell_type": "code",
   "execution_count": 10,
   "metadata": {
    "colab": {
     "base_uri": "https://localhost:8080/"
    },
    "id": "2vfR0En36vkE",
    "outputId": "633a9f05-c238-44ca-c06d-e10e1b5932f6"
   },
   "outputs": [
    {
     "data": {
      "text/plain": [
       "(29936, 13)"
      ]
     },
     "execution_count": 10,
     "metadata": {},
     "output_type": "execute_result"
    }
   ],
   "source": [
    "df = df[df.user_sentiment.isnull()!=True]\n",
    "df.shape"
   ]
  },
  {
   "cell_type": "code",
   "execution_count": 11,
   "metadata": {
    "colab": {
     "base_uri": "https://localhost:8080/"
    },
    "id": "RoyLDbME68r7",
    "outputId": "1d234010-879d-4e1b-d9dd-1b4f2b5aae89"
   },
   "outputs": [
    {
     "data": {
      "text/plain": [
       "array([5, 1, 3, 4, 2], dtype=int64)"
      ]
     },
     "execution_count": 11,
     "metadata": {},
     "output_type": "execute_result"
    }
   ],
   "source": [
    "df['reviews_rating'].unique()"
   ]
  },
  {
   "cell_type": "markdown",
   "metadata": {
    "id": "evBLVAFd7-F5"
   },
   "source": [
    "We see that there only five values for rating ie 1-5. "
   ]
  },
  {
   "cell_type": "code",
   "execution_count": 12,
   "metadata": {
    "colab": {
     "base_uri": "https://localhost:8080/"
    },
    "id": "UQOjpDSg76LA",
    "outputId": "c91034e9-d0d7-4dbd-a25d-0f2c13357e1e"
   },
   "outputs": [
    {
     "data": {
      "text/plain": [
       "array(['Just Awesome', 'Good', 'Disappointed', ...,\n",
       "       'Hair is so smooth after use', 'Perfect for my oily hair!',\n",
       "       'Conditioned into healthy'], dtype=object)"
      ]
     },
     "execution_count": 12,
     "metadata": {},
     "output_type": "execute_result"
    }
   ],
   "source": [
    "df['reviews_title'].unique()"
   ]
  },
  {
   "cell_type": "markdown",
   "metadata": {
    "id": "QjerzWxx79oT"
   },
   "source": [
    "We see there are multiple reviews title since this is on user."
   ]
  },
  {
   "cell_type": "code",
   "execution_count": 13,
   "metadata": {
    "colab": {
     "base_uri": "https://localhost:8080/"
    },
    "id": "XxSWC5yY8R3t",
    "outputId": "7f6db1ee-8569-4759-a548-93f1510a4978"
   },
   "outputs": [
    {
     "data": {
      "text/plain": [
       "5    20791\n",
       "4     6010\n",
       "1     1373\n",
       "3     1344\n",
       "2      418\n",
       "Name: reviews_rating, dtype: int64"
      ]
     },
     "execution_count": 13,
     "metadata": {},
     "output_type": "execute_result"
    }
   ],
   "source": [
    "df['reviews_rating'].value_counts().sort_values(ascending=False)"
   ]
  },
  {
   "cell_type": "markdown",
   "metadata": {
    "id": "rp_AHUwJ8lPC"
   },
   "source": [
    "We see that around 20k people have given a rating of 5."
   ]
  },
  {
   "cell_type": "code",
   "execution_count": 14,
   "metadata": {
    "colab": {
     "base_uri": "https://localhost:8080/",
     "height": 280
    },
    "id": "uydSE90O8TxQ",
    "outputId": "80ae5d95-a379-4777-9072-0d462a4e50ff"
   },
   "outputs": [
    {
     "data": {
      "image/png": "[encoded data removed]",
      "text/plain": [
       "<Figure size 432x288 with 1 Axes>"
      ]
     },
     "metadata": {
      "needs_background": "light"
     },
     "output_type": "display_data"
    }
   ],
   "source": [
    "sns.countplot(df['reviews_rating'])\n",
    "plt.show()"
   ]
  },
  {
   "cell_type": "code",
   "execution_count": 15,
   "metadata": {
    "colab": {
     "base_uri": "https://localhost:8080/"
    },
    "id": "mKpfYOs_8zdj",
    "outputId": "dd2c475a-4a43-430a-be03-fbec9d88aaad"
   },
   "outputs": [
    {
     "data": {
      "text/plain": [
       "False    14497\n",
       "True      1434\n",
       "Name: reviews_didPurchase, dtype: int64"
      ]
     },
     "execution_count": 15,
     "metadata": {},
     "output_type": "execute_result"
    }
   ],
   "source": [
    "df['reviews_didPurchase'].value_counts().sort_values(ascending=False)"
   ]
  },
  {
   "cell_type": "markdown",
   "metadata": {
    "id": "g3f6_axi9H83"
   },
   "source": [
    "We see that only 1434 people have actually purchased products present in our data."
   ]
  },
  {
   "cell_type": "code",
   "execution_count": 16,
   "metadata": {
    "colab": {
     "base_uri": "https://localhost:8080/"
    },
    "id": "PT1ZMqhb9FSI",
    "outputId": "2ba26d0a-6ff9-449a-8d63-034aa3500031"
   },
   "outputs": [
    {
     "data": {
      "text/plain": [
       "14005"
      ]
     },
     "execution_count": 16,
     "metadata": {},
     "output_type": "execute_result"
    }
   ],
   "source": [
    "df['reviews_didPurchase'].isnull().sum()"
   ]
  },
  {
   "cell_type": "code",
   "execution_count": 17,
   "metadata": {
    "colab": {
     "base_uri": "https://localhost:8080/"
    },
    "id": "XHh90jz-9V2h",
    "outputId": "07b82b12-81ff-4823-9d6c-99917383bdc8"
   },
   "outputs": [
    {
     "data": {
      "text/plain": [
       "214"
      ]
     },
     "execution_count": 17,
     "metadata": {},
     "output_type": "execute_result"
    }
   ],
   "source": [
    "\n",
    "\n",
    "len(df['brand'].unique())\n",
    "\n"
   ]
  },
  {
   "cell_type": "markdown",
   "metadata": {
    "id": "MlQMuGX19b_z"
   },
   "source": [
    "We have data of 214 brands"
   ]
  },
  {
   "cell_type": "code",
   "execution_count": 18,
   "metadata": {
    "colab": {
     "base_uri": "https://localhost:8080/"
    },
    "id": "aOuQ7ty89aHx",
    "outputId": "1f406dcf-d322-44a5-a837-c371e08a8467"
   },
   "outputs": [
    {
     "data": {
      "text/plain": [
       "Clorox                  10565\n",
       "Warner Home Video        3325\n",
       "Disney                   1199\n",
       "L'oreal Paris            1186\n",
       "FOX                       887\n",
       "Burt's Bees               881\n",
       "Sony Pictures             845\n",
       "Summit Entertainment      813\n",
       "Nexxus                    692\n",
       "Universal Home Video      668\n",
       "Name: brand, dtype: int64"
      ]
     },
     "execution_count": 18,
     "metadata": {},
     "output_type": "execute_result"
    }
   ],
   "source": [
    "\n",
    "\n",
    "df['brand'].value_counts().sort_values(ascending=False)[:10]\n",
    "\n"
   ]
  },
  {
   "cell_type": "code",
   "execution_count": 19,
   "metadata": {
    "colab": {
     "base_uri": "https://localhost:8080/",
     "height": 394
    },
    "id": "YrH12tAS9gD-",
    "outputId": "669de0ce-8411-4d8d-d72b-bfe9d8b1b26e"
   },
   "outputs": [
    {
     "data": {
      "text/html": [
       "<div>\n",
       "<style scoped>\n",
       "    .dataframe tbody tr th:only-of-type {\n",
       "        vertical-align: middle;\n",
       "    }\n",
       "\n",
       "    .dataframe tbody tr th {\n",
       "        vertical-align: top;\n",
       "    }\n",
       "\n",
       "    .dataframe thead th {\n",
       "        text-align: right;\n",
       "    }\n",
       "</style>\n",
       "<table border=\"1\" class=\"dataframe\">\n",
       "  <thead>\n",
       "    <tr style=\"text-align: right;\">\n",
       "      <th></th>\n",
       "      <th>mean</th>\n",
       "      <th>count</th>\n",
       "    </tr>\n",
       "    <tr>\n",
       "      <th>brand</th>\n",
       "      <th></th>\n",
       "      <th></th>\n",
       "    </tr>\n",
       "  </thead>\n",
       "  <tbody>\n",
       "    <tr>\n",
       "      <th>Clorox</th>\n",
       "      <td>4.824326</td>\n",
       "      <td>10565</td>\n",
       "    </tr>\n",
       "    <tr>\n",
       "      <th>Warner Home Video</th>\n",
       "      <td>4.350677</td>\n",
       "      <td>3325</td>\n",
       "    </tr>\n",
       "    <tr>\n",
       "      <th>Disney</th>\n",
       "      <td>4.687239</td>\n",
       "      <td>1199</td>\n",
       "    </tr>\n",
       "    <tr>\n",
       "      <th>L'oreal Paris</th>\n",
       "      <td>4.026981</td>\n",
       "      <td>1186</td>\n",
       "    </tr>\n",
       "    <tr>\n",
       "      <th>FOX</th>\n",
       "      <td>4.335964</td>\n",
       "      <td>887</td>\n",
       "    </tr>\n",
       "    <tr>\n",
       "      <th>Burt's Bees</th>\n",
       "      <td>4.650397</td>\n",
       "      <td>881</td>\n",
       "    </tr>\n",
       "    <tr>\n",
       "      <th>Sony Pictures</th>\n",
       "      <td>4.674556</td>\n",
       "      <td>845</td>\n",
       "    </tr>\n",
       "    <tr>\n",
       "      <th>Summit Entertainment</th>\n",
       "      <td>4.585486</td>\n",
       "      <td>813</td>\n",
       "    </tr>\n",
       "    <tr>\n",
       "      <th>Nexxus</th>\n",
       "      <td>1.354046</td>\n",
       "      <td>692</td>\n",
       "    </tr>\n",
       "    <tr>\n",
       "      <th>Universal Home Video</th>\n",
       "      <td>4.491018</td>\n",
       "      <td>668</td>\n",
       "    </tr>\n",
       "  </tbody>\n",
       "</table>\n",
       "</div>"
      ],
      "text/plain": [
       "                          mean  count\n",
       "brand                                \n",
       "Clorox                4.824326  10565\n",
       "Warner Home Video     4.350677   3325\n",
       "Disney                4.687239   1199\n",
       "L'oreal Paris         4.026981   1186\n",
       "FOX                   4.335964    887\n",
       "Burt's Bees           4.650397    881\n",
       "Sony Pictures         4.674556    845\n",
       "Summit Entertainment  4.585486    813\n",
       "Nexxus                1.354046    692\n",
       "Universal Home Video  4.491018    668"
      ]
     },
     "execution_count": 19,
     "metadata": {},
     "output_type": "execute_result"
    }
   ],
   "source": [
    "df.groupby('brand')['reviews_rating'].agg(['mean','count']).sort_values(by='count',ascending=False)[:10]"
   ]
  },
  {
   "cell_type": "markdown",
   "metadata": {
    "id": "ythZ4CSj9ovP"
   },
   "source": [
    "We see that Nexxus has lowest rating in the top 10 brands for which people have given most reviews"
   ]
  },
  {
   "cell_type": "code",
   "execution_count": 20,
   "metadata": {
    "colab": {
     "base_uri": "https://localhost:8080/"
    },
    "id": "trc3j1Xe9kZf",
    "outputId": "b3c97cde-115c-4320-fb8f-094e422b6348"
   },
   "outputs": [
    {
     "data": {
      "text/plain": [
       "270"
      ]
     },
     "execution_count": 20,
     "metadata": {},
     "output_type": "execute_result"
    }
   ],
   "source": [
    "len(df['categories'].unique())"
   ]
  },
  {
   "cell_type": "code",
   "execution_count": 21,
   "metadata": {
    "colab": {
     "base_uri": "https://localhost:8080/"
    },
    "id": "M0t4pUK29zjX",
    "outputId": "64cdd5dc-e9e8-406a-ca7d-07712e7e635e"
   },
   "outputs": [
    {
     "data": {
      "text/plain": [
       "Household Essentials,Cleaning Supplies,Kitchen Cleaners,Cleaning Wipes,All-Purpose Cleaners,Health & Household,Household Supplies,Household Cleaning,Ways To Shop,Classroom Essentials,Featured Brands,Home And Storage & Org,Clorox,Glass Cleaners,Surface Care & Protection,Business & Industrial,Cleaning & Janitorial Supplies,Cleaners & Disinfectants,Cleaning Wipes & Pads,Cleaning Solutions,Housewares,Target Restock,Food & Grocery,Paper Goods,Wipes,All Purpose Cleaners    8525\n",
       "Movies, Music & Books,Movies,Action & Adventure,Movies & Music,Movies & TV Shows,Frys                                                                                                                                                                                                                                                                                                                                                                                                   3325\n",
       "Household Chemicals,Household Cleaners,Bath & Shower Cleaner,Household Essentials,Cleaning Supplies,Bathroom Cleaners,Prime Pantry,Bathroom,Featured Brands,Home And Storage & Org,Clorox,All-purpose Cleaners,Health & Household,Household Supplies,Household Cleaning,Target Restock,Food & Grocery                                                                                                                                                                                   2039\n",
       "Beauty,Hair Care,Shampoo & Conditioner,Holiday Shop,Christmas,Featured Brands,Health & Beauty,L'oreal,Personal Care,Hair Treatments,Conditioner                                                                                                                                                                                                                                                                                                                                         1186\n",
       "Movies, Music & Books,Movies,Kids' & Family,Ways To Shop Entertainment,Movies & Tv On Blu-Ray,Movies & TV,Disney,Blu-ray,Children & Family,Movies & Music,Movies & TV Shows,Electronics, Tech Toys, Movies, Music,Blu-Rays,See ALL Blu-Ray,Frys                                                                                                                                                                                                                                         1142\n",
       "Name: categories, dtype: int64"
      ]
     },
     "execution_count": 21,
     "metadata": {},
     "output_type": "execute_result"
    }
   ],
   "source": [
    "df['categories'].value_counts().sort_values(ascending=False)[:5]"
   ]
  },
  {
   "cell_type": "code",
   "execution_count": null,
   "metadata": {
    "id": "aFLRSItw91SP"
   },
   "outputs": [],
   "source": []
  },
  {
   "cell_type": "markdown",
   "metadata": {
    "id": "s9Sk7tUb-Cnl"
   },
   "source": [
    "Now that we have performed basic analysis on data, let us do text processing for the columns that we shall use for sentiment analysis."
   ]
  },
  {
   "cell_type": "markdown",
   "metadata": {
    "id": "YCM3mYVp-R6v"
   },
   "source": [
    "# Text pre-procesing"
   ]
  },
  {
   "cell_type": "code",
   "execution_count": 22,
   "metadata": {
    "id": "HGZdukMa-RN2"
   },
   "outputs": [],
   "source": [
    "def clean_text(text):\n",
    "    text = text.lower()\n",
    "    text = re.sub(r'\\[.*?\\]', '', text)\n",
    "    #For removing punctuation\n",
    "    text = str(text).translate(str.maketrans('', '', string.punctuation))\n",
    "    #For removing number and special characters\n",
    "    pattern = r'[^a-zA-z.,!?/:;\\\"\\'\\s]'\n",
    "    text = re.sub(pattern, ' ', text)\n",
    "    return text"
   ]
  },
  {
   "cell_type": "code",
   "execution_count": 23,
   "metadata": {
    "id": "VM2NRGTz-oXu"
   },
   "outputs": [],
   "source": [
    "wordnet_lemmatizer = WordNetLemmatizer()\n",
    "def lemmatizer(text):\n",
    "    text = clean_text(text)\n",
    "    sent = [wordnet_lemmatizer.lemmatize(word) for word in word_tokenize(text) if not word in set(stopwords.words('english'))]\n",
    "    return \" \".join(sent)"
   ]
  },
  {
   "cell_type": "markdown",
   "metadata": {
    "id": "ERrlWwXp-2ZX"
   },
   "source": [
    "First we will combine reviews title and text, to perform sentiment analysis on it. Hence, concatenating both columns"
   ]
  },
  {
   "cell_type": "code",
   "execution_count": 24,
   "metadata": {
    "colab": {
     "base_uri": "https://localhost:8080/"
    },
    "id": "CVC7hQ6u-raL",
    "outputId": "d6aa18a3-5620-4958-fd8a-3ca8bfcd93ad"
   },
   "outputs": [
    {
     "data": {
      "text/plain": [
       "0        Just Awesomei love this album. it's very good....\n",
       "1        GoodGood flavor. This review was collected as ...\n",
       "2                                         GoodGood flavor.\n",
       "3        DisappointedI read through the reviews on here...\n",
       "4        IrritationMy husband bought this gel for us. T...\n",
       "                               ...                        \n",
       "29995    Softness!!I got this conditioner with Influens...\n",
       "29996    I love itI love it , I received this for revie...\n",
       "29997    Hair is so smooth after useFirst of all I love...\n",
       "29998    Perfect for my oily hair!I received this throu...\n",
       "29999    Conditioned into healthyI received this produc...\n",
       "Name: reviews_title_text, Length: 29936, dtype: object"
      ]
     },
     "execution_count": 24,
     "metadata": {},
     "output_type": "execute_result"
    }
   ],
   "source": [
    "df['reviews_title_text'] = df[\"reviews_title\"] + df[\"reviews_text\"]\n",
    "df.reviews_title_text"
   ]
  },
  {
   "cell_type": "code",
   "execution_count": 25,
   "metadata": {
    "colab": {
     "base_uri": "https://localhost:8080/"
    },
    "id": "zREr8m-r_b1r",
    "outputId": "88e5bcce-cf07-4b94-e093-646eaa14929c"
   },
   "outputs": [
    {
     "data": {
      "text/plain": [
       "dtype('O')"
      ]
     },
     "execution_count": 25,
     "metadata": {},
     "output_type": "execute_result"
    }
   ],
   "source": [
    "df.reviews_title_text.dtype"
   ]
  },
  {
   "cell_type": "code",
   "execution_count": 26,
   "metadata": {
    "colab": {
     "base_uri": "https://localhost:8080/"
    },
    "id": "NYJf45seOtHP",
    "outputId": "028fd4d8-bedf-4ec1-be48-9265e3988194"
   },
   "outputs": [
    {
     "data": {
      "text/plain": [
       "1239     NaN\n",
       "1441     NaN\n",
       "1442     NaN\n",
       "1443     NaN\n",
       "1444     NaN\n",
       "        ... \n",
       "28790    NaN\n",
       "28791    NaN\n",
       "28792    NaN\n",
       "28793    NaN\n",
       "28794    NaN\n",
       "Name: reviews_title_text, Length: 189, dtype: object"
      ]
     },
     "execution_count": 26,
     "metadata": {},
     "output_type": "execute_result"
    }
   ],
   "source": [
    "df.reviews_title_text[df.reviews_title_text.isna()]"
   ]
  },
  {
   "cell_type": "code",
   "execution_count": 27,
   "metadata": {
    "id": "0n4JlC_5Oy5D"
   },
   "outputs": [],
   "source": [
    "df = df[df.reviews_title_text.isna()!=True]"
   ]
  },
  {
   "cell_type": "code",
   "execution_count": 28,
   "metadata": {},
   "outputs": [],
   "source": [
    "df.to_csv(\"df.csv\")"
   ]
  },
  {
   "cell_type": "code",
   "execution_count": 29,
   "metadata": {
    "colab": {
     "base_uri": "https://localhost:8080/"
    },
    "id": "tLf8GVkLP7i_",
    "outputId": "a353bf1a-a8c3-4821-f470-90c696bb0d6d"
   },
   "outputs": [
    {
     "data": {
      "text/plain": [
       "Series([], Name: reviews_title_text, dtype: object)"
      ]
     },
     "execution_count": 29,
     "metadata": {},
     "output_type": "execute_result"
    }
   ],
   "source": [
    "df.reviews_title_text[df.reviews_title_text.isna()]"
   ]
  },
  {
   "cell_type": "markdown",
   "metadata": {
    "id": "LEmO_tjj_uKV"
   },
   "source": [
    "Since the data type in title text is string, hence changing the same."
   ]
  },
  {
   "cell_type": "code",
   "execution_count": 30,
   "metadata": {
    "id": "hGOuu22M_ll4"
   },
   "outputs": [],
   "source": [
    "#df.reviews_title_text = df.reviews_title_text.astype(str)"
   ]
  },
  {
   "cell_type": "code",
   "execution_count": null,
   "metadata": {
    "id": "k-xFoTcKOrWL"
   },
   "outputs": [],
   "source": []
  },
  {
   "cell_type": "code",
   "execution_count": 31,
   "metadata": {
    "colab": {
     "base_uri": "https://localhost:8080/",
     "height": 952,
     "referenced_widgets": [
      "67db696f9a8d491a8e1ca7bfd9f5f8e7",
      "5e9b463b626944c6b073c9e62c6adef8",
      "5e85cb7b85aa4c1bb2f1bf62f81cf11a",
      "1c7115512f304d1d90ec344af8f33770",
      "162f41b5236e4f1ab7d06fbe738f87f0",
      "84943621cdbc460abff9956c82f6122f",
      "9d93a1aaf5da45bcadcf0c4d08419556",
      "d1e738256b384af5b190e1c9f7c3db5b",
      "27cd3859b4284bcab264409975bc15ed",
      "77f4fb6bc7c84d819b3bda41947d6355",
      "f421edd9d3af4de1a024fae9a15f6438"
     ]
    },
    "id": "pzHNYLyD-zK1",
    "outputId": "22861564-e686-46ad-f3a2-a81f7d8d1d9f"
   },
   "outputs": [
    {
     "name": "stderr",
     "output_type": "stream",
     "text": [
      "WARNING: You are using pip version 21.2.4; however, version 21.3.1 is available.\n",
      "You should consider upgrading via the 'c:\\users\\pbabbar\\anaconda3\\python.exe -m pip install --upgrade pip' command.\n"
     ]
    },
    {
     "name": "stdout",
     "output_type": "stream",
     "text": [
      "Requirement already satisfied: swifter in c:\\users\\pbabbar\\anaconda3\\lib\\site-packages (1.0.9)\n",
      "Requirement already satisfied: pandas>=1.0.0 in c:\\users\\pbabbar\\anaconda3\\lib\\site-packages (from swifter) (1.0.5)\n",
      "Requirement already satisfied: parso>0.4.0 in c:\\users\\pbabbar\\anaconda3\\lib\\site-packages (from swifter) (0.7.0)\n",
      "Requirement already satisfied: bleach>=3.1.1 in c:\\users\\pbabbar\\anaconda3\\lib\\site-packages (from swifter) (3.1.5)\n",
      "Requirement already satisfied: tqdm>=4.33.0 in c:\\users\\pbabbar\\anaconda3\\lib\\site-packages (from swifter) (4.58.0)\n",
      "Requirement already satisfied: ipywidgets>=7.0.0 in c:\\users\\pbabbar\\anaconda3\\lib\\site-packages (from swifter) (7.5.1)\n",
      "Requirement already satisfied: cloudpickle>=0.2.2 in c:\\users\\pbabbar\\anaconda3\\lib\\site-packages (from swifter) (1.5.0)\n",
      "Requirement already satisfied: psutil>=5.6.6 in c:\\users\\pbabbar\\anaconda3\\lib\\site-packages (from swifter) (5.7.0)\n",
      "Requirement already satisfied: dask[dataframe]>=2.10.0 in c:\\users\\pbabbar\\anaconda3\\lib\\site-packages (from swifter) (2.20.0)\n",
      "Requirement already satisfied: packaging in c:\\users\\pbabbar\\anaconda3\\lib\\site-packages (from bleach>=3.1.1->swifter) (20.4)\n",
      "Requirement already satisfied: six>=1.9.0 in c:\\users\\pbabbar\\anaconda3\\lib\\site-packages (from bleach>=3.1.1->swifter) (1.16.0)\n",
      "Requirement already satisfied: webencodings in c:\\users\\pbabbar\\anaconda3\\lib\\site-packages (from bleach>=3.1.1->swifter) (0.5.1)\n",
      "Requirement already satisfied: pyyaml in c:\\users\\pbabbar\\anaconda3\\lib\\site-packages (from dask[dataframe]>=2.10.0->swifter) (5.3.1)\n",
      "Requirement already satisfied: partd>=0.3.10 in c:\\users\\pbabbar\\anaconda3\\lib\\site-packages (from dask[dataframe]>=2.10.0->swifter) (1.1.0)\n",
      "Requirement already satisfied: fsspec>=0.6.0 in c:\\users\\pbabbar\\anaconda3\\lib\\site-packages (from dask[dataframe]>=2.10.0->swifter) (0.7.4)\n",
      "Requirement already satisfied: toolz>=0.8.2 in c:\\users\\pbabbar\\anaconda3\\lib\\site-packages (from dask[dataframe]>=2.10.0->swifter) (0.10.0)\n",
      "Requirement already satisfied: numpy>=1.13.0 in c:\\users\\pbabbar\\anaconda3\\lib\\site-packages (from dask[dataframe]>=2.10.0->swifter) (1.18.5)\n",
      "Requirement already satisfied: traitlets>=4.3.1 in c:\\users\\pbabbar\\anaconda3\\lib\\site-packages (from ipywidgets>=7.0.0->swifter) (4.3.3)\n",
      "Requirement already satisfied: widgetsnbextension~=3.5.0 in c:\\users\\pbabbar\\anaconda3\\lib\\site-packages (from ipywidgets>=7.0.0->swifter) (3.5.1)\n",
      "Requirement already satisfied: ipython>=4.0.0 in c:\\users\\pbabbar\\anaconda3\\lib\\site-packages (from ipywidgets>=7.0.0->swifter) (7.16.1)\n",
      "Requirement already satisfied: nbformat>=4.2.0 in c:\\users\\pbabbar\\anaconda3\\lib\\site-packages (from ipywidgets>=7.0.0->swifter) (5.0.7)\n",
      "Requirement already satisfied: ipykernel>=4.5.1 in c:\\users\\pbabbar\\anaconda3\\lib\\site-packages (from ipywidgets>=7.0.0->swifter) (5.3.2)\n",
      "Requirement already satisfied: jupyter-client in c:\\users\\pbabbar\\anaconda3\\lib\\site-packages (from ipykernel>=4.5.1->ipywidgets>=7.0.0->swifter) (6.1.6)\n",
      "Requirement already satisfied: tornado>=4.2 in c:\\users\\pbabbar\\anaconda3\\lib\\site-packages (from ipykernel>=4.5.1->ipywidgets>=7.0.0->swifter) (6.0.4)\n",
      "Requirement already satisfied: colorama in c:\\users\\pbabbar\\anaconda3\\lib\\site-packages (from ipython>=4.0.0->ipywidgets>=7.0.0->swifter) (0.4.3)\n",
      "Requirement already satisfied: setuptools>=18.5 in c:\\users\\pbabbar\\anaconda3\\lib\\site-packages (from ipython>=4.0.0->ipywidgets>=7.0.0->swifter) (49.2.0.post20200714)\n",
      "Requirement already satisfied: pickleshare in c:\\users\\pbabbar\\anaconda3\\lib\\site-packages (from ipython>=4.0.0->ipywidgets>=7.0.0->swifter) (0.7.5)\n",
      "Requirement already satisfied: decorator in c:\\users\\pbabbar\\anaconda3\\lib\\site-packages (from ipython>=4.0.0->ipywidgets>=7.0.0->swifter) (4.4.2)\n",
      "Requirement already satisfied: prompt-toolkit!=3.0.0,!=3.0.1,<3.1.0,>=2.0.0 in c:\\users\\pbabbar\\anaconda3\\lib\\site-packages (from ipython>=4.0.0->ipywidgets>=7.0.0->swifter) (3.0.5)\n",
      "Requirement already satisfied: pygments in c:\\users\\pbabbar\\anaconda3\\lib\\site-packages (from ipython>=4.0.0->ipywidgets>=7.0.0->swifter) (2.6.1)\n",
      "Requirement already satisfied: jedi>=0.10 in c:\\users\\pbabbar\\anaconda3\\lib\\site-packages (from ipython>=4.0.0->ipywidgets>=7.0.0->swifter) (0.17.1)\n",
      "Requirement already satisfied: backcall in c:\\users\\pbabbar\\anaconda3\\lib\\site-packages (from ipython>=4.0.0->ipywidgets>=7.0.0->swifter) (0.2.0)\n",
      "Requirement already satisfied: jupyter-core in c:\\users\\pbabbar\\anaconda3\\lib\\site-packages (from nbformat>=4.2.0->ipywidgets>=7.0.0->swifter) (4.6.3)\n",
      "Requirement already satisfied: jsonschema!=2.5.0,>=2.4 in c:\\users\\pbabbar\\anaconda3\\lib\\site-packages (from nbformat>=4.2.0->ipywidgets>=7.0.0->swifter) (3.2.0)\n",
      "Requirement already satisfied: ipython-genutils in c:\\users\\pbabbar\\anaconda3\\lib\\site-packages (from nbformat>=4.2.0->ipywidgets>=7.0.0->swifter) (0.2.0)\n",
      "Requirement already satisfied: pyrsistent>=0.14.0 in c:\\users\\pbabbar\\anaconda3\\lib\\site-packages (from jsonschema!=2.5.0,>=2.4->nbformat>=4.2.0->ipywidgets>=7.0.0->swifter) (0.16.0)\n",
      "Requirement already satisfied: attrs>=17.4.0 in c:\\users\\pbabbar\\anaconda3\\lib\\site-packages (from jsonschema!=2.5.0,>=2.4->nbformat>=4.2.0->ipywidgets>=7.0.0->swifter) (19.3.0)\n",
      "Requirement already satisfied: python-dateutil>=2.6.1 in c:\\users\\pbabbar\\anaconda3\\lib\\site-packages (from pandas>=1.0.0->swifter) (2.8.1)\n",
      "Requirement already satisfied: pytz>=2017.2 in c:\\users\\pbabbar\\anaconda3\\lib\\site-packages (from pandas>=1.0.0->swifter) (2020.1)\n",
      "Requirement already satisfied: locket in c:\\users\\pbabbar\\anaconda3\\lib\\site-packages (from partd>=0.3.10->dask[dataframe]>=2.10.0->swifter) (0.2.0)\n",
      "Requirement already satisfied: wcwidth in c:\\users\\pbabbar\\anaconda3\\lib\\site-packages (from prompt-toolkit!=3.0.0,!=3.0.1,<3.1.0,>=2.0.0->ipython>=4.0.0->ipywidgets>=7.0.0->swifter) (0.2.5)\n",
      "Requirement already satisfied: notebook>=4.4.1 in c:\\users\\pbabbar\\anaconda3\\lib\\site-packages (from widgetsnbextension~=3.5.0->ipywidgets>=7.0.0->swifter) (6.0.3)\n",
      "Requirement already satisfied: pyzmq>=17 in c:\\users\\pbabbar\\anaconda3\\lib\\site-packages (from notebook>=4.4.1->widgetsnbextension~=3.5.0->ipywidgets>=7.0.0->swifter) (19.0.1)\n",
      "Requirement already satisfied: jinja2 in c:\\users\\pbabbar\\anaconda3\\lib\\site-packages (from notebook>=4.4.1->widgetsnbextension~=3.5.0->ipywidgets>=7.0.0->swifter) (2.11.2)\n",
      "Requirement already satisfied: prometheus-client in c:\\users\\pbabbar\\anaconda3\\lib\\site-packages (from notebook>=4.4.1->widgetsnbextension~=3.5.0->ipywidgets>=7.0.0->swifter) (0.8.0)\n",
      "Requirement already satisfied: nbconvert in c:\\users\\pbabbar\\anaconda3\\lib\\site-packages (from notebook>=4.4.1->widgetsnbextension~=3.5.0->ipywidgets>=7.0.0->swifter) (5.6.1)\n",
      "Requirement already satisfied: Send2Trash in c:\\users\\pbabbar\\anaconda3\\lib\\site-packages (from notebook>=4.4.1->widgetsnbextension~=3.5.0->ipywidgets>=7.0.0->swifter) (1.5.0)\n",
      "Requirement already satisfied: terminado>=0.8.1 in c:\\users\\pbabbar\\anaconda3\\lib\\site-packages (from notebook>=4.4.1->widgetsnbextension~=3.5.0->ipywidgets>=7.0.0->swifter) (0.8.3)\n",
      "Requirement already satisfied: pywin32>=1.0 in c:\\users\\pbabbar\\anaconda3\\lib\\site-packages (from jupyter-core->nbformat>=4.2.0->ipywidgets>=7.0.0->swifter) (227)\n",
      "Requirement already satisfied: MarkupSafe>=0.23 in c:\\users\\pbabbar\\anaconda3\\lib\\site-packages (from jinja2->notebook>=4.4.1->widgetsnbextension~=3.5.0->ipywidgets>=7.0.0->swifter) (1.1.1)\n",
      "Requirement already satisfied: defusedxml in c:\\users\\pbabbar\\anaconda3\\lib\\site-packages (from nbconvert->notebook>=4.4.1->widgetsnbextension~=3.5.0->ipywidgets>=7.0.0->swifter) (0.6.0)\n",
      "Requirement already satisfied: pandocfilters>=1.4.1 in c:\\users\\pbabbar\\anaconda3\\lib\\site-packages (from nbconvert->notebook>=4.4.1->widgetsnbextension~=3.5.0->ipywidgets>=7.0.0->swifter) (1.4.2)\n",
      "Requirement already satisfied: entrypoints>=0.2.2 in c:\\users\\pbabbar\\anaconda3\\lib\\site-packages (from nbconvert->notebook>=4.4.1->widgetsnbextension~=3.5.0->ipywidgets>=7.0.0->swifter) (0.3)\n",
      "Requirement already satisfied: testpath in c:\\users\\pbabbar\\anaconda3\\lib\\site-packages (from nbconvert->notebook>=4.4.1->widgetsnbextension~=3.5.0->ipywidgets>=7.0.0->swifter) (0.4.4)\n",
      "Requirement already satisfied: mistune<2,>=0.8.1 in c:\\users\\pbabbar\\anaconda3\\lib\\site-packages (from nbconvert->notebook>=4.4.1->widgetsnbextension~=3.5.0->ipywidgets>=7.0.0->swifter) (0.8.4)\n",
      "Requirement already satisfied: pyparsing>=2.0.2 in c:\\users\\pbabbar\\anaconda3\\lib\\site-packages (from packaging->bleach>=3.1.1->swifter) (2.4.7)\n"
     ]
    },
    {
     "data": {
      "application/vnd.jupyter.widget-view+json": {
       "model_id": "ecc13d8365c04780ad082c1c0faf3ba9",
       "version_major": 2,
       "version_minor": 0
      },
      "text/plain": [
       "Pandas Apply:   0%|          | 0/29747 [00:00<?, ?it/s]"
      ]
     },
     "metadata": {},
     "output_type": "display_data"
    }
   ],
   "source": [
    "!pip install swifter\n",
    "import swifter\n",
    "\n",
    "df_clean = pd.DataFrame()\n",
    "df_clean['reviews_title_text'] = df.reviews_title_text.swifter.apply(clean_text)"
   ]
  },
  {
   "cell_type": "markdown",
   "metadata": {
    "id": "MnEaICNE_5u0"
   },
   "source": [
    "For performing sentiment analysis, we will convert the sentiment into 0 and 1. 1 for positive and 0 for negative."
   ]
  },
  {
   "cell_type": "code",
   "execution_count": 32,
   "metadata": {
    "colab": {
     "base_uri": "https://localhost:8080/"
    },
    "id": "twe-tRy5A9UE",
    "outputId": "12274629-ac07-4ebf-94eb-3942e8a254a1"
   },
   "outputs": [
    {
     "data": {
      "text/plain": [
       "0    1\n",
       "1    1\n",
       "2    1\n",
       "3    0\n",
       "4    0\n",
       "Name: sentiment_binary, dtype: int64"
      ]
     },
     "execution_count": 32,
     "metadata": {},
     "output_type": "execute_result"
    }
   ],
   "source": [
    "df['sentiment_binary'] = df.user_sentiment.replace({'Positive':1,'Negative':0})\n",
    "df['sentiment_binary'].head()"
   ]
  },
  {
   "cell_type": "code",
   "execution_count": 33,
   "metadata": {
    "id": "5pdqyGwO_U0W"
   },
   "outputs": [],
   "source": [
    "# Spliting into X & y\n",
    "X = df_clean['reviews_title_text'].values\n",
    "y = df.sentiment_binary\n",
    "\n",
    "# Building a TF IDF matrix out of the corpus of reviews\n",
    "from sklearn.feature_extraction.text import TfidfVectorizer\n",
    "td = TfidfVectorizer(max_features = 4500)\n",
    "X = td.fit_transform(X).toarray()"
   ]
  },
  {
   "cell_type": "code",
   "execution_count": 34,
   "metadata": {
    "colab": {
     "base_uri": "https://localhost:8080/"
    },
    "id": "K4TgWpPSONIT",
    "outputId": "fe970280-cb4c-4ca2-b717-2766eb396cdd"
   },
   "outputs": [
    {
     "data": {
      "text/plain": [
       "reviews_title_text    0\n",
       "dtype: int64"
      ]
     },
     "execution_count": 34,
     "metadata": {},
     "output_type": "execute_result"
    }
   ],
   "source": [
    "df_clean.isna().sum()"
   ]
  },
  {
   "cell_type": "code",
   "execution_count": 35,
   "metadata": {
    "colab": {
     "base_uri": "https://localhost:8080/",
     "height": 34
    },
    "id": "kpy4mig8AtxB",
    "outputId": "9ff7b3a9-7c30-4e1e-b3c5-c762e7075ce6"
   },
   "outputs": [
    {
     "data": {
      "text/plain": [
       "\"df['vectorized_reviews_title_text'] = X.tolist()\\ndf_clean['vectorized_reviews_title_text'] = df['vectorized_reviews_title_text']\""
      ]
     },
     "execution_count": 35,
     "metadata": {},
     "output_type": "execute_result"
    }
   ],
   "source": [
    "'''df['vectorized_reviews_title_text'] = X.tolist()\n",
    "df_clean['vectorized_reviews_title_text'] = df['vectorized_reviews_title_text']'''"
   ]
  },
  {
   "cell_type": "code",
   "execution_count": 36,
   "metadata": {
    "id": "J-Uy8POvZ5qZ"
   },
   "outputs": [],
   "source": [
    "df_clean['name']=df['name']"
   ]
  },
  {
   "cell_type": "markdown",
   "metadata": {},
   "source": [
    "We are saving this dataframe for uses in further notebooks"
   ]
  },
  {
   "cell_type": "code",
   "execution_count": 37,
   "metadata": {
    "id": "NFz1ssNFCj5O"
   },
   "outputs": [],
   "source": [
    "df_clean.to_csv(\"df_clean.csv\")"
   ]
  },
  {
   "cell_type": "markdown",
   "metadata": {},
   "source": [
    "### Text classification"
   ]
  },
  {
   "cell_type": "code",
   "execution_count": 38,
   "metadata": {
    "id": "E_yDk6_vBRTW"
   },
   "outputs": [],
   "source": [
    "# Splitting into training & test subsets\n",
    "from sklearn.model_selection import train_test_split\n",
    "X_train, X_test, y_train, y_test = train_test_split(X, y, test_size = 0.3,\n",
    "                                                    random_state = 42)"
   ]
  },
  {
   "cell_type": "code",
   "execution_count": 39,
   "metadata": {},
   "outputs": [
    {
     "data": {
      "text/plain": [
       "1    0.887888\n",
       "0    0.112112\n",
       "Name: sentiment_binary, dtype: float64"
      ]
     },
     "execution_count": 39,
     "metadata": {},
     "output_type": "execute_result"
    }
   ],
   "source": [
    "df['sentiment_binary'].value_counts(normalize=True)"
   ]
  },
  {
   "cell_type": "markdown",
   "metadata": {},
   "source": [
    "Handling positive and negative imblance"
   ]
  },
  {
   "cell_type": "code",
   "execution_count": 40,
   "metadata": {
    "colab": {
     "base_uri": "https://localhost:8080/"
    },
    "id": "b201s5YPCRVU",
    "outputId": "22cc3448-fe78-456d-fbd9-f47994302f5b"
   },
   "outputs": [
    {
     "name": "stdout",
     "output_type": "stream",
     "text": [
      "Before Counter({1: 18468, 0: 2354})\n",
      "After  Counter({1: 18468, 0: 18468})\n"
     ]
    }
   ],
   "source": [
    "#Since there is a data imbalance, we use technique called SMOTE to make data balanced.\n",
    "from imblearn.over_sampling import SMOTE\n",
    "from collections import Counter\n",
    "#We only apply this technique on train data\n",
    "\n",
    "counter = Counter(y_train)\n",
    "print('Before',counter)\n",
    "\n",
    "smt = SMOTE()\n",
    "\n",
    "X_train_sm,y_train_sm = smt.fit_resample(X_train,y_train)\n",
    "\n",
    "counter = Counter(y_train_sm)\n",
    "print('After ',counter)"
   ]
  },
  {
   "cell_type": "markdown",
   "metadata": {},
   "source": [
    "#### First applying Logistic regression on data with smote and data without smote"
   ]
  },
  {
   "cell_type": "code",
   "execution_count": 41,
   "metadata": {
    "id": "ZqsmbFbrCTbn"
   },
   "outputs": [],
   "source": [
    "# Logistic Regression\n",
    "import pickle\n",
    "from sklearn.linear_model import LogisticRegression\n",
    "from sklearn.model_selection import train_test_split\n",
    "\n",
    "clf = LogisticRegression(random_state=42).fit(X_train, y_train)\n",
    "y_pred_logreg = clf.predict(X_test)\n",
    "\n",
    "clf_sm = LogisticRegression(random_state=42,max_iter=1000).fit(X_train_sm, y_train_sm)\n",
    "y_pred_logreg_sm = clf_sm.predict(X_test)\n",
    "\n",
    "\n",
    "#SAVE MODEL\n",
    "pickle.dump(clf, open(\"logreg_model.pkl\", \"wb\"))\n",
    "pickle.dump(clf_sm, open(\"logreg_model_sm.pkl\", \"wb\"))"
   ]
  },
  {
   "cell_type": "markdown",
   "metadata": {
    "id": "tX21bMKXDrZt"
   },
   "source": [
    "Let us create a dataframe to hold model evaluation scores."
   ]
  },
  {
   "cell_type": "markdown",
   "metadata": {},
   "source": [
    "- Since we are classifying the data, for us the best scores will be preceision and recall , not accuracy to check our model performance. He we shall go with the same."
   ]
  },
  {
   "cell_type": "code",
   "execution_count": 42,
   "metadata": {
    "id": "ucGRkJHTC49B"
   },
   "outputs": [],
   "source": [
    "df_sentiment_scores = pd.DataFrame(columns=['Method','Precision_normal','Recall_Normal','Precision_SMOTE','Recall_SMOTE'])"
   ]
  },
  {
   "cell_type": "code",
   "execution_count": 43,
   "metadata": {
    "colab": {
     "base_uri": "https://localhost:8080/",
     "height": 81
    },
    "id": "HRzmVFeEDwe4",
    "outputId": "12384161-09e6-4e90-e7e3-cafe45226629"
   },
   "outputs": [
    {
     "data": {
      "text/html": [
       "<div>\n",
       "<style scoped>\n",
       "    .dataframe tbody tr th:only-of-type {\n",
       "        vertical-align: middle;\n",
       "    }\n",
       "\n",
       "    .dataframe tbody tr th {\n",
       "        vertical-align: top;\n",
       "    }\n",
       "\n",
       "    .dataframe thead th {\n",
       "        text-align: right;\n",
       "    }\n",
       "</style>\n",
       "<table border=\"1\" class=\"dataframe\">\n",
       "  <thead>\n",
       "    <tr style=\"text-align: right;\">\n",
       "      <th></th>\n",
       "      <th>Method</th>\n",
       "      <th>Precision_normal</th>\n",
       "      <th>Recall_Normal</th>\n",
       "      <th>Precision_SMOTE</th>\n",
       "      <th>Recall_SMOTE</th>\n",
       "    </tr>\n",
       "  </thead>\n",
       "  <tbody>\n",
       "    <tr>\n",
       "      <th>0</th>\n",
       "      <td>LogReg</td>\n",
       "      <td>0.909363</td>\n",
       "      <td>0.995217</td>\n",
       "      <td>0.959543</td>\n",
       "      <td>0.898666</td>\n",
       "    </tr>\n",
       "  </tbody>\n",
       "</table>\n",
       "</div>"
      ],
      "text/plain": [
       "   Method  Precision_normal  Recall_Normal  Precision_SMOTE  Recall_SMOTE\n",
       "0  LogReg          0.909363       0.995217         0.959543      0.898666"
      ]
     },
     "execution_count": 43,
     "metadata": {},
     "output_type": "execute_result"
    }
   ],
   "source": [
    "from sklearn.metrics import precision_score,recall_score,confusion_matrix\n",
    "dict_temp =  {'Method':'LogReg','Precision_normal':precision_score(y_test, y_pred_logreg),'Recall_Normal':recall_score(y_test, y_pred_logreg),'Precision_SMOTE':precision_score(y_test, y_pred_logreg_sm),'Recall_SMOTE':recall_score(y_test, y_pred_logreg_sm)}\n",
    "df_sentiment_scores = df_sentiment_scores.append(dict_temp,ignore_index=True)\n",
    "df_sentiment_scores\n",
    "  "
   ]
  },
  {
   "cell_type": "code",
   "execution_count": 44,
   "metadata": {
    "colab": {
     "base_uri": "https://localhost:8080/",
     "height": 34
    },
    "id": "8LEJNs5fD4WM",
    "outputId": "708f3145-36fc-46f6-a742-a8a6f056c24f"
   },
   "outputs": [
    {
     "data": {
      "text/plain": [
       "\"from sklearn.model_selection import GridSearchCV\\ngrid_values = {'penalty': ['l1','l2'], 'C': [0.001,0.01,0.1,1,10,100,1000]} \\nclf_sm_gs = GridSearchCV(clf_sm, param_grid=grid_values).fit(X_train_sm, y_train_sm)\""
      ]
     },
     "execution_count": 44,
     "metadata": {},
     "output_type": "execute_result"
    }
   ],
   "source": [
    "'''from sklearn.model_selection import GridSearchCV\n",
    "grid_values = {'penalty': ['l1','l2'], 'C': [0.001,0.01,0.1,1,10,100,1000]} \n",
    "clf_sm_gs = GridSearchCV(clf_sm, param_grid=grid_values).fit(X_train_sm, y_train_sm)'''"
   ]
  },
  {
   "cell_type": "markdown",
   "metadata": {},
   "source": [
    "#### Applying Random Forest with and without smote data"
   ]
  },
  {
   "cell_type": "code",
   "execution_count": 45,
   "metadata": {
    "id": "LTwZhKbhQ-3H"
   },
   "outputs": [],
   "source": [
    "from sklearn.ensemble import RandomForestClassifier\n",
    "clf_rm = RandomForestClassifier(max_depth=10, random_state=42)\n",
    "clf_rm.fit(X_train, y_train)\n",
    "clf_rm_sm = RandomForestClassifier(max_depth=10,random_state=42).fit(X_train_sm, y_train_sm)\n",
    "#SAVE MODEL\n",
    "pickle.dump(clf, open(\"RF_model.pkl\", \"wb\"))\n",
    "\n",
    "pickle.dump(clf_sm, open(\"RF_model_sm.pkl\", \"wb\"))"
   ]
  },
  {
   "cell_type": "code",
   "execution_count": 46,
   "metadata": {
    "colab": {
     "base_uri": "https://localhost:8080/",
     "height": 112
    },
    "id": "6P7wg1c_bR9c",
    "outputId": "5692a961-c996-4e24-d2df-031622af7b79"
   },
   "outputs": [
    {
     "data": {
      "text/html": [
       "<div>\n",
       "<style scoped>\n",
       "    .dataframe tbody tr th:only-of-type {\n",
       "        vertical-align: middle;\n",
       "    }\n",
       "\n",
       "    .dataframe tbody tr th {\n",
       "        vertical-align: top;\n",
       "    }\n",
       "\n",
       "    .dataframe thead th {\n",
       "        text-align: right;\n",
       "    }\n",
       "</style>\n",
       "<table border=\"1\" class=\"dataframe\">\n",
       "  <thead>\n",
       "    <tr style=\"text-align: right;\">\n",
       "      <th></th>\n",
       "      <th>Method</th>\n",
       "      <th>Precision_normal</th>\n",
       "      <th>Recall_Normal</th>\n",
       "      <th>Precision_SMOTE</th>\n",
       "      <th>Recall_SMOTE</th>\n",
       "    </tr>\n",
       "  </thead>\n",
       "  <tbody>\n",
       "    <tr>\n",
       "      <th>0</th>\n",
       "      <td>LogReg</td>\n",
       "      <td>0.909363</td>\n",
       "      <td>0.995217</td>\n",
       "      <td>0.959543</td>\n",
       "      <td>0.898666</td>\n",
       "    </tr>\n",
       "    <tr>\n",
       "      <th>1</th>\n",
       "      <td>RandomForest</td>\n",
       "      <td>0.890084</td>\n",
       "      <td>1.000000</td>\n",
       "      <td>0.923693</td>\n",
       "      <td>0.856370</td>\n",
       "    </tr>\n",
       "  </tbody>\n",
       "</table>\n",
       "</div>"
      ],
      "text/plain": [
       "         Method  Precision_normal  Recall_Normal  Precision_SMOTE  \\\n",
       "0        LogReg          0.909363       0.995217         0.959543   \n",
       "1  RandomForest          0.890084       1.000000         0.923693   \n",
       "\n",
       "   Recall_SMOTE  \n",
       "0      0.898666  \n",
       "1      0.856370  "
      ]
     },
     "execution_count": 46,
     "metadata": {},
     "output_type": "execute_result"
    }
   ],
   "source": [
    "y_pred_rm = clf_rm.predict(X_test)\n",
    "y_pred_rm_sm = clf_rm_sm.predict(X_test)\n",
    "dict_temp =  {'Method':'RandomForest','Precision_normal':precision_score(y_test, y_pred_rm),'Recall_Normal':recall_score(y_test, y_pred_rm),'Precision_SMOTE':precision_score(y_test, y_pred_rm_sm),'Recall_SMOTE':recall_score(y_test, y_pred_rm_sm)}\n",
    "df_sentiment_scores = df_sentiment_scores.append(dict_temp,ignore_index=True)\n",
    "df_sentiment_scores"
   ]
  },
  {
   "cell_type": "markdown",
   "metadata": {},
   "source": [
    "#### Applying XGBoost classifier with and without smote data"
   ]
  },
  {
   "cell_type": "code",
   "execution_count": 47,
   "metadata": {
    "id": "xVzGyr1ZbVGE"
   },
   "outputs": [
    {
     "name": "stderr",
     "output_type": "stream",
     "text": [
      "C:\\Users\\pbabbar\\Anaconda3\\lib\\site-packages\\xgboost\\sklearn.py:1146: UserWarning: The use of label encoder in XGBClassifier is deprecated and will be removed in a future release. To remove this warning, do the following: 1) Pass option use_label_encoder=False when constructing XGBClassifier object; and 2) Encode your labels (y) as integers starting with 0, i.e. 0, 1, 2, ..., [num_class - 1].\n",
      "  warnings.warn(label_encoder_deprecation_msg, UserWarning)\n"
     ]
    },
    {
     "name": "stdout",
     "output_type": "stream",
     "text": [
      "[19:19:59] WARNING: C:/Users/Administrator/workspace/xgboost-win64_release_1.4.0/src/learner.cc:1095: Starting in XGBoost 1.3.0, the default evaluation metric used with the objective 'binary:logistic' was changed from 'error' to 'logloss'. Explicitly set eval_metric if you'd like to restore the old behavior.\n",
      "[19:22:16] WARNING: C:/Users/Administrator/workspace/xgboost-win64_release_1.4.0/src/learner.cc:1095: Starting in XGBoost 1.3.0, the default evaluation metric used with the objective 'binary:logistic' was changed from 'error' to 'logloss'. Explicitly set eval_metric if you'd like to restore the old behavior.\n"
     ]
    }
   ],
   "source": [
    "from xgboost import XGBClassifier\n",
    "clf_xg = XGBClassifier(random_state=42).fit(X_train, y_train)\n",
    "clf_xg_sm = XGBClassifier(random_state=42).fit(X_train_sm, y_train_sm)\n",
    "y_pred_xg = clf_xg.predict(X_test)\n",
    "y_pred_xg_sm = clf_xg_sm.predict(X_test)\n",
    "pickle.dump(clf, open(\"XG_model.pkl\", \"wb\"))\n",
    "pickle.dump(clf_sm, open(\"XG_model_sm.pkl\", \"wb\"))"
   ]
  },
  {
   "cell_type": "code",
   "execution_count": 48,
   "metadata": {
    "colab": {
     "base_uri": "https://localhost:8080/",
     "height": 144
    },
    "id": "o8RX1z1obX5u",
    "outputId": "eda52c3d-ecf2-4864-c539-e27fd80de3c2"
   },
   "outputs": [
    {
     "data": {
      "text/html": [
       "<div>\n",
       "<style scoped>\n",
       "    .dataframe tbody tr th:only-of-type {\n",
       "        vertical-align: middle;\n",
       "    }\n",
       "\n",
       "    .dataframe tbody tr th {\n",
       "        vertical-align: top;\n",
       "    }\n",
       "\n",
       "    .dataframe thead th {\n",
       "        text-align: right;\n",
       "    }\n",
       "</style>\n",
       "<table border=\"1\" class=\"dataframe\">\n",
       "  <thead>\n",
       "    <tr style=\"text-align: right;\">\n",
       "      <th></th>\n",
       "      <th>Method</th>\n",
       "      <th>Precision_normal</th>\n",
       "      <th>Recall_Normal</th>\n",
       "      <th>Precision_SMOTE</th>\n",
       "      <th>Recall_SMOTE</th>\n",
       "    </tr>\n",
       "  </thead>\n",
       "  <tbody>\n",
       "    <tr>\n",
       "      <th>0</th>\n",
       "      <td>LogReg</td>\n",
       "      <td>0.909363</td>\n",
       "      <td>0.995217</td>\n",
       "      <td>0.959543</td>\n",
       "      <td>0.898666</td>\n",
       "    </tr>\n",
       "    <tr>\n",
       "      <th>1</th>\n",
       "      <td>RandomForest</td>\n",
       "      <td>0.890084</td>\n",
       "      <td>1.000000</td>\n",
       "      <td>0.923693</td>\n",
       "      <td>0.856370</td>\n",
       "    </tr>\n",
       "    <tr>\n",
       "      <th>2</th>\n",
       "      <td>XGBoost</td>\n",
       "      <td>0.918995</td>\n",
       "      <td>0.989678</td>\n",
       "      <td>0.951873</td>\n",
       "      <td>0.921198</td>\n",
       "    </tr>\n",
       "  </tbody>\n",
       "</table>\n",
       "</div>"
      ],
      "text/plain": [
       "         Method  Precision_normal  Recall_Normal  Precision_SMOTE  \\\n",
       "0        LogReg          0.909363       0.995217         0.959543   \n",
       "1  RandomForest          0.890084       1.000000         0.923693   \n",
       "2       XGBoost          0.918995       0.989678         0.951873   \n",
       "\n",
       "   Recall_SMOTE  \n",
       "0      0.898666  \n",
       "1      0.856370  \n",
       "2      0.921198  "
      ]
     },
     "execution_count": 48,
     "metadata": {},
     "output_type": "execute_result"
    }
   ],
   "source": [
    "dict_temp =  {'Method':'XGBoost','Precision_normal':precision_score(y_test, y_pred_xg),'Recall_Normal':recall_score(y_test, y_pred_xg),'Precision_SMOTE':precision_score(y_test, y_pred_xg_sm),'Recall_SMOTE':recall_score(y_test, y_pred_xg_sm)}\n",
    "df_sentiment_scores = df_sentiment_scores.append(dict_temp,ignore_index=True)\n",
    "df_sentiment_scores"
   ]
  },
  {
   "cell_type": "code",
   "execution_count": null,
   "metadata": {},
   "outputs": [],
   "source": []
  },
  {
   "cell_type": "markdown",
   "metadata": {},
   "source": [
    " - XG Boost without smote is performing the best, hence we shall use it in the final recommendation step.\n",
    " "
   ]
  },
  {
   "cell_type": "code",
   "execution_count": 50,
   "metadata": {
    "id": "-9R6zC-Gbatl"
   },
   "outputs": [],
   "source": [
    "df_sentiment_scores.to_csv(\"df_sentiment_scores.csv\")"
   ]
  },
  {
   "cell_type": "code",
   "execution_count": 52,
   "metadata": {
    "id": "EbYFSBafbiBV"
   },
   "outputs": [
    {
     "data": {
      "text/plain": [
       "1    26412\n",
       "0     3335\n",
       "Name: sentiment_binary, dtype: int64"
      ]
     },
     "execution_count": 52,
     "metadata": {},
     "output_type": "execute_result"
    }
   ],
   "source": [
    "df.sentiment_binary.value_counts()"
   ]
  },
  {
   "cell_type": "code",
   "execution_count": null,
   "metadata": {},
   "outputs": [],
   "source": []
  }
 ],
 "metadata": {
  "colab": {
   "name": "DataSentimentAnalysis.ipynb",
   "provenance": []
  },
  "kernelspec": {
   "display_name": "Python 3",
   "language": "python",
   "name": "python3"
  },
  "language_info": {
   "codemirror_mode": {
    "name": "ipython",
    "version": 3
   },
   "file_extension": ".py",
   "mimetype": "text/x-python",
   "name": "python",
   "nbconvert_exporter": "python",
   "pygments_lexer": "ipython3",
   "version": "3.8.3"
  },
  "widgets": {
   "application/vnd.jupyter.widget-state+json": {
    "162f41b5236e4f1ab7d06fbe738f87f0": {
     "model_module": "@jupyter-widgets/controls",
     "model_module_version": "1.5.0",
     "model_name": "HTMLModel",
     "state": {
      "_dom_classes": [],
      "_model_module": "@jupyter-widgets/controls",
      "_model_module_version": "1.5.0",
      "_model_name": "HTMLModel",
      "_view_count": null,
      "_view_module": "@jupyter-widgets/controls",
      "_view_module_version": "1.5.0",
      "_view_name": "HTMLView",
      "description": "",
      "description_tooltip": null,
      "layout": "IPY_MODEL_f421edd9d3af4de1a024fae9a15f6438",
      "placeholder": "​",
      "style": "IPY_MODEL_77f4fb6bc7c84d819b3bda41947d6355",
      "value": " 29747/29747 [00:01&lt;00:00, 26669.84it/s]"
     }
    },
    "1c7115512f304d1d90ec344af8f33770": {
     "model_module": "@jupyter-widgets/controls",
     "model_module_version": "1.5.0",
     "model_name": "FloatProgressModel",
     "state": {
      "_dom_classes": [],
      "_model_module": "@jupyter-widgets/controls",
      "_model_module_version": "1.5.0",
      "_model_name": "FloatProgressModel",
      "_view_count": null,
      "_view_module": "@jupyter-widgets/controls",
      "_view_module_version": "1.5.0",
      "_view_name": "ProgressView",
      "bar_style": "success",
      "description": "",
      "description_tooltip": null,
      "layout": "IPY_MODEL_27cd3859b4284bcab264409975bc15ed",
      "max": 29747,
      "min": 0,
      "orientation": "horizontal",
      "style": "IPY_MODEL_d1e738256b384af5b190e1c9f7c3db5b",
      "value": 29747
     }
    },
    "27cd3859b4284bcab264409975bc15ed": {
     "model_module": "@jupyter-widgets/base",
     "model_module_version": "1.2.0",
     "model_name": "LayoutModel",
     "state": {
      "_model_module": "@jupyter-widgets/base",
      "_model_module_version": "1.2.0",
      "_model_name": "LayoutModel",
      "_view_count": null,
      "_view_module": "@jupyter-widgets/base",
      "_view_module_version": "1.2.0",
      "_view_name": "LayoutView",
      "align_content": null,
      "align_items": null,
      "align_self": null,
      "border": null,
      "bottom": null,
      "display": null,
      "flex": null,
      "flex_flow": null,
      "grid_area": null,
      "grid_auto_columns": null,
      "grid_auto_flow": null,
      "grid_auto_rows": null,
      "grid_column": null,
      "grid_gap": null,
      "grid_row": null,
      "grid_template_areas": null,
      "grid_template_columns": null,
      "grid_template_rows": null,
      "height": null,
      "justify_content": null,
      "justify_items": null,
      "left": null,
      "margin": null,
      "max_height": null,
      "max_width": null,
      "min_height": null,
      "min_width": null,
      "object_fit": null,
      "object_position": null,
      "order": null,
      "overflow": null,
      "overflow_x": null,
      "overflow_y": null,
      "padding": null,
      "right": null,
      "top": null,
      "visibility": null,
      "width": null
     }
    },
    "5e85cb7b85aa4c1bb2f1bf62f81cf11a": {
     "model_module": "@jupyter-widgets/controls",
     "model_module_version": "1.5.0",
     "model_name": "HTMLModel",
     "state": {
      "_dom_classes": [],
      "_model_module": "@jupyter-widgets/controls",
      "_model_module_version": "1.5.0",
      "_model_name": "HTMLModel",
      "_view_count": null,
      "_view_module": "@jupyter-widgets/controls",
      "_view_module_version": "1.5.0",
      "_view_name": "HTMLView",
      "description": "",
      "description_tooltip": null,
      "layout": "IPY_MODEL_9d93a1aaf5da45bcadcf0c4d08419556",
      "placeholder": "​",
      "style": "IPY_MODEL_84943621cdbc460abff9956c82f6122f",
      "value": "Pandas Apply: 100%"
     }
    },
    "5e9b463b626944c6b073c9e62c6adef8": {
     "model_module": "@jupyter-widgets/base",
     "model_module_version": "1.2.0",
     "model_name": "LayoutModel",
     "state": {
      "_model_module": "@jupyter-widgets/base",
      "_model_module_version": "1.2.0",
      "_model_name": "LayoutModel",
      "_view_count": null,
      "_view_module": "@jupyter-widgets/base",
      "_view_module_version": "1.2.0",
      "_view_name": "LayoutView",
      "align_content": null,
      "align_items": null,
      "align_self": null,
      "border": null,
      "bottom": null,
      "display": null,
      "flex": null,
      "flex_flow": null,
      "grid_area": null,
      "grid_auto_columns": null,
      "grid_auto_flow": null,
      "grid_auto_rows": null,
      "grid_column": null,
      "grid_gap": null,
      "grid_row": null,
      "grid_template_areas": null,
      "grid_template_columns": null,
      "grid_template_rows": null,
      "height": null,
      "justify_content": null,
      "justify_items": null,
      "left": null,
      "margin": null,
      "max_height": null,
      "max_width": null,
      "min_height": null,
      "min_width": null,
      "object_fit": null,
      "object_position": null,
      "order": null,
      "overflow": null,
      "overflow_x": null,
      "overflow_y": null,
      "padding": null,
      "right": null,
      "top": null,
      "visibility": null,
      "width": null
     }
    },
    "67db696f9a8d491a8e1ca7bfd9f5f8e7": {
     "model_module": "@jupyter-widgets/controls",
     "model_module_version": "1.5.0",
     "model_name": "HBoxModel",
     "state": {
      "_dom_classes": [],
      "_model_module": "@jupyter-widgets/controls",
      "_model_module_version": "1.5.0",
      "_model_name": "HBoxModel",
      "_view_count": null,
      "_view_module": "@jupyter-widgets/controls",
      "_view_module_version": "1.5.0",
      "_view_name": "HBoxView",
      "box_style": "",
      "children": [
       "IPY_MODEL_5e85cb7b85aa4c1bb2f1bf62f81cf11a",
       "IPY_MODEL_1c7115512f304d1d90ec344af8f33770",
       "IPY_MODEL_162f41b5236e4f1ab7d06fbe738f87f0"
      ],
      "layout": "IPY_MODEL_5e9b463b626944c6b073c9e62c6adef8"
     }
    },
    "77f4fb6bc7c84d819b3bda41947d6355": {
     "model_module": "@jupyter-widgets/controls",
     "model_module_version": "1.5.0",
     "model_name": "DescriptionStyleModel",
     "state": {
      "_model_module": "@jupyter-widgets/controls",
      "_model_module_version": "1.5.0",
      "_model_name": "DescriptionStyleModel",
      "_view_count": null,
      "_view_module": "@jupyter-widgets/base",
      "_view_module_version": "1.2.0",
      "_view_name": "StyleView",
      "description_width": ""
     }
    },
    "84943621cdbc460abff9956c82f6122f": {
     "model_module": "@jupyter-widgets/controls",
     "model_module_version": "1.5.0",
     "model_name": "DescriptionStyleModel",
     "state": {
      "_model_module": "@jupyter-widgets/controls",
      "_model_module_version": "1.5.0",
      "_model_name": "DescriptionStyleModel",
      "_view_count": null,
      "_view_module": "@jupyter-widgets/base",
      "_view_module_version": "1.2.0",
      "_view_name": "StyleView",
      "description_width": ""
     }
    },
    "9d93a1aaf5da45bcadcf0c4d08419556": {
     "model_module": "@jupyter-widgets/base",
     "model_module_version": "1.2.0",
     "model_name": "LayoutModel",
     "state": {
      "_model_module": "@jupyter-widgets/base",
      "_model_module_version": "1.2.0",
      "_model_name": "LayoutModel",
      "_view_count": null,
      "_view_module": "@jupyter-widgets/base",
      "_view_module_version": "1.2.0",
      "_view_name": "LayoutView",
      "align_content": null,
      "align_items": null,
      "align_self": null,
      "border": null,
      "bottom": null,
      "display": null,
      "flex": null,
      "flex_flow": null,
      "grid_area": null,
      "grid_auto_columns": null,
      "grid_auto_flow": null,
      "grid_auto_rows": null,
      "grid_column": null,
      "grid_gap": null,
      "grid_row": null,
      "grid_template_areas": null,
      "grid_template_columns": null,
      "grid_template_rows": null,
      "height": null,
      "justify_content": null,
      "justify_items": null,
      "left": null,
      "margin": null,
      "max_height": null,
      "max_width": null,
      "min_height": null,
      "min_width": null,
      "object_fit": null,
      "object_position": null,
      "order": null,
      "overflow": null,
      "overflow_x": null,
      "overflow_y": null,
      "padding": null,
      "right": null,
      "top": null,
      "visibility": null,
      "width": null
     }
    },
    "d1e738256b384af5b190e1c9f7c3db5b": {
     "model_module": "@jupyter-widgets/controls",
     "model_module_version": "1.5.0",
     "model_name": "ProgressStyleModel",
     "state": {
      "_model_module": "@jupyter-widgets/controls",
      "_model_module_version": "1.5.0",
      "_model_name": "ProgressStyleModel",
      "_view_count": null,
      "_view_module": "@jupyter-widgets/base",
      "_view_module_version": "1.2.0",
      "_view_name": "StyleView",
      "bar_color": null,
      "description_width": ""
     }
    },
    "f421edd9d3af4de1a024fae9a15f6438": {
     "model_module": "@jupyter-widgets/base",
     "model_module_version": "1.2.0",
     "model_name": "LayoutModel",
     "state": {
      "_model_module": "@jupyter-widgets/base",
      "_model_module_version": "1.2.0",
      "_model_name": "LayoutModel",
      "_view_count": null,
      "_view_module": "@jupyter-widgets/base",
      "_view_module_version": "1.2.0",
      "_view_name": "LayoutView",
      "align_content": null,
      "align_items": null,
      "align_self": null,
      "border": null,
      "bottom": null,
      "display": null,
      "flex": null,
      "flex_flow": null,
      "grid_area": null,
      "grid_auto_columns": null,
      "grid_auto_flow": null,
      "grid_auto_rows": null,
      "grid_column": null,
      "grid_gap": null,
      "grid_row": null,
      "grid_template_areas": null,
      "grid_template_columns": null,
      "grid_template_rows": null,
      "height": null,
      "justify_content": null,
      "justify_items": null,
      "left": null,
      "margin": null,
      "max_height": null,
      "max_width": null,
      "min_height": null,
      "min_width": null,
      "object_fit": null,
      "object_position": null,
      "order": null,
      "overflow": null,
      "overflow_x": null,
      "overflow_y": null,
      "padding": null,
      "right": null,
      "top": null,
      "visibility": null,
      "width": null
     }
    }
   }
  }
 },
 "nbformat": 4,
 "nbformat_minor": 1
}
